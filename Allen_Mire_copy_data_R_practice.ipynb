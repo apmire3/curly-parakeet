{
  "nbformat": 4,
  "nbformat_minor": 0,
  "metadata": {
    "colab": {
      "name": "Allen_Mire_copy_data_R_practice.ipynb",
      "provenance": [],
      "collapsed_sections": [],
      "toc_visible": true,
      "include_colab_link": true
    },
    "language_info": {
      "codemirror_mode": "r",
      "file_extension": ".r",
      "mimetype": "text/x-r-source",
      "name": "R",
      "pygments_lexer": "r",
      "version": "3.3.1"
    },
    "kernelspec": {
      "display_name": "R",
      "language": "R",
      "name": "ir"
    }
  },
  "cells": [
    {
      "cell_type": "markdown",
      "metadata": {
        "id": "view-in-github",
        "colab_type": "text"
      },
      "source": [
        "<a href=\"https://colab.research.google.com/github/apmire3/curly-parakeet/blob/master/Allen_Mire_copy_data_R_practice.ipynb\" target=\"_parent\"><img src=\"https://colab.research.google.com/assets/colab-badge.svg\" alt=\"Open In Colab\"/></a>"
      ]
    },
    {
      "cell_type": "markdown",
      "metadata": {
        "id": "CcCXs04t4N5Q",
        "colab_type": "text"
      },
      "source": [
        "Practice session\n",
        "===\n",
        "Data Analysis in R"
      ]
    },
    {
      "cell_type": "markdown",
      "metadata": {
        "id": "puJbML3jdoSt",
        "colab_type": "text"
      },
      "source": [
        "##Warming up: review workding folder basics\n",
        "*  R works best if you have a dedicated folder for each separate project - the working folder. Put all data files in the working folder (or in subfolders).\n"
      ]
    },
    {
      "cell_type": "markdown",
      "metadata": {
        "id": "VU3C0_JyeOol",
        "colab_type": "text"
      },
      "source": [
        "Show current working folder:"
      ]
    },
    {
      "cell_type": "code",
      "metadata": {
        "id": "XGU0JFFCeJQm",
        "colab_type": "code",
        "outputId": "a72ff917-cfb2-4fee-b9c5-1ad524ae1a96",
        "colab": {
          "base_uri": "https://localhost:8080/",
          "height": 34
        }
      },
      "source": [
        "getwd()"
      ],
      "execution_count": 0,
      "outputs": [
        {
          "output_type": "display_data",
          "data": {
            "text/plain": [
              "[1] \"/content/data\""
            ],
            "text/latex": "'/content/data'",
            "text/markdown": "'/content/data'",
            "text/html": [
              "'/content/data'"
            ]
          },
          "metadata": {
            "tags": []
          }
        }
      ]
    },
    {
      "cell_type": "markdown",
      "metadata": {
        "id": "6pgrV21teZwS",
        "colab_type": "text"
      },
      "source": [
        "Create a new folder:"
      ]
    },
    {
      "cell_type": "code",
      "metadata": {
        "id": "QkJsZAP0eWLA",
        "colab_type": "code",
        "colab": {}
      },
      "source": [
        "dir.create(\"data\")"
      ],
      "execution_count": 0,
      "outputs": []
    },
    {
      "cell_type": "markdown",
      "metadata": {
        "id": "8n42BV9Begfu",
        "colab_type": "text"
      },
      "source": [
        "Go to the new folder:"
      ]
    },
    {
      "cell_type": "code",
      "metadata": {
        "id": "X_a7c3y7etuh",
        "colab_type": "code",
        "colab": {}
      },
      "source": [
        "setwd(\"data\")"
      ],
      "execution_count": 0,
      "outputs": []
    },
    {
      "cell_type": "markdown",
      "metadata": {
        "id": "tOgijiMHexJp",
        "colab_type": "text"
      },
      "source": [
        "Show current working folder:"
      ]
    },
    {
      "cell_type": "code",
      "metadata": {
        "id": "Q0JBu8ws4N5W",
        "colab_type": "code",
        "outputId": "0644d4b9-a6a9-46a3-dc93-4109bf4a95b4",
        "colab": {
          "base_uri": "https://localhost:8080/",
          "height": 34
        }
      },
      "source": [
        "getwd()"
      ],
      "execution_count": 0,
      "outputs": [
        {
          "output_type": "display_data",
          "data": {
            "text/plain": [
              "[1] \"/content/data\""
            ],
            "text/latex": "'/content/data'",
            "text/markdown": "'/content/data'",
            "text/html": [
              "'/content/data'"
            ]
          },
          "metadata": {
            "tags": []
          }
        }
      ]
    },
    {
      "cell_type": "markdown",
      "metadata": {
        "id": "nLmxtiJBfE5F",
        "colab_type": "text"
      },
      "source": [
        "##Case Study: 2019 Forbes Global list\n",
        "*   The `forbes` dataset consists of 2000 rows (observations) on 8 variables describing companies’ rank, name, country, category, sales, profits, assets and market value. \n",
        "http://www.hpc.lsu.edu/training/weekly-materials/Downloads/Forbes2000_2019.csv.zip\n",
        "> * **`rank`** the ranking of the company\n",
        "> * **`name`** the name of the company\n",
        "> * **`country`** the country the company is situated in\n",
        "> * **`category`** the products the company produces\n",
        "> * **`sales`** the amount of sales of the company in billion USD\n",
        "> * **`profits`** the profit of the company in billion USD\n",
        "> * **`assets`** the assets of the company in billion USD\n",
        "> * **`marketvalue`** the market value of the company in billion USD\n"
      ]
    },
    {
      "cell_type": "markdown",
      "metadata": {
        "id": "DOEy_8Iif2HB",
        "colab_type": "text"
      },
      "source": [
        "# Step by step Data Analysis in R\n",
        "\n",
        "\n",
        "1. Get data\n",
        "2. Read data\n",
        "3. Inspect data\n",
        "4. Preprocess data (missing and dubious values, discard columns not needed etc.)\n",
        "5. Analyze data\n",
        "6. Generate report\n",
        "\n",
        "\n",
        "\n",
        "\n",
        "\n"
      ]
    },
    {
      "cell_type": "markdown",
      "metadata": {
        "id": "bbBzk3yTqcfB",
        "colab_type": "text"
      },
      "source": [
        "## 1. Getting Data\n"
      ]
    },
    {
      "cell_type": "markdown",
      "metadata": {
        "id": "xpY9oZ1EuN6Q",
        "colab_type": "text"
      },
      "source": [
        "Raw data \n",
        "* http://www.hpc.lsu.edu/training/weekly-materials/Downloads/Forbes2000_2019.csv.zip"
      ]
    },
    {
      "cell_type": "markdown",
      "metadata": {
        "id": "nffrOrxAuoPn",
        "colab_type": "text"
      },
      "source": [
        "* Choose one of the following to download the raw data file from internet, then upload to the colab\n",
        "> * Manually download the file to the working directory \n",
        "> * or with R function `download.file()`\n"
      ]
    },
    {
      "cell_type": "code",
      "metadata": {
        "colab_type": "code",
        "id": "IBlf23TbkMHo",
        "outputId": "6a7c28f8-7af8-4e2c-b592-8eac9ff4f499",
        "colab": {
          "base_uri": "https://localhost:8080/",
          "height": 34
        }
      },
      "source": [
        "# Fill the blanks in the download command\n",
        "download.file(\"http://www.hpc.lsu.edu/training/weekly-materials/Downloads/Forbes2000.csv.zip\", \"Forbes2000.csv.zip\")\n",
        "list.files() # List files in current folder"
      ],
      "execution_count": 0,
      "outputs": [
        {
          "output_type": "display_data",
          "data": {
            "text/plain": [
              "[1] \"Forbes2000_2019.csv\"     \"Forbes2000_2019.csv.zip\"\n",
              "[3] \"Forbes2000.csv.zip\"     "
            ],
            "text/latex": "\\begin{enumerate*}\n\\item 'Forbes2000\\_2019.csv'\n\\item 'Forbes2000\\_2019.csv.zip'\n\\item 'Forbes2000.csv.zip'\n\\end{enumerate*}\n",
            "text/markdown": "1. 'Forbes2000_2019.csv'\n2. 'Forbes2000_2019.csv.zip'\n3. 'Forbes2000.csv.zip'\n\n\n",
            "text/html": [
              "<style>\n",
              ".list-inline {list-style: none; margin:0; padding: 0}\n",
              ".list-inline>li {display: inline-block}\n",
              ".list-inline>li:not(:last-child)::after {content: \"\\00b7\"; padding: 0 .5ex}\n",
              "</style>\n",
              "<ol class=list-inline><li>'Forbes2000_2019.csv'</li><li>'Forbes2000_2019.csv.zip'</li><li>'Forbes2000.csv.zip'</li></ol>\n"
            ]
          },
          "metadata": {
            "tags": []
          }
        }
      ]
    },
    {
      "cell_type": "markdown",
      "metadata": {
        "id": "LcccqyNKuwPa",
        "colab_type": "text"
      },
      "source": [
        "* Unzip with the `unzip()` function"
      ]
    },
    {
      "cell_type": "code",
      "metadata": {
        "id": "rFEkbC74usdx",
        "colab_type": "code",
        "outputId": "1ef47194-a715-4f33-ca12-545ce1c2b46f",
        "colab": {
          "base_uri": "https://localhost:8080/",
          "height": 34
        }
      },
      "source": [
        "# Fill the blanks in the unzip command\n",
        "unzip(\"Forbes2000.csv.zip\",\"Forbes2000.csv\")\n",
        "list.files()   # List files in current folder"
      ],
      "execution_count": 0,
      "outputs": [
        {
          "output_type": "display_data",
          "data": {
            "text/plain": [
              "[1] \"Forbes2000_2019.csv\"     \"Forbes2000_2019.csv.zip\"\n",
              "[3] \"Forbes2000.csv\"          \"Forbes2000.csv.zip\"     "
            ],
            "text/latex": "\\begin{enumerate*}\n\\item 'Forbes2000\\_2019.csv'\n\\item 'Forbes2000\\_2019.csv.zip'\n\\item 'Forbes2000.csv'\n\\item 'Forbes2000.csv.zip'\n\\end{enumerate*}\n",
            "text/markdown": "1. 'Forbes2000_2019.csv'\n2. 'Forbes2000_2019.csv.zip'\n3. 'Forbes2000.csv'\n4. 'Forbes2000.csv.zip'\n\n\n",
            "text/html": [
              "<style>\n",
              ".list-inline {list-style: none; margin:0; padding: 0}\n",
              ".list-inline>li {display: inline-block}\n",
              ".list-inline>li:not(:last-child)::after {content: \"\\00b7\"; padding: 0 .5ex}\n",
              "</style>\n",
              "<ol class=list-inline><li>'Forbes2000_2019.csv'</li><li>'Forbes2000_2019.csv.zip'</li><li>'Forbes2000.csv'</li><li>'Forbes2000.csv.zip'</li></ol>\n"
            ]
          },
          "metadata": {
            "tags": []
          }
        }
      ]
    },
    {
      "cell_type": "markdown",
      "metadata": {
        "id": "VtLFhkTYj-ys",
        "colab_type": "text"
      },
      "source": [
        "##2. Reading data\n",
        "* R understands many different data formats and has lots of ways of reading/writing them (csv, xml, excel, sql, json etc.)\n",
        "\n",
        ">Input | Output | Purpose\n",
        ">--- | --- | ---\n",
        ">read.table (read.csv) | write.table (write.csv) | for reading/writing tabular data\n",
        ">readLines | writeLines | for reading/writing lines of a text file\n",
        ">source | dump | for reading/writing in R code files\n",
        ">dget | dput | for reading/writing in R code files\n",
        ">load | save | for reading in/saving workspaces\n",
        "\n",
        "* ` read.csv()` is identical to `read.table()` except that the default separator is a comma."
      ]
    },
    {
      "cell_type": "code",
      "metadata": {
        "id": "SkbNLI6tm2Zg",
        "colab_type": "code",
        "colab": {}
      },
      "source": [
        "# Fill the blank in the read.csv command\n",
        "forbes <- read.csv(\"Forbes2000.csv\",header=T,stringsAsFactors = FALSE,na.strings =\"NA\",sep=\",\")"
      ],
      "execution_count": 0,
      "outputs": []
    },
    {
      "cell_type": "markdown",
      "metadata": {
        "id": "8RtebkNBoRsL",
        "colab_type": "text"
      },
      "source": [
        "##3. Inspecting data\n",
        "* `class()`: check object class\n",
        "* `dim()`: dimension of the data\n",
        "* `head()`: print on screen the first few lines of data, may use n as argument\n",
        "* `tail()`: print the last few lines of data"
      ]
    },
    {
      "cell_type": "code",
      "metadata": {
        "id": "y1WHb5fP4N5p",
        "colab_type": "code",
        "outputId": "32ceaf5a-ef88-4445-a3f8-a15c3ce301e6",
        "colab": {
          "base_uri": "https://localhost:8080/",
          "height": 1000
        }
      },
      "source": [
        "# Fill the blanks in the following commands\n",
        "class(forbes)\n",
        "dim(forbes)\n",
        "head(forbes,n=50)"
      ],
      "execution_count": 0,
      "outputs": [
        {
          "output_type": "display_data",
          "data": {
            "text/plain": [
              "[1] \"data.frame\""
            ],
            "text/latex": "'data.frame'",
            "text/markdown": "'data.frame'",
            "text/html": [
              "'data.frame'"
            ]
          },
          "metadata": {
            "tags": []
          }
        },
        {
          "output_type": "display_data",
          "data": {
            "text/plain": [
              "[1] 2000    8"
            ],
            "text/latex": "\\begin{enumerate*}\n\\item 2000\n\\item 8\n\\end{enumerate*}\n",
            "text/markdown": "1. 2000\n2. 8\n\n\n",
            "text/html": [
              "<style>\n",
              ".list-inline {list-style: none; margin:0; padding: 0}\n",
              ".list-inline>li {display: inline-block}\n",
              ".list-inline>li:not(:last-child)::after {content: \"\\00b7\"; padding: 0 .5ex}\n",
              "</style>\n",
              "<ol class=list-inline><li>2000</li><li>8</li></ol>\n"
            ]
          },
          "metadata": {
            "tags": []
          }
        },
        {
          "output_type": "display_data",
          "data": {
            "text/plain": [
              "   rank name                    country                    \n",
              "1   1   Citigroup               United States              \n",
              "2   2   General Electric        United States              \n",
              "3   3   American Intl Group     United States              \n",
              "4   4   ExxonMobil              United States              \n",
              "5   5   BP                      United Kingdom             \n",
              "6   6   Bank of America         United States              \n",
              "7   7   HSBC Group              United Kingdom             \n",
              "8   8   Toyota Motor            Japan                      \n",
              "9   9   Fannie Mae              United States              \n",
              "10 10   Wal-Mart Stores         United States              \n",
              "11 11   UBS                     Switzerland                \n",
              "12 12   ING Group               Netherlands                \n",
              "13 13   Royal Dutch/Shell Group Netherlands/ United Kingdom\n",
              "14 14   Berkshire Hathaway      United States              \n",
              "15 15   JP Morgan Chase         United States              \n",
              "16 16   IBM                     United States              \n",
              "17 17   Total                   France                     \n",
              "18 18   BNP Paribas             France                     \n",
              "19 19   Royal Bank of Scotland  United Kingdom             \n",
              "20 20   Freddie Mac             United States              \n",
              "21 21   DaimlerChrysler         Germany                    \n",
              "22 22   Altria Group            United States              \n",
              "23 23   ChevronTexaco           United States              \n",
              "24 24   Pfizer                  United States              \n",
              "25 25   Wells Fargo             United States              \n",
              "26 26   Verizon Commun          United States              \n",
              "27 27   Barclays                United Kingdom             \n",
              "28 28   Morgan Stanley          United States              \n",
              "29 29   General Motors          United States              \n",
              "30 30   Nippon Tel & Tel        Japan                      \n",
              "31 31   Microsoft               United States              \n",
              "32 32   Nestle                  Switzerland                \n",
              "33 33   SBC Communications      United States              \n",
              "34 34   Deutsche Bank Group     Germany                    \n",
              "35 35   Siemens Group           Germany                    \n",
              "36 36   HBOS                    United Kingdom             \n",
              "37 37   ENI                     Italy                      \n",
              "38 38   ConocoPhillips          United States              \n",
              "39 39   Banco Santander Central Spain                      \n",
              "40 40   Merrill Lynch           United States              \n",
              "41 41   Wachovia                United States              \n",
              "42 42   Time Warner             United States              \n",
              "43 43   Hewlett-Packard         United States              \n",
              "44 44   Procter & Gamble        United States              \n",
              "45 45   Samsung Electronics     South Korea                \n",
              "46 46   Johnson & Johnson       United States              \n",
              "47 47   Lloyds TSB Group        United Kingdom             \n",
              "48 48   ABN-Amro Holding        Netherlands                \n",
              "49 49   Honda Motor             Japan                      \n",
              "50 50   American Express        United States              \n",
              "   category                        sales  profits assets  marketvalue\n",
              "1  Banking                          94.71 17.85   1264.03 255.30     \n",
              "2  Conglomerates                   134.19 15.59    626.93 328.54     \n",
              "3  Insurance                        76.66  6.46    647.66 194.87     \n",
              "4  Oil & gas operations            222.88 20.96    166.99 277.02     \n",
              "5  Oil & gas operations            232.57 10.27    177.57 173.54     \n",
              "6  Banking                          49.01 10.81    736.45 117.55     \n",
              "7  Banking                          44.33  6.66    757.60 177.96     \n",
              "8  Consumer durables               135.82  7.99    171.71 115.40     \n",
              "9  Diversified financials           53.13  6.48   1019.17  76.84     \n",
              "10 Retailing                       256.33  9.05    104.91 243.74     \n",
              "11 Diversified financials           48.95  5.15    853.23  85.07     \n",
              "12 Diversified financials           94.72  4.73    752.49  54.59     \n",
              "13 Oil & gas operations            133.50  8.40    100.72 163.45     \n",
              "14 Insurance                        56.22  6.95    172.24 141.14     \n",
              "15 Banking                          44.39  4.47    792.70  81.94     \n",
              "16 Technology hardware & equipment  89.13  7.58    104.46 171.54     \n",
              "17 Oil & gas operations            131.64  8.84     87.84 116.64     \n",
              "18 Banking                          47.74  4.73    745.09  59.29     \n",
              "19 Banking                          35.65  4.95    663.45  90.21     \n",
              "20 Diversified financials           46.26 10.09    752.25  44.25     \n",
              "21 Consumer durables               157.13  5.12    195.58  47.43     \n",
              "22 Food drink & tobacco             60.70  9.20     96.18 111.02     \n",
              "23 Oil & gas operations            112.94  7.43     82.36  92.49     \n",
              "24 Drugs & biotechnology            40.36  6.20    120.06 285.27     \n",
              "25 Banking                          31.80  6.20    387.80  97.53     \n",
              "26 Telecommunications services      67.75  2.57    165.97 103.97     \n",
              "27 Banking                          33.69  4.90    791.54  61.33     \n",
              "28 Diversified financials           33.00  3.64    580.63  64.81     \n",
              "29 Consumer durables               185.52  3.82    450.00  27.47     \n",
              "30 Telecommunications services      92.41  2.17    150.87  73.00     \n",
              "31 Software & services              34.27  8.88     85.94 287.02     \n",
              "32 Food drink & tobacco             64.56  5.48     62.15 106.55     \n",
              "33 Telecommunications services      39.16  5.97    100.17  82.93     \n",
              "34 Diversified financials           58.85  1.53    792.49  50.23     \n",
              "35 Conglomerates                    86.62  2.81     85.47  75.77     \n",
              "36 Banking                          32.68  3.09    571.76  52.87     \n",
              "37 Oil & gas operations             53.29  4.82     67.91  76.13     \n",
              "38 Oil & gas operations             90.49  4.83     81.95  46.72     \n",
              "39 Banking                          28.70  3.28    442.24  56.78     \n",
              "40 Diversified financials           26.64  3.47    485.77  57.52     \n",
              "41 Banking                          24.47  4.25    400.87  62.35     \n",
              "42 Media                            38.08  2.65    121.78  77.95     \n",
              "43 Technology hardware & equipment  73.06  2.54     74.71  70.20     \n",
              "44 Household & personal products    46.99  5.81     53.86 131.89     \n",
              "45 Semiconductors                   50.22  5.95     54.58  72.72     \n",
              "46 Drugs & biotechnology            40.01  6.74     46.66 160.96     \n",
              "47 Banking                          24.48  2.87    406.99  48.11     \n",
              "48 Banking                          23.64  3.98    704.95  39.29     \n",
              "49 Consumer durables                67.44  3.61     63.09  40.61     \n",
              "50 Diversified financials           24.17  3.00    175.00  68.89     "
            ],
            "text/latex": "A data.frame: 50 × 8\n\\begin{tabular}{r|llllllll}\n  & rank & name & country & category & sales & profits & assets & marketvalue\\\\\n  & <int> & <chr> & <chr> & <chr> & <dbl> & <dbl> & <dbl> & <dbl>\\\\\n\\hline\n\t1 &  1 & Citigroup               & United States               & Banking                         &  94.71 & 17.85 & 1264.03 & 255.30\\\\\n\t2 &  2 & General Electric        & United States               & Conglomerates                   & 134.19 & 15.59 &  626.93 & 328.54\\\\\n\t3 &  3 & American Intl Group     & United States               & Insurance                       &  76.66 &  6.46 &  647.66 & 194.87\\\\\n\t4 &  4 & ExxonMobil              & United States               & Oil \\& gas operations            & 222.88 & 20.96 &  166.99 & 277.02\\\\\n\t5 &  5 & BP                      & United Kingdom              & Oil \\& gas operations            & 232.57 & 10.27 &  177.57 & 173.54\\\\\n\t6 &  6 & Bank of America         & United States               & Banking                         &  49.01 & 10.81 &  736.45 & 117.55\\\\\n\t7 &  7 & HSBC Group              & United Kingdom              & Banking                         &  44.33 &  6.66 &  757.60 & 177.96\\\\\n\t8 &  8 & Toyota Motor            & Japan                       & Consumer durables               & 135.82 &  7.99 &  171.71 & 115.40\\\\\n\t9 &  9 & Fannie Mae              & United States               & Diversified financials          &  53.13 &  6.48 & 1019.17 &  76.84\\\\\n\t10 & 10 & Wal-Mart Stores         & United States               & Retailing                       & 256.33 &  9.05 &  104.91 & 243.74\\\\\n\t11 & 11 & UBS                     & Switzerland                 & Diversified financials          &  48.95 &  5.15 &  853.23 &  85.07\\\\\n\t12 & 12 & ING Group               & Netherlands                 & Diversified financials          &  94.72 &  4.73 &  752.49 &  54.59\\\\\n\t13 & 13 & Royal Dutch/Shell Group & Netherlands/ United Kingdom & Oil \\& gas operations            & 133.50 &  8.40 &  100.72 & 163.45\\\\\n\t14 & 14 & Berkshire Hathaway      & United States               & Insurance                       &  56.22 &  6.95 &  172.24 & 141.14\\\\\n\t15 & 15 & JP Morgan Chase         & United States               & Banking                         &  44.39 &  4.47 &  792.70 &  81.94\\\\\n\t16 & 16 & IBM                     & United States               & Technology hardware \\& equipment &  89.13 &  7.58 &  104.46 & 171.54\\\\\n\t17 & 17 & Total                   & France                      & Oil \\& gas operations            & 131.64 &  8.84 &   87.84 & 116.64\\\\\n\t18 & 18 & BNP Paribas             & France                      & Banking                         &  47.74 &  4.73 &  745.09 &  59.29\\\\\n\t19 & 19 & Royal Bank of Scotland  & United Kingdom              & Banking                         &  35.65 &  4.95 &  663.45 &  90.21\\\\\n\t20 & 20 & Freddie Mac             & United States               & Diversified financials          &  46.26 & 10.09 &  752.25 &  44.25\\\\\n\t21 & 21 & DaimlerChrysler         & Germany                     & Consumer durables               & 157.13 &  5.12 &  195.58 &  47.43\\\\\n\t22 & 22 & Altria Group            & United States               & Food drink \\& tobacco            &  60.70 &  9.20 &   96.18 & 111.02\\\\\n\t23 & 23 & ChevronTexaco           & United States               & Oil \\& gas operations            & 112.94 &  7.43 &   82.36 &  92.49\\\\\n\t24 & 24 & Pfizer                  & United States               & Drugs \\& biotechnology           &  40.36 &  6.20 &  120.06 & 285.27\\\\\n\t25 & 25 & Wells Fargo             & United States               & Banking                         &  31.80 &  6.20 &  387.80 &  97.53\\\\\n\t26 & 26 & Verizon Commun          & United States               & Telecommunications services     &  67.75 &  2.57 &  165.97 & 103.97\\\\\n\t27 & 27 & Barclays                & United Kingdom              & Banking                         &  33.69 &  4.90 &  791.54 &  61.33\\\\\n\t28 & 28 & Morgan Stanley          & United States               & Diversified financials          &  33.00 &  3.64 &  580.63 &  64.81\\\\\n\t29 & 29 & General Motors          & United States               & Consumer durables               & 185.52 &  3.82 &  450.00 &  27.47\\\\\n\t30 & 30 & Nippon Tel \\& Tel        & Japan                       & Telecommunications services     &  92.41 &  2.17 &  150.87 &  73.00\\\\\n\t31 & 31 & Microsoft               & United States               & Software \\& services             &  34.27 &  8.88 &   85.94 & 287.02\\\\\n\t32 & 32 & Nestle                  & Switzerland                 & Food drink \\& tobacco            &  64.56 &  5.48 &   62.15 & 106.55\\\\\n\t33 & 33 & SBC Communications      & United States               & Telecommunications services     &  39.16 &  5.97 &  100.17 &  82.93\\\\\n\t34 & 34 & Deutsche Bank Group     & Germany                     & Diversified financials          &  58.85 &  1.53 &  792.49 &  50.23\\\\\n\t35 & 35 & Siemens Group           & Germany                     & Conglomerates                   &  86.62 &  2.81 &   85.47 &  75.77\\\\\n\t36 & 36 & HBOS                    & United Kingdom              & Banking                         &  32.68 &  3.09 &  571.76 &  52.87\\\\\n\t37 & 37 & ENI                     & Italy                       & Oil \\& gas operations            &  53.29 &  4.82 &   67.91 &  76.13\\\\\n\t38 & 38 & ConocoPhillips          & United States               & Oil \\& gas operations            &  90.49 &  4.83 &   81.95 &  46.72\\\\\n\t39 & 39 & Banco Santander Central & Spain                       & Banking                         &  28.70 &  3.28 &  442.24 &  56.78\\\\\n\t40 & 40 & Merrill Lynch           & United States               & Diversified financials          &  26.64 &  3.47 &  485.77 &  57.52\\\\\n\t41 & 41 & Wachovia                & United States               & Banking                         &  24.47 &  4.25 &  400.87 &  62.35\\\\\n\t42 & 42 & Time Warner             & United States               & Media                           &  38.08 &  2.65 &  121.78 &  77.95\\\\\n\t43 & 43 & Hewlett-Packard         & United States               & Technology hardware \\& equipment &  73.06 &  2.54 &   74.71 &  70.20\\\\\n\t44 & 44 & Procter \\& Gamble        & United States               & Household \\& personal products   &  46.99 &  5.81 &   53.86 & 131.89\\\\\n\t45 & 45 & Samsung Electronics     & South Korea                 & Semiconductors                  &  50.22 &  5.95 &   54.58 &  72.72\\\\\n\t46 & 46 & Johnson \\& Johnson       & United States               & Drugs \\& biotechnology           &  40.01 &  6.74 &   46.66 & 160.96\\\\\n\t47 & 47 & Lloyds TSB Group        & United Kingdom              & Banking                         &  24.48 &  2.87 &  406.99 &  48.11\\\\\n\t48 & 48 & ABN-Amro Holding        & Netherlands                 & Banking                         &  23.64 &  3.98 &  704.95 &  39.29\\\\\n\t49 & 49 & Honda Motor             & Japan                       & Consumer durables               &  67.44 &  3.61 &   63.09 &  40.61\\\\\n\t50 & 50 & American Express        & United States               & Diversified financials          &  24.17 &  3.00 &  175.00 &  68.89\\\\\n\\end{tabular}\n",
            "text/markdown": "\nA data.frame: 50 × 8\n\n| <!--/--> | rank &lt;int&gt; | name &lt;chr&gt; | country &lt;chr&gt; | category &lt;chr&gt; | sales &lt;dbl&gt; | profits &lt;dbl&gt; | assets &lt;dbl&gt; | marketvalue &lt;dbl&gt; |\n|---|---|---|---|---|---|---|---|---|\n| 1 |  1 | Citigroup               | United States               | Banking                         |  94.71 | 17.85 | 1264.03 | 255.30 |\n| 2 |  2 | General Electric        | United States               | Conglomerates                   | 134.19 | 15.59 |  626.93 | 328.54 |\n| 3 |  3 | American Intl Group     | United States               | Insurance                       |  76.66 |  6.46 |  647.66 | 194.87 |\n| 4 |  4 | ExxonMobil              | United States               | Oil &amp; gas operations            | 222.88 | 20.96 |  166.99 | 277.02 |\n| 5 |  5 | BP                      | United Kingdom              | Oil &amp; gas operations            | 232.57 | 10.27 |  177.57 | 173.54 |\n| 6 |  6 | Bank of America         | United States               | Banking                         |  49.01 | 10.81 |  736.45 | 117.55 |\n| 7 |  7 | HSBC Group              | United Kingdom              | Banking                         |  44.33 |  6.66 |  757.60 | 177.96 |\n| 8 |  8 | Toyota Motor            | Japan                       | Consumer durables               | 135.82 |  7.99 |  171.71 | 115.40 |\n| 9 |  9 | Fannie Mae              | United States               | Diversified financials          |  53.13 |  6.48 | 1019.17 |  76.84 |\n| 10 | 10 | Wal-Mart Stores         | United States               | Retailing                       | 256.33 |  9.05 |  104.91 | 243.74 |\n| 11 | 11 | UBS                     | Switzerland                 | Diversified financials          |  48.95 |  5.15 |  853.23 |  85.07 |\n| 12 | 12 | ING Group               | Netherlands                 | Diversified financials          |  94.72 |  4.73 |  752.49 |  54.59 |\n| 13 | 13 | Royal Dutch/Shell Group | Netherlands/ United Kingdom | Oil &amp; gas operations            | 133.50 |  8.40 |  100.72 | 163.45 |\n| 14 | 14 | Berkshire Hathaway      | United States               | Insurance                       |  56.22 |  6.95 |  172.24 | 141.14 |\n| 15 | 15 | JP Morgan Chase         | United States               | Banking                         |  44.39 |  4.47 |  792.70 |  81.94 |\n| 16 | 16 | IBM                     | United States               | Technology hardware &amp; equipment |  89.13 |  7.58 |  104.46 | 171.54 |\n| 17 | 17 | Total                   | France                      | Oil &amp; gas operations            | 131.64 |  8.84 |   87.84 | 116.64 |\n| 18 | 18 | BNP Paribas             | France                      | Banking                         |  47.74 |  4.73 |  745.09 |  59.29 |\n| 19 | 19 | Royal Bank of Scotland  | United Kingdom              | Banking                         |  35.65 |  4.95 |  663.45 |  90.21 |\n| 20 | 20 | Freddie Mac             | United States               | Diversified financials          |  46.26 | 10.09 |  752.25 |  44.25 |\n| 21 | 21 | DaimlerChrysler         | Germany                     | Consumer durables               | 157.13 |  5.12 |  195.58 |  47.43 |\n| 22 | 22 | Altria Group            | United States               | Food drink &amp; tobacco            |  60.70 |  9.20 |   96.18 | 111.02 |\n| 23 | 23 | ChevronTexaco           | United States               | Oil &amp; gas operations            | 112.94 |  7.43 |   82.36 |  92.49 |\n| 24 | 24 | Pfizer                  | United States               | Drugs &amp; biotechnology           |  40.36 |  6.20 |  120.06 | 285.27 |\n| 25 | 25 | Wells Fargo             | United States               | Banking                         |  31.80 |  6.20 |  387.80 |  97.53 |\n| 26 | 26 | Verizon Commun          | United States               | Telecommunications services     |  67.75 |  2.57 |  165.97 | 103.97 |\n| 27 | 27 | Barclays                | United Kingdom              | Banking                         |  33.69 |  4.90 |  791.54 |  61.33 |\n| 28 | 28 | Morgan Stanley          | United States               | Diversified financials          |  33.00 |  3.64 |  580.63 |  64.81 |\n| 29 | 29 | General Motors          | United States               | Consumer durables               | 185.52 |  3.82 |  450.00 |  27.47 |\n| 30 | 30 | Nippon Tel &amp; Tel        | Japan                       | Telecommunications services     |  92.41 |  2.17 |  150.87 |  73.00 |\n| 31 | 31 | Microsoft               | United States               | Software &amp; services             |  34.27 |  8.88 |   85.94 | 287.02 |\n| 32 | 32 | Nestle                  | Switzerland                 | Food drink &amp; tobacco            |  64.56 |  5.48 |   62.15 | 106.55 |\n| 33 | 33 | SBC Communications      | United States               | Telecommunications services     |  39.16 |  5.97 |  100.17 |  82.93 |\n| 34 | 34 | Deutsche Bank Group     | Germany                     | Diversified financials          |  58.85 |  1.53 |  792.49 |  50.23 |\n| 35 | 35 | Siemens Group           | Germany                     | Conglomerates                   |  86.62 |  2.81 |   85.47 |  75.77 |\n| 36 | 36 | HBOS                    | United Kingdom              | Banking                         |  32.68 |  3.09 |  571.76 |  52.87 |\n| 37 | 37 | ENI                     | Italy                       | Oil &amp; gas operations            |  53.29 |  4.82 |   67.91 |  76.13 |\n| 38 | 38 | ConocoPhillips          | United States               | Oil &amp; gas operations            |  90.49 |  4.83 |   81.95 |  46.72 |\n| 39 | 39 | Banco Santander Central | Spain                       | Banking                         |  28.70 |  3.28 |  442.24 |  56.78 |\n| 40 | 40 | Merrill Lynch           | United States               | Diversified financials          |  26.64 |  3.47 |  485.77 |  57.52 |\n| 41 | 41 | Wachovia                | United States               | Banking                         |  24.47 |  4.25 |  400.87 |  62.35 |\n| 42 | 42 | Time Warner             | United States               | Media                           |  38.08 |  2.65 |  121.78 |  77.95 |\n| 43 | 43 | Hewlett-Packard         | United States               | Technology hardware &amp; equipment |  73.06 |  2.54 |   74.71 |  70.20 |\n| 44 | 44 | Procter &amp; Gamble        | United States               | Household &amp; personal products   |  46.99 |  5.81 |   53.86 | 131.89 |\n| 45 | 45 | Samsung Electronics     | South Korea                 | Semiconductors                  |  50.22 |  5.95 |   54.58 |  72.72 |\n| 46 | 46 | Johnson &amp; Johnson       | United States               | Drugs &amp; biotechnology           |  40.01 |  6.74 |   46.66 | 160.96 |\n| 47 | 47 | Lloyds TSB Group        | United Kingdom              | Banking                         |  24.48 |  2.87 |  406.99 |  48.11 |\n| 48 | 48 | ABN-Amro Holding        | Netherlands                 | Banking                         |  23.64 |  3.98 |  704.95 |  39.29 |\n| 49 | 49 | Honda Motor             | Japan                       | Consumer durables               |  67.44 |  3.61 |   63.09 |  40.61 |\n| 50 | 50 | American Express        | United States               | Diversified financials          |  24.17 |  3.00 |  175.00 |  68.89 |\n\n",
            "text/html": [
              "<table>\n",
              "<caption>A data.frame: 50 × 8</caption>\n",
              "<thead>\n",
              "\t<tr><th></th><th scope=col>rank</th><th scope=col>name</th><th scope=col>country</th><th scope=col>category</th><th scope=col>sales</th><th scope=col>profits</th><th scope=col>assets</th><th scope=col>marketvalue</th></tr>\n",
              "\t<tr><th></th><th scope=col>&lt;int&gt;</th><th scope=col>&lt;chr&gt;</th><th scope=col>&lt;chr&gt;</th><th scope=col>&lt;chr&gt;</th><th scope=col>&lt;dbl&gt;</th><th scope=col>&lt;dbl&gt;</th><th scope=col>&lt;dbl&gt;</th><th scope=col>&lt;dbl&gt;</th></tr>\n",
              "</thead>\n",
              "<tbody>\n",
              "\t<tr><th scope=row>1</th><td> 1</td><td>Citigroup              </td><td>United States              </td><td>Banking                        </td><td> 94.71</td><td>17.85</td><td>1264.03</td><td>255.30</td></tr>\n",
              "\t<tr><th scope=row>2</th><td> 2</td><td>General Electric       </td><td>United States              </td><td>Conglomerates                  </td><td>134.19</td><td>15.59</td><td> 626.93</td><td>328.54</td></tr>\n",
              "\t<tr><th scope=row>3</th><td> 3</td><td>American Intl Group    </td><td>United States              </td><td>Insurance                      </td><td> 76.66</td><td> 6.46</td><td> 647.66</td><td>194.87</td></tr>\n",
              "\t<tr><th scope=row>4</th><td> 4</td><td><span style=white-space:pre-wrap>ExxonMobil             </span></td><td><span style=white-space:pre-wrap>United States              </span></td><td><span style=white-space:pre-wrap>Oil &amp; gas operations           </span></td><td>222.88</td><td>20.96</td><td> 166.99</td><td>277.02</td></tr>\n",
              "\t<tr><th scope=row>5</th><td> 5</td><td><span style=white-space:pre-wrap>BP                     </span></td><td><span style=white-space:pre-wrap>United Kingdom             </span></td><td><span style=white-space:pre-wrap>Oil &amp; gas operations           </span></td><td>232.57</td><td>10.27</td><td> 177.57</td><td>173.54</td></tr>\n",
              "\t<tr><th scope=row>6</th><td> 6</td><td>Bank of America        </td><td>United States              </td><td>Banking                        </td><td> 49.01</td><td>10.81</td><td> 736.45</td><td>117.55</td></tr>\n",
              "\t<tr><th scope=row>7</th><td> 7</td><td>HSBC Group             </td><td>United Kingdom             </td><td>Banking                        </td><td> 44.33</td><td> 6.66</td><td> 757.60</td><td>177.96</td></tr>\n",
              "\t<tr><th scope=row>8</th><td> 8</td><td>Toyota Motor           </td><td>Japan                      </td><td>Consumer durables              </td><td>135.82</td><td> 7.99</td><td> 171.71</td><td>115.40</td></tr>\n",
              "\t<tr><th scope=row>9</th><td> 9</td><td>Fannie Mae             </td><td>United States              </td><td>Diversified financials         </td><td> 53.13</td><td> 6.48</td><td>1019.17</td><td> 76.84</td></tr>\n",
              "\t<tr><th scope=row>10</th><td>10</td><td>Wal-Mart Stores        </td><td>United States              </td><td>Retailing                      </td><td>256.33</td><td> 9.05</td><td> 104.91</td><td>243.74</td></tr>\n",
              "\t<tr><th scope=row>11</th><td>11</td><td>UBS                    </td><td>Switzerland                </td><td>Diversified financials         </td><td> 48.95</td><td> 5.15</td><td> 853.23</td><td> 85.07</td></tr>\n",
              "\t<tr><th scope=row>12</th><td>12</td><td>ING Group              </td><td>Netherlands                </td><td>Diversified financials         </td><td> 94.72</td><td> 4.73</td><td> 752.49</td><td> 54.59</td></tr>\n",
              "\t<tr><th scope=row>13</th><td>13</td><td>Royal Dutch/Shell Group</td><td>Netherlands/ United Kingdom</td><td><span style=white-space:pre-wrap>Oil &amp; gas operations           </span></td><td>133.50</td><td> 8.40</td><td> 100.72</td><td>163.45</td></tr>\n",
              "\t<tr><th scope=row>14</th><td>14</td><td>Berkshire Hathaway     </td><td>United States              </td><td>Insurance                      </td><td> 56.22</td><td> 6.95</td><td> 172.24</td><td>141.14</td></tr>\n",
              "\t<tr><th scope=row>15</th><td>15</td><td>JP Morgan Chase        </td><td>United States              </td><td>Banking                        </td><td> 44.39</td><td> 4.47</td><td> 792.70</td><td> 81.94</td></tr>\n",
              "\t<tr><th scope=row>16</th><td>16</td><td><span style=white-space:pre-wrap>IBM                    </span></td><td><span style=white-space:pre-wrap>United States              </span></td><td>Technology hardware &amp; equipment</td><td> 89.13</td><td> 7.58</td><td> 104.46</td><td>171.54</td></tr>\n",
              "\t<tr><th scope=row>17</th><td>17</td><td><span style=white-space:pre-wrap>Total                  </span></td><td><span style=white-space:pre-wrap>France                     </span></td><td><span style=white-space:pre-wrap>Oil &amp; gas operations           </span></td><td>131.64</td><td> 8.84</td><td><span style=white-space:pre-wrap>  87.84</span></td><td>116.64</td></tr>\n",
              "\t<tr><th scope=row>18</th><td>18</td><td>BNP Paribas            </td><td>France                     </td><td>Banking                        </td><td> 47.74</td><td> 4.73</td><td> 745.09</td><td> 59.29</td></tr>\n",
              "\t<tr><th scope=row>19</th><td>19</td><td>Royal Bank of Scotland </td><td>United Kingdom             </td><td>Banking                        </td><td> 35.65</td><td> 4.95</td><td> 663.45</td><td> 90.21</td></tr>\n",
              "\t<tr><th scope=row>20</th><td>20</td><td>Freddie Mac            </td><td>United States              </td><td>Diversified financials         </td><td> 46.26</td><td>10.09</td><td> 752.25</td><td> 44.25</td></tr>\n",
              "\t<tr><th scope=row>21</th><td>21</td><td>DaimlerChrysler        </td><td>Germany                    </td><td>Consumer durables              </td><td>157.13</td><td> 5.12</td><td> 195.58</td><td> 47.43</td></tr>\n",
              "\t<tr><th scope=row>22</th><td>22</td><td><span style=white-space:pre-wrap>Altria Group           </span></td><td><span style=white-space:pre-wrap>United States              </span></td><td><span style=white-space:pre-wrap>Food drink &amp; tobacco           </span></td><td> 60.70</td><td> 9.20</td><td><span style=white-space:pre-wrap>  96.18</span></td><td>111.02</td></tr>\n",
              "\t<tr><th scope=row>23</th><td>23</td><td><span style=white-space:pre-wrap>ChevronTexaco          </span></td><td><span style=white-space:pre-wrap>United States              </span></td><td><span style=white-space:pre-wrap>Oil &amp; gas operations           </span></td><td>112.94</td><td> 7.43</td><td><span style=white-space:pre-wrap>  82.36</span></td><td> 92.49</td></tr>\n",
              "\t<tr><th scope=row>24</th><td>24</td><td><span style=white-space:pre-wrap>Pfizer                 </span></td><td><span style=white-space:pre-wrap>United States              </span></td><td><span style=white-space:pre-wrap>Drugs &amp; biotechnology          </span></td><td> 40.36</td><td> 6.20</td><td> 120.06</td><td>285.27</td></tr>\n",
              "\t<tr><th scope=row>25</th><td>25</td><td>Wells Fargo            </td><td>United States              </td><td>Banking                        </td><td> 31.80</td><td> 6.20</td><td> 387.80</td><td> 97.53</td></tr>\n",
              "\t<tr><th scope=row>26</th><td>26</td><td>Verizon Commun         </td><td>United States              </td><td>Telecommunications services    </td><td> 67.75</td><td> 2.57</td><td> 165.97</td><td>103.97</td></tr>\n",
              "\t<tr><th scope=row>27</th><td>27</td><td>Barclays               </td><td>United Kingdom             </td><td>Banking                        </td><td> 33.69</td><td> 4.90</td><td> 791.54</td><td> 61.33</td></tr>\n",
              "\t<tr><th scope=row>28</th><td>28</td><td>Morgan Stanley         </td><td>United States              </td><td>Diversified financials         </td><td> 33.00</td><td> 3.64</td><td> 580.63</td><td> 64.81</td></tr>\n",
              "\t<tr><th scope=row>29</th><td>29</td><td>General Motors         </td><td>United States              </td><td>Consumer durables              </td><td>185.52</td><td> 3.82</td><td> 450.00</td><td> 27.47</td></tr>\n",
              "\t<tr><th scope=row>30</th><td>30</td><td><span style=white-space:pre-wrap>Nippon Tel &amp; Tel       </span></td><td><span style=white-space:pre-wrap>Japan                      </span></td><td><span style=white-space:pre-wrap>Telecommunications services    </span></td><td> 92.41</td><td> 2.17</td><td> 150.87</td><td> 73.00</td></tr>\n",
              "\t<tr><th scope=row>31</th><td>31</td><td><span style=white-space:pre-wrap>Microsoft              </span></td><td><span style=white-space:pre-wrap>United States              </span></td><td><span style=white-space:pre-wrap>Software &amp; services            </span></td><td> 34.27</td><td> 8.88</td><td><span style=white-space:pre-wrap>  85.94</span></td><td>287.02</td></tr>\n",
              "\t<tr><th scope=row>32</th><td>32</td><td><span style=white-space:pre-wrap>Nestle                 </span></td><td><span style=white-space:pre-wrap>Switzerland                </span></td><td><span style=white-space:pre-wrap>Food drink &amp; tobacco           </span></td><td> 64.56</td><td> 5.48</td><td><span style=white-space:pre-wrap>  62.15</span></td><td>106.55</td></tr>\n",
              "\t<tr><th scope=row>33</th><td>33</td><td>SBC Communications     </td><td>United States              </td><td>Telecommunications services    </td><td> 39.16</td><td> 5.97</td><td> 100.17</td><td> 82.93</td></tr>\n",
              "\t<tr><th scope=row>34</th><td>34</td><td>Deutsche Bank Group    </td><td>Germany                    </td><td>Diversified financials         </td><td> 58.85</td><td> 1.53</td><td> 792.49</td><td> 50.23</td></tr>\n",
              "\t<tr><th scope=row>35</th><td>35</td><td>Siemens Group          </td><td>Germany                    </td><td>Conglomerates                  </td><td> 86.62</td><td> 2.81</td><td>  85.47</td><td> 75.77</td></tr>\n",
              "\t<tr><th scope=row>36</th><td>36</td><td>HBOS                   </td><td>United Kingdom             </td><td>Banking                        </td><td> 32.68</td><td> 3.09</td><td> 571.76</td><td> 52.87</td></tr>\n",
              "\t<tr><th scope=row>37</th><td>37</td><td><span style=white-space:pre-wrap>ENI                    </span></td><td><span style=white-space:pre-wrap>Italy                      </span></td><td><span style=white-space:pre-wrap>Oil &amp; gas operations           </span></td><td> 53.29</td><td> 4.82</td><td><span style=white-space:pre-wrap>  67.91</span></td><td> 76.13</td></tr>\n",
              "\t<tr><th scope=row>38</th><td>38</td><td><span style=white-space:pre-wrap>ConocoPhillips         </span></td><td><span style=white-space:pre-wrap>United States              </span></td><td><span style=white-space:pre-wrap>Oil &amp; gas operations           </span></td><td> 90.49</td><td> 4.83</td><td><span style=white-space:pre-wrap>  81.95</span></td><td> 46.72</td></tr>\n",
              "\t<tr><th scope=row>39</th><td>39</td><td>Banco Santander Central</td><td>Spain                      </td><td>Banking                        </td><td> 28.70</td><td> 3.28</td><td> 442.24</td><td> 56.78</td></tr>\n",
              "\t<tr><th scope=row>40</th><td>40</td><td>Merrill Lynch          </td><td>United States              </td><td>Diversified financials         </td><td> 26.64</td><td> 3.47</td><td> 485.77</td><td> 57.52</td></tr>\n",
              "\t<tr><th scope=row>41</th><td>41</td><td>Wachovia               </td><td>United States              </td><td>Banking                        </td><td> 24.47</td><td> 4.25</td><td> 400.87</td><td> 62.35</td></tr>\n",
              "\t<tr><th scope=row>42</th><td>42</td><td>Time Warner            </td><td>United States              </td><td>Media                          </td><td> 38.08</td><td> 2.65</td><td> 121.78</td><td> 77.95</td></tr>\n",
              "\t<tr><th scope=row>43</th><td>43</td><td><span style=white-space:pre-wrap>Hewlett-Packard        </span></td><td><span style=white-space:pre-wrap>United States              </span></td><td>Technology hardware &amp; equipment</td><td> 73.06</td><td> 2.54</td><td><span style=white-space:pre-wrap>  74.71</span></td><td> 70.20</td></tr>\n",
              "\t<tr><th scope=row>44</th><td>44</td><td><span style=white-space:pre-wrap>Procter &amp; Gamble       </span></td><td><span style=white-space:pre-wrap>United States              </span></td><td><span style=white-space:pre-wrap>Household &amp; personal products  </span></td><td> 46.99</td><td> 5.81</td><td><span style=white-space:pre-wrap>  53.86</span></td><td>131.89</td></tr>\n",
              "\t<tr><th scope=row>45</th><td>45</td><td>Samsung Electronics    </td><td>South Korea                </td><td>Semiconductors                 </td><td> 50.22</td><td> 5.95</td><td>  54.58</td><td> 72.72</td></tr>\n",
              "\t<tr><th scope=row>46</th><td>46</td><td><span style=white-space:pre-wrap>Johnson &amp; Johnson      </span></td><td><span style=white-space:pre-wrap>United States              </span></td><td><span style=white-space:pre-wrap>Drugs &amp; biotechnology          </span></td><td> 40.01</td><td> 6.74</td><td><span style=white-space:pre-wrap>  46.66</span></td><td>160.96</td></tr>\n",
              "\t<tr><th scope=row>47</th><td>47</td><td>Lloyds TSB Group       </td><td>United Kingdom             </td><td>Banking                        </td><td> 24.48</td><td> 2.87</td><td> 406.99</td><td> 48.11</td></tr>\n",
              "\t<tr><th scope=row>48</th><td>48</td><td>ABN-Amro Holding       </td><td>Netherlands                </td><td>Banking                        </td><td> 23.64</td><td> 3.98</td><td> 704.95</td><td> 39.29</td></tr>\n",
              "\t<tr><th scope=row>49</th><td>49</td><td>Honda Motor            </td><td>Japan                      </td><td>Consumer durables              </td><td> 67.44</td><td> 3.61</td><td>  63.09</td><td> 40.61</td></tr>\n",
              "\t<tr><th scope=row>50</th><td>50</td><td>American Express       </td><td>United States              </td><td>Diversified financials         </td><td> 24.17</td><td> 3.00</td><td> 175.00</td><td> 68.89</td></tr>\n",
              "</tbody>\n",
              "</table>\n"
            ]
          },
          "metadata": {
            "tags": []
          }
        }
      ]
    },
    {
      "cell_type": "code",
      "metadata": {
        "id": "lww1Z3Q-4N5-",
        "colab_type": "code",
        "outputId": "be42fdc5-b389-4061-d8b9-1644c8a23165",
        "colab": {
          "base_uri": "https://localhost:8080/",
          "height": 299
        }
      },
      "source": [
        "# Fill the blank in the summary command\n",
        "summary(forbes)"
      ],
      "execution_count": 0,
      "outputs": [
        {
          "output_type": "display_data",
          "data": {
            "text/plain": [
              "      rank            name             country            category        \n",
              " Min.   :   1.0   Length:2000        Length:2000        Length:2000       \n",
              " 1st Qu.: 500.8   Class :character   Class :character   Class :character  \n",
              " Median :1000.5   Mode  :character   Mode  :character   Mode  :character  \n",
              " Mean   :1000.5                                                           \n",
              " 3rd Qu.:1500.2                                                           \n",
              " Max.   :2000.0                                                           \n",
              "                                                                          \n",
              "     sales            profits             assets          marketvalue    \n",
              " Min.   :  0.010   Min.   :-25.8300   Min.   :   0.270   Min.   :  0.02  \n",
              " 1st Qu.:  2.018   1st Qu.:  0.0800   1st Qu.:   4.025   1st Qu.:  2.72  \n",
              " Median :  4.365   Median :  0.2000   Median :   9.345   Median :  5.15  \n",
              " Mean   :  9.697   Mean   :  0.3811   Mean   :  34.042   Mean   : 11.88  \n",
              " 3rd Qu.:  9.547   3rd Qu.:  0.4400   3rd Qu.:  22.793   3rd Qu.: 10.60  \n",
              " Max.   :256.330   Max.   : 20.9600   Max.   :1264.030   Max.   :328.54  \n",
              "                   NA's   :5                                             "
            ]
          },
          "metadata": {
            "tags": []
          }
        }
      ]
    },
    {
      "cell_type": "markdown",
      "metadata": {
        "id": "kao1Zy6iqGG_",
        "colab_type": "text"
      },
      "source": [
        "##4. Preprocess data \n"
      ]
    },
    {
      "cell_type": "markdown",
      "metadata": {
        "id": "gERvlv4cxSif",
        "colab_type": "text"
      },
      "source": [
        "### 4.1 Preprocessing - missing values\n",
        "* Missing values are denoted in R by NA or NaN for undefined mathematical operations.\n",
        "> * `is.na(x)` is used to test objects \"x\" if there are NAs\n",
        "> * Which one is NA? `which(is.na(x))`"
      ]
    },
    {
      "cell_type": "code",
      "metadata": {
        "id": "iKV7Qu9i4N6E",
        "colab_type": "code",
        "colab": {}
      },
      "source": [
        "Use one of the commands in the last session to "
      ],
      "execution_count": 0,
      "outputs": []
    },
    {
      "cell_type": "code",
      "metadata": {
        "id": "SGlBLdCZsZCB",
        "colab_type": "code",
        "outputId": "0abd5604-57fe-4506-918b-5e56e8c0bb19",
        "colab": {
          "base_uri": "https://localhost:8080/",
          "height": 17
        }
      },
      "source": [
        "# Fill the blank to find out which ones are NAs on Sales\n",
        "which(is.na(forbes$sales))"
      ],
      "execution_count": 0,
      "outputs": [
        {
          "output_type": "display_data",
          "data": {
            "text/plain": [
              "integer(0)"
            ],
            "text/latex": "",
            "text/markdown": "",
            "text/html": [
              ""
            ]
          },
          "metadata": {
            "tags": []
          }
        }
      ]
    },
    {
      "cell_type": "markdown",
      "metadata": {
        "id": "rLH9I8W44N6P",
        "colab_type": "text"
      },
      "source": [
        "* more about missing value inspection\n",
        "> * How many NAs? `table(is.na(x))`\n",
        "> * list of observations with missing values on profits `x(is.na(x),)`\n",
        "\n"
      ]
    },
    {
      "cell_type": "code",
      "metadata": {
        "id": "D-kdpDZS4N6R",
        "colab_type": "code",
        "outputId": "c28ca5f7-fcf3-4219-a856-ffc514ece8ed",
        "colab": {
          "base_uri": "https://localhost:8080/",
          "height": 123
        }
      },
      "source": [
        "# Fill the blank to find out how many NAs on assets\n",
        "table(is.na(forbes$assets))\n",
        "# Fill the blank to find out observations with missing values on profits\n",
        "table(is.na(forbes$profits))"
      ],
      "execution_count": 0,
      "outputs": [
        {
          "output_type": "display_data",
          "data": {
            "text/plain": [
              "\n",
              "FALSE \n",
              " 2000 "
            ]
          },
          "metadata": {
            "tags": []
          }
        },
        {
          "output_type": "display_data",
          "data": {
            "text/plain": [
              "\n",
              "FALSE  TRUE \n",
              " 1995     5 "
            ]
          },
          "metadata": {
            "tags": []
          }
        }
      ]
    },
    {
      "cell_type": "markdown",
      "metadata": {
        "id": "_aMsG0vktTSC",
        "colab_type": "text"
      },
      "source": [
        "* remember many R functions also have a logical “`na.rm`” option\n",
        "> * `na.rm=TRUE` means the NA values should be discarded\n"
      ]
    },
    {
      "cell_type": "code",
      "metadata": {
        "id": "dbFa1Akztear",
        "colab_type": "code",
        "outputId": "57865e44-794d-4051-a117-fa004f7a1524",
        "colab": {
          "base_uri": "https://localhost:8080/",
          "height": 51
        }
      },
      "source": [
        "#Calculate the mean value of profits\n",
        "mean(forbes$profits)  # will get NA\n",
        "mean(forbes$profits, na.rm=T)"
      ],
      "execution_count": 0,
      "outputs": [
        {
          "output_type": "display_data",
          "data": {
            "text/plain": [
              "[1] NA"
            ],
            "text/latex": "<NA>",
            "text/markdown": "&lt;NA&gt;",
            "text/html": [
              "&lt;NA&gt;"
            ]
          },
          "metadata": {
            "tags": []
          }
        },
        {
          "output_type": "display_data",
          "data": {
            "text/plain": [
              "[1] 0.3811328"
            ],
            "text/latex": "0.3811328320802",
            "text/markdown": "0.3811328320802",
            "text/html": [
              "0.3811328320802"
            ]
          },
          "metadata": {
            "tags": []
          }
        }
      ]
    },
    {
      "cell_type": "markdown",
      "metadata": {
        "id": "HRQfa3cXt0-5",
        "colab_type": "text"
      },
      "source": [
        "* **Note: Not all missing values are marked with “NA” in the raw data!**\n"
      ]
    },
    {
      "cell_type": "markdown",
      "metadata": {
        "id": "8QqhU2X5uBjh",
        "colab_type": "text"
      },
      "source": [
        "* The simplest way to deal with the missing values is to remove them. \n",
        "> * If a column (variable) has a high percentage of the missing value, remove the whole column or just don’t use it for the analysis.\n",
        "> * If a row (observation) has a missing value, remove the row with `na.omit()`. e.g. \n"
      ]
    },
    {
      "cell_type": "code",
      "metadata": {
        "id": "yV26wnrUuOjq",
        "colab_type": "code",
        "outputId": "8bd36063-b609-4c49-d21f-1db2e6da9c3a",
        "colab": {
          "base_uri": "https://localhost:8080/",
          "height": 34
        }
      },
      "source": [
        "# remove the observations with missing values, save it to object \"forbes2\"\n",
        "forbes2  <- na.omit(forbes)\n",
        "# find out the dimensions of forbes2\n",
        "dim(forbes2)"
      ],
      "execution_count": 0,
      "outputs": [
        {
          "output_type": "display_data",
          "data": {
            "text/plain": [
              "[1] 1995    8"
            ],
            "text/latex": "\\begin{enumerate*}\n\\item 1995\n\\item 8\n\\end{enumerate*}\n",
            "text/markdown": "1. 1995\n2. 8\n\n\n",
            "text/html": [
              "<style>\n",
              ".list-inline {list-style: none; margin:0; padding: 0}\n",
              ".list-inline>li {display: inline-block}\n",
              ".list-inline>li:not(:last-child)::after {content: \"\\00b7\"; padding: 0 .5ex}\n",
              "</style>\n",
              "<ol class=list-inline><li>1995</li><li>8</li></ol>\n"
            ]
          },
          "metadata": {
            "tags": []
          }
        }
      ]
    },
    {
      "cell_type": "markdown",
      "metadata": {
        "id": "RnVQ-jx2uf-J",
        "colab_type": "text"
      },
      "source": [
        "* Alternatively, the missing values can be replaced by basic statistics e.g. \n",
        "> * replace by mean \n"
      ]
    },
    {
      "cell_type": "code",
      "metadata": {
        "id": "tbWXSnm_umwo",
        "colab_type": "code",
        "outputId": "f64fb808-5ff4-4459-e849-a7f3fd2bcab0",
        "colab": {
          "base_uri": "https://localhost:8080/",
          "height": 34
        }
      },
      "source": [
        "for(i in 1:nrow(forbes)){\n",
        "  if(is.na(forbes$profits[i])==TRUE){\n",
        "  forbes$profits[i] <- mean(forbes$profits, na.rm = TRUE)\n",
        "  }\n",
        "}\n",
        "for(i in 1:nrow(forbes)){\n",
        "  if(is.na(forbes$sales[i])==TRUE){\n",
        "  forbes$sales[i] <- mean(forbes$sales, na.rm = TRUE)\n",
        "  }\n",
        "}\n",
        "for(i in 1:nrow(forbes)){\n",
        "  if(is.na(forbes$assets[i])==TRUE){\n",
        "  forbes$assets[i] <- mean(forbes$assets, na.rm = TRUE)\n",
        "  }\n",
        "}\n",
        "dim(forbes)"
      ],
      "execution_count": 0,
      "outputs": [
        {
          "output_type": "display_data",
          "data": {
            "text/plain": [
              "[1] 2000    8"
            ],
            "text/latex": "\\begin{enumerate*}\n\\item 2000\n\\item 8\n\\end{enumerate*}\n",
            "text/markdown": "1. 2000\n2. 8\n\n\n",
            "text/html": [
              "<style>\n",
              ".list-inline {list-style: none; margin:0; padding: 0}\n",
              ".list-inline>li {display: inline-block}\n",
              ".list-inline>li:not(:last-child)::after {content: \"\\00b7\"; padding: 0 .5ex}\n",
              "</style>\n",
              "<ol class=list-inline><li>2000</li><li>8</li></ol>\n"
            ]
          },
          "metadata": {
            "tags": []
          }
        }
      ]
    },
    {
      "cell_type": "markdown",
      "metadata": {
        "id": "nkNPSPoKvWdZ",
        "colab_type": "text"
      },
      "source": [
        "###4.2 Preprocessing - subsetting data\n",
        "* At most occasions we do not need all of the raw data\n",
        "* There are a number of methods of extracting a subset of R objects\n",
        "* Subsetting data can be done either by row or by column \n"
      ]
    },
    {
      "cell_type": "markdown",
      "metadata": {
        "id": "MoPex-0DvrTA",
        "colab_type": "text"
      },
      "source": [
        "#### 4.2.1 Subsetting by row: use conditions\n",
        "Fill the blanks to find all companies with negative profit:\n"
      ]
    },
    {
      "cell_type": "code",
      "metadata": {
        "id": "T9WIn_YSv443",
        "colab_type": "code",
        "outputId": "f1ab58ef-39eb-4330-a0dd-759012e2fbf7",
        "colab": {
          "base_uri": "https://localhost:8080/",
          "height": 1000
        }
      },
      "source": [
        "forbes[forbes$profits < 0,c(\"name\",\"sales\",\"profits\",\"assets\")]"
      ],
      "execution_count": 0,
      "outputs": [
        {
          "output_type": "display_data",
          "data": {
            "text/plain": [
              "     name                      sales profits assets \n",
              "350  Allianz Worldwide         96.88  -1.23   851.24\n",
              "354  Vodafone                  47.99 -15.51   256.28\n",
              "364  Deutsche Telekom          56.40 -25.83   132.01\n",
              "372  Credit Suisse Group       38.01  -2.40   683.44\n",
              "374  France Telecom            57.99 -21.78   107.86\n",
              "382  Generali Group            57.90  -0.79   239.21\n",
              "396  Sumitomo Mitsui Financial 29.17  -3.94   868.42\n",
              "397  E.ON                      37.95  -0.73   115.57\n",
              "398  Mitsubishi Tokyo Finl     20.65  -1.37   827.48\n",
              "402  Aviva                     52.46  -0.86   287.58\n",
              "403  Mizuho Financial          24.40 -20.11  1115.90\n",
              "405  Zurich Financial Services 47.46  -3.96   263.85\n",
              "409  Telefsnica                29.84  -5.86    60.65\n",
              "412  Telecom Italia            32.99  -0.81    85.03\n",
              "415  Matsushita Electric Indl  62.62  -0.16    60.46\n",
              "427  Suez Group                48.41  -0.91    88.39\n",
              "431  HVB-HypoVereinsbank       40.52  -0.87   705.36\n",
              "435  Vivendi Universal         32.05  -5.10    72.79\n",
              "438  Swiss Re Group            27.53  -0.07   112.20\n",
              "444  UFJ Holdings              17.16  -5.15   665.67\n",
              "460  Philips Group             33.42  -3.37    32.71\n",
              "466  Hartford Finl Service     17.73  -0.29   211.37\n",
              "470  Legal & General Group     36.10  -0.29   167.94\n",
              "482  EADS                      31.41  -0.31    47.82\n",
              "488  Duke Energy               21.58  -1.16    54.99\n",
              "494  Abbey National            15.28  -1.93   331.21\n",
              "500  Commerzbank               22.43  -0.31   437.86\n",
              "524  Fujitsu                   39.06  -1.03    33.77\n",
              "529  Ahold                     70.57  -1.27    25.51\n",
              "535  Loews                     16.10  -0.72    77.79\n",
              "⋮    ⋮                         ⋮     ⋮       ⋮      \n",
              "1863 International Steel Group 3.15  -0.01    2.41  \n",
              "1865 Siam Commercial Bank      0.95  -0.29   15.67  \n",
              "1868 Woodside Petroleum        1.26  -0.05    2.81  \n",
              "1875 MyTravel Group            6.97  -1.52    2.55  \n",
              "1880 Nisshin Steel             3.49  -0.02    5.22  \n",
              "1885 Vishay Intertech          2.06  -0.11    4.50  \n",
              "1887 SPAR Handels              6.84  -0.40    1.64  \n",
              "1890 Sierra Pacific Res        2.81  -0.14    6.95  \n",
              "1891 Advantest                 0.83  -0.11    2.13  \n",
              "1892 Farmers Bank of China     0.58  -0.33   14.89  \n",
              "1897 Towa Bank                 0.30  -0.11   14.70  \n",
              "1905 Research In Motion        0.32  -0.16    0.86  \n",
              "1906 Nippon Steel Trading      6.56  -0.01    2.52  \n",
              "1910 Higashi-Nippon Bank       0.36  -0.06   14.24  \n",
              "1914 WMC Resources             0.82  -0.02    4.08  \n",
              "1927 FIBI Holding              0.66  -0.01   13.76  \n",
              "1928 Snow Brand Milk           6.15  -0.23    2.14  \n",
              "1929 JDS Uniphase              0.63  -0.28    2.45  \n",
              "1935 Agere Systems             1.92  -0.23    2.31  \n",
              "1949 Metro-Goldwyn-Mayer       1.96  -0.16    4.21  \n",
              "1950 Ehime Bank                0.35  -0.16   13.10  \n",
              "1958 Laurus                    5.75  -0.06    1.30  \n",
              "1966 Aquila                    2.38  -1.72    7.67  \n",
              "1980 Petroplus Intl            5.48  -0.03    1.50  \n",
              "1981 CSN-Cia Siderurgica       1.46  -0.06    4.22  \n",
              "1982 Sumitomo Forestry         5.46  -0.13    2.92  \n",
              "1983 Bharti Tele-Ventures      0.64  -0.04    1.91  \n",
              "1993 Sogecable                 1.03  -0.06    1.53  \n",
              "1994 Mobilcom                  2.16  -3.62    8.67  \n",
              "1997 Yokogawa Electric         2.78  -0.22    2.96  "
            ],
            "text/latex": "A data.frame: 280 × 4\n\\begin{tabular}{r|llll}\n  & name & sales & profits & assets\\\\\n  & <chr> & <dbl> & <dbl> & <dbl>\\\\\n\\hline\n\t350 & Allianz Worldwide         & 96.88 &  -1.23 &  851.24\\\\\n\t354 & Vodafone                  & 47.99 & -15.51 &  256.28\\\\\n\t364 & Deutsche Telekom          & 56.40 & -25.83 &  132.01\\\\\n\t372 & Credit Suisse Group       & 38.01 &  -2.40 &  683.44\\\\\n\t374 & France Telecom            & 57.99 & -21.78 &  107.86\\\\\n\t382 & Generali Group            & 57.90 &  -0.79 &  239.21\\\\\n\t396 & Sumitomo Mitsui Financial & 29.17 &  -3.94 &  868.42\\\\\n\t397 & E.ON                      & 37.95 &  -0.73 &  115.57\\\\\n\t398 & Mitsubishi Tokyo Finl     & 20.65 &  -1.37 &  827.48\\\\\n\t402 & Aviva                     & 52.46 &  -0.86 &  287.58\\\\\n\t403 & Mizuho Financial          & 24.40 & -20.11 & 1115.90\\\\\n\t405 & Zurich Financial Services & 47.46 &  -3.96 &  263.85\\\\\n\t409 & Telefsnica                & 29.84 &  -5.86 &   60.65\\\\\n\t412 & Telecom Italia            & 32.99 &  -0.81 &   85.03\\\\\n\t415 & Matsushita Electric Indl  & 62.62 &  -0.16 &   60.46\\\\\n\t427 & Suez Group                & 48.41 &  -0.91 &   88.39\\\\\n\t431 & HVB-HypoVereinsbank       & 40.52 &  -0.87 &  705.36\\\\\n\t435 & Vivendi Universal         & 32.05 &  -5.10 &   72.79\\\\\n\t438 & Swiss Re Group            & 27.53 &  -0.07 &  112.20\\\\\n\t444 & UFJ Holdings              & 17.16 &  -5.15 &  665.67\\\\\n\t460 & Philips Group             & 33.42 &  -3.37 &   32.71\\\\\n\t466 & Hartford Finl Service     & 17.73 &  -0.29 &  211.37\\\\\n\t470 & Legal \\& General Group     & 36.10 &  -0.29 &  167.94\\\\\n\t482 & EADS                      & 31.41 &  -0.31 &   47.82\\\\\n\t488 & Duke Energy               & 21.58 &  -1.16 &   54.99\\\\\n\t494 & Abbey National            & 15.28 &  -1.93 &  331.21\\\\\n\t500 & Commerzbank               & 22.43 &  -0.31 &  437.86\\\\\n\t524 & Fujitsu                   & 39.06 &  -1.03 &   33.77\\\\\n\t529 & Ahold                     & 70.57 &  -1.27 &   25.51\\\\\n\t535 & Loews                     & 16.10 &  -0.72 &   77.79\\\\\n\t⋮ & ⋮ & ⋮ & ⋮ & ⋮\\\\\n\t1863 & International Steel Group & 3.15 & -0.01 &  2.41\\\\\n\t1865 & Siam Commercial Bank      & 0.95 & -0.29 & 15.67\\\\\n\t1868 & Woodside Petroleum        & 1.26 & -0.05 &  2.81\\\\\n\t1875 & MyTravel Group            & 6.97 & -1.52 &  2.55\\\\\n\t1880 & Nisshin Steel             & 3.49 & -0.02 &  5.22\\\\\n\t1885 & Vishay Intertech          & 2.06 & -0.11 &  4.50\\\\\n\t1887 & SPAR Handels              & 6.84 & -0.40 &  1.64\\\\\n\t1890 & Sierra Pacific Res        & 2.81 & -0.14 &  6.95\\\\\n\t1891 & Advantest                 & 0.83 & -0.11 &  2.13\\\\\n\t1892 & Farmers Bank of China     & 0.58 & -0.33 & 14.89\\\\\n\t1897 & Towa Bank                 & 0.30 & -0.11 & 14.70\\\\\n\t1905 & Research In Motion        & 0.32 & -0.16 &  0.86\\\\\n\t1906 & Nippon Steel Trading      & 6.56 & -0.01 &  2.52\\\\\n\t1910 & Higashi-Nippon Bank       & 0.36 & -0.06 & 14.24\\\\\n\t1914 & WMC Resources             & 0.82 & -0.02 &  4.08\\\\\n\t1927 & FIBI Holding              & 0.66 & -0.01 & 13.76\\\\\n\t1928 & Snow Brand Milk           & 6.15 & -0.23 &  2.14\\\\\n\t1929 & JDS Uniphase              & 0.63 & -0.28 &  2.45\\\\\n\t1935 & Agere Systems             & 1.92 & -0.23 &  2.31\\\\\n\t1949 & Metro-Goldwyn-Mayer       & 1.96 & -0.16 &  4.21\\\\\n\t1950 & Ehime Bank                & 0.35 & -0.16 & 13.10\\\\\n\t1958 & Laurus                    & 5.75 & -0.06 &  1.30\\\\\n\t1966 & Aquila                    & 2.38 & -1.72 &  7.67\\\\\n\t1980 & Petroplus Intl            & 5.48 & -0.03 &  1.50\\\\\n\t1981 & CSN-Cia Siderurgica       & 1.46 & -0.06 &  4.22\\\\\n\t1982 & Sumitomo Forestry         & 5.46 & -0.13 &  2.92\\\\\n\t1983 & Bharti Tele-Ventures      & 0.64 & -0.04 &  1.91\\\\\n\t1993 & Sogecable                 & 1.03 & -0.06 &  1.53\\\\\n\t1994 & Mobilcom                  & 2.16 & -3.62 &  8.67\\\\\n\t1997 & Yokogawa Electric         & 2.78 & -0.22 &  2.96\\\\\n\\end{tabular}\n",
            "text/markdown": "\nA data.frame: 280 × 4\n\n| <!--/--> | name &lt;chr&gt; | sales &lt;dbl&gt; | profits &lt;dbl&gt; | assets &lt;dbl&gt; |\n|---|---|---|---|---|\n| 350 | Allianz Worldwide         | 96.88 |  -1.23 |  851.24 |\n| 354 | Vodafone                  | 47.99 | -15.51 |  256.28 |\n| 364 | Deutsche Telekom          | 56.40 | -25.83 |  132.01 |\n| 372 | Credit Suisse Group       | 38.01 |  -2.40 |  683.44 |\n| 374 | France Telecom            | 57.99 | -21.78 |  107.86 |\n| 382 | Generali Group            | 57.90 |  -0.79 |  239.21 |\n| 396 | Sumitomo Mitsui Financial | 29.17 |  -3.94 |  868.42 |\n| 397 | E.ON                      | 37.95 |  -0.73 |  115.57 |\n| 398 | Mitsubishi Tokyo Finl     | 20.65 |  -1.37 |  827.48 |\n| 402 | Aviva                     | 52.46 |  -0.86 |  287.58 |\n| 403 | Mizuho Financial          | 24.40 | -20.11 | 1115.90 |\n| 405 | Zurich Financial Services | 47.46 |  -3.96 |  263.85 |\n| 409 | Telefsnica                | 29.84 |  -5.86 |   60.65 |\n| 412 | Telecom Italia            | 32.99 |  -0.81 |   85.03 |\n| 415 | Matsushita Electric Indl  | 62.62 |  -0.16 |   60.46 |\n| 427 | Suez Group                | 48.41 |  -0.91 |   88.39 |\n| 431 | HVB-HypoVereinsbank       | 40.52 |  -0.87 |  705.36 |\n| 435 | Vivendi Universal         | 32.05 |  -5.10 |   72.79 |\n| 438 | Swiss Re Group            | 27.53 |  -0.07 |  112.20 |\n| 444 | UFJ Holdings              | 17.16 |  -5.15 |  665.67 |\n| 460 | Philips Group             | 33.42 |  -3.37 |   32.71 |\n| 466 | Hartford Finl Service     | 17.73 |  -0.29 |  211.37 |\n| 470 | Legal &amp; General Group     | 36.10 |  -0.29 |  167.94 |\n| 482 | EADS                      | 31.41 |  -0.31 |   47.82 |\n| 488 | Duke Energy               | 21.58 |  -1.16 |   54.99 |\n| 494 | Abbey National            | 15.28 |  -1.93 |  331.21 |\n| 500 | Commerzbank               | 22.43 |  -0.31 |  437.86 |\n| 524 | Fujitsu                   | 39.06 |  -1.03 |   33.77 |\n| 529 | Ahold                     | 70.57 |  -1.27 |   25.51 |\n| 535 | Loews                     | 16.10 |  -0.72 |   77.79 |\n| ⋮ | ⋮ | ⋮ | ⋮ | ⋮ |\n| 1863 | International Steel Group | 3.15 | -0.01 |  2.41 |\n| 1865 | Siam Commercial Bank      | 0.95 | -0.29 | 15.67 |\n| 1868 | Woodside Petroleum        | 1.26 | -0.05 |  2.81 |\n| 1875 | MyTravel Group            | 6.97 | -1.52 |  2.55 |\n| 1880 | Nisshin Steel             | 3.49 | -0.02 |  5.22 |\n| 1885 | Vishay Intertech          | 2.06 | -0.11 |  4.50 |\n| 1887 | SPAR Handels              | 6.84 | -0.40 |  1.64 |\n| 1890 | Sierra Pacific Res        | 2.81 | -0.14 |  6.95 |\n| 1891 | Advantest                 | 0.83 | -0.11 |  2.13 |\n| 1892 | Farmers Bank of China     | 0.58 | -0.33 | 14.89 |\n| 1897 | Towa Bank                 | 0.30 | -0.11 | 14.70 |\n| 1905 | Research In Motion        | 0.32 | -0.16 |  0.86 |\n| 1906 | Nippon Steel Trading      | 6.56 | -0.01 |  2.52 |\n| 1910 | Higashi-Nippon Bank       | 0.36 | -0.06 | 14.24 |\n| 1914 | WMC Resources             | 0.82 | -0.02 |  4.08 |\n| 1927 | FIBI Holding              | 0.66 | -0.01 | 13.76 |\n| 1928 | Snow Brand Milk           | 6.15 | -0.23 |  2.14 |\n| 1929 | JDS Uniphase              | 0.63 | -0.28 |  2.45 |\n| 1935 | Agere Systems             | 1.92 | -0.23 |  2.31 |\n| 1949 | Metro-Goldwyn-Mayer       | 1.96 | -0.16 |  4.21 |\n| 1950 | Ehime Bank                | 0.35 | -0.16 | 13.10 |\n| 1958 | Laurus                    | 5.75 | -0.06 |  1.30 |\n| 1966 | Aquila                    | 2.38 | -1.72 |  7.67 |\n| 1980 | Petroplus Intl            | 5.48 | -0.03 |  1.50 |\n| 1981 | CSN-Cia Siderurgica       | 1.46 | -0.06 |  4.22 |\n| 1982 | Sumitomo Forestry         | 5.46 | -0.13 |  2.92 |\n| 1983 | Bharti Tele-Ventures      | 0.64 | -0.04 |  1.91 |\n| 1993 | Sogecable                 | 1.03 | -0.06 |  1.53 |\n| 1994 | Mobilcom                  | 2.16 | -3.62 |  8.67 |\n| 1997 | Yokogawa Electric         | 2.78 | -0.22 |  2.96 |\n\n",
            "text/html": [
              "<table>\n",
              "<caption>A data.frame: 280 × 4</caption>\n",
              "<thead>\n",
              "\t<tr><th></th><th scope=col>name</th><th scope=col>sales</th><th scope=col>profits</th><th scope=col>assets</th></tr>\n",
              "\t<tr><th></th><th scope=col>&lt;chr&gt;</th><th scope=col>&lt;dbl&gt;</th><th scope=col>&lt;dbl&gt;</th><th scope=col>&lt;dbl&gt;</th></tr>\n",
              "</thead>\n",
              "<tbody>\n",
              "\t<tr><th scope=row>350</th><td>Allianz Worldwide        </td><td>96.88</td><td> -1.23</td><td> 851.24</td></tr>\n",
              "\t<tr><th scope=row>354</th><td>Vodafone                 </td><td>47.99</td><td>-15.51</td><td> 256.28</td></tr>\n",
              "\t<tr><th scope=row>364</th><td>Deutsche Telekom         </td><td>56.40</td><td>-25.83</td><td> 132.01</td></tr>\n",
              "\t<tr><th scope=row>372</th><td>Credit Suisse Group      </td><td>38.01</td><td> -2.40</td><td> 683.44</td></tr>\n",
              "\t<tr><th scope=row>374</th><td>France Telecom           </td><td>57.99</td><td>-21.78</td><td> 107.86</td></tr>\n",
              "\t<tr><th scope=row>382</th><td>Generali Group           </td><td>57.90</td><td> -0.79</td><td> 239.21</td></tr>\n",
              "\t<tr><th scope=row>396</th><td>Sumitomo Mitsui Financial</td><td>29.17</td><td> -3.94</td><td> 868.42</td></tr>\n",
              "\t<tr><th scope=row>397</th><td>E.ON                     </td><td>37.95</td><td> -0.73</td><td> 115.57</td></tr>\n",
              "\t<tr><th scope=row>398</th><td>Mitsubishi Tokyo Finl    </td><td>20.65</td><td> -1.37</td><td> 827.48</td></tr>\n",
              "\t<tr><th scope=row>402</th><td>Aviva                    </td><td>52.46</td><td> -0.86</td><td> 287.58</td></tr>\n",
              "\t<tr><th scope=row>403</th><td>Mizuho Financial         </td><td>24.40</td><td>-20.11</td><td>1115.90</td></tr>\n",
              "\t<tr><th scope=row>405</th><td>Zurich Financial Services</td><td>47.46</td><td> -3.96</td><td> 263.85</td></tr>\n",
              "\t<tr><th scope=row>409</th><td>Telefsnica               </td><td>29.84</td><td> -5.86</td><td>  60.65</td></tr>\n",
              "\t<tr><th scope=row>412</th><td>Telecom Italia           </td><td>32.99</td><td> -0.81</td><td>  85.03</td></tr>\n",
              "\t<tr><th scope=row>415</th><td>Matsushita Electric Indl </td><td>62.62</td><td> -0.16</td><td>  60.46</td></tr>\n",
              "\t<tr><th scope=row>427</th><td>Suez Group               </td><td>48.41</td><td> -0.91</td><td>  88.39</td></tr>\n",
              "\t<tr><th scope=row>431</th><td>HVB-HypoVereinsbank      </td><td>40.52</td><td> -0.87</td><td> 705.36</td></tr>\n",
              "\t<tr><th scope=row>435</th><td>Vivendi Universal        </td><td>32.05</td><td> -5.10</td><td>  72.79</td></tr>\n",
              "\t<tr><th scope=row>438</th><td>Swiss Re Group           </td><td>27.53</td><td> -0.07</td><td> 112.20</td></tr>\n",
              "\t<tr><th scope=row>444</th><td>UFJ Holdings             </td><td>17.16</td><td> -5.15</td><td> 665.67</td></tr>\n",
              "\t<tr><th scope=row>460</th><td>Philips Group            </td><td>33.42</td><td> -3.37</td><td>  32.71</td></tr>\n",
              "\t<tr><th scope=row>466</th><td>Hartford Finl Service    </td><td>17.73</td><td> -0.29</td><td> 211.37</td></tr>\n",
              "\t<tr><th scope=row>470</th><td><span style=white-space:pre-wrap>Legal &amp; General Group    </span></td><td>36.10</td><td> -0.29</td><td> 167.94</td></tr>\n",
              "\t<tr><th scope=row>482</th><td>EADS                     </td><td>31.41</td><td> -0.31</td><td>  47.82</td></tr>\n",
              "\t<tr><th scope=row>488</th><td>Duke Energy              </td><td>21.58</td><td> -1.16</td><td>  54.99</td></tr>\n",
              "\t<tr><th scope=row>494</th><td>Abbey National           </td><td>15.28</td><td> -1.93</td><td> 331.21</td></tr>\n",
              "\t<tr><th scope=row>500</th><td>Commerzbank              </td><td>22.43</td><td> -0.31</td><td> 437.86</td></tr>\n",
              "\t<tr><th scope=row>524</th><td>Fujitsu                  </td><td>39.06</td><td> -1.03</td><td>  33.77</td></tr>\n",
              "\t<tr><th scope=row>529</th><td>Ahold                    </td><td>70.57</td><td> -1.27</td><td>  25.51</td></tr>\n",
              "\t<tr><th scope=row>535</th><td>Loews                    </td><td>16.10</td><td> -0.72</td><td>  77.79</td></tr>\n",
              "\t<tr><th scope=row>⋮</th><td>⋮</td><td>⋮</td><td>⋮</td><td>⋮</td></tr>\n",
              "\t<tr><th scope=row>1863</th><td>International Steel Group</td><td>3.15</td><td>-0.01</td><td> 2.41</td></tr>\n",
              "\t<tr><th scope=row>1865</th><td>Siam Commercial Bank     </td><td>0.95</td><td>-0.29</td><td>15.67</td></tr>\n",
              "\t<tr><th scope=row>1868</th><td>Woodside Petroleum       </td><td>1.26</td><td>-0.05</td><td> 2.81</td></tr>\n",
              "\t<tr><th scope=row>1875</th><td>MyTravel Group           </td><td>6.97</td><td>-1.52</td><td> 2.55</td></tr>\n",
              "\t<tr><th scope=row>1880</th><td>Nisshin Steel            </td><td>3.49</td><td>-0.02</td><td> 5.22</td></tr>\n",
              "\t<tr><th scope=row>1885</th><td>Vishay Intertech         </td><td>2.06</td><td>-0.11</td><td> 4.50</td></tr>\n",
              "\t<tr><th scope=row>1887</th><td>SPAR Handels             </td><td>6.84</td><td>-0.40</td><td> 1.64</td></tr>\n",
              "\t<tr><th scope=row>1890</th><td>Sierra Pacific Res       </td><td>2.81</td><td>-0.14</td><td> 6.95</td></tr>\n",
              "\t<tr><th scope=row>1891</th><td>Advantest                </td><td>0.83</td><td>-0.11</td><td> 2.13</td></tr>\n",
              "\t<tr><th scope=row>1892</th><td>Farmers Bank of China    </td><td>0.58</td><td>-0.33</td><td>14.89</td></tr>\n",
              "\t<tr><th scope=row>1897</th><td>Towa Bank                </td><td>0.30</td><td>-0.11</td><td>14.70</td></tr>\n",
              "\t<tr><th scope=row>1905</th><td>Research In Motion       </td><td>0.32</td><td>-0.16</td><td> 0.86</td></tr>\n",
              "\t<tr><th scope=row>1906</th><td>Nippon Steel Trading     </td><td>6.56</td><td>-0.01</td><td> 2.52</td></tr>\n",
              "\t<tr><th scope=row>1910</th><td>Higashi-Nippon Bank      </td><td>0.36</td><td>-0.06</td><td>14.24</td></tr>\n",
              "\t<tr><th scope=row>1914</th><td>WMC Resources            </td><td>0.82</td><td>-0.02</td><td> 4.08</td></tr>\n",
              "\t<tr><th scope=row>1927</th><td>FIBI Holding             </td><td>0.66</td><td>-0.01</td><td>13.76</td></tr>\n",
              "\t<tr><th scope=row>1928</th><td>Snow Brand Milk          </td><td>6.15</td><td>-0.23</td><td> 2.14</td></tr>\n",
              "\t<tr><th scope=row>1929</th><td>JDS Uniphase             </td><td>0.63</td><td>-0.28</td><td> 2.45</td></tr>\n",
              "\t<tr><th scope=row>1935</th><td>Agere Systems            </td><td>1.92</td><td>-0.23</td><td> 2.31</td></tr>\n",
              "\t<tr><th scope=row>1949</th><td>Metro-Goldwyn-Mayer      </td><td>1.96</td><td>-0.16</td><td> 4.21</td></tr>\n",
              "\t<tr><th scope=row>1950</th><td>Ehime Bank               </td><td>0.35</td><td>-0.16</td><td>13.10</td></tr>\n",
              "\t<tr><th scope=row>1958</th><td>Laurus                   </td><td>5.75</td><td>-0.06</td><td> 1.30</td></tr>\n",
              "\t<tr><th scope=row>1966</th><td>Aquila                   </td><td>2.38</td><td>-1.72</td><td> 7.67</td></tr>\n",
              "\t<tr><th scope=row>1980</th><td>Petroplus Intl           </td><td>5.48</td><td>-0.03</td><td> 1.50</td></tr>\n",
              "\t<tr><th scope=row>1981</th><td>CSN-Cia Siderurgica      </td><td>1.46</td><td>-0.06</td><td> 4.22</td></tr>\n",
              "\t<tr><th scope=row>1982</th><td>Sumitomo Forestry        </td><td>5.46</td><td>-0.13</td><td> 2.92</td></tr>\n",
              "\t<tr><th scope=row>1983</th><td>Bharti Tele-Ventures     </td><td>0.64</td><td>-0.04</td><td> 1.91</td></tr>\n",
              "\t<tr><th scope=row>1993</th><td>Sogecable                </td><td>1.03</td><td>-0.06</td><td> 1.53</td></tr>\n",
              "\t<tr><th scope=row>1994</th><td>Mobilcom                 </td><td>2.16</td><td>-3.62</td><td> 8.67</td></tr>\n",
              "\t<tr><th scope=row>1997</th><td>Yokogawa Electric        </td><td>2.78</td><td>-0.22</td><td> 2.96</td></tr>\n",
              "</tbody>\n",
              "</table>\n"
            ]
          },
          "metadata": {
            "tags": []
          }
        }
      ]
    },
    {
      "cell_type": "markdown",
      "metadata": {
        "id": "iN6Aecr72Xsh",
        "colab_type": "text"
      },
      "source": [
        "Fill the blanks to find the number of companies in each country with profits above 5 billion US dollars"
      ]
    },
    {
      "cell_type": "code",
      "metadata": {
        "id": "GdKNAiOO2ZZ7",
        "colab_type": "code",
        "outputId": "6c702bc8-a615-4a9d-82e2-36aaba6c942e",
        "colab": {
          "base_uri": "https://localhost:8080/",
          "height": 211
        }
      },
      "source": [
        "forbes3 <- forbes[forbes$profits >= 5, c(\"name\",\"country\",\"profits\")]\n",
        "table(forbes3[,\"country\"])"
      ],
      "execution_count": 0,
      "outputs": [
        {
          "output_type": "display_data",
          "data": {
            "text/plain": [
              "\n",
              "                      China                      France \n",
              "                          1                           1 \n",
              "                    Germany                       Japan \n",
              "                          1                           1 \n",
              "Netherlands/ United Kingdom                 South Korea \n",
              "                          1                           1 \n",
              "                Switzerland              United Kingdom \n",
              "                          3                           3 \n",
              "              United States \n",
              "                         20 "
            ]
          },
          "metadata": {
            "tags": []
          }
        }
      ]
    },
    {
      "cell_type": "markdown",
      "metadata": {
        "id": "O1i26j1_wZ7x",
        "colab_type": "text"
      },
      "source": [
        "Find three companies with largest sale volumne:\n"
      ]
    },
    {
      "cell_type": "code",
      "metadata": {
        "id": "ew8W4085we18",
        "colab_type": "code",
        "outputId": "9fb30f48-997c-4ad0-91f0-2ce5ccf74d40",
        "colab": {
          "base_uri": "https://localhost:8080/",
          "height": 51
        }
      },
      "source": [
        "companies <- forbes$name  # or companies <- forbes[,\"name\"]\n",
        "#Note to self: This works because order returns the INDEX of the rows so when\n",
        "#you call order_sales later it gives the index of the companies to select \n",
        "order_sales <- order(forbes$sales, decreasing=T)\n",
        "#company names\n",
        "companies[order_sales[1:3]]\n",
        "#company sales\n",
        "head(sort(forbes$sales,decreasing=T),n=3)"
      ],
      "execution_count": 0,
      "outputs": [
        {
          "output_type": "display_data",
          "data": {
            "text/plain": [
              "[1] \"Wal-Mart Stores\" \"BP\"              \"ExxonMobil\"     "
            ],
            "text/latex": "\\begin{enumerate*}\n\\item 'Wal-Mart Stores'\n\\item 'BP'\n\\item 'ExxonMobil'\n\\end{enumerate*}\n",
            "text/markdown": "1. 'Wal-Mart Stores'\n2. 'BP'\n3. 'ExxonMobil'\n\n\n",
            "text/html": [
              "<style>\n",
              ".list-inline {list-style: none; margin:0; padding: 0}\n",
              ".list-inline>li {display: inline-block}\n",
              ".list-inline>li:not(:last-child)::after {content: \"\\00b7\"; padding: 0 .5ex}\n",
              "</style>\n",
              "<ol class=list-inline><li>'Wal-Mart Stores'</li><li>'BP'</li><li>'ExxonMobil'</li></ol>\n"
            ]
          },
          "metadata": {
            "tags": []
          }
        },
        {
          "output_type": "display_data",
          "data": {
            "text/plain": [
              "[1] 256.33 232.57 222.88"
            ],
            "text/latex": "\\begin{enumerate*}\n\\item 256.33\n\\item 232.57\n\\item 222.88\n\\end{enumerate*}\n",
            "text/markdown": "1. 256.33\n2. 232.57\n3. 222.88\n\n\n",
            "text/html": [
              "<style>\n",
              ".list-inline {list-style: none; margin:0; padding: 0}\n",
              ".list-inline>li {display: inline-block}\n",
              ".list-inline>li:not(:last-child)::after {content: \"\\00b7\"; padding: 0 .5ex}\n",
              "</style>\n",
              "<ol class=list-inline><li>256.33</li><li>232.57</li><li>222.88</li></ol>\n"
            ]
          },
          "metadata": {
            "tags": []
          }
        }
      ]
    },
    {
      "cell_type": "markdown",
      "metadata": {
        "id": "64W1m4j62C_K",
        "colab_type": "text"
      },
      "source": [
        "Fill the blanks below to find first 50 companies in the Forbes dataset with the highest profit\n"
      ]
    },
    {
      "cell_type": "code",
      "metadata": {
        "id": "wdNpeHhL2I8I",
        "colab_type": "code",
        "outputId": "d3a5a578-43a2-4f78-d6e6-3a177c634ed9",
        "colab": {
          "base_uri": "https://localhost:8080/",
          "height": 120
        }
      },
      "source": [
        "companies <- forbes$name   \n",
        "order_profit <- order(forbes$profits, decreasing=T)   # order() returns the indices of the vector in sorted order\n",
        "companies[order_profit[1:50]]\n",
        "head(sort(forbes$profits,decreasing=T),n=50)"
      ],
      "execution_count": 0,
      "outputs": [
        {
          "output_type": "display_data",
          "data": {
            "text/plain": [
              " [1] \"ExxonMobil\"              \"Citigroup\"              \n",
              " [3] \"General Electric\"        \"Bank of America\"        \n",
              " [5] \"BP\"                      \"Freddie Mac\"            \n",
              " [7] \"Altria Group\"            \"Wal-Mart Stores\"        \n",
              " [9] \"Microsoft\"               \"Total\"                  \n",
              "[11] \"Royal Dutch/Shell Group\" \"Toyota Motor\"           \n",
              "[13] \"IBM\"                     \"ChevronTexaco\"          \n",
              "[15] \"Merck & Co\"              \"Berkshire Hathaway\"     \n",
              "[17] \"Johnson & Johnson\"       \"HSBC Group\"             \n",
              "[19] \"Fannie Mae\"              \"American Intl Group\"    \n",
              "[21] \"GlaxoSmithKline\"         \"Pfizer\"                 \n",
              "[23] \"Wells Fargo\"             \"SBC Communications\"     \n",
              "[25] \"Samsung Electronics\"     \"Procter & Gamble\"       \n",
              "[27] \"PetroChina\"              \"Intel\"                  \n",
              "[29] \"Nestle\"                  \"Novartis Group\"         \n",
              "[31] \"UBS\"                     \"DaimlerChrysler\"        \n",
              "[33] \"Royal Bank of Scotland\"  \"Barclays\"               \n",
              "[35] \"ConocoPhillips\"          \"ENI\"                    \n",
              "[37] \"ING Group\"               \"BNP Paribas\"            \n",
              "[39] \"Nokia\"                   \"JP Morgan Chase\"        \n",
              "[41] \"Qwest Communications\"    \"Cisco Systems\"          \n",
              "[43] \"Coca-Cola\"               \"Wachovia\"               \n",
              "[45] \"BT Group\"                \"Nissan Motor\"           \n",
              "[47] \"Home Depot\"              \"ABN-Amro Holding\"       \n",
              "[49] \"China Mobile (HK) Hong\"  \"Washington Mutual\"      "
            ],
            "text/latex": "\\begin{enumerate*}\n\\item 'ExxonMobil'\n\\item 'Citigroup'\n\\item 'General Electric'\n\\item 'Bank of America'\n\\item 'BP'\n\\item 'Freddie Mac'\n\\item 'Altria Group'\n\\item 'Wal-Mart Stores'\n\\item 'Microsoft'\n\\item 'Total'\n\\item 'Royal Dutch/Shell Group'\n\\item 'Toyota Motor'\n\\item 'IBM'\n\\item 'ChevronTexaco'\n\\item 'Merck \\& Co'\n\\item 'Berkshire Hathaway'\n\\item 'Johnson \\& Johnson'\n\\item 'HSBC Group'\n\\item 'Fannie Mae'\n\\item 'American Intl Group'\n\\item 'GlaxoSmithKline'\n\\item 'Pfizer'\n\\item 'Wells Fargo'\n\\item 'SBC Communications'\n\\item 'Samsung Electronics'\n\\item 'Procter \\& Gamble'\n\\item 'PetroChina'\n\\item 'Intel'\n\\item 'Nestle'\n\\item 'Novartis Group'\n\\item 'UBS'\n\\item 'DaimlerChrysler'\n\\item 'Royal Bank of Scotland'\n\\item 'Barclays'\n\\item 'ConocoPhillips'\n\\item 'ENI'\n\\item 'ING Group'\n\\item 'BNP Paribas'\n\\item 'Nokia'\n\\item 'JP Morgan Chase'\n\\item 'Qwest Communications'\n\\item 'Cisco Systems'\n\\item 'Coca-Cola'\n\\item 'Wachovia'\n\\item 'BT Group'\n\\item 'Nissan Motor'\n\\item 'Home Depot'\n\\item 'ABN-Amro Holding'\n\\item 'China Mobile (HK) Hong'\n\\item 'Washington Mutual'\n\\end{enumerate*}\n",
            "text/markdown": "1. 'ExxonMobil'\n2. 'Citigroup'\n3. 'General Electric'\n4. 'Bank of America'\n5. 'BP'\n6. 'Freddie Mac'\n7. 'Altria Group'\n8. 'Wal-Mart Stores'\n9. 'Microsoft'\n10. 'Total'\n11. 'Royal Dutch/Shell Group'\n12. 'Toyota Motor'\n13. 'IBM'\n14. 'ChevronTexaco'\n15. 'Merck &amp; Co'\n16. 'Berkshire Hathaway'\n17. 'Johnson &amp; Johnson'\n18. 'HSBC Group'\n19. 'Fannie Mae'\n20. 'American Intl Group'\n21. 'GlaxoSmithKline'\n22. 'Pfizer'\n23. 'Wells Fargo'\n24. 'SBC Communications'\n25. 'Samsung Electronics'\n26. 'Procter &amp; Gamble'\n27. 'PetroChina'\n28. 'Intel'\n29. 'Nestle'\n30. 'Novartis Group'\n31. 'UBS'\n32. 'DaimlerChrysler'\n33. 'Royal Bank of Scotland'\n34. 'Barclays'\n35. 'ConocoPhillips'\n36. 'ENI'\n37. 'ING Group'\n38. 'BNP Paribas'\n39. 'Nokia'\n40. 'JP Morgan Chase'\n41. 'Qwest Communications'\n42. 'Cisco Systems'\n43. 'Coca-Cola'\n44. 'Wachovia'\n45. 'BT Group'\n46. 'Nissan Motor'\n47. 'Home Depot'\n48. 'ABN-Amro Holding'\n49. 'China Mobile (HK) Hong'\n50. 'Washington Mutual'\n\n\n",
            "text/html": [
              "<style>\n",
              ".list-inline {list-style: none; margin:0; padding: 0}\n",
              ".list-inline>li {display: inline-block}\n",
              ".list-inline>li:not(:last-child)::after {content: \"\\00b7\"; padding: 0 .5ex}\n",
              "</style>\n",
              "<ol class=list-inline><li>'ExxonMobil'</li><li>'Citigroup'</li><li>'General Electric'</li><li>'Bank of America'</li><li>'BP'</li><li>'Freddie Mac'</li><li>'Altria Group'</li><li>'Wal-Mart Stores'</li><li>'Microsoft'</li><li>'Total'</li><li>'Royal Dutch/Shell Group'</li><li>'Toyota Motor'</li><li>'IBM'</li><li>'ChevronTexaco'</li><li>'Merck &amp; Co'</li><li>'Berkshire Hathaway'</li><li>'Johnson &amp; Johnson'</li><li>'HSBC Group'</li><li>'Fannie Mae'</li><li>'American Intl Group'</li><li>'GlaxoSmithKline'</li><li>'Pfizer'</li><li>'Wells Fargo'</li><li>'SBC Communications'</li><li>'Samsung Electronics'</li><li>'Procter &amp; Gamble'</li><li>'PetroChina'</li><li>'Intel'</li><li>'Nestle'</li><li>'Novartis Group'</li><li>'UBS'</li><li>'DaimlerChrysler'</li><li>'Royal Bank of Scotland'</li><li>'Barclays'</li><li>'ConocoPhillips'</li><li>'ENI'</li><li>'ING Group'</li><li>'BNP Paribas'</li><li>'Nokia'</li><li>'JP Morgan Chase'</li><li>'Qwest Communications'</li><li>'Cisco Systems'</li><li>'Coca-Cola'</li><li>'Wachovia'</li><li>'BT Group'</li><li>'Nissan Motor'</li><li>'Home Depot'</li><li>'ABN-Amro Holding'</li><li>'China Mobile (HK) Hong'</li><li>'Washington Mutual'</li></ol>\n"
            ]
          },
          "metadata": {
            "tags": []
          }
        },
        {
          "output_type": "display_data",
          "data": {
            "text/plain": [
              " [1] 20.96 17.85 15.59 10.81 10.27 10.09  9.20  9.05  8.88  8.84  8.40  7.99\n",
              "[13]  7.58  7.43  7.33  6.95  6.74  6.66  6.48  6.46  6.34  6.20  6.20  5.97\n",
              "[25]  5.95  5.81  5.67  5.64  5.48  5.40  5.15  5.12  4.95  4.90  4.83  4.82\n",
              "[37]  4.73  4.73  4.52  4.47  4.45  4.35  4.35  4.25  4.24  4.19  4.04  3.98\n",
              "[49]  3.96  3.88"
            ],
            "text/latex": "\\begin{enumerate*}\n\\item 20.96\n\\item 17.85\n\\item 15.59\n\\item 10.81\n\\item 10.27\n\\item 10.09\n\\item 9.2\n\\item 9.05\n\\item 8.88\n\\item 8.84\n\\item 8.4\n\\item 7.99\n\\item 7.58\n\\item 7.43\n\\item 7.33\n\\item 6.95\n\\item 6.74\n\\item 6.66\n\\item 6.48\n\\item 6.46\n\\item 6.34\n\\item 6.2\n\\item 6.2\n\\item 5.97\n\\item 5.95\n\\item 5.81\n\\item 5.67\n\\item 5.64\n\\item 5.48\n\\item 5.4\n\\item 5.15\n\\item 5.12\n\\item 4.95\n\\item 4.9\n\\item 4.83\n\\item 4.82\n\\item 4.73\n\\item 4.73\n\\item 4.52\n\\item 4.47\n\\item 4.45\n\\item 4.35\n\\item 4.35\n\\item 4.25\n\\item 4.24\n\\item 4.19\n\\item 4.04\n\\item 3.98\n\\item 3.96\n\\item 3.88\n\\end{enumerate*}\n",
            "text/markdown": "1. 20.96\n2. 17.85\n3. 15.59\n4. 10.81\n5. 10.27\n6. 10.09\n7. 9.2\n8. 9.05\n9. 8.88\n10. 8.84\n11. 8.4\n12. 7.99\n13. 7.58\n14. 7.43\n15. 7.33\n16. 6.95\n17. 6.74\n18. 6.66\n19. 6.48\n20. 6.46\n21. 6.34\n22. 6.2\n23. 6.2\n24. 5.97\n25. 5.95\n26. 5.81\n27. 5.67\n28. 5.64\n29. 5.48\n30. 5.4\n31. 5.15\n32. 5.12\n33. 4.95\n34. 4.9\n35. 4.83\n36. 4.82\n37. 4.73\n38. 4.73\n39. 4.52\n40. 4.47\n41. 4.45\n42. 4.35\n43. 4.35\n44. 4.25\n45. 4.24\n46. 4.19\n47. 4.04\n48. 3.98\n49. 3.96\n50. 3.88\n\n\n",
            "text/html": [
              "<style>\n",
              ".list-inline {list-style: none; margin:0; padding: 0}\n",
              ".list-inline>li {display: inline-block}\n",
              ".list-inline>li:not(:last-child)::after {content: \"\\00b7\"; padding: 0 .5ex}\n",
              "</style>\n",
              "<ol class=list-inline><li>20.96</li><li>17.85</li><li>15.59</li><li>10.81</li><li>10.27</li><li>10.09</li><li>9.2</li><li>9.05</li><li>8.88</li><li>8.84</li><li>8.4</li><li>7.99</li><li>7.58</li><li>7.43</li><li>7.33</li><li>6.95</li><li>6.74</li><li>6.66</li><li>6.48</li><li>6.46</li><li>6.34</li><li>6.2</li><li>6.2</li><li>5.97</li><li>5.95</li><li>5.81</li><li>5.67</li><li>5.64</li><li>5.48</li><li>5.4</li><li>5.15</li><li>5.12</li><li>4.95</li><li>4.9</li><li>4.83</li><li>4.82</li><li>4.73</li><li>4.73</li><li>4.52</li><li>4.47</li><li>4.45</li><li>4.35</li><li>4.35</li><li>4.25</li><li>4.24</li><li>4.19</li><li>4.04</li><li>3.98</li><li>3.96</li><li>3.88</li></ol>\n"
            ]
          },
          "metadata": {
            "tags": []
          }
        }
      ]
    },
    {
      "cell_type": "markdown",
      "metadata": {
        "id": "qPOuTabFw5RA",
        "colab_type": "text"
      },
      "source": [
        "####4.2.2 Subsetting by row: use `subset()` function\n",
        "Fill the blanks below to find all German companies with negative profit\n"
      ]
    },
    {
      "cell_type": "code",
      "metadata": {
        "id": "8Mn7AE7Rw_uB",
        "colab_type": "code",
        "outputId": "59fd030a-10f0-4925-a1ec-bd22ebac338a",
        "colab": {
          "base_uri": "https://localhost:8080/",
          "height": 348
        }
      },
      "source": [
        "#My solution\n",
        "#Germanycomp <- subset(forbes, forbes$country == \"Germany\" & forbes$profits < 0)\n",
        "#Germanycomp[  ,c(\"name\",\"sales\",\"profits\",\"assets\")]\n",
        "Germanycomp <- subset(forbes, forbes$country == \"Germany\")\n",
        "Germanycomp[Germanycomp$profits < 0  ,c(\"name\",\"sales\",\"profits\",\"assets\")]"
      ],
      "execution_count": 0,
      "outputs": [
        {
          "output_type": "display_data",
          "data": {
            "text/plain": [
              "     name                    sales profits assets\n",
              "350  Allianz Worldwide       96.88  -1.23  851.24\n",
              "364  Deutsche Telekom        56.40 -25.83  132.01\n",
              "397  E.ON                    37.95  -0.73  115.57\n",
              "431  HVB-HypoVereinsbank     40.52  -0.87  705.36\n",
              "500  Commerzbank             22.43  -0.31  437.86\n",
              "798  Infineon Technologies    7.18  -0.51   11.79\n",
              "869  BHW Holding              7.46  -0.38  117.96\n",
              "926  Bankgesellschaft Berlin  9.43  -0.74  182.69\n",
              "1034 W&W-Wustenrot            7.57  -0.08   56.44\n",
              "1187 mg technologies          8.54  -0.13    6.45\n",
              "1477 Nurnberger Beteiligungs  3.00  -0.03   15.97\n",
              "1887 SPAR Handels             6.84  -0.40    1.64\n",
              "1994 Mobilcom                 2.16  -3.62    8.67"
            ],
            "text/latex": "A data.frame: 13 × 4\n\\begin{tabular}{r|llll}\n  & name & sales & profits & assets\\\\\n  & <chr> & <dbl> & <dbl> & <dbl>\\\\\n\\hline\n\t350 & Allianz Worldwide       & 96.88 &  -1.23 & 851.24\\\\\n\t364 & Deutsche Telekom        & 56.40 & -25.83 & 132.01\\\\\n\t397 & E.ON                    & 37.95 &  -0.73 & 115.57\\\\\n\t431 & HVB-HypoVereinsbank     & 40.52 &  -0.87 & 705.36\\\\\n\t500 & Commerzbank             & 22.43 &  -0.31 & 437.86\\\\\n\t798 & Infineon Technologies   &  7.18 &  -0.51 &  11.79\\\\\n\t869 & BHW Holding             &  7.46 &  -0.38 & 117.96\\\\\n\t926 & Bankgesellschaft Berlin &  9.43 &  -0.74 & 182.69\\\\\n\t1034 & W\\&W-Wustenrot           &  7.57 &  -0.08 &  56.44\\\\\n\t1187 & mg technologies         &  8.54 &  -0.13 &   6.45\\\\\n\t1477 & Nurnberger Beteiligungs &  3.00 &  -0.03 &  15.97\\\\\n\t1887 & SPAR Handels            &  6.84 &  -0.40 &   1.64\\\\\n\t1994 & Mobilcom                &  2.16 &  -3.62 &   8.67\\\\\n\\end{tabular}\n",
            "text/markdown": "\nA data.frame: 13 × 4\n\n| <!--/--> | name &lt;chr&gt; | sales &lt;dbl&gt; | profits &lt;dbl&gt; | assets &lt;dbl&gt; |\n|---|---|---|---|---|\n| 350 | Allianz Worldwide       | 96.88 |  -1.23 | 851.24 |\n| 364 | Deutsche Telekom        | 56.40 | -25.83 | 132.01 |\n| 397 | E.ON                    | 37.95 |  -0.73 | 115.57 |\n| 431 | HVB-HypoVereinsbank     | 40.52 |  -0.87 | 705.36 |\n| 500 | Commerzbank             | 22.43 |  -0.31 | 437.86 |\n| 798 | Infineon Technologies   |  7.18 |  -0.51 |  11.79 |\n| 869 | BHW Holding             |  7.46 |  -0.38 | 117.96 |\n| 926 | Bankgesellschaft Berlin |  9.43 |  -0.74 | 182.69 |\n| 1034 | W&amp;W-Wustenrot           |  7.57 |  -0.08 |  56.44 |\n| 1187 | mg technologies         |  8.54 |  -0.13 |   6.45 |\n| 1477 | Nurnberger Beteiligungs |  3.00 |  -0.03 |  15.97 |\n| 1887 | SPAR Handels            |  6.84 |  -0.40 |   1.64 |\n| 1994 | Mobilcom                |  2.16 |  -3.62 |   8.67 |\n\n",
            "text/html": [
              "<table>\n",
              "<caption>A data.frame: 13 × 4</caption>\n",
              "<thead>\n",
              "\t<tr><th></th><th scope=col>name</th><th scope=col>sales</th><th scope=col>profits</th><th scope=col>assets</th></tr>\n",
              "\t<tr><th></th><th scope=col>&lt;chr&gt;</th><th scope=col>&lt;dbl&gt;</th><th scope=col>&lt;dbl&gt;</th><th scope=col>&lt;dbl&gt;</th></tr>\n",
              "</thead>\n",
              "<tbody>\n",
              "\t<tr><th scope=row>350</th><td>Allianz Worldwide      </td><td>96.88</td><td> -1.23</td><td>851.24</td></tr>\n",
              "\t<tr><th scope=row>364</th><td>Deutsche Telekom       </td><td>56.40</td><td>-25.83</td><td>132.01</td></tr>\n",
              "\t<tr><th scope=row>397</th><td>E.ON                   </td><td>37.95</td><td> -0.73</td><td>115.57</td></tr>\n",
              "\t<tr><th scope=row>431</th><td>HVB-HypoVereinsbank    </td><td>40.52</td><td> -0.87</td><td>705.36</td></tr>\n",
              "\t<tr><th scope=row>500</th><td>Commerzbank            </td><td>22.43</td><td> -0.31</td><td>437.86</td></tr>\n",
              "\t<tr><th scope=row>798</th><td>Infineon Technologies  </td><td> 7.18</td><td> -0.51</td><td> 11.79</td></tr>\n",
              "\t<tr><th scope=row>869</th><td>BHW Holding            </td><td> 7.46</td><td> -0.38</td><td>117.96</td></tr>\n",
              "\t<tr><th scope=row>926</th><td>Bankgesellschaft Berlin</td><td> 9.43</td><td> -0.74</td><td>182.69</td></tr>\n",
              "\t<tr><th scope=row>1034</th><td><span style=white-space:pre-wrap>W&amp;W-Wustenrot          </span></td><td> 7.57</td><td> -0.08</td><td> 56.44</td></tr>\n",
              "\t<tr><th scope=row>1187</th><td>mg technologies        </td><td> 8.54</td><td> -0.13</td><td>  6.45</td></tr>\n",
              "\t<tr><th scope=row>1477</th><td>Nurnberger Beteiligungs</td><td> 3.00</td><td> -0.03</td><td> 15.97</td></tr>\n",
              "\t<tr><th scope=row>1887</th><td>SPAR Handels           </td><td> 6.84</td><td> -0.40</td><td>  1.64</td></tr>\n",
              "\t<tr><th scope=row>1994</th><td>Mobilcom               </td><td> 2.16</td><td> -3.62</td><td>  8.67</td></tr>\n",
              "</tbody>\n",
              "</table>\n"
            ]
          },
          "metadata": {
            "tags": []
          }
        }
      ]
    },
    {
      "cell_type": "markdown",
      "metadata": {
        "colab_type": "text",
        "id": "3k8ejtrGWKHv"
      },
      "source": [
        "##Solution\n",
        "Find all German companies with negative profit"
      ]
    },
    {
      "cell_type": "code",
      "metadata": {
        "id": "XyUxuKBRWSg4",
        "colab_type": "code",
        "colab": {}
      },
      "source": [
        "Germanycomp <- subset(forbes, country == \"Germany\")\n",
        "Germanycomp[Germanycomp$profits < 0,c(\"name\",\"sales\",\"profits\",\"assets\")]"
      ],
      "execution_count": 0,
      "outputs": []
    },
    {
      "cell_type": "markdown",
      "metadata": {
        "colab_type": "text",
        "id": "wercZnudXaK-"
      },
      "source": [
        "Find the number of companies in each country with profits above 5 billion US dollars"
      ]
    },
    {
      "cell_type": "code",
      "metadata": {
        "id": "5KAik9JcXmEZ",
        "colab_type": "code",
        "outputId": "da146786-d01a-459f-ad4d-55bd5bf9825d",
        "colab": {
          "base_uri": "https://localhost:8080/",
          "height": 211
        }
      },
      "source": [
        "forbes3 <- forbes[forbes$profits > 5,c(\"name\",\"country\",\"profits\")]\n",
        "table(forbes3[,\"country\"])"
      ],
      "execution_count": 0,
      "outputs": [
        {
          "output_type": "display_data",
          "data": {
            "text/plain": [
              "\n",
              "                      China                      France \n",
              "                          1                           1 \n",
              "                    Germany                       Japan \n",
              "                          1                           1 \n",
              "Netherlands/ United Kingdom                 South Korea \n",
              "                          1                           1 \n",
              "                Switzerland              United Kingdom \n",
              "                          3                           3 \n",
              "              United States \n",
              "                         20 "
            ]
          },
          "metadata": {
            "tags": []
          }
        }
      ]
    },
    {
      "cell_type": "markdown",
      "metadata": {
        "colab_type": "text",
        "id": "JPKhOyPtXWMa"
      },
      "source": [
        "Find first 50 companies in the Forbes dataset with the highest profit\n"
      ]
    },
    {
      "cell_type": "code",
      "metadata": {
        "id": "5NhsCOrpXfbz",
        "colab_type": "code",
        "outputId": "188aa46b-a736-44f4-9824-44a5c3b8a1eb",
        "colab": {
          "base_uri": "https://localhost:8080/",
          "height": 120
        }
      },
      "source": [
        "companies <- forbes$name   \n",
        "order_profit <- order(forbes$profits, decreasing=T)   # order() returns the indices of the vector in sorted order\n",
        "companies[order_profit[1:50]]\n",
        "head(sort(forbes$profits,decreasing=T),n=50)"
      ],
      "execution_count": 0,
      "outputs": [
        {
          "output_type": "display_data",
          "data": {
            "text/plain": [
              " [1] \"ExxonMobil\"              \"Citigroup\"              \n",
              " [3] \"General Electric\"        \"Bank of America\"        \n",
              " [5] \"BP\"                      \"Freddie Mac\"            \n",
              " [7] \"Altria Group\"            \"Wal-Mart Stores\"        \n",
              " [9] \"Microsoft\"               \"Total\"                  \n",
              "[11] \"Royal Dutch/Shell Group\" \"Toyota Motor\"           \n",
              "[13] \"IBM\"                     \"ChevronTexaco\"          \n",
              "[15] \"Merck & Co\"              \"Berkshire Hathaway\"     \n",
              "[17] \"Johnson & Johnson\"       \"HSBC Group\"             \n",
              "[19] \"Fannie Mae\"              \"American Intl Group\"    \n",
              "[21] \"GlaxoSmithKline\"         \"Pfizer\"                 \n",
              "[23] \"Wells Fargo\"             \"SBC Communications\"     \n",
              "[25] \"Samsung Electronics\"     \"Procter & Gamble\"       \n",
              "[27] \"PetroChina\"              \"Intel\"                  \n",
              "[29] \"Nestle\"                  \"Novartis Group\"         \n",
              "[31] \"UBS\"                     \"DaimlerChrysler\"        \n",
              "[33] \"Royal Bank of Scotland\"  \"Barclays\"               \n",
              "[35] \"ConocoPhillips\"          \"ENI\"                    \n",
              "[37] \"ING Group\"               \"BNP Paribas\"            \n",
              "[39] \"Nokia\"                   \"JP Morgan Chase\"        \n",
              "[41] \"Qwest Communications\"    \"Cisco Systems\"          \n",
              "[43] \"Coca-Cola\"               \"Wachovia\"               \n",
              "[45] \"BT Group\"                \"Nissan Motor\"           \n",
              "[47] \"Home Depot\"              \"ABN-Amro Holding\"       \n",
              "[49] \"China Mobile (HK) Hong\"  \"Washington Mutual\"      "
            ],
            "text/latex": "\\begin{enumerate*}\n\\item 'ExxonMobil'\n\\item 'Citigroup'\n\\item 'General Electric'\n\\item 'Bank of America'\n\\item 'BP'\n\\item 'Freddie Mac'\n\\item 'Altria Group'\n\\item 'Wal-Mart Stores'\n\\item 'Microsoft'\n\\item 'Total'\n\\item 'Royal Dutch/Shell Group'\n\\item 'Toyota Motor'\n\\item 'IBM'\n\\item 'ChevronTexaco'\n\\item 'Merck \\& Co'\n\\item 'Berkshire Hathaway'\n\\item 'Johnson \\& Johnson'\n\\item 'HSBC Group'\n\\item 'Fannie Mae'\n\\item 'American Intl Group'\n\\item 'GlaxoSmithKline'\n\\item 'Pfizer'\n\\item 'Wells Fargo'\n\\item 'SBC Communications'\n\\item 'Samsung Electronics'\n\\item 'Procter \\& Gamble'\n\\item 'PetroChina'\n\\item 'Intel'\n\\item 'Nestle'\n\\item 'Novartis Group'\n\\item 'UBS'\n\\item 'DaimlerChrysler'\n\\item 'Royal Bank of Scotland'\n\\item 'Barclays'\n\\item 'ConocoPhillips'\n\\item 'ENI'\n\\item 'ING Group'\n\\item 'BNP Paribas'\n\\item 'Nokia'\n\\item 'JP Morgan Chase'\n\\item 'Qwest Communications'\n\\item 'Cisco Systems'\n\\item 'Coca-Cola'\n\\item 'Wachovia'\n\\item 'BT Group'\n\\item 'Nissan Motor'\n\\item 'Home Depot'\n\\item 'ABN-Amro Holding'\n\\item 'China Mobile (HK) Hong'\n\\item 'Washington Mutual'\n\\end{enumerate*}\n",
            "text/markdown": "1. 'ExxonMobil'\n2. 'Citigroup'\n3. 'General Electric'\n4. 'Bank of America'\n5. 'BP'\n6. 'Freddie Mac'\n7. 'Altria Group'\n8. 'Wal-Mart Stores'\n9. 'Microsoft'\n10. 'Total'\n11. 'Royal Dutch/Shell Group'\n12. 'Toyota Motor'\n13. 'IBM'\n14. 'ChevronTexaco'\n15. 'Merck &amp; Co'\n16. 'Berkshire Hathaway'\n17. 'Johnson &amp; Johnson'\n18. 'HSBC Group'\n19. 'Fannie Mae'\n20. 'American Intl Group'\n21. 'GlaxoSmithKline'\n22. 'Pfizer'\n23. 'Wells Fargo'\n24. 'SBC Communications'\n25. 'Samsung Electronics'\n26. 'Procter &amp; Gamble'\n27. 'PetroChina'\n28. 'Intel'\n29. 'Nestle'\n30. 'Novartis Group'\n31. 'UBS'\n32. 'DaimlerChrysler'\n33. 'Royal Bank of Scotland'\n34. 'Barclays'\n35. 'ConocoPhillips'\n36. 'ENI'\n37. 'ING Group'\n38. 'BNP Paribas'\n39. 'Nokia'\n40. 'JP Morgan Chase'\n41. 'Qwest Communications'\n42. 'Cisco Systems'\n43. 'Coca-Cola'\n44. 'Wachovia'\n45. 'BT Group'\n46. 'Nissan Motor'\n47. 'Home Depot'\n48. 'ABN-Amro Holding'\n49. 'China Mobile (HK) Hong'\n50. 'Washington Mutual'\n\n\n",
            "text/html": [
              "<style>\n",
              ".list-inline {list-style: none; margin:0; padding: 0}\n",
              ".list-inline>li {display: inline-block}\n",
              ".list-inline>li:not(:last-child)::after {content: \"\\00b7\"; padding: 0 .5ex}\n",
              "</style>\n",
              "<ol class=list-inline><li>'ExxonMobil'</li><li>'Citigroup'</li><li>'General Electric'</li><li>'Bank of America'</li><li>'BP'</li><li>'Freddie Mac'</li><li>'Altria Group'</li><li>'Wal-Mart Stores'</li><li>'Microsoft'</li><li>'Total'</li><li>'Royal Dutch/Shell Group'</li><li>'Toyota Motor'</li><li>'IBM'</li><li>'ChevronTexaco'</li><li>'Merck &amp; Co'</li><li>'Berkshire Hathaway'</li><li>'Johnson &amp; Johnson'</li><li>'HSBC Group'</li><li>'Fannie Mae'</li><li>'American Intl Group'</li><li>'GlaxoSmithKline'</li><li>'Pfizer'</li><li>'Wells Fargo'</li><li>'SBC Communications'</li><li>'Samsung Electronics'</li><li>'Procter &amp; Gamble'</li><li>'PetroChina'</li><li>'Intel'</li><li>'Nestle'</li><li>'Novartis Group'</li><li>'UBS'</li><li>'DaimlerChrysler'</li><li>'Royal Bank of Scotland'</li><li>'Barclays'</li><li>'ConocoPhillips'</li><li>'ENI'</li><li>'ING Group'</li><li>'BNP Paribas'</li><li>'Nokia'</li><li>'JP Morgan Chase'</li><li>'Qwest Communications'</li><li>'Cisco Systems'</li><li>'Coca-Cola'</li><li>'Wachovia'</li><li>'BT Group'</li><li>'Nissan Motor'</li><li>'Home Depot'</li><li>'ABN-Amro Holding'</li><li>'China Mobile (HK) Hong'</li><li>'Washington Mutual'</li></ol>\n"
            ]
          },
          "metadata": {
            "tags": []
          }
        },
        {
          "output_type": "display_data",
          "data": {
            "text/plain": [
              " [1] 20.96 17.85 15.59 10.81 10.27 10.09  9.20  9.05  8.88  8.84  8.40  7.99\n",
              "[13]  7.58  7.43  7.33  6.95  6.74  6.66  6.48  6.46  6.34  6.20  6.20  5.97\n",
              "[25]  5.95  5.81  5.67  5.64  5.48  5.40  5.15  5.12  4.95  4.90  4.83  4.82\n",
              "[37]  4.73  4.73  4.52  4.47  4.45  4.35  4.35  4.25  4.24  4.19  4.04  3.98\n",
              "[49]  3.96  3.88"
            ],
            "text/latex": "\\begin{enumerate*}\n\\item 20.96\n\\item 17.85\n\\item 15.59\n\\item 10.81\n\\item 10.27\n\\item 10.09\n\\item 9.2\n\\item 9.05\n\\item 8.88\n\\item 8.84\n\\item 8.4\n\\item 7.99\n\\item 7.58\n\\item 7.43\n\\item 7.33\n\\item 6.95\n\\item 6.74\n\\item 6.66\n\\item 6.48\n\\item 6.46\n\\item 6.34\n\\item 6.2\n\\item 6.2\n\\item 5.97\n\\item 5.95\n\\item 5.81\n\\item 5.67\n\\item 5.64\n\\item 5.48\n\\item 5.4\n\\item 5.15\n\\item 5.12\n\\item 4.95\n\\item 4.9\n\\item 4.83\n\\item 4.82\n\\item 4.73\n\\item 4.73\n\\item 4.52\n\\item 4.47\n\\item 4.45\n\\item 4.35\n\\item 4.35\n\\item 4.25\n\\item 4.24\n\\item 4.19\n\\item 4.04\n\\item 3.98\n\\item 3.96\n\\item 3.88\n\\end{enumerate*}\n",
            "text/markdown": "1. 20.96\n2. 17.85\n3. 15.59\n4. 10.81\n5. 10.27\n6. 10.09\n7. 9.2\n8. 9.05\n9. 8.88\n10. 8.84\n11. 8.4\n12. 7.99\n13. 7.58\n14. 7.43\n15. 7.33\n16. 6.95\n17. 6.74\n18. 6.66\n19. 6.48\n20. 6.46\n21. 6.34\n22. 6.2\n23. 6.2\n24. 5.97\n25. 5.95\n26. 5.81\n27. 5.67\n28. 5.64\n29. 5.48\n30. 5.4\n31. 5.15\n32. 5.12\n33. 4.95\n34. 4.9\n35. 4.83\n36. 4.82\n37. 4.73\n38. 4.73\n39. 4.52\n40. 4.47\n41. 4.45\n42. 4.35\n43. 4.35\n44. 4.25\n45. 4.24\n46. 4.19\n47. 4.04\n48. 3.98\n49. 3.96\n50. 3.88\n\n\n",
            "text/html": [
              "<style>\n",
              ".list-inline {list-style: none; margin:0; padding: 0}\n",
              ".list-inline>li {display: inline-block}\n",
              ".list-inline>li:not(:last-child)::after {content: \"\\00b7\"; padding: 0 .5ex}\n",
              "</style>\n",
              "<ol class=list-inline><li>20.96</li><li>17.85</li><li>15.59</li><li>10.81</li><li>10.27</li><li>10.09</li><li>9.2</li><li>9.05</li><li>8.88</li><li>8.84</li><li>8.4</li><li>7.99</li><li>7.58</li><li>7.43</li><li>7.33</li><li>6.95</li><li>6.74</li><li>6.66</li><li>6.48</li><li>6.46</li><li>6.34</li><li>6.2</li><li>6.2</li><li>5.97</li><li>5.95</li><li>5.81</li><li>5.67</li><li>5.64</li><li>5.48</li><li>5.4</li><li>5.15</li><li>5.12</li><li>4.95</li><li>4.9</li><li>4.83</li><li>4.82</li><li>4.73</li><li>4.73</li><li>4.52</li><li>4.47</li><li>4.45</li><li>4.35</li><li>4.35</li><li>4.25</li><li>4.24</li><li>4.19</li><li>4.04</li><li>3.98</li><li>3.96</li><li>3.88</li></ol>\n"
            ]
          },
          "metadata": {
            "tags": []
          }
        }
      ]
    },
    {
      "cell_type": "markdown",
      "metadata": {
        "id": "B4b0rfY-xgJ4",
        "colab_type": "text"
      },
      "source": [
        "####4.2.3 Subsetting by column\n",
        "Create another dataframe with only numeric variables (i.e. only keep columns of sales, profits, assets and marketvalue)"
      ]
    },
    {
      "cell_type": "code",
      "metadata": {
        "id": "tw_SDfhqxvjD",
        "colab_type": "code",
        "outputId": "b84d906c-c81f-418b-af75-8cd4b6d68be0",
        "colab": {
          "base_uri": "https://localhost:8080/",
          "height": 281
        }
      },
      "source": [
        "#use data.frame function\n",
        "forbes3 <- data.frame(sales=forbes$sales,profits=forbes$profits,\n",
        "           assets=forbes$assets, mvalue=forbes$marketvalue)\n",
        "str(forbes3)\n",
        "\n",
        "# Fill the blank below\n",
        "#use subset() function\n",
        "forbes4 <- subset(forbes,select = c(sales, profits, assets, marketvalue))\n",
        "str(forbes4)\n",
        "\n",
        "#or simply use indexing\n",
        "# Fill the blank below\n",
        "forbes5 <- forbes[1,5:8]\n",
        "str(forbes5)"
      ],
      "execution_count": 0,
      "outputs": [
        {
          "output_type": "stream",
          "text": [
            "'data.frame':\t2000 obs. of  4 variables:\n",
            " $ sales  : num  94.7 134.2 76.7 222.9 232.6 ...\n",
            " $ profits: num  17.85 15.59 6.46 20.96 10.27 ...\n",
            " $ assets : num  1264 627 648 167 178 ...\n",
            " $ mvalue : num  255 329 195 277 174 ...\n",
            "'data.frame':\t2000 obs. of  4 variables:\n",
            " $ sales      : num  94.7 134.2 76.7 222.9 232.6 ...\n",
            " $ profits    : num  17.85 15.59 6.46 20.96 10.27 ...\n",
            " $ assets     : num  1264 627 648 167 178 ...\n",
            " $ marketvalue: num  255 329 195 277 174 ...\n",
            "'data.frame':\t1 obs. of  4 variables:\n",
            " $ sales      : num 94.7\n",
            " $ profits    : num 17.9\n",
            " $ assets     : num 1264\n",
            " $ marketvalue: num 255\n"
          ],
          "name": "stdout"
        }
      ]
    },
    {
      "cell_type": "markdown",
      "metadata": {
        "id": "5bW4-u2B68o9",
        "colab_type": "text"
      },
      "source": [
        "## Solution"
      ]
    },
    {
      "cell_type": "code",
      "metadata": {
        "id": "I_wyATqh6_nY",
        "colab_type": "code",
        "outputId": "8a46fca8-582d-4aaf-f570-1f3c5d11424f",
        "colab": {
          "base_uri": "https://localhost:8080/",
          "height": 281
        }
      },
      "source": [
        "#use data.frame function\n",
        "forbes3 <- data.frame(sales=forbes$sales,profits=forbes$profits,\n",
        "           assets=forbes$assets, mvalue=forbes$marketvalue)\n",
        "str(forbes3)\n",
        "\n",
        "#use subset() function\n",
        "forbes4 <- subset(forbes,select=c(sales,profits,assets,marketvalue))\n",
        "str(forbes4)\n",
        "\n",
        "#or simply use indexing\n",
        "forbes5 <- forbes[,c(5:8)]\n",
        "str(forbes5)"
      ],
      "execution_count": 0,
      "outputs": [
        {
          "output_type": "stream",
          "text": [
            "'data.frame':\t2000 obs. of  4 variables:\n",
            " $ sales  : num  94.7 134.2 76.7 222.9 232.6 ...\n",
            " $ profits: num  17.85 15.59 6.46 20.96 10.27 ...\n",
            " $ assets : num  1264 627 648 167 178 ...\n",
            " $ mvalue : num  255 329 195 277 174 ...\n",
            "'data.frame':\t2000 obs. of  4 variables:\n",
            " $ sales      : num  94.7 134.2 76.7 222.9 232.6 ...\n",
            " $ profits    : num  17.85 15.59 6.46 20.96 10.27 ...\n",
            " $ assets     : num  1264 627 648 167 178 ...\n",
            " $ marketvalue: num  255 329 195 277 174 ...\n",
            "'data.frame':\t2000 obs. of  4 variables:\n",
            " $ sales      : num  94.7 134.2 76.7 222.9 232.6 ...\n",
            " $ profits    : num  17.85 15.59 6.46 20.96 10.27 ...\n",
            " $ assets     : num  1264 627 648 167 178 ...\n",
            " $ marketvalue: num  255 329 195 277 174 ...\n"
          ],
          "name": "stdout"
        }
      ]
    },
    {
      "cell_type": "markdown",
      "metadata": {
        "id": "r1R3wV1IyEQC",
        "colab_type": "text"
      },
      "source": [
        "### 4.3 Preprocessing – Factors\n",
        "* factors are variables in R which take on a limited number of different values; such variables are often referred to as categorical variables\n",
        "\n",
        "\n",
        "Convert characters to (unordered) factors:"
      ]
    },
    {
      "cell_type": "code",
      "metadata": {
        "id": "nioNugIYyMoh",
        "colab_type": "code",
        "outputId": "cfe0cdf4-40b8-4abd-f0c6-48910111431a",
        "colab": {
          "base_uri": "https://localhost:8080/",
          "height": 175
        }
      },
      "source": [
        "forbes$country<-factor(forbes$country)\n",
        "str(forbes)"
      ],
      "execution_count": 0,
      "outputs": [
        {
          "output_type": "stream",
          "text": [
            "'data.frame':\t2000 obs. of  8 variables:\n",
            " $ rank       : int  1 2 3 4 5 6 7 8 9 10 ...\n",
            " $ name       : chr  \"Citigroup\" \"General Electric\" \"American Intl Group\" \"ExxonMobil\" ...\n",
            " $ country    : Factor w/ 61 levels \"Africa\",\"Australia\",..: 60 60 60 60 56 60 56 28 60 60 ...\n",
            " $ category   : chr  \"Banking\" \"Conglomerates\" \"Insurance\" \"Oil & gas operations\" ...\n",
            " $ sales      : num  94.7 134.2 76.7 222.9 232.6 ...\n",
            " $ profits    : num  17.85 15.59 6.46 20.96 10.27 ...\n",
            " $ assets     : num  1264 627 648 167 178 ...\n",
            " $ marketvalue: num  255 329 195 277 174 ...\n"
          ],
          "name": "stdout"
        }
      ]
    },
    {
      "cell_type": "markdown",
      "metadata": {
        "id": "V8RCDhbMyhI8",
        "colab_type": "text"
      },
      "source": [
        "* Small classes could be merged into a larger class. Why?\n",
        "> * For better model performance. E.g. Classification and Regression Trees tend to split using the variables with many categories.\n",
        "> * Actual needs\n",
        "Some categories have just a few subjects"
      ]
    },
    {
      "cell_type": "code",
      "metadata": {
        "id": "v5dHXoPMyruY",
        "colab_type": "code",
        "outputId": "57d7fa04-ca22-437f-a57c-e359328ba2bb",
        "colab": {
          "base_uri": "https://localhost:8080/",
          "height": 1000
        }
      },
      "source": [
        "table(forbes$country)"
      ],
      "execution_count": 0,
      "outputs": [
        {
          "output_type": "display_data",
          "data": {
            "text/plain": [
              "\n",
              "                      Africa                    Australia \n",
              "                           2                           37 \n",
              "   Australia/ United Kingdom                      Austria \n",
              "                           2                            8 \n",
              "                     Bahamas                      Belgium \n",
              "                           0                            9 \n",
              "                     Bermuda                       Brazil \n",
              "                           0                            0 \n",
              "                      Canada               Cayman Islands \n",
              "                          56                            0 \n",
              "                       Chile                        China \n",
              "                           0                           25 \n",
              "              Czech Republic                      Denmark \n",
              "                           2                           10 \n",
              "                     Finland                       France \n",
              "                          11                           63 \n",
              "      France/ United Kingdom                      Germany \n",
              "                           1                           65 \n",
              "                      Greece              Hong Kong/China \n",
              "                          12                           20 \n",
              "                     Hungary                        India \n",
              "                           2                           27 \n",
              "                   Indonesia                      Ireland \n",
              "                           7                            8 \n",
              "                     Islands                       Israel \n",
              "                           1                            8 \n",
              "                       Italy                        Japan \n",
              "                          41                          316 \n",
              "                      Jordan                   Kong/China \n",
              "                           1                            4 \n",
              "                       Korea                      Liberia \n",
              "                           4                            1 \n",
              "                  Luxembourg                     Malaysia \n",
              "                           2                           16 \n",
              "                      Mexico                  Netherlands \n",
              "                          17                           28 \n",
              " Netherlands/ United Kingdom                  New Zealand \n",
              "                           2                            1 \n",
              "                      Norway                     Pakistan \n",
              "                           8                            1 \n",
              "      Panama/ United Kingdom                         Peru \n",
              "                           0                            0 \n",
              "                 Philippines                       Poland \n",
              "                           2                            1 \n",
              "                    Portugal                       Russia \n",
              "                           7                           12 \n",
              "                   Singapore                 South Africa \n",
              "                          16                           15 \n",
              "                 South Korea                        Spain \n",
              "                          45                           29 \n",
              "                      Sweden                  Switzerland \n",
              "                          26                           34 \n",
              "                      Taiwan                     Thailand \n",
              "                          35                            9 \n",
              "                      Turkey               United Kingdom \n",
              "                          12                          137 \n",
              "   United Kingdom/ Australia  United Kingdom/ Netherlands \n",
              "                           1                            1 \n",
              "United Kingdom/ South Africa                United States \n",
              "                           1                          751 \n",
              "                   Venezuela \n",
              "                           1 "
            ]
          },
          "metadata": {
            "tags": []
          }
        }
      ]
    },
    {
      "cell_type": "markdown",
      "metadata": {
        "id": "MbNTKIxHzJDi",
        "colab_type": "text"
      },
      "source": [
        "* Merge small classes into a larger classes\n",
        "\n",
        "Merge all South American countries to \"Venezuela\""
      ]
    },
    {
      "cell_type": "code",
      "metadata": {
        "id": "5W8TxPeBzjHB",
        "colab_type": "code",
        "colab": {}
      },
      "source": [
        "forbes$country[(forbes$country==\"Bahamas\")|(forbes$country==\"Bermuda\")|(forbes$country==\"Brazil\")|(forbes$country==\"Cayman Islands\")|(forbes$country==\"Chile\")|(forbes$country==\"Panama/ United Kingdom\")|(forbes$country==\"Peru\")]<-\"Venezuela\""
      ],
      "execution_count": 0,
      "outputs": []
    },
    {
      "cell_type": "markdown",
      "metadata": {
        "id": "yDJPSXm6zq7z",
        "colab_type": "text"
      },
      "source": [
        "Merge small classes into a larger classes"
      ]
    },
    {
      "cell_type": "code",
      "metadata": {
        "id": "n-TKo6aQz1mg",
        "colab_type": "code",
        "colab": {}
      },
      "source": [
        "forbes$country[(forbes$country==\"Austria\")|(forbes$country==\"Belgium\")|(forbes$country==\"Czech Republic\")|(forbes$country==\"Denmark\")|(forbes$country==\"Finland\")|(forbes$country==\"France\")|(forbes$country==\"Germany\")|(forbes$country==\"Greece\")|(forbes$country==\"Hungary\")|(forbes$country==\"Ireland\")|(forbes$country==\"Italy\")|(forbes$country==\"Luxembourg\")|(forbes$country==\"Netherlands\")|(forbes$country==\"Norway\")|(forbes$country==\"Poland\")|(forbes$country==\"Portugal\")|(forbes$country==\"Russia\")|(forbes$country==\"Spain\")|(forbes$country==\"Sweden\")|(forbes$country==\"Switzerland\")|(forbes$country==\"Turkey\")|(forbes$country==\"France/ United Kingdom\")|(forbes$country==\"United Kingdom/ Netherlands\")|(forbes$country==\"Netherlands/ United Kingdom\")]<-\"United Kingdom\"\n",
        "forbes$country[(forbes$country==\"China\")|(forbes$country==\"Hong Kong/China\")|(forbes$country==\"Indonesia\")|(forbes$country==\"Japan\")|(forbes$country==\"Kong/China\")|(forbes$country==\"Korea\")|(forbes$country==\"Malaysia\")|(forbes$country==\"Philippines\")|(forbes$country==\"Singapore\")|(forbes$country==\"South Korea\")|(forbes$country==\"Taiwan\")]<-\"Thailand\"\n",
        "forbes$country[(forbes$country==\"Africa\")|(forbes$country==\"Australia\")|(forbes$country==\"India\")|(forbes$country==\"Australia/ United Kingdom\")|(forbes$country==\"Islands\")|(forbes$country==\"Israel\")|(forbes$country==\"Jordan\")|(forbes$country==\"Liberia\")|(forbes$country==\"Mexico\")|(forbes$country==\"New Zealand\")|(forbes$country==\"Pakistan\")|(forbes$country==\"South Africa\")|(forbes$country==\"United Kingdom/ Australia\")]<-\"United Kingdom/ South Africa\""
      ],
      "execution_count": 0,
      "outputs": []
    },
    {
      "cell_type": "markdown",
      "metadata": {
        "id": "H6ZanpW70XSj",
        "colab_type": "text"
      },
      "source": [
        "* Drop those levels with zero counts\n",
        "\n",
        "Use `droplevels()` function:\n"
      ]
    },
    {
      "cell_type": "code",
      "metadata": {
        "id": "bXODV7KY0ni4",
        "colab_type": "code",
        "colab": {}
      },
      "source": [
        "forbes$country<-droplevels(forbes$country)"
      ],
      "execution_count": 0,
      "outputs": []
    },
    {
      "cell_type": "markdown",
      "metadata": {
        "id": "_kyU02Vm0yvh",
        "colab_type": "text"
      },
      "source": [
        "Now we can check the new frequency tables:"
      ]
    },
    {
      "cell_type": "code",
      "metadata": {
        "id": "mjjqV7Ui02oH",
        "colab_type": "code",
        "outputId": "b131cdbd-0fbb-413a-ac27-c189477334af",
        "colab": {
          "base_uri": "https://localhost:8080/",
          "height": 140
        }
      },
      "source": [
        "table(forbes$country)"
      ],
      "execution_count": 0,
      "outputs": [
        {
          "output_type": "display_data",
          "data": {
            "text/plain": [
              "\n",
              "                      Canada                     Thailand \n",
              "                          56                          499 \n",
              "              United Kingdom United Kingdom/ South Africa \n",
              "                         531                          115 \n",
              "               United States                    Venezuela \n",
              "                         751                            1 "
            ]
          },
          "metadata": {
            "tags": []
          }
        }
      ]
    },
    {
      "cell_type": "markdown",
      "metadata": {
        "id": "hPwB5uT409eQ",
        "colab_type": "text"
      },
      "source": [
        "* Rename each class"
      ]
    },
    {
      "cell_type": "code",
      "metadata": {
        "id": "CHdjaHLq1AYT",
        "colab_type": "code",
        "outputId": "3294e5b0-7c46-4fa7-a760-d36f2a7f45b0",
        "colab": {
          "base_uri": "https://localhost:8080/",
          "height": 34
        }
      },
      "source": [
        "levels(forbes$country)<-c(\"Canada\",\"East/Southeast Asia\",\"Europe\",\"Other\",\"United States\",\"Latin America\")\n",
        "levels(forbes$country)"
      ],
      "execution_count": 0,
      "outputs": [
        {
          "output_type": "display_data",
          "data": {
            "text/plain": [
              "[1] \"Canada\"              \"East/Southeast Asia\" \"Europe\"             \n",
              "[4] \"Other\"               \"United States\"       \"Latin America\"      "
            ],
            "text/latex": "\\begin{enumerate*}\n\\item 'Canada'\n\\item 'East/Southeast Asia'\n\\item 'Europe'\n\\item 'Other'\n\\item 'United States'\n\\item 'Latin America'\n\\end{enumerate*}\n",
            "text/markdown": "1. 'Canada'\n2. 'East/Southeast Asia'\n3. 'Europe'\n4. 'Other'\n5. 'United States'\n6. 'Latin America'\n\n\n",
            "text/html": [
              "<style>\n",
              ".list-inline {list-style: none; margin:0; padding: 0}\n",
              ".list-inline>li {display: inline-block}\n",
              ".list-inline>li:not(:last-child)::after {content: \"\\00b7\"; padding: 0 .5ex}\n",
              "</style>\n",
              "<ol class=list-inline><li>'Canada'</li><li>'East/Southeast Asia'</li><li>'Europe'</li><li>'Other'</li><li>'United States'</li><li>'Latin America'</li></ol>\n"
            ]
          },
          "metadata": {
            "tags": []
          }
        }
      ]
    },
    {
      "cell_type": "markdown",
      "metadata": {
        "id": "7XZclPFj1ZB7",
        "colab_type": "text"
      },
      "source": [
        "###4.4 Export the cleaned dataset (Important!)\n",
        "* Save forbes to Forbes2000_clean.csv"
      ]
    },
    {
      "cell_type": "code",
      "metadata": {
        "id": "1hyWWnp51kWL",
        "colab_type": "code",
        "outputId": "e84f31ee-c1fa-4083-8234-1108c4fdb5d3",
        "colab": {
          "base_uri": "https://localhost:8080/",
          "height": 34
        }
      },
      "source": [
        "write.csv(forbes,\"Forbes2000_2019_clean.csv\",row.names=FALSE)\n",
        "list.files()"
      ],
      "execution_count": 0,
      "outputs": [
        {
          "output_type": "display_data",
          "data": {
            "text/plain": [
              "[1] \"Forbes2000_2019_clean.csv\" \"Forbes2000_2019.csv\"      \n",
              "[3] \"Forbes2000_2019.csv.zip\"   \"Forbes2000.csv\"           \n",
              "[5] \"Forbes2000.csv.zip\"       "
            ],
            "text/latex": "\\begin{enumerate*}\n\\item 'Forbes2000\\_2019\\_clean.csv'\n\\item 'Forbes2000\\_2019.csv'\n\\item 'Forbes2000\\_2019.csv.zip'\n\\item 'Forbes2000.csv'\n\\item 'Forbes2000.csv.zip'\n\\end{enumerate*}\n",
            "text/markdown": "1. 'Forbes2000_2019_clean.csv'\n2. 'Forbes2000_2019.csv'\n3. 'Forbes2000_2019.csv.zip'\n4. 'Forbes2000.csv'\n5. 'Forbes2000.csv.zip'\n\n\n",
            "text/html": [
              "<style>\n",
              ".list-inline {list-style: none; margin:0; padding: 0}\n",
              ".list-inline>li {display: inline-block}\n",
              ".list-inline>li:not(:last-child)::after {content: \"\\00b7\"; padding: 0 .5ex}\n",
              "</style>\n",
              "<ol class=list-inline><li>'Forbes2000_2019_clean.csv'</li><li>'Forbes2000_2019.csv'</li><li>'Forbes2000_2019.csv.zip'</li><li>'Forbes2000.csv'</li><li>'Forbes2000.csv.zip'</li></ol>\n"
            ]
          },
          "metadata": {
            "tags": []
          }
        }
      ]
    },
    {
      "cell_type": "markdown",
      "metadata": {
        "id": "zreO0WEd2gpD",
        "colab_type": "text"
      },
      "source": [
        "## 5. Data analysis\n"
      ]
    },
    {
      "cell_type": "markdown",
      "metadata": {
        "id": "Osw6lYbu4UUL",
        "colab_type": "text"
      },
      "source": [
        "###5.2 Import the cleaned dataset (Optional)\n",
        "* Subsetting by column\n",
        "Create a dataframe with the clean data"
      ]
    },
    {
      "cell_type": "code",
      "metadata": {
        "id": "9ghM_DIK4ffD",
        "colab_type": "code",
        "outputId": "e52197c1-5f61-4919-8912-0e0352ed095e",
        "colab": {
          "base_uri": "https://localhost:8080/",
          "height": 175
        }
      },
      "source": [
        "forbes_clean <- read.csv(\"Forbes2000_2019_clean.csv\",header=T,stringsAsFactors = T,na.strings =\"?\",sep=\",\")\n",
        "str(forbes_clean)"
      ],
      "execution_count": 120,
      "outputs": [
        {
          "output_type": "stream",
          "text": [
            "'data.frame':\t2000 obs. of  8 variables:\n",
            " $ rank       : int  1 2 3 4 5 6 7 8 9 10 ...\n",
            " $ name       : Factor w/ 2000 levels \"Aareal Bank\",..: 438 747 100 659 311 219 870 1827 663 1921 ...\n",
            " $ country    : Factor w/ 7 levels \"Canada\",\"East/Southeast Asia\",..: 7 7 7 7 3 7 3 2 7 7 ...\n",
            " $ category   : Factor w/ 27 levels \"Aerospace & defense\",..: 2 6 16 19 19 2 2 8 9 20 ...\n",
            " $ sales      : num  94.7 134.2 76.7 222.9 232.6 ...\n",
            " $ profits    : num  17.85 15.59 6.46 20.96 10.27 ...\n",
            " $ assets     : num  1264 627 648 167 178 ...\n",
            " $ marketvalue: num  255 329 195 277 174 ...\n"
          ],
          "name": "stdout"
        }
      ]
    },
    {
      "cell_type": "markdown",
      "metadata": {
        "id": "Bcf3wU_IA_hZ",
        "colab_type": "text"
      },
      "source": [
        "###5.3 Extract Variables \n",
        "* Create another data frame with only numeric variables + country\n",
        "\n",
        "Hint: Refer to 4.2.3 Subsetting by column"
      ]
    },
    {
      "cell_type": "code",
      "metadata": {
        "id": "jFDVjnz4CVBT",
        "colab_type": "code",
        "outputId": "ccbc7008-baab-45d2-84ab-58f155025857",
        "colab": {
          "base_uri": "https://localhost:8080/",
          "height": 123
        }
      },
      "source": [
        "# Fill the blank below:\n",
        "forbes_clean <- subset(forbes_clean, select = c(\"country\", \"sales\", \"profits\",\"assets\",\"marketvalue\"))\n",
        "str(forbes_clean)"
      ],
      "execution_count": 121,
      "outputs": [
        {
          "output_type": "stream",
          "text": [
            "'data.frame':\t2000 obs. of  5 variables:\n",
            " $ country    : Factor w/ 7 levels \"Canada\",\"East/Southeast Asia\",..: 7 7 7 7 3 7 3 2 7 7 ...\n",
            " $ sales      : num  94.7 134.2 76.7 222.9 232.6 ...\n",
            " $ profits    : num  17.85 15.59 6.46 20.96 10.27 ...\n",
            " $ assets     : num  1264 627 648 167 178 ...\n",
            " $ marketvalue: num  255 329 195 277 174 ...\n"
          ],
          "name": "stdout"
        }
      ]
    },
    {
      "cell_type": "markdown",
      "metadata": {
        "id": "yS8zt-Bq46lR",
        "colab_type": "text"
      },
      "source": [
        "###5.4 Training Set and Test Set\n",
        "* Dataset could be randomly split into two parts: training set and test set. \n"
      ]
    },
    {
      "cell_type": "code",
      "metadata": {
        "id": "yFDob7OX5DB4",
        "colab_type": "code",
        "colab": {}
      },
      "source": [
        "set.seed(1) #set random seed reproducible\n",
        "indx <- sample(1:1995,size=1995,replace=F)\n",
        "forbes.train <- forbes_clean[indx[1:1600],]\n",
        "forbes.test <- forbes_clean[indx[1601:1995],]"
      ],
      "execution_count": 0,
      "outputs": []
    },
    {
      "cell_type": "markdown",
      "metadata": {
        "id": "ZSws0mVIGF-K",
        "colab_type": "text"
      },
      "source": [
        "##Exercise \n",
        "1. Use the `lm()` function to perform a multiple linear regression with profits as the response and all other numeric variables as the predictors. Use the `summary()` function to print the results. \n"
      ]
    },
    {
      "cell_type": "code",
      "metadata": {
        "id": "PUWzXPyhGVFk",
        "colab_type": "code",
        "outputId": "fe703e36-bf3d-48be-cbd1-fd91de0b06c3",
        "colab": {
          "base_uri": "https://localhost:8080/",
          "height": 105
        }
      },
      "source": [
        "forbes_clean2 <- forbes_clean[,c(2:5)]  # create a new dataframe with only numeric variables included\n",
        "set.seed(3) \n",
        "indx <- sample(1:1995,size=1995,replace=F)\n",
        "forbes.train <- forbes_clean2[indx[1:1600],]\n",
        "forbes.test <- forbes_clean2[indx[1601:1995],]\n",
        "str(forbes.train)"
      ],
      "execution_count": 0,
      "outputs": [
        {
          "output_type": "stream",
          "text": [
            "'data.frame':\t1600 obs. of  4 variables:\n",
            " $ sales      : num  2.86 4.72 9.91 1.16 3.95 ...\n",
            " $ profits    : num  0.5 0.05 -1.8 0.25 0.79 0.33 0.21 0.37 0.23 0.3 ...\n",
            " $ assets     : num  7.33 4.71 27.76 8.86 7.72 ...\n",
            " $ marketvalue: num  6.45 1.42 11.46 6.52 13.98 ...\n"
          ],
          "name": "stdout"
        }
      ]
    },
    {
      "cell_type": "code",
      "metadata": {
        "id": "ByWA1lihE0OS",
        "colab_type": "code",
        "outputId": "8609cfc4-d59f-4395-c7f0-df02772baa0b",
        "colab": {
          "base_uri": "https://localhost:8080/",
          "height": 369
        }
      },
      "source": [
        "lm <- lm(profits ~ . , data=forbes.train     )\n",
        "summary(lm)"
      ],
      "execution_count": 0,
      "outputs": [
        {
          "output_type": "display_data",
          "data": {
            "text/plain": [
              "\n",
              "Call:\n",
              "lm(formula = profits ~ ., data = forbes.train)\n",
              "\n",
              "Residuals:\n",
              "     Min       1Q   Median       3Q      Max \n",
              "-29.2532  -0.0266   0.1169   0.2190   9.1538 \n",
              "\n",
              "Coefficients:\n",
              "              Estimate Std. Error t value Pr(>|t|)    \n",
              "(Intercept) -0.1211415  0.0439806  -2.754  0.00595 ** \n",
              "sales        0.0115652  0.0027422   4.217 2.61e-05 ***\n",
              "assets      -0.0012144  0.0004237  -2.866  0.00421 ** \n",
              "marketvalue  0.0362598  0.0019938  18.186  < 2e-16 ***\n",
              "---\n",
              "Signif. codes:  0 ‘***’ 0.001 ‘**’ 0.01 ‘*’ 0.05 ‘.’ 0.1 ‘ ’ 1\n",
              "\n",
              "Residual standard error: 1.537 on 1596 degrees of freedom\n",
              "Multiple R-squared:  0.3164,\tAdjusted R-squared:  0.3151 \n",
              "F-statistic: 246.3 on 3 and 1596 DF,  p-value: < 2.2e-16\n"
            ]
          },
          "metadata": {
            "tags": []
          }
        }
      ]
    },
    {
      "cell_type": "markdown",
      "metadata": {
        "id": "Hm4KasWEGWi4",
        "colab_type": "text"
      },
      "source": [
        "2. Comment on the output. For instance:  Is there a relationship between the predictors and the response? \n"
      ]
    },
    {
      "cell_type": "markdown",
      "metadata": {
        "id": "XFAdFQc6F1YL",
        "colab_type": "text"
      },
      "source": [
        "Yes "
      ]
    },
    {
      "cell_type": "markdown",
      "metadata": {
        "id": "lmB6_YXLGaNJ",
        "colab_type": "text"
      },
      "source": [
        "3. Which predictors appear to have a statistically significant relationship to the response? \n"
      ]
    },
    {
      "cell_type": "markdown",
      "metadata": {
        "id": "yCdaP55yb-EK",
        "colab_type": "text"
      },
      "source": [
        "Sales and Market Value have a strong correlation to profits while Assets have a weaker correlation while still being statistically significant."
      ]
    },
    {
      "cell_type": "markdown",
      "metadata": {
        "id": "icDSRv30GdJi",
        "colab_type": "text"
      },
      "source": [
        "4. What does the coefficient for the sales variable suggest?\n"
      ]
    },
    {
      "cell_type": "markdown",
      "metadata": {
        "id": "AmWkvi88Nlwn",
        "colab_type": "text"
      },
      "source": [
        "### Bonus questions:"
      ]
    },
    {
      "cell_type": "markdown",
      "metadata": {
        "id": "jkDB5eTjGf8E",
        "colab_type": "text"
      },
      "source": [
        "5. Use the ^ symbols to fit linear regression models with interaction effects. \u000bDo any interactions appear to be statistically significant? \n"
      ]
    },
    {
      "cell_type": "code",
      "metadata": {
        "id": "z-T8BBllGj-j",
        "colab_type": "code",
        "colab": {
          "base_uri": "https://localhost:8080/",
          "height": 439
        },
        "outputId": "8798fffc-a5fe-486a-b2df-1a25fb558a1c"
      },
      "source": [
        "lm2 <- lm(profits ~(sales+assets+marketvalue)^3, data = forbes.train)\n",
        "summary(lm2)"
      ],
      "execution_count": 127,
      "outputs": [
        {
          "output_type": "display_data",
          "data": {
            "text/plain": [
              "\n",
              "Call:\n",
              "lm(formula = profits ~ (sales + assets + marketvalue)^3, data = forbes.train)\n",
              "\n",
              "Residuals:\n",
              "     Min       1Q   Median       3Q      Max \n",
              "-28.6771  -0.0850   0.0129   0.1823   9.4978 \n",
              "\n",
              "Coefficients:\n",
              "                           Estimate Std. Error t value Pr(>|t|)    \n",
              "(Intercept)               1.163e-01  5.252e-02   2.214 0.026970 *  \n",
              "sales                    -3.909e-04  4.089e-03  -0.096 0.923848    \n",
              "assets                   -5.699e-03  9.631e-04  -5.917 3.99e-09 ***\n",
              "marketvalue               2.471e-02  2.832e-03   8.725  < 2e-16 ***\n",
              "sales:assets              6.229e-05  1.740e-05   3.580 0.000354 ***\n",
              "sales:marketvalue         1.205e-04  3.312e-05   3.638 0.000284 ***\n",
              "assets:marketvalue        5.301e-05  1.853e-05   2.860 0.004293 ** \n",
              "sales:assets:marketvalue -3.190e-07  1.835e-07  -1.739 0.082249 .  \n",
              "---\n",
              "Signif. codes:  0 ‘***’ 0.001 ‘**’ 0.01 ‘*’ 0.05 ‘.’ 0.1 ‘ ’ 1\n",
              "\n",
              "Residual standard error: 1.492 on 1592 degrees of freedom\n",
              "Multiple R-squared:  0.3571,\tAdjusted R-squared:  0.3543 \n",
              "F-statistic: 126.3 on 7 and 1592 DF,  p-value: < 2.2e-16\n"
            ]
          },
          "metadata": {
            "tags": []
          }
        }
      ]
    },
    {
      "cell_type": "markdown",
      "metadata": {
        "id": "a6oifEd2HvRe",
        "colab_type": "text"
      },
      "source": [
        "6. Compare two models you just fitted with MAD and RMSE. Which model has better predictive results in terms of MAD and RMSE?"
      ]
    },
    {
      "cell_type": "code",
      "metadata": {
        "id": "9u2ee0WGH-nw",
        "colab_type": "code",
        "colab": {
          "base_uri": "https://localhost:8080/",
          "height": 86
        },
        "outputId": "210133b4-9a97-42bf-aeba-a6168a83eedf"
      },
      "source": [
        "# MLR model without interactions \n",
        "lm.yhat <- predict(lm, newdata = forbes.test)\n",
        "lm.y <- forbes.test[\"marketvalue\"]\n",
        "lm.rmse <- sqrt(mean(data.matrix((lm.y - lm.yhat)^2)))\n",
        "lm.rmse\n",
        "lm.abs = abs(lm.y - lm.yhat)\n",
        "lm.mad = (sum(lm.abs))/395 \n",
        "lm.mad\n",
        "\n",
        "# MLR model with all interactions\n",
        "lm2.yhat <- predict(lm2, newdata = forbes.test)\n",
        "lm2.y <- forbes.test[\"marketvalue\"]\n",
        "lm2.rmse <- sqrt(mean(data.matrix((lm2.y - lm2.yhat)^2)))\n",
        "lm2.rmse\n",
        "lm2.abs = abs(lm2.y - lm2.yhat) \n",
        "lm2.mad = (sum(lm2.abs))/395 \n",
        "lm2.mad"
      ],
      "execution_count": 128,
      "outputs": [
        {
          "output_type": "display_data",
          "data": {
            "text/plain": [
              "[1] 18.80021"
            ],
            "text/latex": "18.8002149726473",
            "text/markdown": "18.8002149726473",
            "text/html": [
              "18.8002149726473"
            ]
          },
          "metadata": {
            "tags": []
          }
        },
        {
          "output_type": "display_data",
          "data": {
            "text/plain": [
              "[1] 9.644763"
            ],
            "text/latex": "9.64476306730328",
            "text/markdown": "9.64476306730328",
            "text/html": [
              "9.64476306730328"
            ]
          },
          "metadata": {
            "tags": []
          }
        },
        {
          "output_type": "display_data",
          "data": {
            "text/plain": [
              "[1] 18.88461"
            ],
            "text/latex": "18.884609385835",
            "text/markdown": "18.884609385835",
            "text/html": [
              "18.884609385835"
            ]
          },
          "metadata": {
            "tags": []
          }
        },
        {
          "output_type": "display_data",
          "data": {
            "text/plain": [
              "[1] 9.657114"
            ],
            "text/latex": "9.6571138251373",
            "text/markdown": "9.6571138251373",
            "text/html": [
              "9.6571138251373"
            ]
          },
          "metadata": {
            "tags": []
          }
        }
      ]
    },
    {
      "cell_type": "markdown",
      "metadata": {
        "colab_type": "text",
        "id": "dSlz-hHPabLC"
      },
      "source": [
        "##Solution \n",
        "1. Use the `lm()` function to perform a multiple linear regression with profits as the response and all other numeric variables as the predictors. Use the `summary()` function to print the results. \n"
      ]
    },
    {
      "cell_type": "code",
      "metadata": {
        "id": "c4xDOVzWapb_",
        "colab_type": "code",
        "colab": {}
      },
      "source": [
        "lm <- lm(profits ~ ., data = forbes.train)\n",
        "summary(lm)"
      ],
      "execution_count": 0,
      "outputs": []
    },
    {
      "cell_type": "markdown",
      "metadata": {
        "colab_type": "text",
        "id": "vagC3fDwafbd"
      },
      "source": [
        "5. Use the ^ symbols to fit linear regression models with interaction effects. \u000bDo any interactions appear to be statistically significant? \n"
      ]
    },
    {
      "cell_type": "code",
      "metadata": {
        "id": "vDOcdzeGalnx",
        "colab_type": "code",
        "colab": {}
      },
      "source": [
        "lm2 <- lm(profits ~ (sales + assets + marketvalue)^3, data = forbes.train)\n",
        "summary(lm2)"
      ],
      "execution_count": 0,
      "outputs": []
    },
    {
      "cell_type": "markdown",
      "metadata": {
        "colab_type": "text",
        "id": "AGqtQnlpahAD"
      },
      "source": [
        "6. Compare two models you just fitted with MAD and RMSE. Which model has better predictive results in terms of MAD and RMSE?"
      ]
    },
    {
      "cell_type": "code",
      "metadata": {
        "id": "11_anmUiajcg",
        "colab_type": "code",
        "outputId": "7f914e23-2abf-4711-caa6-7f4dafb68258",
        "colab": {
          "base_uri": "https://localhost:8080/",
          "height": 86
        }
      },
      "source": [
        "# MLR model without interactions \n",
        "lm.yhat <- predict(lm, newdata = forbes.test) \n",
        "lm.y <- forbes.test[\"profits\"] \n",
        "lm.rmse <- sqrt(mean(data.matrix((lm.y - lm.yhat)^2)))\n",
        "lm.rmse\n",
        "lm.abs = abs(lm.y - lm.yhat) \n",
        "lm.mad = (sum(lm.abs))/395 \n",
        "lm.mad\n",
        "\n",
        "# MLR model with all interactions\n",
        "lm2.yhat <- predict(lm2, newdata = forbes.test) \n",
        "lm2.y <- forbes.test[\"profits\"] \n",
        "lm2.rmse <- sqrt(mean(data.matrix((lm2.y - lm2.yhat)^2)))\n",
        "lm2.rmse\n",
        "lm2.abs = abs(lm2.y - lm2.yhat) \n",
        "lm2.mad = (sum(lm2.abs))/395 \n",
        "lm2.mad"
      ],
      "execution_count": 0,
      "outputs": [
        {
          "output_type": "display_data",
          "data": {
            "text/plain": [
              "[1] 1.178624"
            ],
            "text/latex": "1.17862370750593",
            "text/markdown": "1.17862370750593",
            "text/html": [
              "1.17862370750593"
            ]
          },
          "metadata": {
            "tags": []
          }
        },
        {
          "output_type": "display_data",
          "data": {
            "text/plain": [
              "[1] 0.4273479"
            ],
            "text/latex": "0.427347906897058",
            "text/markdown": "0.427347906897058",
            "text/html": [
              "0.427347906897058"
            ]
          },
          "metadata": {
            "tags": []
          }
        },
        {
          "output_type": "display_data",
          "data": {
            "text/plain": [
              "[1] 1.20672"
            ],
            "text/latex": "1.20672045727435",
            "text/markdown": "1.20672045727435",
            "text/html": [
              "1.20672045727435"
            ]
          },
          "metadata": {
            "tags": []
          }
        },
        {
          "output_type": "display_data",
          "data": {
            "text/plain": [
              "[1] 0.430437"
            ],
            "text/latex": "0.430436982155294",
            "text/markdown": "0.430436982155294",
            "text/html": [
              "0.430436982155294"
            ]
          },
          "metadata": {
            "tags": []
          }
        }
      ]
    }
  ]
}