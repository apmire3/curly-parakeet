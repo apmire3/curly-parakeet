{
  "nbformat": 4,
  "nbformat_minor": 0,
  "metadata": {
    "colab": {
      "name": "Allen_Mire_copy_neural_network.ipynb",
      "provenance": [],
      "collapsed_sections": [
        "zpK6ambNTgZq"
      ],
      "include_colab_link": true
    },
    "language_info": {
      "codemirror_mode": "r",
      "file_extension": ".r",
      "mimetype": "text/x-r-source",
      "name": "R",
      "pygments_lexer": "r",
      "version": "3.3.1"
    },
    "kernelspec": {
      "display_name": "R",
      "language": "R",
      "name": "ir"
    }
  },
  "cells": [
    {
      "cell_type": "markdown",
      "metadata": {
        "id": "view-in-github",
        "colab_type": "text"
      },
      "source": [
        "<a href=\"https://colab.research.google.com/github/apmire3/curly-parakeet/blob/master/Allen_Mire_copy_neural_network.ipynb\" target=\"_parent\"><img src=\"https://colab.research.google.com/assets/colab-badge.svg\" alt=\"Open In Colab\"/></a>"
      ]
    },
    {
      "cell_type": "markdown",
      "metadata": {
        "id": "z9M2OON4LMAQ",
        "colab_type": "text"
      },
      "source": [
        "Neural Network Basics with R\n",
        "==="
      ]
    },
    {
      "cell_type": "markdown",
      "metadata": {
        "id": "aFU3ZdKoe2At",
        "colab_type": "text"
      },
      "source": [
        "# Outline\n",
        "\n",
        "\n",
        "*   **Install and load R packages**\n",
        "\n",
        "*   **`nnet` package**\n",
        "\n",
        "*   **`neuralnet` package**"
      ]
    },
    {
      "cell_type": "markdown",
      "metadata": {
        "id": "Mb40n8LTLWzv",
        "colab_type": "text"
      },
      "source": [
        "# 1. Install and load R packages\n",
        "\n",
        "May take a while on the Colab\n",
        "\n",
        "R packages to be installed:"
      ]
    },
    {
      "cell_type": "code",
      "metadata": {
        "id": "Q0JBu8ws4N5W",
        "colab_type": "code",
        "colab": {
          "base_uri": "https://localhost:8080/",
          "height": 334
        },
        "outputId": "ae128b93-da8e-4c79-eb49-bcadfa0d89cc"
      },
      "source": [
        "install.packages(\"reshape\")\n",
        "install.packages(\"faraway\")\n",
        "install.packages(\"nnet\")\n",
        "install.packages(\"neuralnet\")"
      ],
      "execution_count": 1,
      "outputs": [
        {
          "output_type": "stream",
          "text": [
            "Installing package into ‘/usr/local/lib/R/site-library’\n",
            "(as ‘lib’ is unspecified)\n",
            "\n",
            "Installing package into ‘/usr/local/lib/R/site-library’\n",
            "(as ‘lib’ is unspecified)\n",
            "\n",
            "also installing the dependencies ‘minqa’, ‘nloptr’, ‘statmod’, ‘RcppEigen’, ‘lme4’\n",
            "\n",
            "\n",
            "Installing package into ‘/usr/local/lib/R/site-library’\n",
            "(as ‘lib’ is unspecified)\n",
            "\n",
            "Installing package into ‘/usr/local/lib/R/site-library’\n",
            "(as ‘lib’ is unspecified)\n",
            "\n",
            "also installing the dependency ‘Deriv’\n",
            "\n",
            "\n"
          ],
          "name": "stderr"
        }
      ]
    },
    {
      "cell_type": "markdown",
      "metadata": {
        "id": "ND5iRnVkNy8F",
        "colab_type": "text"
      },
      "source": [
        "Load R packages and scripts:"
      ]
    },
    {
      "cell_type": "code",
      "metadata": {
        "id": "3GgzeVUcGKQw",
        "colab_type": "code",
        "colab": {}
      },
      "source": [
        "library(reshape)\n",
        "library(nnet)\n",
        "library(faraway)\n",
        "library(neuralnet)\n",
        "library(datasets)\n",
        "download.file(\"https://gist.githubusercontent.com/fawda123/7471137/raw/466c1474d0a505ff044412703516c34f1a4684a5/nnet_plot_update.r\",\"nnet_plot_update.r\")\n",
        "source(\"nnet_plot_update.r\")"
      ],
      "execution_count": 0,
      "outputs": []
    },
    {
      "cell_type": "markdown",
      "metadata": {
        "id": "SH2MZcenfdKM",
        "colab_type": "text"
      },
      "source": [
        "# 2. `nnet` package"
      ]
    },
    {
      "cell_type": "markdown",
      "metadata": {
        "id": "xNe3Y5v1ODl9",
        "colab_type": "text"
      },
      "source": [
        "## 2.1 A regression example: `ozone` data\n",
        "* We apply the neural networks to the `ozone` data which was analyzed before using the `nnet` package, due to Venables and Ripley (2002). \n",
        "* `Ozone` data is included in the `faraway` package, which has 330 observations on the following 10 variables. \n",
        "> * **O3** Ozone conc., ppm, at Sandbug AFB.\n",
        "> * **vh** a numeric vector\n",
        ">*  **wind** wind speed\n",
        ">* **humidity** a numeric vector\n",
        ">* **temp** temperature\n",
        ">* **ibh** inversion base height\n",
        ">* **dpg** Daggett pressure gradient\n",
        ">* **ibt** a numeric vector\n",
        ">* **vis** visibility\n",
        ">* **doy** day of the year"
      ]
    },
    {
      "cell_type": "code",
      "metadata": {
        "id": "SL75lUZAVxoZ",
        "colab_type": "code",
        "colab": {
          "base_uri": "https://localhost:8080/",
          "height": 387
        },
        "outputId": "8a6ab3f8-91a3-4c50-dfb1-1a8c51e5ea9c"
      },
      "source": [
        "attach(ozone)\n",
        "summary(ozone)"
      ],
      "execution_count": 3,
      "outputs": [
        {
          "output_type": "display_data",
          "data": {
            "text/plain": [
              "       O3              vh            wind           humidity    \n",
              " Min.   : 1.00   Min.   :5320   Min.   : 0.000   Min.   :19.00  \n",
              " 1st Qu.: 5.00   1st Qu.:5690   1st Qu.: 3.000   1st Qu.:47.00  \n",
              " Median :10.00   Median :5760   Median : 5.000   Median :64.00  \n",
              " Mean   :11.78   Mean   :5750   Mean   : 4.848   Mean   :58.13  \n",
              " 3rd Qu.:17.00   3rd Qu.:5830   3rd Qu.: 6.000   3rd Qu.:73.00  \n",
              " Max.   :38.00   Max.   :5950   Max.   :11.000   Max.   :93.00  \n",
              "      temp            ibh              dpg              ibt       \n",
              " Min.   :25.00   Min.   : 111.0   Min.   :-69.00   Min.   :-25.0  \n",
              " 1st Qu.:51.00   1st Qu.: 877.5   1st Qu.: -9.00   1st Qu.:107.0  \n",
              " Median :62.00   Median :2112.5   Median : 24.00   Median :167.5  \n",
              " Mean   :61.75   Mean   :2572.9   Mean   : 17.37   Mean   :161.2  \n",
              " 3rd Qu.:72.00   3rd Qu.:5000.0   3rd Qu.: 44.75   3rd Qu.:214.0  \n",
              " Max.   :93.00   Max.   :5000.0   Max.   :107.00   Max.   :332.0  \n",
              "      vis             doy       \n",
              " Min.   :  0.0   Min.   : 33.0  \n",
              " 1st Qu.: 70.0   1st Qu.:120.2  \n",
              " Median :120.0   Median :205.5  \n",
              " Mean   :124.5   Mean   :209.4  \n",
              " 3rd Qu.:150.0   3rd Qu.:301.8  \n",
              " Max.   :350.0   Max.   :390.0  "
            ]
          },
          "metadata": {
            "tags": []
          }
        }
      ]
    },
    {
      "cell_type": "markdown",
      "metadata": {
        "id": "wGqS7orySkSq",
        "colab_type": "text"
      },
      "source": [
        "### 2.1.1 Initial fitting\n",
        "* We started with just **three** variables for simplicity and fit a feed-forward neural network with **one** hidden layer containing **two** units and a linear output. \n",
        "> * Why linear output? This is a regression problem. \n",
        "\n",
        "The result (nnmd1) from will contain # of weights and the initial and final residual sum of squres (RSS, a.k.a. sum of squared errors of prediction (SSE)): "
      ]
    },
    {
      "cell_type": "code",
      "metadata": {
        "id": "gu7iaf8TVqZ7",
        "colab_type": "code",
        "colab": {
          "base_uri": "https://localhost:8080/",
          "height": 87
        },
        "outputId": "54b3dafa-050c-48d4-a776-b17e70369724"
      },
      "source": [
        "nnmd1 <- nnet(O3~temp+ibh+ibt,ozone,size=2,linout=T)"
      ],
      "execution_count": 19,
      "outputs": [
        {
          "output_type": "stream",
          "text": [
            "# weights:  11\n",
            "initial  value 64788.943584 \n",
            "final  value 21115.406061 \n",
            "converged\n"
          ],
          "name": "stdout"
        }
      ]
    },
    {
      "cell_type": "markdown",
      "metadata": {
        "id": "BmI2VCrbg5nf",
        "colab_type": "text"
      },
      "source": [
        "* Here we also calculate the total sum of squares:"
      ]
    },
    {
      "cell_type": "code",
      "metadata": {
        "id": "ZsQDJJDSS9ey",
        "colab_type": "code",
        "colab": {
          "base_uri": "https://localhost:8080/",
          "height": 34
        },
        "outputId": "9546dbdb-4477-47b8-e282-21c7ef9d40da"
      },
      "source": [
        "sum((O3-mean(O3))^2)"
      ],
      "execution_count": 20,
      "outputs": [
        {
          "output_type": "display_data",
          "data": {
            "text/plain": [
              "[1] 21115.41"
            ],
            "text/latex": "21115.4060606061",
            "text/markdown": "21115.4060606061",
            "text/html": [
              "21115.4060606061"
            ]
          },
          "metadata": {
            "tags": []
          }
        }
      ]
    },
    {
      "cell_type": "markdown",
      "metadata": {
        "id": "ko6qQyuicLHt",
        "colab_type": "text"
      },
      "source": [
        "## Quiz\n",
        "1. Why the total weights is 11?  \n",
        "\n",
        "2* (3+1) + 1*(2+1)\n",
        "\n",
        "2. Is this neural network model good or not? Why?\n",
        "\n",
        "SST = E + SSE "
      ]
    },
    {
      "cell_type": "markdown",
      "metadata": {
        "id": "fr4gAxshjIoj",
        "colab_type": "text"
      },
      "source": [
        "### 2.1.2 Scaling variables\n",
        "* The problems comes from the initial selection of the weights. It is hard to select the initial weights when the variables have very different scales. The solution is to rescale the data to mean zero and unit variance. \n",
        "\n",
        "Check standard deviation before and after the scaling:"
      ]
    },
    {
      "cell_type": "code",
      "metadata": {
        "id": "VhRHc-HJg7uI",
        "colab_type": "code",
        "colab": {
          "base_uri": "https://localhost:8080/",
          "height": 69
        },
        "outputId": "f0f9ca3e-aab2-4666-e990-09b527f6b746"
      },
      "source": [
        "apply(ozone,2,sd)\n",
        "ozone2 <- scale(ozone)\n",
        "apply(ozone2,2,sd)"
      ],
      "execution_count": 21,
      "outputs": [
        {
          "output_type": "display_data",
          "data": {
            "text/plain": [
              "         O3          vh        wind    humidity        temp         ibh \n",
              "   8.011277  105.708241    2.116963   19.865000   14.458737 1803.885870 \n",
              "        dpg         ibt         vis         doy \n",
              "  35.717181   76.679424   79.362393  104.376374 "
            ],
            "text/latex": "\\begin{description*}\n\\item[O3] 8.01127739712944\n\\item[vh] 105.708241365232\n\\item[wind] 2.11696307283462\n\\item[humidity] 19.8650000722733\n\\item[temp] 14.4587368210869\n\\item[ibh] 1803.8858696485\n\\item[dpg] 35.717180908716\n\\item[ibt] 76.6794236135784\n\\item[vis] 79.3623932541052\n\\item[doy] 104.376373639078\n\\end{description*}\n",
            "text/markdown": "O3\n:   8.01127739712944vh\n:   105.708241365232wind\n:   2.11696307283462humidity\n:   19.8650000722733temp\n:   14.4587368210869ibh\n:   1803.8858696485dpg\n:   35.717180908716ibt\n:   76.6794236135784vis\n:   79.3623932541052doy\n:   104.376373639078\n\n",
            "text/html": [
              "<style>\n",
              ".dl-inline {width: auto; margin:0; padding: 0}\n",
              ".dl-inline>dt, .dl-inline>dd {float: none; width: auto; display: inline-block}\n",
              ".dl-inline>dt::after {content: \":\\0020\"; padding-right: .5ex}\n",
              ".dl-inline>dt:not(:first-of-type) {padding-left: .5ex}\n",
              "</style><dl class=dl-inline><dt>O3</dt><dd>8.01127739712944</dd><dt>vh</dt><dd>105.708241365232</dd><dt>wind</dt><dd>2.11696307283462</dd><dt>humidity</dt><dd>19.8650000722733</dd><dt>temp</dt><dd>14.4587368210869</dd><dt>ibh</dt><dd>1803.8858696485</dd><dt>dpg</dt><dd>35.717180908716</dd><dt>ibt</dt><dd>76.6794236135784</dd><dt>vis</dt><dd>79.3623932541052</dd><dt>doy</dt><dd>104.376373639078</dd></dl>\n"
            ]
          },
          "metadata": {
            "tags": []
          }
        },
        {
          "output_type": "display_data",
          "data": {
            "text/plain": [
              "      O3       vh     wind humidity     temp      ibh      dpg      ibt \n",
              "       1        1        1        1        1        1        1        1 \n",
              "     vis      doy \n",
              "       1        1 "
            ],
            "text/latex": "\\begin{description*}\n\\item[O3] 1\n\\item[vh] 1\n\\item[wind] 1\n\\item[humidity] 1\n\\item[temp] 1\n\\item[ibh] 1\n\\item[dpg] 1\n\\item[ibt] 1\n\\item[vis] 1\n\\item[doy] 1\n\\end{description*}\n",
            "text/markdown": "O3\n:   1vh\n:   1wind\n:   1humidity\n:   1temp\n:   1ibh\n:   1dpg\n:   1ibt\n:   1vis\n:   1doy\n:   1\n\n",
            "text/html": [
              "<style>\n",
              ".dl-inline {width: auto; margin:0; padding: 0}\n",
              ".dl-inline>dt, .dl-inline>dd {float: none; width: auto; display: inline-block}\n",
              ".dl-inline>dt::after {content: \":\\0020\"; padding-right: .5ex}\n",
              ".dl-inline>dt:not(:first-of-type) {padding-left: .5ex}\n",
              "</style><dl class=dl-inline><dt>O3</dt><dd>1</dd><dt>vh</dt><dd>1</dd><dt>wind</dt><dd>1</dd><dt>humidity</dt><dd>1</dd><dt>temp</dt><dd>1</dd><dt>ibh</dt><dd>1</dd><dt>dpg</dt><dd>1</dd><dt>ibt</dt><dd>1</dd><dt>vis</dt><dd>1</dd><dt>doy</dt><dd>1</dd></dl>\n"
            ]
          },
          "metadata": {
            "tags": []
          }
        }
      ]
    },
    {
      "cell_type": "markdown",
      "metadata": {
        "id": "OgpBPqQVl1lk",
        "colab_type": "text"
      },
      "source": [
        "Now let's see the new RSS:"
      ]
    },
    {
      "cell_type": "code",
      "metadata": {
        "id": "P7v-LRGDmuRk",
        "colab_type": "code",
        "colab": {
          "base_uri": "https://localhost:8080/",
          "height": 263
        },
        "outputId": "59a33eec-a947-40c5-a0b0-f3c77c472ebd"
      },
      "source": [
        "nnmd1 <- nnet(O3~temp+ibh+ibt,ozone2,size=2,linout=T)"
      ],
      "execution_count": 22,
      "outputs": [
        {
          "output_type": "stream",
          "text": [
            "# weights:  11\n",
            "initial  value 343.535308 \n",
            "iter  10 value 127.970151\n",
            "iter  20 value 105.408222\n",
            "iter  30 value 100.171659\n",
            "iter  40 value 98.298786\n",
            "iter  50 value 97.173583\n",
            "iter  60 value 96.510402\n",
            "iter  70 value 96.397320\n",
            "iter  80 value 96.388076\n",
            "iter  90 value 96.281190\n",
            "iter 100 value 96.246349\n",
            "final  value 96.246349 \n",
            "stopped after 100 iterations\n"
          ],
          "name": "stdout"
        }
      ]
    },
    {
      "cell_type": "markdown",
      "metadata": {
        "id": "_D4vLuYFlVLz",
        "colab_type": "text"
      },
      "source": [
        "### 2.1.3 Refitting the model 100 times\n",
        "* Since neural network uses random initial weights, the algorithm may not give the same results for each replication. So we try to refitting the model 100 times using different initial weights and find the best fit of these 100 attempts. "
      ]
    },
    {
      "cell_type": "code",
      "metadata": {
        "id": "d-qKthL5lPeA",
        "colab_type": "code",
        "colab": {
          "base_uri": "https://localhost:8080/",
          "height": 34
        },
        "outputId": "6ecc0ea9-0d45-4834-b72f-b86bd491c25a"
      },
      "source": [
        "bestrss <- 10000\n",
        "for (i in 1:100){\n",
        "set.seed(i)\n",
        " nnmd1 <- nnet(O3~temp+ibh+ibt,ozone2,size=2,linout=T,trace=F)\n",
        " if (nnmd1$value < bestrss){\n",
        " bestnn <- nnmd1\n",
        " bestrss <- nnmd1$value\n",
        " }\n",
        " }\n",
        "bestnn$value"
      ],
      "execution_count": 24,
      "outputs": [
        {
          "output_type": "display_data",
          "data": {
            "text/plain": [
              "[1] 88.53709"
            ],
            "text/latex": "88.5370887860673",
            "text/markdown": "88.5370887860673",
            "text/html": [
              "88.5370887860673"
            ]
          },
          "metadata": {
            "tags": []
          }
        }
      ]
    },
    {
      "cell_type": "markdown",
      "metadata": {
        "id": "IgBwyBnPoqLf",
        "colab_type": "text"
      },
      "source": [
        "Summary of bestnn:"
      ]
    },
    {
      "cell_type": "code",
      "metadata": {
        "id": "1aaAUTPGopu7",
        "colab_type": "code",
        "colab": {
          "base_uri": "https://localhost:8080/",
          "height": 158
        },
        "outputId": "e7483569-11ae-401b-81e9-d5b2a0db7d1a"
      },
      "source": [
        "summary(bestnn)"
      ],
      "execution_count": 25,
      "outputs": [
        {
          "output_type": "display_data",
          "data": {
            "text/plain": [
              "a 3-2-1 network with 11 weights\n",
              "options were - linear output units \n",
              " b->h1 i1->h1 i2->h1 i3->h1 \n",
              "-56.93  29.51 -99.99 -55.70 \n",
              " b->h2 i1->h2 i2->h2 i3->h2 \n",
              "  1.14  -0.96   0.83   0.28 \n",
              "  b->o  h1->o  h2->o \n",
              "  3.36  -0.69  -4.51 "
            ]
          },
          "metadata": {
            "tags": []
          }
        }
      ]
    },
    {
      "cell_type": "markdown",
      "metadata": {
        "id": "q3IbrIpIpqyp",
        "colab_type": "text"
      },
      "source": [
        "* The criterion function has 11 weights. The notation `i2 -> h1` above, for example, refers to the link between the second input variable and the first hidden neuron. `b` refers to the bias, which takes a constant value of one. We see that there is one skip-layer connection, `b->o`, from the bias to the output. "
      ]
    },
    {
      "cell_type": "markdown",
      "metadata": {
        "id": "ZgJkK6hhnDKn",
        "colab_type": "text"
      },
      "source": [
        "### 2.1.4 Visualizing the network\n",
        "* `nnet` package does not provide any tool to visualize the network, but some R developer contributed the source code to do that. "
      ]
    },
    {
      "cell_type": "code",
      "metadata": {
        "id": "qL116lF_V6Du",
        "colab_type": "code",
        "colab": {
          "base_uri": "https://localhost:8080/",
          "height": 437
        },
        "outputId": "ede342ae-f24e-4cf8-beb4-eb0f5300c560"
      },
      "source": [
        "plot.nnet(bestnn) # plot function provided by nnet_plot_update.r"
      ],
      "execution_count": 26,
      "outputs": [
        {
          "output_type": "display_data",
          "data": {
            "image/png": "[encoded data removed]",
            "text/plain": [
              "plot without title"
            ]
          },
          "metadata": {
            "tags": [],
            "image/png": {
              "width": 420,
              "height": 420
            },
            "text/plain": {
              "width": 420,
              "height": 420
            }
          }
        }
      ]
    },
    {
      "cell_type": "markdown",
      "metadata": {
        "id": "jhX-Y0DKnCNx",
        "colab_type": "text"
      },
      "source": [
        "## Exercise 1"
      ]
    },
    {
      "cell_type": "markdown",
      "metadata": {
        "id": "649hPgzNqhNj",
        "colab_type": "text"
      },
      "source": [
        "1. We can put a penalty such as weight decay to obtian a more stable fit. Let's try $\\lambda$ = 0.001\n",
        "\n",
        "Hint: refer to the `nnet` package manaul to find out the options\n"
      ]
    },
    {
      "cell_type": "code",
      "metadata": {
        "id": "u-dPu4M9V_wz",
        "colab_type": "code",
        "colab": {
          "base_uri": "https://localhost:8080/",
          "height": 175
        },
        "outputId": "891e7484-5639-4805-b974-7dab2de21fc7"
      },
      "source": [
        "bestrss <- 10000\n",
        "for (i in 1:100){\n",
        "set.seed(i)\n",
        " nnmd1 <- nnet(O3~temp+ibh+ibt,ozone2,size=2,linout=T, decay=0.001 , trace=F)\n",
        " if (nnmd1$value < bestrss){\n",
        " bestnn <- nnmd1\n",
        " bestrss <- nnmd1$value\n",
        " }\n",
        " }\n",
        " bestnn$value\n",
        " summary(bestnn)"
      ],
      "execution_count": 27,
      "outputs": [
        {
          "output_type": "display_data",
          "data": {
            "text/plain": [
              "[1] 92.05528"
            ],
            "text/latex": "92.0552782635794",
            "text/markdown": "92.0552782635794",
            "text/html": [
              "92.0552782635794"
            ]
          },
          "metadata": {
            "tags": []
          }
        },
        {
          "output_type": "display_data",
          "data": {
            "text/plain": [
              "a 3-2-1 network with 11 weights\n",
              "options were - linear output units  decay=0.001\n",
              " b->h1 i1->h1 i2->h1 i3->h1 \n",
              "-11.18  -2.07  -7.32   2.85 \n",
              " b->h2 i1->h2 i2->h2 i3->h2 \n",
              " -1.18   0.60  -0.42   0.45 \n",
              "  b->o  h1->o  h2->o \n",
              " -1.11  -1.39   4.05 "
            ]
          },
          "metadata": {
            "tags": []
          }
        }
      ]
    },
    {
      "cell_type": "markdown",
      "metadata": {
        "id": "qEXtsg8koIyT",
        "colab_type": "text"
      },
      "source": [
        "We can see the best RSS is somewhat larger than before. This is expected because weight decay sacrifices some fit to the current data to obtain a more stable result. "
      ]
    },
    {
      "cell_type": "markdown",
      "metadata": {
        "id": "9FuOmmE-s3ou",
        "colab_type": "text"
      },
      "source": [
        "2. Now fit the full dataset using four hidden units sine there are more inputs. \n",
        "> 2.1 Without decay $\\lambda$"
      ]
    },
    {
      "cell_type": "code",
      "metadata": {
        "id": "bMC-XsJfWQ5E",
        "colab_type": "code",
        "colab": {
          "base_uri": "https://localhost:8080/",
          "height": 245
        },
        "outputId": "798a6327-ac8c-470f-923a-681ac47bee1b"
      },
      "source": [
        "bestrss <- 10000\n",
        "for (i in 1:100){\n",
        "set.seed(i)\n",
        " nnmd1 <- nnet(O3~.,ozone2,size=4,linout=T, trace=F)\n",
        " if (nnmd1$value < bestrss){\n",
        " bestnn <- nnmd1\n",
        " bestrss <- nnmd1$value\n",
        " }\n",
        " }\n",
        " bestnn$value\n",
        " summary(bestnn)"
      ],
      "execution_count": 28,
      "outputs": [
        {
          "output_type": "display_data",
          "data": {
            "text/plain": [
              "[1] 49.57413"
            ],
            "text/latex": "49.5741279406909",
            "text/markdown": "49.5741279406909",
            "text/html": [
              "49.5741279406909"
            ]
          },
          "metadata": {
            "tags": []
          }
        },
        {
          "output_type": "display_data",
          "data": {
            "text/plain": [
              "a 9-4-1 network with 45 weights\n",
              "options were - linear output units \n",
              " b->h1 i1->h1 i2->h1 i3->h1 i4->h1 i5->h1 i6->h1 i7->h1 i8->h1 i9->h1 \n",
              "-52.05  -1.96  35.31 -11.83  -2.54 -56.08 -27.11  -2.54 -53.16   7.47 \n",
              " b->h2 i1->h2 i2->h2 i3->h2 i4->h2 i5->h2 i6->h2 i7->h2 i8->h2 i9->h2 \n",
              "-51.46 -22.93  12.12 -14.24   7.38 -32.43 -26.40   4.31 -11.44   1.55 \n",
              " b->h3 i1->h3 i2->h3 i3->h3 i4->h3 i5->h3 i6->h3 i7->h3 i8->h3 i9->h3 \n",
              "-82.65 -98.89 -13.39  95.07 -70.05 -39.25  30.79  84.86  12.54  38.28 \n",
              " b->h4 i1->h4 i2->h4 i3->h4 i4->h4 i5->h4 i6->h4 i7->h4 i8->h4 i9->h4 \n",
              " -1.10  -0.49  -0.17   0.38   0.21  -0.09   0.18   1.22   0.03  -0.18 \n",
              "  b->o  h1->o  h2->o  h3->o  h4->o \n",
              " -0.98   0.76  -1.15  -0.49   3.32 "
            ]
          },
          "metadata": {
            "tags": []
          }
        }
      ]
    },
    {
      "cell_type": "markdown",
      "metadata": {
        "id": "8XnHAJ9-tXVb",
        "colab_type": "text"
      },
      "source": [
        ">2.2 With decay $\\lambda$"
      ]
    },
    {
      "cell_type": "code",
      "metadata": {
        "id": "ofx3RTIJsqwl",
        "colab_type": "code",
        "colab": {
          "base_uri": "https://localhost:8080/",
          "height": 245
        },
        "outputId": "2f48d2a6-378b-4719-c762-ada24feb32c2"
      },
      "source": [
        "\n",
        "bestrss <- 10000\n",
        "for (i in 1:100){\n",
        "set.seed(i)\n",
        " nnmd1 <- nnet(O3 ~.,ozone2,size=4,linout=T,decay=0.001, trace=F )\n",
        " if (nnmd1$value < bestrss){\n",
        " bestnn <- nnmd1\n",
        " bestrss <- nnmd1$value\n",
        " }\n",
        " }\n",
        " bestnn$value\n",
        " summary(bestnn)"
      ],
      "execution_count": 29,
      "outputs": [
        {
          "output_type": "display_data",
          "data": {
            "text/plain": [
              "[1] 52.47161"
            ],
            "text/latex": "52.471607780318",
            "text/markdown": "52.471607780318",
            "text/html": [
              "52.471607780318"
            ]
          },
          "metadata": {
            "tags": []
          }
        },
        {
          "output_type": "display_data",
          "data": {
            "text/plain": [
              "a 9-4-1 network with 45 weights\n",
              "options were - linear output units  decay=0.001\n",
              " b->h1 i1->h1 i2->h1 i3->h1 i4->h1 i5->h1 i6->h1 i7->h1 i8->h1 i9->h1 \n",
              "  6.07   2.31   0.91   0.77  -3.65   2.24  -3.72  -0.58  -1.16  -3.76 \n",
              " b->h2 i1->h2 i2->h2 i3->h2 i4->h2 i5->h2 i6->h2 i7->h2 i8->h2 i9->h2 \n",
              " -0.45   4.42  -2.44   0.06  -1.60   3.25   5.35   2.53  -4.03  -2.77 \n",
              " b->h3 i1->h3 i2->h3 i3->h3 i4->h3 i5->h3 i6->h3 i7->h3 i8->h3 i9->h3 \n",
              " -2.02   0.06  -0.16   0.39   1.06  -0.61   0.38  -0.24   0.16   0.06 \n",
              " b->h4 i1->h4 i2->h4 i3->h4 i4->h4 i5->h4 i6->h4 i7->h4 i8->h4 i9->h4 \n",
              " -6.20   6.32  -1.27   5.46   4.09  -1.68   4.78  -9.42  -2.00  -2.06 \n",
              " b->o h1->o h2->o h3->o h4->o \n",
              "-2.73  1.67  0.82  6.45 -1.00 "
            ]
          },
          "metadata": {
            "tags": []
          }
        }
      ]
    },
    {
      "cell_type": "markdown",
      "metadata": {
        "colab_type": "text",
        "id": "os3Lt4FRbv77"
      },
      "source": [
        "## Solution 1"
      ]
    },
    {
      "cell_type": "markdown",
      "metadata": {
        "colab_type": "text",
        "id": "t_5fcZX3b4_p"
      },
      "source": [
        "1. We can put a penalty such as weight decay to obtian a more stable fit. Let's try $\\lambda$ = 0.001\n",
        "\n",
        "Hint: refer to the `nnet` package manaul to find out the options\n"
      ]
    },
    {
      "cell_type": "code",
      "metadata": {
        "id": "gkolx-vecQcO",
        "colab_type": "code",
        "colab": {
          "base_uri": "https://localhost:8080/",
          "height": 175
        },
        "outputId": "3c5c7d57-eb8f-4c81-d14a-2fd0e59c135e"
      },
      "source": [
        "bestrss <- 10000\n",
        "for (i in 1:100){\n",
        "set.seed(i)\n",
        " nnmd1 <- nnet(O3~temp+ibh+ibt,ozone2,size=2,linout=T, decay=0.001 , trace=F)\n",
        " if (nnmd1$value < bestrss){\n",
        " bestnn <- nnmd1\n",
        " bestrss <- nnmd1$value\n",
        " }\n",
        " }\n",
        " bestnn$value\n",
        " summary(bestnn)"
      ],
      "execution_count": 18,
      "outputs": [
        {
          "output_type": "display_data",
          "data": {
            "text/plain": [
              "[1] 92.05528"
            ],
            "text/latex": "92.0552782635794",
            "text/markdown": "92.0552782635794",
            "text/html": [
              "92.0552782635794"
            ]
          },
          "metadata": {
            "tags": []
          }
        },
        {
          "output_type": "display_data",
          "data": {
            "text/plain": [
              "a 3-2-1 network with 11 weights\n",
              "options were - linear output units  decay=0.001\n",
              " b->h1 i1->h1 i2->h1 i3->h1 \n",
              "-11.18  -2.07  -7.32   2.85 \n",
              " b->h2 i1->h2 i2->h2 i3->h2 \n",
              " -1.18   0.60  -0.42   0.45 \n",
              "  b->o  h1->o  h2->o \n",
              " -1.11  -1.39   4.05 "
            ]
          },
          "metadata": {
            "tags": []
          }
        }
      ]
    },
    {
      "cell_type": "markdown",
      "metadata": {
        "colab_type": "text",
        "id": "9d46eKa1cEiU"
      },
      "source": [
        "2. Now fit the full dataset using four hidden units sine there are more inputs. \n",
        "> 2.1 Without decay $\\lambda$"
      ]
    },
    {
      "cell_type": "code",
      "metadata": {
        "id": "dLtt5ziMcaY4",
        "colab_type": "code",
        "colab": {
          "base_uri": "https://localhost:8080/",
          "height": 245
        },
        "outputId": "c5ab4e1d-0c85-4ebe-fa01-75d7c2ee0ad8"
      },
      "source": [
        "bestrss <- 10000\n",
        "for (i in 1:100){\n",
        "set.seed(i)\n",
        " nnmd1 <- nnet(O3~. , ozone2   , size=4   , linout=T  , trace=F)\n",
        " if (nnmd1$value < bestrss){\n",
        " bestnn <- nnmd1\n",
        " bestrss <- nnmd1$value\n",
        " }\n",
        " }\n",
        " bestnn$value\n",
        " summary(bestnn)"
      ],
      "execution_count": 30,
      "outputs": [
        {
          "output_type": "display_data",
          "data": {
            "text/plain": [
              "[1] 49.57413"
            ],
            "text/latex": "49.5741279406909",
            "text/markdown": "49.5741279406909",
            "text/html": [
              "49.5741279406909"
            ]
          },
          "metadata": {
            "tags": []
          }
        },
        {
          "output_type": "display_data",
          "data": {
            "text/plain": [
              "a 9-4-1 network with 45 weights\n",
              "options were - linear output units \n",
              " b->h1 i1->h1 i2->h1 i3->h1 i4->h1 i5->h1 i6->h1 i7->h1 i8->h1 i9->h1 \n",
              "-52.05  -1.96  35.31 -11.83  -2.54 -56.08 -27.11  -2.54 -53.16   7.47 \n",
              " b->h2 i1->h2 i2->h2 i3->h2 i4->h2 i5->h2 i6->h2 i7->h2 i8->h2 i9->h2 \n",
              "-51.46 -22.93  12.12 -14.24   7.38 -32.43 -26.40   4.31 -11.44   1.55 \n",
              " b->h3 i1->h3 i2->h3 i3->h3 i4->h3 i5->h3 i6->h3 i7->h3 i8->h3 i9->h3 \n",
              "-82.65 -98.89 -13.39  95.07 -70.05 -39.25  30.79  84.86  12.54  38.28 \n",
              " b->h4 i1->h4 i2->h4 i3->h4 i4->h4 i5->h4 i6->h4 i7->h4 i8->h4 i9->h4 \n",
              " -1.10  -0.49  -0.17   0.38   0.21  -0.09   0.18   1.22   0.03  -0.18 \n",
              "  b->o  h1->o  h2->o  h3->o  h4->o \n",
              " -0.98   0.76  -1.15  -0.49   3.32 "
            ]
          },
          "metadata": {
            "tags": []
          }
        }
      ]
    },
    {
      "cell_type": "markdown",
      "metadata": {
        "colab_type": "text",
        "id": "3kEp2o-McN7W"
      },
      "source": [
        ">2.2 With decay $\\lambda$"
      ]
    },
    {
      "cell_type": "code",
      "metadata": {
        "id": "1Kh1xcg2cjcz",
        "colab_type": "code",
        "colab": {
          "base_uri": "https://localhost:8080/",
          "height": 245
        },
        "outputId": "402df77d-dbc9-4973-8ba1-7ccb7abfef14"
      },
      "source": [
        "bestrss <- 10000\n",
        "for (i in 1:100){\n",
        "set.seed(i)\n",
        " nnmd1 <- nnet(O3 ~ .   ,  ozone2   ,  size=4   , linout=T    , decay=0.001, trace=F )\n",
        " if (nnmd1$value < bestrss){\n",
        " bestnn <- nnmd1\n",
        " bestrss <- nnmd1$value\n",
        " }\n",
        " }\n",
        " bestnn$value\n",
        " summary(bestnn)"
      ],
      "execution_count": 31,
      "outputs": [
        {
          "output_type": "display_data",
          "data": {
            "text/plain": [
              "[1] 52.47161"
            ],
            "text/latex": "52.471607780318",
            "text/markdown": "52.471607780318",
            "text/html": [
              "52.471607780318"
            ]
          },
          "metadata": {
            "tags": []
          }
        },
        {
          "output_type": "display_data",
          "data": {
            "text/plain": [
              "a 9-4-1 network with 45 weights\n",
              "options were - linear output units  decay=0.001\n",
              " b->h1 i1->h1 i2->h1 i3->h1 i4->h1 i5->h1 i6->h1 i7->h1 i8->h1 i9->h1 \n",
              "  6.07   2.31   0.91   0.77  -3.65   2.24  -3.72  -0.58  -1.16  -3.76 \n",
              " b->h2 i1->h2 i2->h2 i3->h2 i4->h2 i5->h2 i6->h2 i7->h2 i8->h2 i9->h2 \n",
              " -0.45   4.42  -2.44   0.06  -1.60   3.25   5.35   2.53  -4.03  -2.77 \n",
              " b->h3 i1->h3 i2->h3 i3->h3 i4->h3 i5->h3 i6->h3 i7->h3 i8->h3 i9->h3 \n",
              " -2.02   0.06  -0.16   0.39   1.06  -0.61   0.38  -0.24   0.16   0.06 \n",
              " b->h4 i1->h4 i2->h4 i3->h4 i4->h4 i5->h4 i6->h4 i7->h4 i8->h4 i9->h4 \n",
              " -6.20   6.32  -1.27   5.46   4.09  -1.68   4.78  -9.42  -2.00  -2.06 \n",
              " b->o h1->o h2->o h3->o h4->o \n",
              "-2.73  1.67  0.82  6.45 -1.00 "
            ]
          },
          "metadata": {
            "tags": []
          }
        }
      ]
    },
    {
      "cell_type": "markdown",
      "metadata": {
        "id": "g6Eicq4UuP8A",
        "colab_type": "text"
      },
      "source": [
        "## 2.2 Training ozone data with the `caret` package \n",
        "* In R, there is an excellent package `caret` (classification and regression training) which contains functions to streamline the model training process.\n",
        "> * Can train hundreds of models with resampling methods\n",
        "> * Easy to manipulate, well documented\n",
        "> * Will automatically parallelize when multiple cpu cores are registered\n",
        "\n",
        "\n"
      ]
    },
    {
      "cell_type": "markdown",
      "metadata": {
        "id": "F-wRnp6xuA-N",
        "colab_type": "text"
      },
      "source": [
        "### 2.2.1 Install and load the `caret` library\n",
        "\n",
        "It will take a while on the Colab"
      ]
    },
    {
      "cell_type": "code",
      "metadata": {
        "id": "BC4ciE19WTxh",
        "colab_type": "code",
        "colab": {
          "base_uri": "https://localhost:8080/",
          "height": 351
        },
        "outputId": "b5ad1e10-7858-43e9-fa80-c25c9bf4d0aa"
      },
      "source": [
        "install.packages(\"caret\")\n",
        "library(caret)"
      ],
      "execution_count": 32,
      "outputs": [
        {
          "output_type": "stream",
          "text": [
            "Installing package into ‘/usr/local/lib/R/site-library’\n",
            "(as ‘lib’ is unspecified)\n",
            "\n",
            "also installing the dependencies ‘numDeriv’, ‘SQUAREM’, ‘lava’, ‘prodlim’, ‘iterators’, ‘data.table’, ‘gower’, ‘ipred’, ‘timeDate’, ‘foreach’, ‘ModelMetrics’, ‘recipes’, ‘pROC’\n",
            "\n",
            "\n",
            "Loading required package: lattice\n",
            "\n",
            "\n",
            "Attaching package: ‘lattice’\n",
            "\n",
            "\n",
            "The following object is masked from ‘package:faraway’:\n",
            "\n",
            "    melanoma\n",
            "\n",
            "\n",
            "Loading required package: ggplot2\n",
            "\n"
          ],
          "name": "stderr"
        }
      ]
    },
    {
      "cell_type": "markdown",
      "metadata": {
        "id": "WsbIN7qyvgjw",
        "colab_type": "text"
      },
      "source": [
        "### 2.2.2 Main function (`train`) arguments\n",
        "\n",
        "The `train` function set up a grid search on tuning parameters for vaious of data mining methods. \n",
        "* `method` A string specifying which classification or regression model to use. See http://topepo.github.io/caret/train-models-by-tag.html\n",
        "* `tuneGrid` A data frame with possible tuning values. The columns are named the same asthe tuning parameters. see http://topepo.github.io/caret/available-models.html \n"
      ]
    },
    {
      "cell_type": "code",
      "metadata": {
        "id": "ELavvk6lWdhO",
        "colab_type": "code",
        "colab": {}
      },
      "source": [
        "my.grid <- expand.grid(.decay = c(0.0001, 0.001,0.01), .size = c(1, 2, 3,4))\n",
        "nn.model <- train(O3~ .,ozone2,method=\"nnet\",tuneGrid = my.grid,trace=F)"
      ],
      "execution_count": 0,
      "outputs": []
    },
    {
      "cell_type": "code",
      "metadata": {
        "id": "hcaGOYeywh7j",
        "colab_type": "code",
        "colab": {
          "base_uri": "https://localhost:8080/",
          "height": 475
        },
        "outputId": "5268d4ab-9cf0-4e3f-8ba1-65f0ccce8fd7"
      },
      "source": [
        "nn.model"
      ],
      "execution_count": 34,
      "outputs": [
        {
          "output_type": "display_data",
          "data": {
            "text/plain": [
              "Neural Network \n",
              "\n",
              "330 samples\n",
              "  9 predictor\n",
              "\n",
              "No pre-processing\n",
              "Resampling: Bootstrapped (25 reps) \n",
              "Summary of sample sizes: 330, 330, 330, 330, 330, 330, ... \n",
              "Resampling results across tuning parameters:\n",
              "\n",
              "  decay  size  RMSE       Rsquared   MAE      \n",
              "  1e-04  1     0.9098169  0.5618097  0.7646130\n",
              "  1e-04  2     0.8469670  0.5879682  0.7200010\n",
              "  1e-04  3     0.8542313  0.5459183  0.7284955\n",
              "  1e-04  4     0.8313446  0.5875008  0.7119848\n",
              "  1e-03  1     0.8047307  0.5269971  0.6947007\n",
              "  1e-03  2     0.7905462  0.5693402  0.6834120\n",
              "  1e-03  3     0.7973612  0.5609591  0.6887754\n",
              "  1e-03  4     0.7916474  0.5769899  0.6844992\n",
              "  1e-02  1     0.8030423  0.5363164  0.6943225\n",
              "  1e-02  2     0.7880908  0.5806505  0.6796403\n",
              "  1e-02  3     0.7887178  0.5933171  0.6808377\n",
              "  1e-02  4     0.7891267  0.5941594  0.6813561\n",
              "\n",
              "RMSE was used to select the optimal model using the smallest value.\n",
              "The final values used for the model were size = 2 and decay = 0.01."
            ]
          },
          "metadata": {
            "tags": []
          }
        }
      ]
    },
    {
      "cell_type": "code",
      "metadata": {
        "id": "_45gCAXZXYUB",
        "colab_type": "code",
        "colab": {
          "base_uri": "https://localhost:8080/",
          "height": 158
        },
        "outputId": "41e52805-ed35-4eb9-d03d-0f7f1d3908e5"
      },
      "source": [
        "summary(nn.model)"
      ],
      "execution_count": 35,
      "outputs": [
        {
          "output_type": "display_data",
          "data": {
            "text/plain": [
              "a 9-2-1 network with 23 weights\n",
              "options were - decay=0.01\n",
              " b->h1 i1->h1 i2->h1 i3->h1 i4->h1 i5->h1 i6->h1 i7->h1 i8->h1 i9->h1 \n",
              " -0.02   2.23   0.25  -2.72   0.38  -0.99   2.92  -6.70   0.76   4.43 \n",
              " b->h2 i1->h2 i2->h2 i3->h2 i4->h2 i5->h2 i6->h2 i7->h2 i8->h2 i9->h2 \n",
              "  2.07  -0.88   1.66   1.13  -6.89   1.56  -3.34   0.73   0.54  -1.43 \n",
              "  b->o  h1->o  h2->o \n",
              "  5.42 -10.04 -11.42 "
            ]
          },
          "metadata": {
            "tags": []
          }
        }
      ]
    },
    {
      "cell_type": "markdown",
      "metadata": {
        "id": "KA1BzgOmv2sw",
        "colab_type": "text"
      },
      "source": [
        "## 3. `neuralnet` package"
      ]
    },
    {
      "cell_type": "markdown",
      "metadata": {
        "id": "4HH4MiJTwxnK",
        "colab_type": "text"
      },
      "source": [
        "## 3.1 A classification example: `Infertility` data\n",
        "* We apply the neural networks to the `Infertility` data using the `neuralnet` package. \n",
        "* `Infertility` data is included in the `datasets` package, which has 248 observations on the following 8 variables. \n",
        "> * **case** case status is the response, a binary variable with 1 = case and 0 = control\n",
        "> * **age** age in years of case\n",
        ">*  **parity** count\n",
        ">* **education** 0 = 1-5 years 1 = 6-11 years 2 = 12+ years\n",
        ">* **spontaneous**  number of prior spontaneous abortions 0 = 0, 1 = 1, 2 = 2 or more\n",
        ">* **induced** number of prior induced abortions 0 = 0, 1 = 1, 2 = 2 or more\n",
        ">* **stratum**  a numeric vector\n",
        ">* **pooled.stratum** a numeric vector \n"
      ]
    },
    {
      "cell_type": "code",
      "metadata": {
        "id": "BOZFq7VwQKAk",
        "colab_type": "code",
        "colab": {}
      },
      "source": [
        "library(reshape)\n",
        "library(faraway)\n",
        "library(neuralnet)\n",
        "library(datasets)"
      ],
      "execution_count": 0,
      "outputs": []
    },
    {
      "cell_type": "code",
      "metadata": {
        "id": "hdJNl5GDTGN1",
        "colab_type": "code",
        "colab": {
          "base_uri": "https://localhost:8080/",
          "height": 228
        },
        "outputId": "c69890eb-dc5a-41c3-8783-a6922a0edbe4"
      },
      "source": [
        "str(infert)\n",
        "table(infert$case)"
      ],
      "execution_count": 37,
      "outputs": [
        {
          "output_type": "stream",
          "text": [
            "'data.frame':\t248 obs. of  8 variables:\n",
            " $ education     : Factor w/ 3 levels \"0-5yrs\",\"6-11yrs\",..: 1 1 1 1 2 2 2 2 2 2 ...\n",
            " $ age           : num  26 42 39 34 35 36 23 32 21 28 ...\n",
            " $ parity        : num  6 1 6 4 3 4 1 2 1 2 ...\n",
            " $ induced       : num  1 1 2 2 1 2 0 0 0 0 ...\n",
            " $ case          : num  1 1 1 1 1 1 1 1 1 1 ...\n",
            " $ spontaneous   : num  2 0 0 0 1 1 0 0 1 0 ...\n",
            " $ stratum       : int  1 2 3 4 5 6 7 8 9 10 ...\n",
            " $ pooled.stratum: num  3 1 4 2 32 36 6 22 5 19 ...\n"
          ],
          "name": "stdout"
        },
        {
          "output_type": "display_data",
          "data": {
            "text/plain": [
              "\n",
              "  0   1 \n",
              "165  83 "
            ]
          },
          "metadata": {
            "tags": []
          }
        }
      ]
    },
    {
      "cell_type": "markdown",
      "metadata": {
        "id": "USHZGUy80YAj",
        "colab_type": "text"
      },
      "source": [
        "### 3.1.1 Training Set and Test Set\n",
        "\n",
        "* Dataset could be randomly split into two parts: training set and test set.\n",
        "\n"
      ]
    },
    {
      "cell_type": "code",
      "metadata": {
        "id": "iKVarCoRzxgH",
        "colab_type": "code",
        "colab": {}
      },
      "source": [
        "set.seed(1)\n",
        "indx <- sample(1:248,size=248,replace=F)\n",
        "dat1 <- infert[indx[1:200],] #train set\n",
        "dat2 <- infert[indx[201:248],] #test set"
      ],
      "execution_count": 0,
      "outputs": []
    },
    {
      "cell_type": "markdown",
      "metadata": {
        "id": "zpK6ambNTgZq",
        "colab_type": "text"
      },
      "source": [
        "### 3.1.2 Main function (`neuralnet`) arguments\n",
        "* `hidden` a vector of integers specifying the number of hidden neurons (vertices) in each layer.\n",
        "* `threshold` a  vector about the threshold for the partial derivatives of the errorfunction as stopping criteria.\n",
        "* `algorithm` a string containing the algorithm type to calculate the neural network.\n",
        "* `err.fct` the error function, which is a differentiable function that is used for the calculation of the error.  Alterna-tively, the strings ’sse’ and ’ce’ which stand for the sum of squared errors andthe cross-entropy can be used.\n",
        "* `act.fct` the activation function, which is a differentiable function that is used for smoothing the result of the cross productof the covariate or neurons and the weights.  Additionally the strings, ’logistic’and ’tanh’ are possible for the logistic function and tangent hyperbolicus.\n",
        "* `linear.output` logical. If act.fct should not be applied to the output neurons set linear output toTRUE, otherwise to FALSE."
      ]
    },
    {
      "cell_type": "markdown",
      "metadata": {
        "id": "GKdptCEFV2XQ",
        "colab_type": "text"
      },
      "source": [
        "### 3.1.3 Model fitting\n",
        "* We started with **four** variables (age+parity+induced+spontaneous) and fit a feed-forward neural network with **one** hidden layer containing **four** units. \n",
        "* The error function is cross-entropy (`err.fct=\"ce\"`) since this is a classification problem. "
      ]
    },
    {
      "cell_type": "code",
      "metadata": {
        "id": "us9N39fCT8KW",
        "colab_type": "code",
        "colab": {
          "base_uri": "https://localhost:8080/",
          "height": 1000
        },
        "outputId": "5bbb0d26-1f87-4415-931f-28c77891fc57"
      },
      "source": [
        "set.seed(2)\n",
        "nn <- neuralnet(case~age+parity+induced+spontaneous,data=dat1,hidden=4,err.fct=\"ce\",linear.output=FALSE)\n",
        "nn"
      ],
      "execution_count": 39,
      "outputs": [
        {
          "output_type": "display_data",
          "data": {
            "text/plain": [
              "$call\n",
              "neuralnet(formula = case ~ age + parity + induced + spontaneous, \n",
              "    data = dat1, hidden = 4, err.fct = \"ce\", linear.output = FALSE)\n",
              "\n",
              "$response\n",
              "    case\n",
              "68     1\n",
              "167    0\n",
              "129    0\n",
              "162    0\n",
              "215    0\n",
              "43     1\n",
              "14     1\n",
              "210    0\n",
              "187    0\n",
              "51     1\n",
              "225    0\n",
              "85     0\n",
              "21     1\n",
              "106    0\n",
              "182    0\n",
              "74     1\n",
              "7      1\n",
              "73     1\n",
              "79     1\n",
              "213    0\n",
              "37     1\n",
              "105    0\n",
              "217    0\n",
              "110    0\n",
              "165    0\n",
              "34     1\n",
              "235    0\n",
              "126    0\n",
              "89     0\n",
              "172    0\n",
              "207    0\n",
              "33     1\n",
              "84     0\n",
              "163    0\n",
              "70     1\n",
              "233    0\n",
              "42     1\n",
              "166    0\n",
              "111    0\n",
              "148    0\n",
              "156    0\n",
              "20     1\n",
              "44     1\n",
              "121    0\n",
              "87     0\n",
              "214    0\n",
              "205    0\n",
              "40     1\n",
              "219    0\n",
              "25     1\n",
              "119    0\n",
              "122    0\n",
              "39     1\n",
              "179    0\n",
              "212    0\n",
              "134    0\n",
              "24     1\n",
              "160    0\n",
              "242    0\n",
              "130    0\n",
              "45     1\n",
              "146    0\n",
              "22     1\n",
              "115    0\n",
              "104    0\n",
              "203    0\n",
              "183    0\n",
              "184    0\n",
              "103    0\n",
              "75     1\n",
              "13     1\n",
              "201    0\n",
              "176    0\n",
              "220    0\n",
              "23     1\n",
              "238    0\n",
              "216    0\n",
              "180    0\n",
              "29     1\n",
              "141    0\n",
              "150    0\n",
              "208    0\n",
              "108    0\n",
              "48     1\n",
              "226    0\n",
              "188    0\n",
              "149    0\n",
              "31     1\n",
              "102    0\n",
              "145    0\n",
              "231    0\n",
              "204    0\n",
              "83     1\n",
              "118    0\n",
              "90     0\n",
              "224    0\n",
              "107    0\n",
              "64     1\n",
              "171    0\n",
              "60     1\n",
              "239    0\n",
              "223    0\n",
              "138    0\n",
              "246    0\n",
              "243    0\n",
              "26     1\n",
              "170    0\n",
              "153    0\n",
              "196    0\n",
              "192    0\n",
              "177    0\n",
              "247    0\n",
              "154    0\n",
              "144    0\n",
              "1      1\n",
              "142    0\n",
              "78     1\n",
              "234    0\n",
              "28     1\n",
              "116    0\n",
              "227    0\n",
              "228    0\n",
              "61     1\n",
              "46     1\n",
              "113    0\n",
              "67     1\n",
              "86     0\n",
              "99     0\n",
              "71     1\n",
              "173    0\n",
              "202    0\n",
              "209    0\n",
              "206    0\n",
              "49     1\n",
              "128    0\n",
              "245    0\n",
              "56     1\n",
              "185    0\n",
              "50     1\n",
              "91     0\n",
              "232    0\n",
              "218    0\n",
              "139    0\n",
              "117    0\n",
              "53     1\n",
              "16     1\n",
              "137    0\n",
              "100    0\n",
              "2      1\n",
              "169    0\n",
              "65     1\n",
              "159    0\n",
              "77     1\n",
              "136    0\n",
              "66     1\n",
              "19     1\n",
              "17     1\n",
              "147    0\n",
              "195    0\n",
              "161    0\n",
              "35     1\n",
              "125    0\n",
              "93     0\n",
              "95     0\n",
              "168    0\n",
              "240    0\n",
              "9      1\n",
              "198    0\n",
              "222    0\n",
              "10     1\n",
              "32     1\n",
              "140    0\n",
              "127    0\n",
              "12     1\n",
              "190    0\n",
              "200    0\n",
              "15     1\n",
              "101    0\n",
              "98     0\n",
              "123    0\n",
              "92     0\n",
              "5      1\n",
              "41     1\n",
              "175    0\n",
              "181    0\n",
              "8      1\n",
              "36     1\n",
              "241    0\n",
              "94     0\n",
              "133    0\n",
              "236    0\n",
              "193    0\n",
              "151    0\n",
              "152    0\n",
              "194    0\n",
              "157    0\n",
              "54     1\n",
              "80     1\n",
              "186    0\n",
              "38     1\n",
              "\n",
              "$covariate\n",
              "    age parity induced spontaneous\n",
              "68   28      3       1           2\n",
              "167  42      1       0           0\n",
              "129  37      1       0           0\n",
              "162  34      1       0           0\n",
              "215  38      3       1           0\n",
              "43   41      1       0           0\n",
              "14   29      3       2           0\n",
              "210  30      1       0           0\n",
              "187  35      2       0           0\n",
              "51   24      3       1           2\n",
              "225  27      2       1           0\n",
              "85   42      1       0           0\n",
              "21   40      1       0           1\n",
              "106  28      2       0           0\n",
              "182  30      5       1           2\n",
              "74   38      6       0           2\n",
              "7    23      1       0           0\n",
              "73   31      1       0           1\n",
              "79   31      1       0           1\n",
              "213  27      4       2           0\n",
              "37   36      1       0           1\n",
              "105  35      2       0           0\n",
              "217  36      5       2           1\n",
              "110  38      2       0           0\n",
              "165  23      1       0           1\n",
              "34   32      2       0           2\n",
              "235  25      1       1           0\n",
              "126  41      1       0           0\n",
              "89   36      4       1           1\n",
              "172  23      1       0           0\n",
              "207  35      1       0           0\n",
              "33   42      1       1           0\n",
              "84   26      6       2           0\n",
              "163  35      2       0           0\n",
              "70   25      1       1           0\n",
              "233  28      3       2           0\n",
              "42   35      1       0           0\n",
              "166  26      6       2           0\n",
              "111  34      3       0           0\n",
              "148  26      2       0           1\n",
              "156  31      1       0           1\n",
              "20   44      1       0           1\n",
              "44   37      2       1           1\n",
              "121  34      3       2           0\n",
              "87   34      4       0           1\n",
              "214  26      2       1           0\n",
              "205  28      1       0           0\n",
              "40   28      1       0           1\n",
              "219  28      1       0           1\n",
              "25   27      2       1           1\n",
              "119  35      2       0           0\n",
              "122  30      3       0           2\n",
              "39   30      3       0           0\n",
              "179  29      3       0           2\n",
              "212  28      2       1           0\n",
              "134  24      3       2           1\n",
              "24   36      1       0           1\n",
              "160  25      1       0           0\n",
              "242  31      2       0           1\n",
              "130  28      2       1           0\n",
              "45   30      1       0           0\n",
              "146  34      1       0           0\n",
              "22   35      2       2           0\n",
              "115  34      2       1           0\n",
              "104  40      1       0           0\n",
              "203  34      3       2           0\n",
              "183  26      1       1           0\n",
              "184  25      3       1           1\n",
              "103  44      1       0           0\n",
              "75   26      2       0           2\n",
              "13   31      1       1           0\n",
              "201  35      2       0           0\n",
              "176  29      2       0           1\n",
              "220  29      2       1           1\n",
              "23   28      2       0           2\n",
              "238  31      1       0           0\n",
              "216  24      3       2           0\n",
              "180  31      2       1           0\n",
              "29   28      4       1           2\n",
              "141  28      2       2           0\n",
              "150  21      1       0           1\n",
              "208  41      1       0           0\n",
              "108  27      2       0           1\n",
              "48   27      4       2           0\n",
              "226  35      2       1           0\n",
              "188  28      2       2           0\n",
              "149  32      1       0           0\n",
              "31   32      1       0           1\n",
              "102  25      3       0           1\n",
              "145  25      1       1           0\n",
              "231  32      1       1           0\n",
              "204  30      3       0           1\n",
              "83   23      1       0           1\n",
              "118  39      1       0           0\n",
              "90   23      1       0           0\n",
              "224  28      1       0           0\n",
              "107  36      1       0           0\n",
              "64   31      2       0           2\n",
              "171  36      4       0           2\n",
              "60   27      2       0           2\n",
              "239  38      6       0           2\n",
              "223  28      2       1           0\n",
              "138  29      2       1           0\n",
              "246  35      2       2           0\n",
              "243  25      1       0           1\n",
              "26   40      2       0           2\n",
              "170  35      3       0           0\n",
              "153  25      1       0           0\n",
              "196  32      1       0           0\n",
              "192  38      2       0           0\n",
              "177  37      4       0           1\n",
              "247  29      1       0           1\n",
              "154  32      1       1           0\n",
              "144  35      2       2           0\n",
              "1    26      6       1           2\n",
              "142  28      1       1           0\n",
              "78   25      1       1           0\n",
              "234  37      3       0           2\n",
              "28   34      3       0           2\n",
              "116  42      1       1           0\n",
              "227  25      1       1           0\n",
              "228  34      1       0           0\n",
              "61   35      2       0           2\n",
              "46   37      1       1           0\n",
              "113  30      4       1           1\n",
              "67   21      1       0           1\n",
              "86   39      6       2           0\n",
              "99   27      2       1           0\n",
              "71   32      1       1           0\n",
              "173  32      2       0           1\n",
              "202  36      1       0           0\n",
              "209  37      2       0           0\n",
              "206  39      3       0           0\n",
              "49   26      2       2           0\n",
              "128  30      1       1           0\n",
              "245  34      1       0           0\n",
              "56   36      2       0           2\n",
              "185  44      1       1           0\n",
              "50   38      3       0           2\n",
              "91   32      2       2           0\n",
              "232  21      1       0           0\n",
              "218  27      3       2           0\n",
              "139  36      2       1           0\n",
              "117  32      2       0           0\n",
              "53   27      3       1           1\n",
              "16   27      2       2           0\n",
              "137  28      1       1           0\n",
              "100  30      5       0           2\n",
              "2    42      1       1           0\n",
              "169  34      4       0           2\n",
              "65   26      2       1           0\n",
              "159  31      2       2           0\n",
              "77   31      2       0           1\n",
              "136  27      3       1           1\n",
              "66   32      1       0           1\n",
              "19   25      3       2           1\n",
              "17   30      5       2           1\n",
              "147  31      2       0           0\n",
              "195  30      4       1           1\n",
              "161  31      1       0           0\n",
              "35   39      1       1           0\n",
              "125  35      1       0           0\n",
              "93   28      2       0           1\n",
              "95   37      4       1           1\n",
              "168  39      6       2           0\n",
              "240  26      2       1           1\n",
              "9    21      1       0           1\n",
              "198  42      1       0           0\n",
              "222  28      2       2           0\n",
              "10   28      2       0           0\n",
              "32   34      2       1           0\n",
              "140  28      2       1           1\n",
              "127  37      2       0           0\n",
              "12   37      4       2           1\n",
              "190  27      2       0           2\n",
              "200  39      1       0           0\n",
              "15   31      2       1           1\n",
              "101  26      1       0           0\n",
              "98   31      2       1           0\n",
              "123  28      1       1           0\n",
              "92   21      1       0           1\n",
              "5    35      3       1           1\n",
              "41   39      3       0           2\n",
              "175  28      2       0           1\n",
              "181  27      2       0           0\n",
              "8    32      2       0           0\n",
              "36   35      2       0           2\n",
              "241  31      1       1           0\n",
              "94   29      2       0           0\n",
              "133  38      3       1           0\n",
              "236  32      1       0           0\n",
              "193  34      3       0           0\n",
              "151  28      3       2           0\n",
              "152  37      3       1           1\n",
              "194  28      4       2           1\n",
              "157  26      2       0           2\n",
              "54   28      1       0           1\n",
              "80   34      1       0           1\n",
              "186  40      1       0           0\n",
              "38   34      3       1           2\n",
              "\n",
              "$model.list\n",
              "$model.list$response\n",
              "[1] \"case\"\n",
              "\n",
              "$model.list$variables\n",
              "[1] \"age\"         \"parity\"      \"induced\"     \"spontaneous\"\n",
              "\n",
              "\n",
              "$err.fct\n",
              "function (x, y) \n",
              "{\n",
              "    -(y * log(x) + (1 - y) * log(1 - x))\n",
              "}\n",
              "<bytecode: 0x55fef165b9d8>\n",
              "<environment: 0x55fef1658a18>\n",
              "attr(,\"type\")\n",
              "[1] \"ce\"\n",
              "\n",
              "$act.fct\n",
              "function (x) \n",
              "{\n",
              "    1/(1 + exp(-x))\n",
              "}\n",
              "<bytecode: 0x55fef165f578>\n",
              "<environment: 0x55fef165fee0>\n",
              "attr(,\"type\")\n",
              "[1] \"logistic\"\n",
              "\n",
              "$linear.output\n",
              "[1] FALSE\n",
              "\n",
              "$data\n",
              "    education age parity induced case spontaneous stratum pooled.stratum\n",
              "68    12+ yrs  28      3       1    1           2      68             58\n",
              "167    0-5yrs  42      1       0    0           0       2              1\n",
              "129   12+ yrs  37      1       0    0           0      46             48\n",
              "162   12+ yrs  34      1       0    0           0      80             47\n",
              "215   12+ yrs  38      3       1    0           0      50             60\n",
              "43    6-11yrs  41      1       0    1           0      43             15\n",
              "14    6-11yrs  29      3       2    1           0      14             29\n",
              "210   12+ yrs  30      1       0    0           0      45             44\n",
              "187   6-11yrs  35      2       0    0           0      22             24\n",
              "51    12+ yrs  24      3       1    1           2      51             56\n",
              "225   12+ yrs  27      2       1    0           0      60             50\n",
              "85     0-5yrs  42      1       0    0           0       2              1\n",
              "21    6-11yrs  40      1       0    1           1      21             14\n",
              "106   6-11yrs  28      2       0    0           0      23             19\n",
              "182   6-11yrs  30      5       1    0           2      17             38\n",
              "74    12+ yrs  38      6       0    1           2      74             63\n",
              "7     6-11yrs  23      1       0    1           0       7              6\n",
              "73    12+ yrs  31      1       0    1           1      73             45\n",
              "79    12+ yrs  31      1       0    1           1      79             45\n",
              "213   12+ yrs  27      4       2    0           0      48             61\n",
              "37    6-11yrs  36      1       0    1           1      37             12\n",
              "105   6-11yrs  35      2       0    0           0      22             24\n",
              "217   12+ yrs  36      5       2    0           1      52             62\n",
              "110   6-11yrs  38      2       0    0           0      27             26\n",
              "165   12+ yrs  23      1       0    0           1      83             40\n",
              "34    6-11yrs  32      2       0    1           2      34             22\n",
              "235   12+ yrs  25      1       1    0           0      70             41\n",
              "126   6-11yrs  41      1       0    0           0      43             15\n",
              "89    6-11yrs  36      4       1    0           1       6             36\n",
              "172   6-11yrs  23      1       0    0           0       7              6\n",
              "207   6-11yrs  35      1       0    0           0      42             11\n",
              "33    6-11yrs  42      1       1    1           0      33             16\n",
              "84     0-5yrs  26      6       2    0           0       1              3\n",
              "163   12+ yrs  35      2       0    0           0      81             54\n",
              "70    12+ yrs  25      1       1    1           0      70             41\n",
              "233   12+ yrs  28      3       2    0           0      68             58\n",
              "42    6-11yrs  35      1       0    1           0      42             11\n",
              "166    0-5yrs  26      6       2    0           0       1              3\n",
              "111   6-11yrs  34      3       0    0           0      28             31\n",
              "148   12+ yrs  26      2       0    0           1      65             49\n",
              "156   12+ yrs  31      1       0    0           1      73             45\n",
              "20    6-11yrs  44      1       0    1           1      20             17\n",
              "44    6-11yrs  37      2       1    1           1      44             25\n",
              "121   6-11yrs  34      3       2    0           0      38             31\n",
              "87     0-5yrs  34      4       0    0           1       4              2\n",
              "214   12+ yrs  26      2       1    0           0      49             49\n",
              "205   6-11yrs  28      1       0    0           0      40              8\n",
              "40    6-11yrs  28      1       0    1           1      40              8\n",
              "219   12+ yrs  28      1       0    0           1      54             42\n",
              "25    6-11yrs  27      2       1    1           1      25             18\n",
              "119   6-11yrs  35      2       0    0           0      36             24\n",
              "122   6-11yrs  30      3       0    0           2      39             30\n",
              "39    6-11yrs  30      3       0    1           0      39             30\n",
              "179   6-11yrs  29      3       0    0           2      14             29\n",
              "212   12+ yrs  28      2       1    0           0      47             51\n",
              "134   12+ yrs  24      3       2    0           1      51             56\n",
              "24    6-11yrs  36      1       0    1           1      24             12\n",
              "160   12+ yrs  25      1       0    0           0      78             41\n",
              "242   12+ yrs  31      2       0    0           1      77             53\n",
              "130   12+ yrs  28      2       1    0           0      47             51\n",
              "45    12+ yrs  30      1       0    1           0      45             44\n",
              "146   12+ yrs  34      1       0    0           0      63             47\n",
              "22    6-11yrs  35      2       2    1           0      22             24\n",
              "115   6-11yrs  34      2       1    0           0      32             23\n",
              "104   6-11yrs  40      1       0    0           0      21             14\n",
              "203   6-11yrs  34      3       2    0           0      38             31\n",
              "183   6-11yrs  26      1       1    0           0      18              7\n",
              "184   6-11yrs  25      3       1    0           1      19             28\n",
              "103   6-11yrs  44      1       0    0           0      20             17\n",
              "75    12+ yrs  26      2       0    1           2      75             49\n",
              "13    6-11yrs  31      1       1    1           0      13              9\n",
              "201   6-11yrs  35      2       0    0           0      36             24\n",
              "176   6-11yrs  29      2       0    0           1      11             20\n",
              "220   12+ yrs  29      2       1    0           1      55             52\n",
              "23    6-11yrs  28      2       0    1           2      23             19\n",
              "238   12+ yrs  31      1       0    0           0      73             45\n",
              "216   12+ yrs  24      3       2    0           0      51             56\n",
              "180   6-11yrs  31      2       1    0           0      15             21\n",
              "29    6-11yrs  28      4       1    1           2      29             34\n",
              "141   12+ yrs  28      2       2    0           0      58             51\n",
              "150   12+ yrs  21      1       0    0           1      67             39\n",
              "208   6-11yrs  41      1       0    0           0      43             15\n",
              "108   6-11yrs  27      2       0    0           1      25             18\n",
              "48    12+ yrs  27      4       2    1           0      48             61\n",
              "226   12+ yrs  35      2       1    0           0      61             54\n",
              "188   6-11yrs  28      2       2    0           0      23             19\n",
              "149   12+ yrs  32      1       0    0           0      66             46\n",
              "31    6-11yrs  32      1       0    1           1      31             10\n",
              "102   6-11yrs  25      3       0    0           1      19             28\n",
              "145   12+ yrs  25      1       1    0           0      62             41\n",
              "231   12+ yrs  32      1       1    0           0      66             46\n",
              "204   6-11yrs  30      3       0    0           1      39             30\n",
              "83    12+ yrs  23      1       0    1           1      83             40\n",
              "118   6-11yrs  39      1       0    0           0      35             13\n",
              "90    6-11yrs  23      1       0    0           0       7              6\n",
              "224   12+ yrs  28      1       0    0           0      59             42\n",
              "107   6-11yrs  36      1       0    0           0      24             12\n",
              "64    12+ yrs  31      2       0    1           2      64             53\n",
              "171   6-11yrs  36      4       0    0           2       6             36\n",
              "60    12+ yrs  27      2       0    1           2      60             50\n",
              "239   12+ yrs  38      6       0    0           2      74             63\n",
              "223   12+ yrs  28      2       1    0           0      58             51\n",
              "138   12+ yrs  29      2       1    0           0      55             52\n",
              "246   12+ yrs  35      2       2    0           0      81             54\n",
              "243   12+ yrs  25      1       0    0           1      78             41\n",
              "26    6-11yrs  40      2       0    1           2      26             27\n",
              "170   6-11yrs  35      3       0    0           0       5             32\n",
              "153   12+ yrs  25      1       0    0           0      70             41\n",
              "196   6-11yrs  32      1       0    0           0      31             10\n",
              "192   6-11yrs  38      2       0    0           0      27             26\n",
              "177   6-11yrs  37      4       0    0           1      12             37\n",
              "247   12+ yrs  29      1       0    0           1      82             43\n",
              "154   12+ yrs  32      1       1    0           0      71             46\n",
              "144   12+ yrs  35      2       2    0           0      61             54\n",
              "1      0-5yrs  26      6       1    1           2       1              3\n",
              "142   12+ yrs  28      1       1    0           0      59             42\n",
              "78    12+ yrs  25      1       1    1           0      78             41\n",
              "234   12+ yrs  37      3       0    0           2      69             59\n",
              "28    6-11yrs  34      3       0    1           2      28             31\n",
              "116   6-11yrs  42      1       1    0           0      33             16\n",
              "227   12+ yrs  25      1       1    0           0      62             41\n",
              "228   12+ yrs  34      1       0    0           0      63             47\n",
              "61    12+ yrs  35      2       0    1           2      61             54\n",
              "46    12+ yrs  37      1       1    1           0      46             48\n",
              "113   6-11yrs  30      4       1    0           1      30             35\n",
              "67    12+ yrs  21      1       0    1           1      67             39\n",
              "86     0-5yrs  39      6       2    0           0       3              4\n",
              "99    6-11yrs  27      2       1    0           0      16             18\n",
              "71    12+ yrs  32      1       1    1           0      71             46\n",
              "173   6-11yrs  32      2       0    0           1       8             22\n",
              "202   6-11yrs  36      1       0    0           0      37             12\n",
              "209   6-11yrs  37      2       0    0           0      44             25\n",
              "206   6-11yrs  39      3       0    0           0      41             33\n",
              "49    12+ yrs  26      2       2    1           0      49             49\n",
              "128   12+ yrs  30      1       1    0           0      45             44\n",
              "245   12+ yrs  34      1       0    0           0      80             47\n",
              "56    12+ yrs  36      2       0    1           2      56             55\n",
              "185   6-11yrs  44      1       1    0           0      20             17\n",
              "50    12+ yrs  38      3       0    1           2      50             60\n",
              "91    6-11yrs  32      2       2    0           0       8             22\n",
              "232   12+ yrs  21      1       0    0           0      67             39\n",
              "218   12+ yrs  27      3       2    0           0      53             57\n",
              "139   12+ yrs  36      2       1    0           0      56             55\n",
              "117   6-11yrs  32      2       0    0           0      34             22\n",
              "53    12+ yrs  27      3       1    1           1      53             57\n",
              "16    6-11yrs  27      2       2    1           0      16             18\n",
              "137   12+ yrs  28      1       1    0           0      54             42\n",
              "100   6-11yrs  30      5       0    0           2      17             38\n",
              "2      0-5yrs  42      1       1    1           0       2              1\n",
              "169    0-5yrs  34      4       0    0           2       4              2\n",
              "65    12+ yrs  26      2       1    1           0      65             49\n",
              "159   12+ yrs  31      2       2    0           0      77             53\n",
              "77    12+ yrs  31      2       0    1           1      77             53\n",
              "136   12+ yrs  27      3       1    0           1      53             57\n",
              "66    12+ yrs  32      1       0    1           1      66             46\n",
              "19    6-11yrs  25      3       2    1           1      19             28\n",
              "17    6-11yrs  30      5       2    1           1      17             38\n",
              "147   12+ yrs  31      2       0    0           0      64             53\n",
              "195   6-11yrs  30      4       1    0           1      30             35\n",
              "161   12+ yrs  31      1       0    0           0      79             45\n",
              "35    6-11yrs  39      1       1    1           0      35             13\n",
              "125   6-11yrs  35      1       0    0           0      42             11\n",
              "93    6-11yrs  28      2       0    0           1      10             19\n",
              "95    6-11yrs  37      4       1    0           1      12             37\n",
              "168    0-5yrs  39      6       2    0           0       3              4\n",
              "240   12+ yrs  26      2       1    0           1      75             49\n",
              "9     6-11yrs  21      1       0    1           1       9              5\n",
              "198   6-11yrs  42      1       0    0           0      33             16\n",
              "222   12+ yrs  28      2       2    0           0      57             51\n",
              "10    6-11yrs  28      2       0    1           0      10             19\n",
              "32    6-11yrs  34      2       1    1           0      32             23\n",
              "140   12+ yrs  28      2       1    0           1      57             51\n",
              "127   6-11yrs  37      2       0    0           0      44             25\n",
              "12    6-11yrs  37      4       2    1           1      12             37\n",
              "190   6-11yrs  27      2       0    0           2      25             18\n",
              "200   6-11yrs  39      1       0    0           0      35             13\n",
              "15    6-11yrs  31      2       1    1           1      15             21\n",
              "101   6-11yrs  26      1       0    0           0      18              7\n",
              "98    6-11yrs  31      2       1    0           0      15             21\n",
              "123   6-11yrs  28      1       1    0           0      40              8\n",
              "92    6-11yrs  21      1       0    0           1       9              5\n",
              "5     6-11yrs  35      3       1    1           1       5             32\n",
              "41    6-11yrs  39      3       0    1           2      41             33\n",
              "175   6-11yrs  28      2       0    0           1      10             19\n",
              "181   6-11yrs  27      2       0    0           0      16             18\n",
              "8     6-11yrs  32      2       0    1           0       8             22\n",
              "36    6-11yrs  35      2       0    1           2      36             24\n",
              "241   12+ yrs  31      1       1    0           0      76             45\n",
              "94    6-11yrs  29      2       0    0           0      11             20\n",
              "133   12+ yrs  38      3       1    0           0      50             60\n",
              "236   12+ yrs  32      1       0    0           0      71             46\n",
              "193   6-11yrs  34      3       0    0           0      28             31\n",
              "151   12+ yrs  28      3       2    0           0      68             58\n",
              "152   12+ yrs  37      3       1    0           1      69             59\n",
              "194   6-11yrs  28      4       2    0           1      29             34\n",
              "157   12+ yrs  26      2       0    0           2      75             49\n",
              "54    12+ yrs  28      1       0    1           1      54             42\n",
              "80    12+ yrs  34      1       0    1           1      80             47\n",
              "186   6-11yrs  40      1       0    0           0      21             14\n",
              "38    6-11yrs  34      3       1    1           2      38             31\n",
              "\n",
              "$exclude\n",
              "NULL\n",
              "\n",
              "$net.result\n",
              "$net.result[[1]]\n",
              "         [,1]\n",
              "68  0.9744048\n",
              "167 0.1688599\n",
              "129 0.1479201\n",
              "162 0.1390230\n",
              "215 0.1086856\n",
              "43  0.1639095\n",
              "14  0.1190940\n",
              "210 0.1300797\n",
              "187 0.1087896\n",
              "51  0.9479194\n",
              "225 0.1205697\n",
              "85  0.1688599\n",
              "21  0.9505760\n",
              "106 0.1069634\n",
              "182 0.6511829\n",
              "74  0.4179821\n",
              "7   0.1197916\n",
              "73  0.6826229\n",
              "79  0.6826229\n",
              "213 0.1057497\n",
              "37  0.8631115\n",
              "105 0.1087896\n",
              "217 0.6438561\n",
              "110 0.1098847\n",
              "165 0.4005089\n",
              "34  0.9484199\n",
              "235 0.2404549\n",
              "126 0.1639095\n",
              "89  0.1114132\n",
              "172 0.1197916\n",
              "207 0.1417472\n",
              "33  0.7000870\n",
              "84  0.1039693\n",
              "163 0.1087896\n",
              "70  0.2404549\n",
              "233 0.1180679\n",
              "42  0.1417472\n",
              "166 0.1039693\n",
              "111 0.1045771\n",
              "148 0.1371025\n",
              "156 0.6826229\n",
              "20  0.9872380\n",
              "44  0.7885578\n",
              "121 0.1255452\n",
              "87  0.1049755\n",
              "214 0.1194386\n",
              "205 0.1265606\n",
              "40  0.5644049\n",
              "219 0.5644049\n",
              "25  0.4194940\n",
              "119 0.1087896\n",
              "122 0.1923228\n",
              "39  0.1044269\n",
              "179 0.1820284\n",
              "212 0.1217882\n",
              "134 0.3819460\n",
              "24  0.8631115\n",
              "160 0.1221979\n",
              "242 0.1523117\n",
              "130 0.1217882\n",
              "45  0.1300797\n",
              "146 0.1390230\n",
              "22  0.3534536\n",
              "115 0.1314066\n",
              "104 0.1593783\n",
              "203 0.1255452\n",
              "183 0.2530394\n",
              "184 0.1281176\n",
              "103 0.1802031\n",
              "75  0.7712540\n",
              "13  0.3383425\n",
              "201 0.1087896\n",
              "176 0.1454605\n",
              "220 0.4815745\n",
              "23  0.8425166\n",
              "238 0.1320563\n",
              "216 0.1146363\n",
              "180 0.1260462\n",
              "29  0.7328279\n",
              "141 0.2366815\n",
              "150 0.3507758\n",
              "208 0.1639095\n",
              "108 0.1396635\n",
              "48  0.1057497\n",
              "226 0.1334920\n",
              "188 0.2366815\n",
              "149 0.1341953\n",
              "31  0.7223679\n",
              "102 0.1079645\n",
              "145 0.2404549\n",
              "231 0.3608989\n",
              "204 0.1095864\n",
              "83  0.4005089\n",
              "118 0.1552263\n",
              "90  0.1197916\n",
              "224 0.1265606\n",
              "107 0.1447052\n",
              "64  0.9270980\n",
              "171 0.2885040\n",
              "60  0.8081118\n",
              "239 0.4179821\n",
              "223 0.1217882\n",
              "138 0.1231016\n",
              "246 0.3534536\n",
              "243 0.4594068\n",
              "26  0.9996965\n",
              "170 0.1046213\n",
              "153 0.1221979\n",
              "196 0.1341953\n",
              "192 0.1098847\n",
              "177 0.1052061\n",
              "247 0.6029650\n",
              "154 0.3608989\n",
              "144 0.3534536\n",
              "1   0.6318534\n",
              "142 0.2822564\n",
              "78  0.2404549\n",
              "234 0.6010669\n",
              "28  0.3107163\n",
              "116 0.7000870\n",
              "227 0.2404549\n",
              "228 0.1390230\n",
              "61  0.9889898\n",
              "46  0.5074073\n",
              "113 0.1084698\n",
              "67  0.3507758\n",
              "86  0.1040302\n",
              "99  0.1205697\n",
              "71  0.3608989\n",
              "173 0.1562006\n",
              "202 0.1447052\n",
              "209 0.1094942\n",
              "206 0.1048310\n",
              "49  0.2155982\n",
              "128 0.3178141\n",
              "245 0.1390230\n",
              "56  0.9946072\n",
              "185 0.7773995\n",
              "50  0.6988785\n",
              "91  0.2935747\n",
              "232 0.1177167\n",
              "218 0.1171144\n",
              "139 0.1357501\n",
              "117 0.1078991\n",
              "53  0.1319020\n",
              "16  0.2256266\n",
              "137 0.2822564\n",
              "100 0.1105479\n",
              "2   0.7000870\n",
              "169 0.1759377\n",
              "65  0.1194386\n",
              "159 0.2771851\n",
              "77  0.1523117\n",
              "136 0.1319020\n",
              "66  0.7223679\n",
              "19  0.4659056\n",
              "17  0.5515500\n",
              "147 0.1076407\n",
              "195 0.1084698\n",
              "161 0.1320563\n",
              "35  0.5811038\n",
              "125 0.1417472\n",
              "93  0.1424425\n",
              "95  0.1124425\n",
              "168 0.1040302\n",
              "240 0.3919521\n",
              "9   0.3507758\n",
              "198 0.1688599\n",
              "222 0.2366815\n",
              "10  0.1069634\n",
              "32  0.1314066\n",
              "140 0.4493719\n",
              "127 0.1094942\n",
              "12  0.7233569\n",
              "190 0.8081118\n",
              "200 0.1552263\n",
              "15  0.5524751\n",
              "101 0.1235433\n",
              "98  0.1260462\n",
              "123 0.2822564\n",
              "92  0.3507758\n",
              "5   0.1554575\n",
              "41  0.7697177\n",
              "175 0.1424425\n",
              "181 0.1067666\n",
              "8   0.1078991\n",
              "36  0.9889898\n",
              "241 0.3383425\n",
              "94  0.1071740\n",
              "133 0.1086856\n",
              "236 0.1341953\n",
              "193 0.1045771\n",
              "151 0.1180679\n",
              "152 0.1653317\n",
              "194 0.4692359\n",
              "157 0.7712540\n",
              "54  0.5644049\n",
              "80  0.7978319\n",
              "186 0.1593783\n",
              "38  0.9936252\n",
              "\n",
              "\n",
              "$weights\n",
              "$weights[[1]]\n",
              "$weights[[1]][[1]]\n",
              "           [,1]         [,2]        [,3]       [,4]\n",
              "[1,]  0.5706705 -54.73003957 -5.54996989 -1.3556441\n",
              "[2,]  1.6524342   0.57838884  0.06637465  1.8340296\n",
              "[3,]  3.0554303  -0.03559366 -1.93889342  0.9912317\n",
              "[4,] -3.2987757  11.26120653  1.71852415  0.2812287\n",
              "[5,]  1.0197482  16.84373594  2.41961710  0.5006652\n",
              "\n",
              "$weights[[1]][[2]]\n",
              "          [,1]\n",
              "[1,]  1.074124\n",
              "[2,] -2.216621\n",
              "[3,]  2.703272\n",
              "[4,] 62.258225\n",
              "[5,] -1.011757\n",
              "\n",
              "\n",
              "\n",
              "$generalized.weights\n",
              "$generalized.weights[[1]]\n",
              "            [,1]          [,2]         [,3]         [,4]\n",
              "68  1.980781e-01 -5.703301e+00  5.110247807 7.199892e+00\n",
              "167 3.686969e-02 -1.077014e+00  0.954603271 1.344045e+00\n",
              "129 2.659195e-02 -7.767869e-01  0.688499414 9.693812e-01\n",
              "162 2.184178e-02 -6.380281e-01  0.565511565 7.962189e-01\n",
              "215 3.317161e-03 -9.689876e-02  0.085885525 1.209236e-01\n",
              "43  3.454186e-02 -1.009015e+00  0.894332728 1.259187e+00\n",
              "14  1.014487e-02 -2.963373e-01  0.262661851 3.698184e-01\n",
              "210 1.679038e-02 -4.904696e-01  0.434724185 6.120752e-01\n",
              "187 3.388272e-03 -9.897601e-02  0.087726671 1.235158e-01\n",
              "51  1.810428e-01 -4.478192e+00  4.508927497 6.395903e+00\n",
              "225 1.106858e-02 -3.233281e-01  0.286579543 4.034932e-01\n",
              "85  3.686969e-02 -1.077014e+00  0.954603271 1.344045e+00\n",
              "21  3.113856e-01 -9.095977e+00  8.062165178 1.135123e+01\n",
              "106 2.130395e-03 -6.223173e-02  0.055158642 7.766128e-02\n",
              "182 6.059107e-03 -1.489559e-01  0.150701404 2.138256e-01\n",
              "74  3.442119e-01 -2.771701e-02  6.703230441 1.002572e+01\n",
              "7   1.058267e-02 -3.091342e-01  0.273998830 3.857800e-01\n",
              "73  1.847302e-01 -5.396219e+00  4.782899905 6.734142e+00\n",
              "79  1.847302e-01 -5.396219e+00  4.782899905 6.734142e+00\n",
              "213 1.283602e-03 -3.749330e-02  0.033233557 4.679174e-02\n",
              "37  2.481880e-01 -7.249906e+00  6.425903054 9.047429e+00\n",
              "105 3.388272e-03 -9.897601e-02  0.087726671 1.235158e-01\n",
              "217 1.164848e-02 -1.105480e-01  0.250989761 3.668510e-01\n",
              "110 4.133326e-03 -1.207400e-01  0.107017069 1.506760e-01\n",
              "165 1.129476e-01 -3.299352e+00  2.924356776 4.117384e+00\n",
              "34  3.986829e-01 -8.726215e+00  9.679203773 1.379912e+01\n",
              "235 6.556979e-02 -1.915382e+00  1.697685395 2.390277e+00\n",
              "126 3.454186e-02 -1.009015e+00  0.894332728 1.259187e+00\n",
              "89  8.766092e-03 -1.373865e-01  0.200821006 2.897060e-01\n",
              "172 1.058267e-02 -3.091342e-01  0.273998830 3.857800e-01\n",
              "207 2.332371e-02 -6.813170e-01  0.603880417 8.502408e-01\n",
              "33  1.896468e-01 -5.539841e+00  4.910197811 6.913373e+00\n",
              "84  2.491775e-05 -7.265949e-04  0.000644869 9.080266e-04\n",
              "163 3.388272e-03 -9.897601e-02  0.087726671 1.235158e-01\n",
              "70  6.556979e-02 -1.915382e+00  1.697685395 2.390277e+00\n",
              "233 9.496267e-03 -2.773943e-01  0.245869438 3.461752e-01\n",
              "42  2.332371e-02 -6.813170e-01  0.603880417 8.502408e-01\n",
              "166 2.491775e-05 -7.265949e-04  0.000644869 9.080266e-04\n",
              "111 4.567919e-04 -1.334351e-02  0.011826925 1.665186e-02\n",
              "148 2.078169e-02 -6.070614e-01  0.538064463 7.575744e-01\n",
              "156 1.847302e-01 -5.396219e+00  4.782899905 6.734142e+00\n",
              "20  3.865387e-01 -1.129114e+01 10.007940691 1.409081e+01\n",
              "44  2.244764e-01 -6.331095e+00  5.762158518 8.126160e+00\n",
              "121 1.411494e-02 -4.121701e-01  0.365421444 5.145082e-01\n",
              "87  7.386599e-04 -2.157677e-02  0.019124739 2.692694e-02\n",
              "214 1.036133e-02 -3.026685e-01  0.268267996 3.777112e-01\n",
              "205 1.471800e-02 -4.299327e-01  0.381067714 5.365290e-01\n",
              "40  1.539736e-01 -4.497779e+00  3.986573444 5.612945e+00\n",
              "219 1.539736e-01 -4.497779e+00  3.986573444 5.612945e+00\n",
              "25  1.178795e-01 -3.442717e+00  3.051895493 4.296995e+00\n",
              "119 3.388272e-03 -9.897601e-02  0.087726671 1.235158e-01\n",
              "122 7.687957e-02 -1.268133e+00  1.775152549 2.556659e+00\n",
              "39  3.502969e-04 -1.023265e-02  0.009069631 1.276970e-02\n",
              "179 5.978928e-02 -1.187557e+00  1.424887198 2.038956e+00\n",
              "212 1.182382e-02 -3.453898e-01  0.306133779 4.310248e-01\n",
              "134 2.991351e-01 -2.322981e+00  6.331814458 9.291033e+00\n",
              "24  2.481880e-01 -7.249906e+00  6.425903054 9.047429e+00\n",
              "160 1.207622e-02 -3.527628e-01  0.312668738 4.402258e-01\n",
              "242 2.884599e-02 -8.426304e-01  0.746859403 1.051550e+00\n",
              "130 1.182382e-02 -3.453898e-01  0.306133779 4.310248e-01\n",
              "45  1.679038e-02 -4.904696e-01  0.434724185 6.120752e-01\n",
              "146 2.184178e-02 -6.380281e-01  0.565511565 7.962189e-01\n",
              "22  1.003504e-01 -2.931102e+00  2.598140681 3.658100e+00\n",
              "115 1.755886e-02 -5.129180e-01  0.454621167 6.400894e-01\n",
              "104 3.235862e-02 -9.452390e-01  0.837805742 1.179599e+00\n",
              "203 1.411494e-02 -4.121701e-01  0.365421444 5.145082e-01\n",
              "183 6.991481e-02 -2.042306e+00  1.810183293 2.548670e+00\n",
              "184 1.564761e-02 -4.568745e-01  0.405089475 5.703632e-01\n",
              "103 4.199643e-02 -1.226773e+00  1.087340953 1.530935e+00\n",
              "75  2.147645e-01 -6.169299e+00  5.537558816 7.802786e+00\n",
              "13  9.612462e-02 -2.807930e+00  2.488788603 3.504120e+00\n",
              "201 3.388272e-03 -9.897601e-02  0.087726671 1.235158e-01\n",
              "176 2.530420e-02 -7.391698e-01  0.655157861 9.224375e-01\n",
              "220 1.335474e-01 -3.898866e+00  3.457219801 4.867766e+00\n",
              "23  2.487718e-01 -6.938726e+00  6.368712489 8.986149e+00\n",
              "238 1.793261e-02 -5.238357e-01  0.464297976 6.537140e-01\n",
              "216 7.289685e-03 -2.129411e-01  0.188739114 2.657376e-01\n",
              "180 1.441077e-02 -4.209582e-01  0.373113272 5.253294e-01\n",
              "29  3.358426e-02 -8.952237e-01  0.850634723 1.202692e+00\n",
              "141 6.423515e-02 -1.876391e+00  1.663128585 2.341623e+00\n",
              "150 9.960169e-02 -2.909500e+00  2.578814579 3.630874e+00\n",
              "208 3.454186e-02 -1.009015e+00  0.894332728 1.259187e+00\n",
              "108 2.219248e-02 -6.482724e-01  0.574591521 8.090032e-01\n",
              "48  1.283602e-03 -3.749330e-02  0.033233557 4.679174e-02\n",
              "226 1.875288e-02 -5.477971e-01  0.485536034 6.836164e-01\n",
              "188 6.423515e-02 -1.876391e+00  1.663128585 2.341623e+00\n",
              "149 1.915181e-02 -5.594502e-01  0.495864671 6.981587e-01\n",
              "31  1.961430e-01 -5.729601e+00  5.078390560 7.150182e+00\n",
              "102 2.822355e-03 -8.244482e-02  0.073074370 1.028860e-01\n",
              "145 6.556979e-02 -1.915382e+00  1.697685395 2.390277e+00\n",
              "231 1.023862e-01 -2.990840e+00  2.650909407 3.732380e+00\n",
              "204 3.931054e-03 -1.148314e-01  0.101779970 1.433024e-01\n",
              "83  1.129476e-01 -3.299352e+00  2.924356776 4.117384e+00\n",
              "118 3.031127e-02 -8.854333e-01  0.784797419 1.104965e+00\n",
              "90  1.058267e-02 -3.091342e-01  0.273998830 3.857800e-01\n",
              "224 1.471800e-02 -4.299327e-01  0.381067714 5.365290e-01\n",
              "107 2.490493e-02 -7.275069e-01  0.644820441 9.078828e-01\n",
              "64  3.419076e-01 -8.246501e+00  8.468886223 1.202594e+01\n",
              "171 3.877326e-01 -2.991017e-01  7.609768593 1.136071e+01\n",
              "60  2.303719e-01 -6.544222e+00  5.923813064 8.351365e+00\n",
              "239 3.442119e-01 -2.771701e-02  6.703230441 1.002572e+01\n",
              "223 1.182382e-02 -3.453898e-01  0.306133779 4.310248e-01\n",
              "138 1.263028e-02 -3.689476e-01  0.327014016 4.604234e-01\n",
              "246 1.003504e-01 -2.931102e+00  2.598140681 3.658100e+00\n",
              "243 1.279583e-01 -3.737834e+00  3.313002132 4.664582e+00\n",
              "26  6.176351e-01 -1.333569e+01 14.954630527 2.133145e+01\n",
              "170 4.881328e-04 -1.425902e-02  0.012638379 1.779436e-02\n",
              "153 1.207622e-02 -3.527628e-01  0.312668738 4.402258e-01\n",
              "196 1.915181e-02 -5.594502e-01  0.495864671 6.981587e-01\n",
              "192 4.133326e-03 -1.207400e-01  0.107017069 1.506760e-01\n",
              "177 9.014139e-04 -2.632878e-02  0.023338150 3.285939e-02\n",
              "247 1.636685e-01 -4.780977e+00  4.237584535 5.966359e+00\n",
              "154 1.023862e-01 -2.990840e+00  2.650909407 3.732380e+00\n",
              "144 1.003504e-01 -2.931102e+00  2.598140681 3.658100e+00\n",
              "1   1.052435e-02 -1.707506e-02  0.208527440 3.106203e-01\n",
              "142 7.945135e-02 -2.320881e+00  2.057096474 2.896314e+00\n",
              "78  6.556979e-02 -1.915382e+00  1.697685395 2.390277e+00\n",
              "234 4.529090e-01 -2.013491e+00  9.255523788 1.368898e+01\n",
              "28  2.917091e-01 -1.654960e+00  6.040174040 8.906859e+00\n",
              "116 1.896468e-01 -5.539841e+00  4.910197811 6.913373e+00\n",
              "227 6.556979e-02 -1.915382e+00  1.697685395 2.390277e+00\n",
              "228 2.184178e-02 -6.380281e-01  0.565511565 7.962189e-01\n",
              "61  6.773458e-01 -1.030314e+01 15.448356241 2.230663e+01\n",
              "46  1.398700e-01 -4.085791e+00  3.621410933 5.098810e+00\n",
              "113 3.282060e-03 -9.216283e-02  0.084159316 1.187107e-01\n",
              "67  9.960169e-02 -2.909500e+00  2.578814579 3.630874e+00\n",
              "86  1.402639e-04 -1.726966e-03  0.003109457 4.516955e-03\n",
              "99  1.106858e-02 -3.233281e-01  0.286579543 4.034932e-01\n",
              "71  1.023862e-01 -2.990840e+00  2.650909407 3.732380e+00\n",
              "173 3.079589e-02 -8.995894e-01  0.797344640 1.122631e+00\n",
              "202 2.490493e-02 -7.275069e-01  0.644820441 9.078828e-01\n",
              "209 3.868382e-03 -1.130007e-01  0.100157334 1.410177e-01\n",
              "206 6.365190e-04 -1.859358e-02  0.016480287 2.320362e-02\n",
              "49  5.647117e-02 -1.649598e+00  1.462110127 2.058596e+00\n",
              "128 9.022745e-02 -2.635666e+00  2.336103558 3.289146e+00\n",
              "245 2.184178e-02 -6.380281e-01  0.565511565 7.962189e-01\n",
              "56  7.540586e-01 -1.087191e+01 17.066203045 2.468252e+01\n",
              "185 2.136351e-01 -6.240568e+00  5.531283130 7.787838e+00\n",
              "50  4.033024e-01 -2.141832e+00  8.318629501 1.227740e+01\n",
              "91  8.297042e-02 -2.423630e+00  2.148199087 3.024586e+00\n",
              "232 9.273001e-03 -2.708769e-01  0.240089795 3.380374e-01\n",
              "218 8.888990e-03 -2.596569e-01  0.230146693 3.240380e-01\n",
              "139 2.002731e-02 -5.850247e-01  0.518532413 7.300741e-01\n",
              "117 2.777337e-03 -8.112976e-02  0.071908779 1.012448e-01\n",
              "53  1.786466e-02 -5.211726e-01  0.462389348 6.510665e-01\n",
              "16  6.023204e-02 -1.759457e+00  1.559483512 2.195694e+00\n",
              "137 7.945135e-02 -2.320881e+00  2.057096474 2.896314e+00\n",
              "100 3.224370e-02 -2.868383e-02  0.633665041 9.457110e-01\n",
              "2   1.896468e-01 -5.539841e+00  4.910197811 6.913373e+00\n",
              "169 2.385538e-01 -2.558420e-01  4.697756389 7.007780e+00\n",
              "65  1.036133e-02 -3.026685e-01  0.268267996 3.777112e-01\n",
              "159 7.784627e-02 -2.273968e+00  2.015533097 2.837796e+00\n",
              "77  2.884599e-02 -8.426304e-01  0.746859403 1.051550e+00\n",
              "136 1.786466e-02 -5.211726e-01  0.462389348 6.510665e-01\n",
              "66  1.961430e-01 -5.729601e+00  5.078390560 7.150182e+00\n",
              "19  3.901115e-01 -2.480153e+00  8.136511306 1.197856e+01\n",
              "17  1.915261e-01 -8.558176e-02  3.745261309 5.596151e+00\n",
              "147 2.599201e-03 -7.592619e-02  0.067296626 9.475111e-02\n",
              "195 3.282060e-03 -9.216283e-02  0.084159316 1.187107e-01\n",
              "161 1.793261e-02 -5.238357e-01  0.464297976 6.537140e-01\n",
              "35  1.581474e-01 -4.619700e+00  4.094637402 5.765095e+00\n",
              "125 2.332371e-02 -6.813170e-01  0.603880417 8.502408e-01\n",
              "93  2.369792e-02 -6.922482e-01  0.613569213 8.638823e-01\n",
              "95  1.224652e-02 -1.469692e-01  0.270648602 3.934189e-01\n",
              "168 1.402639e-04 -1.726966e-03  0.003109457 4.516955e-03\n",
              "240 1.107177e-01 -3.233819e+00  2.866534471 4.035995e+00\n",
              "9   9.960169e-02 -2.909500e+00  2.578814579 3.630874e+00\n",
              "198 3.686969e-02 -1.077014e+00  0.954603271 1.344045e+00\n",
              "222 6.423515e-02 -1.876391e+00  1.663128585 2.341623e+00\n",
              "10  2.130395e-03 -6.223173e-02  0.055158642 7.766128e-02\n",
              "32  1.755886e-02 -5.129180e-01  0.454621167 6.400894e-01\n",
              "140 1.254801e-01 -3.664189e+00  3.248562074 4.573926e+00\n",
              "127 3.868382e-03 -1.130007e-01  0.100157334 1.410177e-01\n",
              "12  3.194700e-02 -8.083127e-01  0.799634113 1.133177e+00\n",
              "190 2.303719e-01 -6.544222e+00  5.923813064 8.351365e+00\n",
              "200 3.031127e-02 -8.854333e-01  0.784797419 1.104965e+00\n",
              "15  1.512266e-01 -4.410429e+00  3.913883609 5.511017e+00\n",
              "101 1.289979e-02 -3.768202e-01  0.333991884 4.702480e-01\n",
              "98  1.441077e-02 -4.209582e-01  0.373113272 5.253294e-01\n",
              "123 7.945135e-02 -2.320881e+00  2.057096474 2.896314e+00\n",
              "92  9.960169e-02 -2.909500e+00  2.578814579 3.630874e+00\n",
              "5   3.252924e-02 -8.811029e-01  0.826997206 1.168433e+00\n",
              "41  3.243579e-01 -2.276711e+00  6.812366785 1.001354e+01\n",
              "175 2.369792e-02 -6.922482e-01  0.613569213 8.638823e-01\n",
              "181 1.993714e-03 -5.823908e-02  0.051619785 7.267871e-02\n",
              "8   2.777337e-03 -8.112976e-02  0.071908779 1.012448e-01\n",
              "36  6.773458e-01 -1.030314e+01 15.448356241 2.230663e+01\n",
              "241 9.612462e-02 -2.807930e+00  2.488788603 3.504120e+00\n",
              "94  2.276437e-03 -6.649780e-02  0.058939841 8.298507e-02\n",
              "133 3.317161e-03 -9.689876e-02  0.085885525 1.209236e-01\n",
              "236 1.915181e-02 -5.594502e-01  0.495864671 6.981587e-01\n",
              "193 4.567919e-04 -1.334351e-02  0.011826925 1.665186e-02\n",
              "151 9.496267e-03 -2.773943e-01  0.245869438 3.461752e-01\n",
              "152 4.185759e-02 -1.004385e+00  1.035650721 1.470956e+00\n",
              "194 3.632906e-01 -4.687557e-01  7.171589166 1.069197e+01\n",
              "157 2.147645e-01 -6.169299e+00  5.537558816 7.802786e+00\n",
              "54  1.539736e-01 -4.497779e+00  3.986573444 5.612945e+00\n",
              "80  2.208443e-01 -6.451160e+00  5.717939254 8.050643e+00\n",
              "186 3.235862e-02 -9.452390e-01  0.837805742 1.179599e+00\n",
              "38  2.771940e-01 -8.094625e+00  7.176334568 1.010416e+01\n",
              "\n",
              "\n",
              "$startweights\n",
              "$startweights[[1]]\n",
              "$startweights[[1]][[1]]\n",
              "            [,1]       [,2]       [,3]        [,4]\n",
              "[1,] -0.89691455  0.1324203  0.4176508 -2.31106908\n",
              "[2,]  0.18484918  0.7079547  0.9817528  0.87860458\n",
              "[3,]  1.58784533 -0.2396980 -0.3926954  0.03580672\n",
              "[4,] -1.13037567  1.9844739 -1.0396690  1.01282869\n",
              "[5,] -0.08025176 -0.1387870  1.7822290  0.43226515\n",
              "\n",
              "$startweights[[1]][[2]]\n",
              "             [,1]\n",
              "[1,]  2.090819205\n",
              "[2,] -1.199925820\n",
              "[3,]  1.589638200\n",
              "[4,]  1.954651642\n",
              "[5,]  0.004937777\n",
              "\n",
              "\n",
              "\n",
              "$result.matrix\n",
              "                                 [,1]\n",
              "error                    9.085570e+01\n",
              "reached.threshold        8.972810e-03\n",
              "steps                    1.388900e+04\n",
              "Intercept.to.1layhid1    5.706705e-01\n",
              "age.to.1layhid1          1.652434e+00\n",
              "parity.to.1layhid1       3.055430e+00\n",
              "induced.to.1layhid1     -3.298776e+00\n",
              "spontaneous.to.1layhid1  1.019748e+00\n",
              "Intercept.to.1layhid2   -5.473004e+01\n",
              "age.to.1layhid2          5.783888e-01\n",
              "parity.to.1layhid2      -3.559366e-02\n",
              "induced.to.1layhid2      1.126121e+01\n",
              "spontaneous.to.1layhid2  1.684374e+01\n",
              "Intercept.to.1layhid3   -5.549970e+00\n",
              "age.to.1layhid3          6.637465e-02\n",
              "parity.to.1layhid3      -1.938893e+00\n",
              "induced.to.1layhid3      1.718524e+00\n",
              "spontaneous.to.1layhid3  2.419617e+00\n",
              "Intercept.to.1layhid4   -1.355644e+00\n",
              "age.to.1layhid4          1.834030e+00\n",
              "parity.to.1layhid4       9.912317e-01\n",
              "induced.to.1layhid4      2.812287e-01\n",
              "spontaneous.to.1layhid4  5.006652e-01\n",
              "Intercept.to.case        1.074124e+00\n",
              "1layhid1.to.case        -2.216621e+00\n",
              "1layhid2.to.case         2.703272e+00\n",
              "1layhid3.to.case         6.225823e+01\n",
              "1layhid4.to.case        -1.011757e+00\n",
              "\n",
              "attr(,\"class\")\n",
              "[1] \"nn\""
            ]
          },
          "metadata": {
            "tags": []
          }
        }
      ]
    },
    {
      "cell_type": "markdown",
      "metadata": {
        "id": "bQUllJE5kwjr",
        "colab_type": "text"
      },
      "source": [
        "### 3.1.4 Training set result"
      ]
    },
    {
      "cell_type": "code",
      "metadata": {
        "id": "uoYRv4lbU1JL",
        "colab_type": "code",
        "colab": {
          "base_uri": "https://localhost:8080/",
          "height": 182
        },
        "outputId": "a80da56b-d7b9-4754-cb20-3b11d5ec91b3"
      },
      "source": [
        "out <- cbind(nn$covariate,nn$net.result[[1]])\n",
        "dimnames(out) <- list(NULL,c(\"age\",\"parity\",\"induced\",\"spontaneous\",\"nn-output\"))\n",
        "head(out)"
      ],
      "execution_count": 40,
      "outputs": [
        {
          "output_type": "display_data",
          "data": {
            "text/plain": [
              "     age parity induced spontaneous nn-output\n",
              "[1,] 28  3      1       2           0.9744048\n",
              "[2,] 42  1      0       0           0.1688599\n",
              "[3,] 37  1      0       0           0.1479201\n",
              "[4,] 34  1      0       0           0.1390230\n",
              "[5,] 38  3      1       0           0.1086856\n",
              "[6,] 41  1      0       0           0.1639095"
            ],
            "text/latex": "A matrix: 6 × 5 of type dbl\n\\begin{tabular}{lllll}\n age & parity & induced & spontaneous & nn-output\\\\\n\\hline\n\t 28 & 3 & 1 & 2 & 0.9744048\\\\\n\t 42 & 1 & 0 & 0 & 0.1688599\\\\\n\t 37 & 1 & 0 & 0 & 0.1479201\\\\\n\t 34 & 1 & 0 & 0 & 0.1390230\\\\\n\t 38 & 3 & 1 & 0 & 0.1086856\\\\\n\t 41 & 1 & 0 & 0 & 0.1639095\\\\\n\\end{tabular}\n",
            "text/markdown": "\nA matrix: 6 × 5 of type dbl\n\n| age | parity | induced | spontaneous | nn-output |\n|---|---|---|---|---|\n| 28 | 3 | 1 | 2 | 0.9744048 |\n| 42 | 1 | 0 | 0 | 0.1688599 |\n| 37 | 1 | 0 | 0 | 0.1479201 |\n| 34 | 1 | 0 | 0 | 0.1390230 |\n| 38 | 3 | 1 | 0 | 0.1086856 |\n| 41 | 1 | 0 | 0 | 0.1639095 |\n\n",
            "text/html": [
              "<table>\n",
              "<caption>A matrix: 6 × 5 of type dbl</caption>\n",
              "<thead>\n",
              "\t<tr><th scope=col>age</th><th scope=col>parity</th><th scope=col>induced</th><th scope=col>spontaneous</th><th scope=col>nn-output</th></tr>\n",
              "</thead>\n",
              "<tbody>\n",
              "\t<tr><td>28</td><td>3</td><td>1</td><td>2</td><td>0.9744048</td></tr>\n",
              "\t<tr><td>42</td><td>1</td><td>0</td><td>0</td><td>0.1688599</td></tr>\n",
              "\t<tr><td>37</td><td>1</td><td>0</td><td>0</td><td>0.1479201</td></tr>\n",
              "\t<tr><td>34</td><td>1</td><td>0</td><td>0</td><td>0.1390230</td></tr>\n",
              "\t<tr><td>38</td><td>3</td><td>1</td><td>0</td><td>0.1086856</td></tr>\n",
              "\t<tr><td>41</td><td>1</td><td>0</td><td>0</td><td>0.1639095</td></tr>\n",
              "</tbody>\n",
              "</table>\n"
            ]
          },
          "metadata": {
            "tags": []
          }
        }
      ]
    },
    {
      "cell_type": "markdown",
      "metadata": {
        "id": "BFpKfTvDkxDZ",
        "colab_type": "text"
      },
      "source": [
        "### 3.1.5 Visualizing the network\n",
        "* `neuralnet` package's own `plot` function is designed for an inspection of the weights for objectsof class `nn` any tool to visualize the network, but some R developer contributed the source code to do that."
      ]
    },
    {
      "cell_type": "code",
      "metadata": {
        "id": "D9E6G6zsVApn",
        "colab_type": "code",
        "colab": {
          "base_uri": "https://localhost:8080/",
          "height": 437
        },
        "outputId": "34b03111-780b-43b9-b9df-abb50eebcad7"
      },
      "source": [
        "plot(nn, rep=\"best\")"
      ],
      "execution_count": 41,
      "outputs": [
        {
          "output_type": "display_data",
          "data": {
            "image/png": "[encoded data removed]",
            "text/plain": [
              "plot without title"
            ]
          },
          "metadata": {
            "tags": [],
            "image/png": {
              "width": 420,
              "height": 420
            },
            "text/plain": {
              "width": 420,
              "height": 420
            }
          }
        }
      ]
    },
    {
      "cell_type": "markdown",
      "metadata": {
        "id": "NkHTUFKqpnb6",
        "colab_type": "text"
      },
      "source": [
        "## Exercise 2\n",
        "1. Test the accuracy of the model with the test set"
      ]
    },
    {
      "cell_type": "markdown",
      "metadata": {
        "id": "VFW4OtQCsRt7",
        "colab_type": "text"
      },
      "source": [
        "1.1 Choose four variables (age+parity+induced+spontaneous) from the test data\n",
        "\n",
        "use `subset` function"
      ]
    },
    {
      "cell_type": "code",
      "metadata": {
        "id": "fHUy6VxMqc5J",
        "colab_type": "code",
        "colab": {
          "base_uri": "https://localhost:8080/",
          "height": 203
        },
        "outputId": "336c00ad-17c0-4fd6-b083-d1883b36aa6d"
      },
      "source": [
        "temp_test <- subset(dat2, select = c(age, parity,induced, spontaneous))\n",
        "head(temp_test)"
      ],
      "execution_count": 42,
      "outputs": [
        {
          "output_type": "display_data",
          "data": {
            "text/plain": [
              "    age parity induced spontaneous\n",
              "158 31  1      0       0          \n",
              "30  30  4      2       0          \n",
              "59  28  1      0       1          \n",
              "120 36  1      0       0          \n",
              "63  34  1      0       1          \n",
              "229 31  2      1       0          "
            ],
            "text/latex": "A data.frame: 6 × 4\n\\begin{tabular}{r|llll}\n  & age & parity & induced & spontaneous\\\\\n  & <dbl> & <dbl> & <dbl> & <dbl>\\\\\n\\hline\n\t158 & 31 & 1 & 0 & 0\\\\\n\t30 & 30 & 4 & 2 & 0\\\\\n\t59 & 28 & 1 & 0 & 1\\\\\n\t120 & 36 & 1 & 0 & 0\\\\\n\t63 & 34 & 1 & 0 & 1\\\\\n\t229 & 31 & 2 & 1 & 0\\\\\n\\end{tabular}\n",
            "text/markdown": "\nA data.frame: 6 × 4\n\n| <!--/--> | age &lt;dbl&gt; | parity &lt;dbl&gt; | induced &lt;dbl&gt; | spontaneous &lt;dbl&gt; |\n|---|---|---|---|---|\n| 158 | 31 | 1 | 0 | 0 |\n| 30 | 30 | 4 | 2 | 0 |\n| 59 | 28 | 1 | 0 | 1 |\n| 120 | 36 | 1 | 0 | 0 |\n| 63 | 34 | 1 | 0 | 1 |\n| 229 | 31 | 2 | 1 | 0 |\n\n",
            "text/html": [
              "<table>\n",
              "<caption>A data.frame: 6 × 4</caption>\n",
              "<thead>\n",
              "\t<tr><th></th><th scope=col>age</th><th scope=col>parity</th><th scope=col>induced</th><th scope=col>spontaneous</th></tr>\n",
              "\t<tr><th></th><th scope=col>&lt;dbl&gt;</th><th scope=col>&lt;dbl&gt;</th><th scope=col>&lt;dbl&gt;</th><th scope=col>&lt;dbl&gt;</th></tr>\n",
              "</thead>\n",
              "<tbody>\n",
              "\t<tr><th scope=row>158</th><td>31</td><td>1</td><td>0</td><td>0</td></tr>\n",
              "\t<tr><th scope=row>30</th><td>30</td><td>4</td><td>2</td><td>0</td></tr>\n",
              "\t<tr><th scope=row>59</th><td>28</td><td>1</td><td>0</td><td>1</td></tr>\n",
              "\t<tr><th scope=row>120</th><td>36</td><td>1</td><td>0</td><td>0</td></tr>\n",
              "\t<tr><th scope=row>63</th><td>34</td><td>1</td><td>0</td><td>1</td></tr>\n",
              "\t<tr><th scope=row>229</th><td>31</td><td>2</td><td>1</td><td>0</td></tr>\n",
              "</tbody>\n",
              "</table>\n"
            ]
          },
          "metadata": {
            "tags": []
          }
        }
      ]
    },
    {
      "cell_type": "markdown",
      "metadata": {
        "id": "kv13iKGn0e87",
        "colab_type": "text"
      },
      "source": [
        "Or use indexing"
      ]
    },
    {
      "cell_type": "code",
      "metadata": {
        "id": "G3bvjrbD01c7",
        "colab_type": "code",
        "colab": {
          "base_uri": "https://localhost:8080/",
          "height": 388
        },
        "outputId": "1037fb3e-4d10-47a1-e1dc-6431250c6848"
      },
      "source": [
        "head(dat2)  # find the indices\n",
        "temp_test <- dat2[,c(2:4,6)]\n",
        "head(temp_test)"
      ],
      "execution_count": 45,
      "outputs": [
        {
          "output_type": "display_data",
          "data": {
            "text/plain": [
              "    education age parity induced case spontaneous stratum pooled.stratum\n",
              "158 12+ yrs   31  1      0       0    0           76      45            \n",
              "30  6-11yrs   30  4      2       1    0           30      35            \n",
              "59  12+ yrs   28  1      0       1    1           59      42            \n",
              "120 6-11yrs   36  1      0       0    0           37      12            \n",
              "63  12+ yrs   34  1      0       1    1           63      47            \n",
              "229 12+ yrs   31  2      1       0    0           64      53            "
            ],
            "text/latex": "A data.frame: 6 × 8\n\\begin{tabular}{r|llllllll}\n  & education & age & parity & induced & case & spontaneous & stratum & pooled.stratum\\\\\n  & <fct> & <dbl> & <dbl> & <dbl> & <dbl> & <dbl> & <int> & <dbl>\\\\\n\\hline\n\t158 & 12+ yrs & 31 & 1 & 0 & 0 & 0 & 76 & 45\\\\\n\t30 & 6-11yrs & 30 & 4 & 2 & 1 & 0 & 30 & 35\\\\\n\t59 & 12+ yrs & 28 & 1 & 0 & 1 & 1 & 59 & 42\\\\\n\t120 & 6-11yrs & 36 & 1 & 0 & 0 & 0 & 37 & 12\\\\\n\t63 & 12+ yrs & 34 & 1 & 0 & 1 & 1 & 63 & 47\\\\\n\t229 & 12+ yrs & 31 & 2 & 1 & 0 & 0 & 64 & 53\\\\\n\\end{tabular}\n",
            "text/markdown": "\nA data.frame: 6 × 8\n\n| <!--/--> | education &lt;fct&gt; | age &lt;dbl&gt; | parity &lt;dbl&gt; | induced &lt;dbl&gt; | case &lt;dbl&gt; | spontaneous &lt;dbl&gt; | stratum &lt;int&gt; | pooled.stratum &lt;dbl&gt; |\n|---|---|---|---|---|---|---|---|---|\n| 158 | 12+ yrs | 31 | 1 | 0 | 0 | 0 | 76 | 45 |\n| 30 | 6-11yrs | 30 | 4 | 2 | 1 | 0 | 30 | 35 |\n| 59 | 12+ yrs | 28 | 1 | 0 | 1 | 1 | 59 | 42 |\n| 120 | 6-11yrs | 36 | 1 | 0 | 0 | 0 | 37 | 12 |\n| 63 | 12+ yrs | 34 | 1 | 0 | 1 | 1 | 63 | 47 |\n| 229 | 12+ yrs | 31 | 2 | 1 | 0 | 0 | 64 | 53 |\n\n",
            "text/html": [
              "<table>\n",
              "<caption>A data.frame: 6 × 8</caption>\n",
              "<thead>\n",
              "\t<tr><th></th><th scope=col>education</th><th scope=col>age</th><th scope=col>parity</th><th scope=col>induced</th><th scope=col>case</th><th scope=col>spontaneous</th><th scope=col>stratum</th><th scope=col>pooled.stratum</th></tr>\n",
              "\t<tr><th></th><th scope=col>&lt;fct&gt;</th><th scope=col>&lt;dbl&gt;</th><th scope=col>&lt;dbl&gt;</th><th scope=col>&lt;dbl&gt;</th><th scope=col>&lt;dbl&gt;</th><th scope=col>&lt;dbl&gt;</th><th scope=col>&lt;int&gt;</th><th scope=col>&lt;dbl&gt;</th></tr>\n",
              "</thead>\n",
              "<tbody>\n",
              "\t<tr><th scope=row>158</th><td>12+ yrs</td><td>31</td><td>1</td><td>0</td><td>0</td><td>0</td><td>76</td><td>45</td></tr>\n",
              "\t<tr><th scope=row>30</th><td>6-11yrs</td><td>30</td><td>4</td><td>2</td><td>1</td><td>0</td><td>30</td><td>35</td></tr>\n",
              "\t<tr><th scope=row>59</th><td>12+ yrs</td><td>28</td><td>1</td><td>0</td><td>1</td><td>1</td><td>59</td><td>42</td></tr>\n",
              "\t<tr><th scope=row>120</th><td>6-11yrs</td><td>36</td><td>1</td><td>0</td><td>0</td><td>0</td><td>37</td><td>12</td></tr>\n",
              "\t<tr><th scope=row>63</th><td>12+ yrs</td><td>34</td><td>1</td><td>0</td><td>1</td><td>1</td><td>63</td><td>47</td></tr>\n",
              "\t<tr><th scope=row>229</th><td>12+ yrs</td><td>31</td><td>2</td><td>1</td><td>0</td><td>0</td><td>64</td><td>53</td></tr>\n",
              "</tbody>\n",
              "</table>\n"
            ]
          },
          "metadata": {
            "tags": []
          }
        },
        {
          "output_type": "display_data",
          "data": {
            "text/plain": [
              "    age parity induced spontaneous\n",
              "158 31  1      0       0          \n",
              "30  30  4      2       0          \n",
              "59  28  1      0       1          \n",
              "120 36  1      0       0          \n",
              "63  34  1      0       1          \n",
              "229 31  2      1       0          "
            ],
            "text/latex": "A data.frame: 6 × 4\n\\begin{tabular}{r|llll}\n  & age & parity & induced & spontaneous\\\\\n  & <dbl> & <dbl> & <dbl> & <dbl>\\\\\n\\hline\n\t158 & 31 & 1 & 0 & 0\\\\\n\t30 & 30 & 4 & 2 & 0\\\\\n\t59 & 28 & 1 & 0 & 1\\\\\n\t120 & 36 & 1 & 0 & 0\\\\\n\t63 & 34 & 1 & 0 & 1\\\\\n\t229 & 31 & 2 & 1 & 0\\\\\n\\end{tabular}\n",
            "text/markdown": "\nA data.frame: 6 × 4\n\n| <!--/--> | age &lt;dbl&gt; | parity &lt;dbl&gt; | induced &lt;dbl&gt; | spontaneous &lt;dbl&gt; |\n|---|---|---|---|---|\n| 158 | 31 | 1 | 0 | 0 |\n| 30 | 30 | 4 | 2 | 0 |\n| 59 | 28 | 1 | 0 | 1 |\n| 120 | 36 | 1 | 0 | 0 |\n| 63 | 34 | 1 | 0 | 1 |\n| 229 | 31 | 2 | 1 | 0 |\n\n",
            "text/html": [
              "<table>\n",
              "<caption>A data.frame: 6 × 4</caption>\n",
              "<thead>\n",
              "\t<tr><th></th><th scope=col>age</th><th scope=col>parity</th><th scope=col>induced</th><th scope=col>spontaneous</th></tr>\n",
              "\t<tr><th></th><th scope=col>&lt;dbl&gt;</th><th scope=col>&lt;dbl&gt;</th><th scope=col>&lt;dbl&gt;</th><th scope=col>&lt;dbl&gt;</th></tr>\n",
              "</thead>\n",
              "<tbody>\n",
              "\t<tr><th scope=row>158</th><td>31</td><td>1</td><td>0</td><td>0</td></tr>\n",
              "\t<tr><th scope=row>30</th><td>30</td><td>4</td><td>2</td><td>0</td></tr>\n",
              "\t<tr><th scope=row>59</th><td>28</td><td>1</td><td>0</td><td>1</td></tr>\n",
              "\t<tr><th scope=row>120</th><td>36</td><td>1</td><td>0</td><td>0</td></tr>\n",
              "\t<tr><th scope=row>63</th><td>34</td><td>1</td><td>0</td><td>1</td></tr>\n",
              "\t<tr><th scope=row>229</th><td>31</td><td>2</td><td>1</td><td>0</td></tr>\n",
              "</tbody>\n",
              "</table>\n"
            ]
          },
          "metadata": {
            "tags": []
          }
        }
      ]
    },
    {
      "cell_type": "markdown",
      "metadata": {
        "id": "f1RbF_ZtsybS",
        "colab_type": "text"
      },
      "source": [
        "1.2 `neuralnet` package's own `compute` function is designed to compute the prediction variable"
      ]
    },
    {
      "cell_type": "code",
      "metadata": {
        "id": "nE5mnfxks07C",
        "colab_type": "code",
        "colab": {
          "base_uri": "https://localhost:8080/",
          "height": 178
        },
        "outputId": "e680dfda-5b57-41a2-cf5d-1c19c8753a8a"
      },
      "source": [
        "nn.results <- compute(nn, temp_test)\n",
        "head(nn.results$net.result)"
      ],
      "execution_count": 46,
      "outputs": [
        {
          "output_type": "display_data",
          "data": {
            "text/plain": [
              "    [,1]     \n",
              "158 0.1320563\n",
              "30  0.1061534\n",
              "59  0.5644049\n",
              "120 0.1447052\n",
              "63  0.7978319\n",
              "229 0.1260462"
            ],
            "text/latex": "A matrix: 6 × 1 of type dbl\n\\begin{tabular}{r|l}\n\t158 & 0.1320563\\\\\n\t30 & 0.1061534\\\\\n\t59 & 0.5644049\\\\\n\t120 & 0.1447052\\\\\n\t63 & 0.7978319\\\\\n\t229 & 0.1260462\\\\\n\\end{tabular}\n",
            "text/markdown": "\nA matrix: 6 × 1 of type dbl\n\n| 158 | 0.1320563 |\n| 30 | 0.1061534 |\n| 59 | 0.5644049 |\n| 120 | 0.1447052 |\n| 63 | 0.7978319 |\n| 229 | 0.1260462 |\n\n",
            "text/html": [
              "<table>\n",
              "<caption>A matrix: 6 × 1 of type dbl</caption>\n",
              "<tbody>\n",
              "\t<tr><th scope=row>158</th><td>0.1320563</td></tr>\n",
              "\t<tr><th scope=row>30</th><td>0.1061534</td></tr>\n",
              "\t<tr><th scope=row>59</th><td>0.5644049</td></tr>\n",
              "\t<tr><th scope=row>120</th><td>0.1447052</td></tr>\n",
              "\t<tr><th scope=row>63</th><td>0.7978319</td></tr>\n",
              "\t<tr><th scope=row>229</th><td>0.1260462</td></tr>\n",
              "</tbody>\n",
              "</table>\n"
            ]
          },
          "metadata": {
            "tags": []
          }
        }
      ]
    },
    {
      "cell_type": "markdown",
      "metadata": {
        "id": "WB6VYe2Qs1eh",
        "colab_type": "text"
      },
      "source": [
        "1.3 Compare the predicted result to the actual result"
      ]
    },
    {
      "cell_type": "code",
      "metadata": {
        "id": "UB3FCZCjs3na",
        "colab_type": "code",
        "colab": {
          "base_uri": "https://localhost:8080/",
          "height": 1000
        },
        "outputId": "afe77395-30fd-4457-8639-22191ce0b614"
      },
      "source": [
        "results <- data.frame(actual = dat2$case, prediction = nn.results$net.result)\n",
        "results"
      ],
      "execution_count": 48,
      "outputs": [
        {
          "output_type": "display_data",
          "data": {
            "text/plain": [
              "    actual prediction\n",
              "158 0      0.1320563 \n",
              "30  1      0.1061534 \n",
              "59  1      0.5644049 \n",
              "120 0      0.1447052 \n",
              "63  1      0.7978319 \n",
              "229 0      0.1260462 \n",
              "62  1      0.4594068 \n",
              "143 0      0.1205697 \n",
              "191 0      0.1107523 \n",
              "76  1      0.6826229 \n",
              "97  0      0.1092158 \n",
              "211 0      0.8905978 \n",
              "52  1      0.6600241 \n",
              "82  1      0.6029650 \n",
              "27  1      0.9988269 \n",
              "72  1      0.4594068 \n",
              "199 0      0.2935747 \n",
              "6   1      0.7167931 \n",
              "47  1      0.8425166 \n",
              "131 0      0.3748572 \n",
              "4   1      0.1068367 \n",
              "3   1      0.1040302 \n",
              "109 0      0.1107523 \n",
              "178 0      0.1320563 \n",
              "88  0      0.1271559 \n",
              "96  0      0.1320563 \n",
              "135 0      0.1055291 \n",
              "69  1      0.6010669 \n",
              "174 0      0.2007834 \n",
              "230 0      0.7712540 \n",
              "221 0      0.1756633 \n",
              "57  1      0.1217882 \n",
              "237 0      0.2404549 \n",
              "81  1      0.3534536 \n",
              "155 0      0.1221979 \n",
              "132 0      0.1194386 \n",
              "164 0      0.6029650 \n",
              "197 0      0.1084722 \n",
              "244 0      0.6826229 \n",
              "248 0      0.4005089 \n",
              "114 0      0.1341953 \n",
              "189 0      0.8631115 \n",
              "55  1      0.8739977 \n",
              "58  1      0.8425166 \n",
              "18  1      0.4923205 \n",
              "11  1      0.1231016 \n",
              "112 0      0.1138443 \n",
              "124 0      0.1090183 "
            ],
            "text/latex": "A data.frame: 48 × 2\n\\begin{tabular}{r|ll}\n  & actual & prediction\\\\\n  & <dbl> & <dbl>\\\\\n\\hline\n\t158 & 0 & 0.1320563\\\\\n\t30 & 1 & 0.1061534\\\\\n\t59 & 1 & 0.5644049\\\\\n\t120 & 0 & 0.1447052\\\\\n\t63 & 1 & 0.7978319\\\\\n\t229 & 0 & 0.1260462\\\\\n\t62 & 1 & 0.4594068\\\\\n\t143 & 0 & 0.1205697\\\\\n\t191 & 0 & 0.1107523\\\\\n\t76 & 1 & 0.6826229\\\\\n\t97 & 0 & 0.1092158\\\\\n\t211 & 0 & 0.8905978\\\\\n\t52 & 1 & 0.6600241\\\\\n\t82 & 1 & 0.6029650\\\\\n\t27 & 1 & 0.9988269\\\\\n\t72 & 1 & 0.4594068\\\\\n\t199 & 0 & 0.2935747\\\\\n\t6 & 1 & 0.7167931\\\\\n\t47 & 1 & 0.8425166\\\\\n\t131 & 0 & 0.3748572\\\\\n\t4 & 1 & 0.1068367\\\\\n\t3 & 1 & 0.1040302\\\\\n\t109 & 0 & 0.1107523\\\\\n\t178 & 0 & 0.1320563\\\\\n\t88 & 0 & 0.1271559\\\\\n\t96 & 0 & 0.1320563\\\\\n\t135 & 0 & 0.1055291\\\\\n\t69 & 1 & 0.6010669\\\\\n\t174 & 0 & 0.2007834\\\\\n\t230 & 0 & 0.7712540\\\\\n\t221 & 0 & 0.1756633\\\\\n\t57 & 1 & 0.1217882\\\\\n\t237 & 0 & 0.2404549\\\\\n\t81 & 1 & 0.3534536\\\\\n\t155 & 0 & 0.1221979\\\\\n\t132 & 0 & 0.1194386\\\\\n\t164 & 0 & 0.6029650\\\\\n\t197 & 0 & 0.1084722\\\\\n\t244 & 0 & 0.6826229\\\\\n\t248 & 0 & 0.4005089\\\\\n\t114 & 0 & 0.1341953\\\\\n\t189 & 0 & 0.8631115\\\\\n\t55 & 1 & 0.8739977\\\\\n\t58 & 1 & 0.8425166\\\\\n\t18 & 1 & 0.4923205\\\\\n\t11 & 1 & 0.1231016\\\\\n\t112 & 0 & 0.1138443\\\\\n\t124 & 0 & 0.1090183\\\\\n\\end{tabular}\n",
            "text/markdown": "\nA data.frame: 48 × 2\n\n| <!--/--> | actual &lt;dbl&gt; | prediction &lt;dbl&gt; |\n|---|---|---|\n| 158 | 0 | 0.1320563 |\n| 30 | 1 | 0.1061534 |\n| 59 | 1 | 0.5644049 |\n| 120 | 0 | 0.1447052 |\n| 63 | 1 | 0.7978319 |\n| 229 | 0 | 0.1260462 |\n| 62 | 1 | 0.4594068 |\n| 143 | 0 | 0.1205697 |\n| 191 | 0 | 0.1107523 |\n| 76 | 1 | 0.6826229 |\n| 97 | 0 | 0.1092158 |\n| 211 | 0 | 0.8905978 |\n| 52 | 1 | 0.6600241 |\n| 82 | 1 | 0.6029650 |\n| 27 | 1 | 0.9988269 |\n| 72 | 1 | 0.4594068 |\n| 199 | 0 | 0.2935747 |\n| 6 | 1 | 0.7167931 |\n| 47 | 1 | 0.8425166 |\n| 131 | 0 | 0.3748572 |\n| 4 | 1 | 0.1068367 |\n| 3 | 1 | 0.1040302 |\n| 109 | 0 | 0.1107523 |\n| 178 | 0 | 0.1320563 |\n| 88 | 0 | 0.1271559 |\n| 96 | 0 | 0.1320563 |\n| 135 | 0 | 0.1055291 |\n| 69 | 1 | 0.6010669 |\n| 174 | 0 | 0.2007834 |\n| 230 | 0 | 0.7712540 |\n| 221 | 0 | 0.1756633 |\n| 57 | 1 | 0.1217882 |\n| 237 | 0 | 0.2404549 |\n| 81 | 1 | 0.3534536 |\n| 155 | 0 | 0.1221979 |\n| 132 | 0 | 0.1194386 |\n| 164 | 0 | 0.6029650 |\n| 197 | 0 | 0.1084722 |\n| 244 | 0 | 0.6826229 |\n| 248 | 0 | 0.4005089 |\n| 114 | 0 | 0.1341953 |\n| 189 | 0 | 0.8631115 |\n| 55 | 1 | 0.8739977 |\n| 58 | 1 | 0.8425166 |\n| 18 | 1 | 0.4923205 |\n| 11 | 1 | 0.1231016 |\n| 112 | 0 | 0.1138443 |\n| 124 | 0 | 0.1090183 |\n\n",
            "text/html": [
              "<table>\n",
              "<caption>A data.frame: 48 × 2</caption>\n",
              "<thead>\n",
              "\t<tr><th></th><th scope=col>actual</th><th scope=col>prediction</th></tr>\n",
              "\t<tr><th></th><th scope=col>&lt;dbl&gt;</th><th scope=col>&lt;dbl&gt;</th></tr>\n",
              "</thead>\n",
              "<tbody>\n",
              "\t<tr><th scope=row>158</th><td>0</td><td>0.1320563</td></tr>\n",
              "\t<tr><th scope=row>30</th><td>1</td><td>0.1061534</td></tr>\n",
              "\t<tr><th scope=row>59</th><td>1</td><td>0.5644049</td></tr>\n",
              "\t<tr><th scope=row>120</th><td>0</td><td>0.1447052</td></tr>\n",
              "\t<tr><th scope=row>63</th><td>1</td><td>0.7978319</td></tr>\n",
              "\t<tr><th scope=row>229</th><td>0</td><td>0.1260462</td></tr>\n",
              "\t<tr><th scope=row>62</th><td>1</td><td>0.4594068</td></tr>\n",
              "\t<tr><th scope=row>143</th><td>0</td><td>0.1205697</td></tr>\n",
              "\t<tr><th scope=row>191</th><td>0</td><td>0.1107523</td></tr>\n",
              "\t<tr><th scope=row>76</th><td>1</td><td>0.6826229</td></tr>\n",
              "\t<tr><th scope=row>97</th><td>0</td><td>0.1092158</td></tr>\n",
              "\t<tr><th scope=row>211</th><td>0</td><td>0.8905978</td></tr>\n",
              "\t<tr><th scope=row>52</th><td>1</td><td>0.6600241</td></tr>\n",
              "\t<tr><th scope=row>82</th><td>1</td><td>0.6029650</td></tr>\n",
              "\t<tr><th scope=row>27</th><td>1</td><td>0.9988269</td></tr>\n",
              "\t<tr><th scope=row>72</th><td>1</td><td>0.4594068</td></tr>\n",
              "\t<tr><th scope=row>199</th><td>0</td><td>0.2935747</td></tr>\n",
              "\t<tr><th scope=row>6</th><td>1</td><td>0.7167931</td></tr>\n",
              "\t<tr><th scope=row>47</th><td>1</td><td>0.8425166</td></tr>\n",
              "\t<tr><th scope=row>131</th><td>0</td><td>0.3748572</td></tr>\n",
              "\t<tr><th scope=row>4</th><td>1</td><td>0.1068367</td></tr>\n",
              "\t<tr><th scope=row>3</th><td>1</td><td>0.1040302</td></tr>\n",
              "\t<tr><th scope=row>109</th><td>0</td><td>0.1107523</td></tr>\n",
              "\t<tr><th scope=row>178</th><td>0</td><td>0.1320563</td></tr>\n",
              "\t<tr><th scope=row>88</th><td>0</td><td>0.1271559</td></tr>\n",
              "\t<tr><th scope=row>96</th><td>0</td><td>0.1320563</td></tr>\n",
              "\t<tr><th scope=row>135</th><td>0</td><td>0.1055291</td></tr>\n",
              "\t<tr><th scope=row>69</th><td>1</td><td>0.6010669</td></tr>\n",
              "\t<tr><th scope=row>174</th><td>0</td><td>0.2007834</td></tr>\n",
              "\t<tr><th scope=row>230</th><td>0</td><td>0.7712540</td></tr>\n",
              "\t<tr><th scope=row>221</th><td>0</td><td>0.1756633</td></tr>\n",
              "\t<tr><th scope=row>57</th><td>1</td><td>0.1217882</td></tr>\n",
              "\t<tr><th scope=row>237</th><td>0</td><td>0.2404549</td></tr>\n",
              "\t<tr><th scope=row>81</th><td>1</td><td>0.3534536</td></tr>\n",
              "\t<tr><th scope=row>155</th><td>0</td><td>0.1221979</td></tr>\n",
              "\t<tr><th scope=row>132</th><td>0</td><td>0.1194386</td></tr>\n",
              "\t<tr><th scope=row>164</th><td>0</td><td>0.6029650</td></tr>\n",
              "\t<tr><th scope=row>197</th><td>0</td><td>0.1084722</td></tr>\n",
              "\t<tr><th scope=row>244</th><td>0</td><td>0.6826229</td></tr>\n",
              "\t<tr><th scope=row>248</th><td>0</td><td>0.4005089</td></tr>\n",
              "\t<tr><th scope=row>114</th><td>0</td><td>0.1341953</td></tr>\n",
              "\t<tr><th scope=row>189</th><td>0</td><td>0.8631115</td></tr>\n",
              "\t<tr><th scope=row>55</th><td>1</td><td>0.8739977</td></tr>\n",
              "\t<tr><th scope=row>58</th><td>1</td><td>0.8425166</td></tr>\n",
              "\t<tr><th scope=row>18</th><td>1</td><td>0.4923205</td></tr>\n",
              "\t<tr><th scope=row>11</th><td>1</td><td>0.1231016</td></tr>\n",
              "\t<tr><th scope=row>112</th><td>0</td><td>0.1138443</td></tr>\n",
              "\t<tr><th scope=row>124</th><td>0</td><td>0.1090183</td></tr>\n",
              "</tbody>\n",
              "</table>\n"
            ]
          },
          "metadata": {
            "tags": []
          }
        }
      ]
    },
    {
      "cell_type": "markdown",
      "metadata": {
        "id": "TT0kt27Gs3zk",
        "colab_type": "text"
      },
      "source": [
        "1.4 Misclassification table\n",
        "\n",
        "Build a confusion matrix: "
      ]
    },
    {
      "cell_type": "code",
      "metadata": {
        "id": "tsFmO0sKs5v4",
        "colab_type": "code",
        "colab": {
          "base_uri": "https://localhost:8080/",
          "height": 175
        },
        "outputId": "09eb6c52-3e59-4167-8ed1-52a3f4aa62f5"
      },
      "source": [
        "roundedresults<-sapply(results,round,digits=0)\n",
        "roundedresultsdf=data.frame(roundedresults)\n",
        "attach(roundedresultsdf)\n",
        "table(actual,prediction)"
      ],
      "execution_count": 56,
      "outputs": [
        {
          "output_type": "stream",
          "text": [
            "The following objects are masked from roundedresultsdf (pos = 3):\n",
            "\n",
            "    actual, difference, prediction\n",
            "\n",
            "\n"
          ],
          "name": "stderr"
        },
        {
          "output_type": "display_data",
          "data": {
            "text/plain": [
              "      prediction\n",
              "actual  0  1\n",
              "     0 23  5\n",
              "     1  9 11"
            ]
          },
          "metadata": {
            "tags": []
          }
        }
      ]
    },
    {
      "cell_type": "markdown",
      "metadata": {
        "id": "PfX9Q5LZqdQ5",
        "colab_type": "text"
      },
      "source": [
        "2. Build a two-layer model. The first layer has two hidden units while the second has three"
      ]
    },
    {
      "cell_type": "code",
      "metadata": {
        "id": "IDYIdi9xq72L",
        "colab_type": "code",
        "colab": {
          "base_uri": "https://localhost:8080/",
          "height": 437
        },
        "outputId": "4e2429f3-8c3c-42a4-ffe9-d4fd5ba95135"
      },
      "source": [
        "set.seed(2)\n",
        "nn2 <- neuralnet(case~age+parity+induced+spontaneous,data=dat1,hidden=c(2,3)    ,err.fct=\"ce\",linear.output=FALSE)\n",
        "plot(nn2, rep=\"best\")"
      ],
      "execution_count": 59,
      "outputs": [
        {
          "output_type": "display_data",
          "data": {
            "image/png": "[encoded data removed]",
            "text/plain": [
              "plot without title"
            ]
          },
          "metadata": {
            "tags": [],
            "image/png": {
              "width": 420,
              "height": 420
            },
            "text/plain": {
              "width": 420,
              "height": 420
            }
          }
        }
      ]
    },
    {
      "cell_type": "markdown",
      "metadata": {
        "colab_type": "text",
        "id": "8vjKQer7dXwP"
      },
      "source": [
        "## Solution 2\n",
        "1. Test the accuracy of the model with the test set"
      ]
    },
    {
      "cell_type": "markdown",
      "metadata": {
        "colab_type": "text",
        "id": "xHQjKhjXdgn3"
      },
      "source": [
        "1.1 Choose four variables (age+parity+induced+spontaneous) from the test data\n",
        "\n",
        "use `subset` function"
      ]
    },
    {
      "cell_type": "code",
      "metadata": {
        "id": "dGoLDzLseDYp",
        "colab_type": "code",
        "colab": {
          "base_uri": "https://localhost:8080/",
          "height": 203
        },
        "outputId": "21442d5a-2dba-474d-9161-8c64eee47529"
      },
      "source": [
        "temp_test <- subset(dat2, select = c(\"age\",\"parity\",\"induced\",\"spontaneous\"))\n",
        "head(temp_test)"
      ],
      "execution_count": 43,
      "outputs": [
        {
          "output_type": "display_data",
          "data": {
            "text/plain": [
              "    age parity induced spontaneous\n",
              "158 31  1      0       0          \n",
              "30  30  4      2       0          \n",
              "59  28  1      0       1          \n",
              "120 36  1      0       0          \n",
              "63  34  1      0       1          \n",
              "229 31  2      1       0          "
            ],
            "text/latex": "A data.frame: 6 × 4\n\\begin{tabular}{r|llll}\n  & age & parity & induced & spontaneous\\\\\n  & <dbl> & <dbl> & <dbl> & <dbl>\\\\\n\\hline\n\t158 & 31 & 1 & 0 & 0\\\\\n\t30 & 30 & 4 & 2 & 0\\\\\n\t59 & 28 & 1 & 0 & 1\\\\\n\t120 & 36 & 1 & 0 & 0\\\\\n\t63 & 34 & 1 & 0 & 1\\\\\n\t229 & 31 & 2 & 1 & 0\\\\\n\\end{tabular}\n",
            "text/markdown": "\nA data.frame: 6 × 4\n\n| <!--/--> | age &lt;dbl&gt; | parity &lt;dbl&gt; | induced &lt;dbl&gt; | spontaneous &lt;dbl&gt; |\n|---|---|---|---|---|\n| 158 | 31 | 1 | 0 | 0 |\n| 30 | 30 | 4 | 2 | 0 |\n| 59 | 28 | 1 | 0 | 1 |\n| 120 | 36 | 1 | 0 | 0 |\n| 63 | 34 | 1 | 0 | 1 |\n| 229 | 31 | 2 | 1 | 0 |\n\n",
            "text/html": [
              "<table>\n",
              "<caption>A data.frame: 6 × 4</caption>\n",
              "<thead>\n",
              "\t<tr><th></th><th scope=col>age</th><th scope=col>parity</th><th scope=col>induced</th><th scope=col>spontaneous</th></tr>\n",
              "\t<tr><th></th><th scope=col>&lt;dbl&gt;</th><th scope=col>&lt;dbl&gt;</th><th scope=col>&lt;dbl&gt;</th><th scope=col>&lt;dbl&gt;</th></tr>\n",
              "</thead>\n",
              "<tbody>\n",
              "\t<tr><th scope=row>158</th><td>31</td><td>1</td><td>0</td><td>0</td></tr>\n",
              "\t<tr><th scope=row>30</th><td>30</td><td>4</td><td>2</td><td>0</td></tr>\n",
              "\t<tr><th scope=row>59</th><td>28</td><td>1</td><td>0</td><td>1</td></tr>\n",
              "\t<tr><th scope=row>120</th><td>36</td><td>1</td><td>0</td><td>0</td></tr>\n",
              "\t<tr><th scope=row>63</th><td>34</td><td>1</td><td>0</td><td>1</td></tr>\n",
              "\t<tr><th scope=row>229</th><td>31</td><td>2</td><td>1</td><td>0</td></tr>\n",
              "</tbody>\n",
              "</table>\n"
            ]
          },
          "metadata": {
            "tags": []
          }
        }
      ]
    },
    {
      "cell_type": "markdown",
      "metadata": {
        "colab_type": "text",
        "id": "WsGyYee2diyo"
      },
      "source": [
        "Or use indexing"
      ]
    },
    {
      "cell_type": "code",
      "metadata": {
        "id": "QQXV-yKceEWo",
        "colab_type": "code",
        "colab": {}
      },
      "source": [
        "head(dat2)  # find the indices\n",
        "temp_test <- dat2[,c(2:4,6)]\n",
        "head(temp_test)"
      ],
      "execution_count": 0,
      "outputs": []
    },
    {
      "cell_type": "markdown",
      "metadata": {
        "colab_type": "text",
        "id": "QQrHtAYBdqdy"
      },
      "source": [
        "1.2 `neuralnet` package's own `compute` function is designed to compute the prediction variable"
      ]
    },
    {
      "cell_type": "code",
      "metadata": {
        "id": "zGqFrs82eMfZ",
        "colab_type": "code",
        "colab": {
          "base_uri": "https://localhost:8080/",
          "height": 178
        },
        "outputId": "42f7345b-0623-4ed2-95d9-ade011b4d3b0"
      },
      "source": [
        "nn.results <- compute(nn, temp_test)\n",
        "head(nn.results$net.result)"
      ],
      "execution_count": 49,
      "outputs": [
        {
          "output_type": "display_data",
          "data": {
            "text/plain": [
              "    [,1]     \n",
              "158 0.1320563\n",
              "30  0.1061534\n",
              "59  0.5644049\n",
              "120 0.1447052\n",
              "63  0.7978319\n",
              "229 0.1260462"
            ],
            "text/latex": "A matrix: 6 × 1 of type dbl\n\\begin{tabular}{r|l}\n\t158 & 0.1320563\\\\\n\t30 & 0.1061534\\\\\n\t59 & 0.5644049\\\\\n\t120 & 0.1447052\\\\\n\t63 & 0.7978319\\\\\n\t229 & 0.1260462\\\\\n\\end{tabular}\n",
            "text/markdown": "\nA matrix: 6 × 1 of type dbl\n\n| 158 | 0.1320563 |\n| 30 | 0.1061534 |\n| 59 | 0.5644049 |\n| 120 | 0.1447052 |\n| 63 | 0.7978319 |\n| 229 | 0.1260462 |\n\n",
            "text/html": [
              "<table>\n",
              "<caption>A matrix: 6 × 1 of type dbl</caption>\n",
              "<tbody>\n",
              "\t<tr><th scope=row>158</th><td>0.1320563</td></tr>\n",
              "\t<tr><th scope=row>30</th><td>0.1061534</td></tr>\n",
              "\t<tr><th scope=row>59</th><td>0.5644049</td></tr>\n",
              "\t<tr><th scope=row>120</th><td>0.1447052</td></tr>\n",
              "\t<tr><th scope=row>63</th><td>0.7978319</td></tr>\n",
              "\t<tr><th scope=row>229</th><td>0.1260462</td></tr>\n",
              "</tbody>\n",
              "</table>\n"
            ]
          },
          "metadata": {
            "tags": []
          }
        }
      ]
    },
    {
      "cell_type": "markdown",
      "metadata": {
        "colab_type": "text",
        "id": "7ujSi8kxdsPI"
      },
      "source": [
        "1.3 Compare the predicted result to the actual result"
      ]
    },
    {
      "cell_type": "code",
      "metadata": {
        "id": "8AbEPYZVePMP",
        "colab_type": "code",
        "colab": {
          "base_uri": "https://localhost:8080/",
          "height": 1000
        },
        "outputId": "f931ca4f-986a-45b4-a28e-3aecababdafb"
      },
      "source": [
        "results <- data.frame(actual = dat2$case, prediction = nn.results$net.result, difference = round(abs(dat2$case - nn.results$net.result), 2))\n",
        "results"
      ],
      "execution_count": 53,
      "outputs": [
        {
          "output_type": "display_data",
          "data": {
            "text/plain": [
              "    actual prediction difference\n",
              "158 0      0.1320563  0.13      \n",
              "30  1      0.1061534  0.89      \n",
              "59  1      0.5644049  0.44      \n",
              "120 0      0.1447052  0.14      \n",
              "63  1      0.7978319  0.20      \n",
              "229 0      0.1260462  0.13      \n",
              "62  1      0.4594068  0.54      \n",
              "143 0      0.1205697  0.12      \n",
              "191 0      0.1107523  0.11      \n",
              "76  1      0.6826229  0.32      \n",
              "97  0      0.1092158  0.11      \n",
              "211 0      0.8905978  0.89      \n",
              "52  1      0.6600241  0.34      \n",
              "82  1      0.6029650  0.40      \n",
              "27  1      0.9988269  0.00      \n",
              "72  1      0.4594068  0.54      \n",
              "199 0      0.2935747  0.29      \n",
              "6   1      0.7167931  0.28      \n",
              "47  1      0.8425166  0.16      \n",
              "131 0      0.3748572  0.37      \n",
              "4   1      0.1068367  0.89      \n",
              "3   1      0.1040302  0.90      \n",
              "109 0      0.1107523  0.11      \n",
              "178 0      0.1320563  0.13      \n",
              "88  0      0.1271559  0.13      \n",
              "96  0      0.1320563  0.13      \n",
              "135 0      0.1055291  0.11      \n",
              "69  1      0.6010669  0.40      \n",
              "174 0      0.2007834  0.20      \n",
              "230 0      0.7712540  0.77      \n",
              "221 0      0.1756633  0.18      \n",
              "57  1      0.1217882  0.88      \n",
              "237 0      0.2404549  0.24      \n",
              "81  1      0.3534536  0.65      \n",
              "155 0      0.1221979  0.12      \n",
              "132 0      0.1194386  0.12      \n",
              "164 0      0.6029650  0.60      \n",
              "197 0      0.1084722  0.11      \n",
              "244 0      0.6826229  0.68      \n",
              "248 0      0.4005089  0.40      \n",
              "114 0      0.1341953  0.13      \n",
              "189 0      0.8631115  0.86      \n",
              "55  1      0.8739977  0.13      \n",
              "58  1      0.8425166  0.16      \n",
              "18  1      0.4923205  0.51      \n",
              "11  1      0.1231016  0.88      \n",
              "112 0      0.1138443  0.11      \n",
              "124 0      0.1090183  0.11      "
            ],
            "text/latex": "A data.frame: 48 × 3\n\\begin{tabular}{r|lll}\n  & actual & prediction & difference\\\\\n  & <dbl> & <dbl> & <dbl>\\\\\n\\hline\n\t158 & 0 & 0.1320563 & 0.13\\\\\n\t30 & 1 & 0.1061534 & 0.89\\\\\n\t59 & 1 & 0.5644049 & 0.44\\\\\n\t120 & 0 & 0.1447052 & 0.14\\\\\n\t63 & 1 & 0.7978319 & 0.20\\\\\n\t229 & 0 & 0.1260462 & 0.13\\\\\n\t62 & 1 & 0.4594068 & 0.54\\\\\n\t143 & 0 & 0.1205697 & 0.12\\\\\n\t191 & 0 & 0.1107523 & 0.11\\\\\n\t76 & 1 & 0.6826229 & 0.32\\\\\n\t97 & 0 & 0.1092158 & 0.11\\\\\n\t211 & 0 & 0.8905978 & 0.89\\\\\n\t52 & 1 & 0.6600241 & 0.34\\\\\n\t82 & 1 & 0.6029650 & 0.40\\\\\n\t27 & 1 & 0.9988269 & 0.00\\\\\n\t72 & 1 & 0.4594068 & 0.54\\\\\n\t199 & 0 & 0.2935747 & 0.29\\\\\n\t6 & 1 & 0.7167931 & 0.28\\\\\n\t47 & 1 & 0.8425166 & 0.16\\\\\n\t131 & 0 & 0.3748572 & 0.37\\\\\n\t4 & 1 & 0.1068367 & 0.89\\\\\n\t3 & 1 & 0.1040302 & 0.90\\\\\n\t109 & 0 & 0.1107523 & 0.11\\\\\n\t178 & 0 & 0.1320563 & 0.13\\\\\n\t88 & 0 & 0.1271559 & 0.13\\\\\n\t96 & 0 & 0.1320563 & 0.13\\\\\n\t135 & 0 & 0.1055291 & 0.11\\\\\n\t69 & 1 & 0.6010669 & 0.40\\\\\n\t174 & 0 & 0.2007834 & 0.20\\\\\n\t230 & 0 & 0.7712540 & 0.77\\\\\n\t221 & 0 & 0.1756633 & 0.18\\\\\n\t57 & 1 & 0.1217882 & 0.88\\\\\n\t237 & 0 & 0.2404549 & 0.24\\\\\n\t81 & 1 & 0.3534536 & 0.65\\\\\n\t155 & 0 & 0.1221979 & 0.12\\\\\n\t132 & 0 & 0.1194386 & 0.12\\\\\n\t164 & 0 & 0.6029650 & 0.60\\\\\n\t197 & 0 & 0.1084722 & 0.11\\\\\n\t244 & 0 & 0.6826229 & 0.68\\\\\n\t248 & 0 & 0.4005089 & 0.40\\\\\n\t114 & 0 & 0.1341953 & 0.13\\\\\n\t189 & 0 & 0.8631115 & 0.86\\\\\n\t55 & 1 & 0.8739977 & 0.13\\\\\n\t58 & 1 & 0.8425166 & 0.16\\\\\n\t18 & 1 & 0.4923205 & 0.51\\\\\n\t11 & 1 & 0.1231016 & 0.88\\\\\n\t112 & 0 & 0.1138443 & 0.11\\\\\n\t124 & 0 & 0.1090183 & 0.11\\\\\n\\end{tabular}\n",
            "text/markdown": "\nA data.frame: 48 × 3\n\n| <!--/--> | actual &lt;dbl&gt; | prediction &lt;dbl&gt; | difference &lt;dbl&gt; |\n|---|---|---|---|\n| 158 | 0 | 0.1320563 | 0.13 |\n| 30 | 1 | 0.1061534 | 0.89 |\n| 59 | 1 | 0.5644049 | 0.44 |\n| 120 | 0 | 0.1447052 | 0.14 |\n| 63 | 1 | 0.7978319 | 0.20 |\n| 229 | 0 | 0.1260462 | 0.13 |\n| 62 | 1 | 0.4594068 | 0.54 |\n| 143 | 0 | 0.1205697 | 0.12 |\n| 191 | 0 | 0.1107523 | 0.11 |\n| 76 | 1 | 0.6826229 | 0.32 |\n| 97 | 0 | 0.1092158 | 0.11 |\n| 211 | 0 | 0.8905978 | 0.89 |\n| 52 | 1 | 0.6600241 | 0.34 |\n| 82 | 1 | 0.6029650 | 0.40 |\n| 27 | 1 | 0.9988269 | 0.00 |\n| 72 | 1 | 0.4594068 | 0.54 |\n| 199 | 0 | 0.2935747 | 0.29 |\n| 6 | 1 | 0.7167931 | 0.28 |\n| 47 | 1 | 0.8425166 | 0.16 |\n| 131 | 0 | 0.3748572 | 0.37 |\n| 4 | 1 | 0.1068367 | 0.89 |\n| 3 | 1 | 0.1040302 | 0.90 |\n| 109 | 0 | 0.1107523 | 0.11 |\n| 178 | 0 | 0.1320563 | 0.13 |\n| 88 | 0 | 0.1271559 | 0.13 |\n| 96 | 0 | 0.1320563 | 0.13 |\n| 135 | 0 | 0.1055291 | 0.11 |\n| 69 | 1 | 0.6010669 | 0.40 |\n| 174 | 0 | 0.2007834 | 0.20 |\n| 230 | 0 | 0.7712540 | 0.77 |\n| 221 | 0 | 0.1756633 | 0.18 |\n| 57 | 1 | 0.1217882 | 0.88 |\n| 237 | 0 | 0.2404549 | 0.24 |\n| 81 | 1 | 0.3534536 | 0.65 |\n| 155 | 0 | 0.1221979 | 0.12 |\n| 132 | 0 | 0.1194386 | 0.12 |\n| 164 | 0 | 0.6029650 | 0.60 |\n| 197 | 0 | 0.1084722 | 0.11 |\n| 244 | 0 | 0.6826229 | 0.68 |\n| 248 | 0 | 0.4005089 | 0.40 |\n| 114 | 0 | 0.1341953 | 0.13 |\n| 189 | 0 | 0.8631115 | 0.86 |\n| 55 | 1 | 0.8739977 | 0.13 |\n| 58 | 1 | 0.8425166 | 0.16 |\n| 18 | 1 | 0.4923205 | 0.51 |\n| 11 | 1 | 0.1231016 | 0.88 |\n| 112 | 0 | 0.1138443 | 0.11 |\n| 124 | 0 | 0.1090183 | 0.11 |\n\n",
            "text/html": [
              "<table>\n",
              "<caption>A data.frame: 48 × 3</caption>\n",
              "<thead>\n",
              "\t<tr><th></th><th scope=col>actual</th><th scope=col>prediction</th><th scope=col>difference</th></tr>\n",
              "\t<tr><th></th><th scope=col>&lt;dbl&gt;</th><th scope=col>&lt;dbl&gt;</th><th scope=col>&lt;dbl&gt;</th></tr>\n",
              "</thead>\n",
              "<tbody>\n",
              "\t<tr><th scope=row>158</th><td>0</td><td>0.1320563</td><td>0.13</td></tr>\n",
              "\t<tr><th scope=row>30</th><td>1</td><td>0.1061534</td><td>0.89</td></tr>\n",
              "\t<tr><th scope=row>59</th><td>1</td><td>0.5644049</td><td>0.44</td></tr>\n",
              "\t<tr><th scope=row>120</th><td>0</td><td>0.1447052</td><td>0.14</td></tr>\n",
              "\t<tr><th scope=row>63</th><td>1</td><td>0.7978319</td><td>0.20</td></tr>\n",
              "\t<tr><th scope=row>229</th><td>0</td><td>0.1260462</td><td>0.13</td></tr>\n",
              "\t<tr><th scope=row>62</th><td>1</td><td>0.4594068</td><td>0.54</td></tr>\n",
              "\t<tr><th scope=row>143</th><td>0</td><td>0.1205697</td><td>0.12</td></tr>\n",
              "\t<tr><th scope=row>191</th><td>0</td><td>0.1107523</td><td>0.11</td></tr>\n",
              "\t<tr><th scope=row>76</th><td>1</td><td>0.6826229</td><td>0.32</td></tr>\n",
              "\t<tr><th scope=row>97</th><td>0</td><td>0.1092158</td><td>0.11</td></tr>\n",
              "\t<tr><th scope=row>211</th><td>0</td><td>0.8905978</td><td>0.89</td></tr>\n",
              "\t<tr><th scope=row>52</th><td>1</td><td>0.6600241</td><td>0.34</td></tr>\n",
              "\t<tr><th scope=row>82</th><td>1</td><td>0.6029650</td><td>0.40</td></tr>\n",
              "\t<tr><th scope=row>27</th><td>1</td><td>0.9988269</td><td>0.00</td></tr>\n",
              "\t<tr><th scope=row>72</th><td>1</td><td>0.4594068</td><td>0.54</td></tr>\n",
              "\t<tr><th scope=row>199</th><td>0</td><td>0.2935747</td><td>0.29</td></tr>\n",
              "\t<tr><th scope=row>6</th><td>1</td><td>0.7167931</td><td>0.28</td></tr>\n",
              "\t<tr><th scope=row>47</th><td>1</td><td>0.8425166</td><td>0.16</td></tr>\n",
              "\t<tr><th scope=row>131</th><td>0</td><td>0.3748572</td><td>0.37</td></tr>\n",
              "\t<tr><th scope=row>4</th><td>1</td><td>0.1068367</td><td>0.89</td></tr>\n",
              "\t<tr><th scope=row>3</th><td>1</td><td>0.1040302</td><td>0.90</td></tr>\n",
              "\t<tr><th scope=row>109</th><td>0</td><td>0.1107523</td><td>0.11</td></tr>\n",
              "\t<tr><th scope=row>178</th><td>0</td><td>0.1320563</td><td>0.13</td></tr>\n",
              "\t<tr><th scope=row>88</th><td>0</td><td>0.1271559</td><td>0.13</td></tr>\n",
              "\t<tr><th scope=row>96</th><td>0</td><td>0.1320563</td><td>0.13</td></tr>\n",
              "\t<tr><th scope=row>135</th><td>0</td><td>0.1055291</td><td>0.11</td></tr>\n",
              "\t<tr><th scope=row>69</th><td>1</td><td>0.6010669</td><td>0.40</td></tr>\n",
              "\t<tr><th scope=row>174</th><td>0</td><td>0.2007834</td><td>0.20</td></tr>\n",
              "\t<tr><th scope=row>230</th><td>0</td><td>0.7712540</td><td>0.77</td></tr>\n",
              "\t<tr><th scope=row>221</th><td>0</td><td>0.1756633</td><td>0.18</td></tr>\n",
              "\t<tr><th scope=row>57</th><td>1</td><td>0.1217882</td><td>0.88</td></tr>\n",
              "\t<tr><th scope=row>237</th><td>0</td><td>0.2404549</td><td>0.24</td></tr>\n",
              "\t<tr><th scope=row>81</th><td>1</td><td>0.3534536</td><td>0.65</td></tr>\n",
              "\t<tr><th scope=row>155</th><td>0</td><td>0.1221979</td><td>0.12</td></tr>\n",
              "\t<tr><th scope=row>132</th><td>0</td><td>0.1194386</td><td>0.12</td></tr>\n",
              "\t<tr><th scope=row>164</th><td>0</td><td>0.6029650</td><td>0.60</td></tr>\n",
              "\t<tr><th scope=row>197</th><td>0</td><td>0.1084722</td><td>0.11</td></tr>\n",
              "\t<tr><th scope=row>244</th><td>0</td><td>0.6826229</td><td>0.68</td></tr>\n",
              "\t<tr><th scope=row>248</th><td>0</td><td>0.4005089</td><td>0.40</td></tr>\n",
              "\t<tr><th scope=row>114</th><td>0</td><td>0.1341953</td><td>0.13</td></tr>\n",
              "\t<tr><th scope=row>189</th><td>0</td><td>0.8631115</td><td>0.86</td></tr>\n",
              "\t<tr><th scope=row>55</th><td>1</td><td>0.8739977</td><td>0.13</td></tr>\n",
              "\t<tr><th scope=row>58</th><td>1</td><td>0.8425166</td><td>0.16</td></tr>\n",
              "\t<tr><th scope=row>18</th><td>1</td><td>0.4923205</td><td>0.51</td></tr>\n",
              "\t<tr><th scope=row>11</th><td>1</td><td>0.1231016</td><td>0.88</td></tr>\n",
              "\t<tr><th scope=row>112</th><td>0</td><td>0.1138443</td><td>0.11</td></tr>\n",
              "\t<tr><th scope=row>124</th><td>0</td><td>0.1090183</td><td>0.11</td></tr>\n",
              "</tbody>\n",
              "</table>\n"
            ]
          },
          "metadata": {
            "tags": []
          }
        }
      ]
    },
    {
      "cell_type": "markdown",
      "metadata": {
        "colab_type": "text",
        "id": "hXYcN0gJdz3n"
      },
      "source": [
        "1.4 Misclassification table\n",
        "\n",
        "Build a confusion matrix: "
      ]
    },
    {
      "cell_type": "code",
      "metadata": {
        "id": "zjfIHqSmebUR",
        "colab_type": "code",
        "colab": {
          "base_uri": "https://localhost:8080/",
          "height": 87
        },
        "outputId": "34face20-ded9-47f8-ef39-db18fc224d5a"
      },
      "source": [
        "roundedresults<-sapply(results,round,digits=0)\n",
        "roundedresultsdf=data.frame(roundedresults)\n",
        "attach(roundedresultsdf)\n",
        "table(actual,prediction)"
      ],
      "execution_count": 54,
      "outputs": [
        {
          "output_type": "display_data",
          "data": {
            "text/plain": [
              "      prediction\n",
              "actual  0  1\n",
              "     0 23  5\n",
              "     1  9 11"
            ]
          },
          "metadata": {
            "tags": []
          }
        }
      ]
    },
    {
      "cell_type": "markdown",
      "metadata": {
        "colab_type": "text",
        "id": "o7GCxEO_d2JP"
      },
      "source": [
        "2. Build a two-layer model. The first layer has two hidden units while the second has three"
      ]
    },
    {
      "cell_type": "code",
      "metadata": {
        "id": "rS0XPo-Pd5hi",
        "colab_type": "code",
        "colab": {
          "base_uri": "https://localhost:8080/",
          "height": 437
        },
        "outputId": "8f2c6dc2-ba71-435a-af1b-353e16e8e088"
      },
      "source": [
        "set.seed(2)\n",
        "nn2 <- neuralnet(case~age+parity+induced+spontaneous,data=dat1,hidden=c(2,3)    ,err.fct=\"ce\",linear.output=FALSE)\n",
        "plot(nn2, rep=\"best\")"
      ],
      "execution_count": 58,
      "outputs": [
        {
          "output_type": "display_data",
          "data": {
            "image/png": "[encoded data removed]",
            "text/plain": [
              "plot without title"
            ]
          },
          "metadata": {
            "tags": [],
            "image/png": {
              "width": 420,
              "height": 420
            },
            "text/plain": {
              "width": 420,
              "height": 420
            }
          }
        }
      ]
    },
    {
      "cell_type": "markdown",
      "metadata": {
        "id": "4ZHNXS8tqHrf",
        "colab_type": "text"
      },
      "source": [
        "# Getting Help\n",
        "\n",
        "* Documentation: http://www.hpc.lsu.edu/docs\n",
        "* Contact us\n",
        "> * Email ticket system: sys-help@loni.org\n",
        "> * Telephone Help Desk: 225-578-0900\n",
        "\n"
      ]
    }
  ]
}