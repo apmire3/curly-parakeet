{
  "nbformat": 4,
  "nbformat_minor": 0,
  "metadata": {
    "colab": {
      "name": "Allen_Mire_data_R.ipynb",
      "provenance": [],
      "collapsed_sections": [
        "puJbML3jdoSt"
      ],
      "toc_visible": true,
      "include_colab_link": true
    },
    "language_info": {
      "codemirror_mode": "r",
      "file_extension": ".r",
      "mimetype": "text/x-r-source",
      "name": "R",
      "pygments_lexer": "r",
      "version": "3.3.1"
    },
    "kernelspec": {
      "display_name": "R",
      "language": "R",
      "name": "ir"
    }
  },
  "cells": [
    {
      "cell_type": "markdown",
      "metadata": {
        "id": "view-in-github",
        "colab_type": "text"
      },
      "source": [
        "<a href=\"https://colab.research.google.com/github/apmire3/curly-parakeet/blob/master/Allen_Mire_data_R.ipynb\" target=\"_parent\"><img src=\"https://colab.research.google.com/assets/colab-badge.svg\" alt=\"Open In Colab\"/></a>"
      ]
    },
    {
      "cell_type": "markdown",
      "metadata": {
        "id": "CcCXs04t4N5Q",
        "colab_type": "text"
      },
      "source": [
        "Data Analysis in R\n",
        "==="
      ]
    },
    {
      "cell_type": "markdown",
      "metadata": {
        "id": "kixwkd8RbYtx",
        "colab_type": "text"
      },
      "source": [
        "# Outline\n",
        "\n",
        "\n",
        "*   **Data acquisition and inspection**\n",
        "\n",
        "*   **Preprocess the dataset**\n",
        "\n",
        "*   **Data analysis**\n",
        "\n",
        "\n",
        "\n",
        "\n"
      ]
    },
    {
      "cell_type": "markdown",
      "metadata": {
        "id": "puJbML3jdoSt",
        "colab_type": "text"
      },
      "source": [
        "##Review: working directory\n",
        "*  R works best if you have a dedicated folder for each separate project - the working directory. Put all data files in the working directory (or in its sub-directories).\n",
        "* The \"project\" in RStudio is the working directory “Pro”. If you are interested to learn more about RStudio, please visit the [Introduction to RStudio](http://www.hpc.lsu.edu/training/weekly-materials/2020-Spring/HPC_Intro_RStudio_Spring2020.pdf) tutorial from LSU HPC. "
      ]
    },
    {
      "cell_type": "markdown",
      "metadata": {
        "id": "VU3C0_JyeOol",
        "colab_type": "text"
      },
      "source": [
        "Show current working folder:"
      ]
    },
    {
      "cell_type": "code",
      "metadata": {
        "id": "XGU0JFFCeJQm",
        "colab_type": "code",
        "colab": {
          "base_uri": "https://localhost:8080/",
          "height": 34
        },
        "outputId": "22141bfd-b60a-41af-c577-52202b7bc617"
      },
      "source": [
        "getwd()"
      ],
      "execution_count": 1,
      "outputs": [
        {
          "output_type": "display_data",
          "data": {
            "text/plain": [
              "[1] \"/content\""
            ],
            "text/latex": "'/content'",
            "text/markdown": "'/content'",
            "text/html": [
              "'/content'"
            ]
          },
          "metadata": {
            "tags": []
          }
        }
      ]
    },
    {
      "cell_type": "markdown",
      "metadata": {
        "id": "6pgrV21teZwS",
        "colab_type": "text"
      },
      "source": [
        "Let us create a new folder called \"data\":"
      ]
    },
    {
      "cell_type": "code",
      "metadata": {
        "id": "QkJsZAP0eWLA",
        "colab_type": "code",
        "colab": {}
      },
      "source": [
        "dir.create(\"data\")  "
      ],
      "execution_count": 0,
      "outputs": []
    },
    {
      "cell_type": "markdown",
      "metadata": {
        "id": "8n42BV9Begfu",
        "colab_type": "text"
      },
      "source": [
        "Go to this new folder:"
      ]
    },
    {
      "cell_type": "code",
      "metadata": {
        "id": "X_a7c3y7etuh",
        "colab_type": "code",
        "colab": {}
      },
      "source": [
        "setwd(\"data\")"
      ],
      "execution_count": 0,
      "outputs": []
    },
    {
      "cell_type": "markdown",
      "metadata": {
        "id": "tOgijiMHexJp",
        "colab_type": "text"
      },
      "source": [
        "Show current working folder:"
      ]
    },
    {
      "cell_type": "code",
      "metadata": {
        "id": "Q0JBu8ws4N5W",
        "colab_type": "code",
        "colab": {}
      },
      "source": [
        "getwd()"
      ],
      "execution_count": 0,
      "outputs": []
    },
    {
      "cell_type": "markdown",
      "metadata": {
        "id": "nLmxtiJBfE5F",
        "colab_type": "text"
      },
      "source": [
        "##Case Study: Forbes Global 2000 list\n",
        "*   The `forbes` dataset consists of 2000 rows (observations) on 8 variables describing companies’ rank, name, country, category, sales, profits, assets and market value. \n",
        "http://www.hpc.lsu.edu/training/weekly-materials/Downloads/Forbes2000.csv.zip\n",
        "> * **`rank`** the ranking of the company\n",
        "> * **`name`** the name of the company\n",
        "> * **`country`** the country the company is situated in\n",
        "> * **`category`** the products the company produces\n",
        "> * **`sales`** the amount of sales of the company in billion USD\n",
        "> * **`profits`** the profit of the company in billion USD\n",
        "> * **`assets`** the assets of the company in billion USD\n",
        "> * **`marketvalue`** the market value of the company in billion USD\n",
        "\n",
        "*  First 10 lines of the raw data\n",
        "\n",
        ">rank | name| country| category | sales | profits | assets | marketvalue\n",
        ">--- | --- | --- | --- | --- | --- | --- | ---\n",
        ">1 | Citigroup | United States | Banking | 94.71 | 17.85 | 1264.03 | 255.3\n",
        ">2 | General Electric | United States | Conglomerates | 134.19 | 15.59 | 626.93 | 328.54\n",
        ">3 | American Intl Group | United States | Insurance | 76.66 | 6.46 | 647.66 |194.87\n",
        ">4 | ExxonMobil | United States | Oil & gas operations | 222.88 | 20.96 | 166.99 | 277.02\n",
        ">5 | BP | United Kingdom | Oil & gas operations | 232.57 | 10.27 | 177.57 | 173.54\n",
        ">6 | Bank of America | United States | Banking | 49.01 | 10.81 | 736.45 | 117.55\n",
        ">7 | HSBC Group | United Kingdom | Banking | 44.33 | 6.66 | 757.6 | 177.96\n",
        ">8 | Toyota Motor | Japan | Consumer durables | 135.82 | 7.99 | 171.71 | 115.4\n",
        ">9 | Fannie Mae | United States | Diversified financials | 53.13 | 6.48 | 1019.17 | 76.84\n",
        ">10 | Wal-Mart Stores | United States | Retailing | 256.33 | 9.05 | 104.91 | 243.74\n"
      ]
    },
    {
      "cell_type": "markdown",
      "metadata": {
        "id": "DOEy_8Iif2HB",
        "colab_type": "text"
      },
      "source": [
        "# Step by step Data Analysis in R\n",
        "\n",
        "\n",
        "1. Get data\n",
        "2. Read data\n",
        "3. Inspect data\n",
        "4. Preprocess data (missing and dubious values, discard columns not needed etc.)\n",
        "5. Analyze data\n",
        "6. Generate report\n",
        "\n",
        "\n",
        "\n",
        "\n",
        "\n"
      ]
    },
    {
      "cell_type": "markdown",
      "metadata": {
        "id": "bbBzk3yTqcfB",
        "colab_type": "text"
      },
      "source": [
        "## 1. Getting Data\n",
        "* Downloading files from internet\n",
        "> * Manually download the file to the working directory \n",
        "> * or with R function `download.file()`\n",
        "* Unzip with the `unzip()` function"
      ]
    },
    {
      "cell_type": "code",
      "metadata": {
        "id": "e2O1lDvA4N5f",
        "colab_type": "code",
        "colab": {
          "base_uri": "https://localhost:8080/",
          "height": 34
        },
        "outputId": "62f94e5f-3302-487b-f82b-8315d700ef08"
      },
      "source": [
        "download.file(\"http://www.hpc.lsu.edu/training/weekly-materials/Downloads/Forbes2000.csv.zip\",\"Forbes2000.csv.zip\")\n",
        "unzip(\"Forbes2000.csv.zip\",\"Forbes2000.csv\")\n",
        "list.files()   # List files in current folder"
      ],
      "execution_count": 3,
      "outputs": [
        {
          "output_type": "display_data",
          "data": {
            "text/plain": [
              "[1] \"Forbes2000.csv\"     \"Forbes2000.csv.zip\" \"sample_data\"       "
            ],
            "text/latex": "\\begin{enumerate*}\n\\item 'Forbes2000.csv'\n\\item 'Forbes2000.csv.zip'\n\\item 'sample\\_data'\n\\end{enumerate*}\n",
            "text/markdown": "1. 'Forbes2000.csv'\n2. 'Forbes2000.csv.zip'\n3. 'sample_data'\n\n\n",
            "text/html": [
              "<style>\n",
              ".list-inline {list-style: none; margin:0; padding: 0}\n",
              ".list-inline>li {display: inline-block}\n",
              ".list-inline>li:not(:last-child)::after {content: \"\\00b7\"; padding: 0 .5ex}\n",
              "</style>\n",
              "<ol class=list-inline><li>'Forbes2000.csv'</li><li>'Forbes2000.csv.zip'</li><li>'sample_data'</li></ol>\n"
            ]
          },
          "metadata": {
            "tags": []
          }
        }
      ]
    },
    {
      "cell_type": "markdown",
      "metadata": {
        "id": "VtLFhkTYj-ys",
        "colab_type": "text"
      },
      "source": [
        "##2. Reading data\n",
        "* R understands many different data formats and has lots of ways of reading/writing them (csv, xml, excel, sql, json etc.)\n",
        "\n",
        ">Input | Output | Purpose\n",
        ">--- | --- | ---\n",
        ">read.table (read.csv) | write.table (write.csv) | for reading/writing tabular data\n",
        ">readLines | writeLines | for reading/writing lines of a text file\n",
        ">source | dump | for reading/writing in R code files\n",
        ">dget | dput | for reading/writing in R code files\n",
        ">load | save | for reading in/saving workspaces\n",
        "\n",
        "* ` read.csv()` is identical to `read.table()` except that the default separator is a comma."
      ]
    },
    {
      "cell_type": "code",
      "metadata": {
        "id": "SkbNLI6tm2Zg",
        "colab_type": "code",
        "colab": {}
      },
      "source": [
        "forbes <- read.csv(\"Forbes2000.csv\",header=T,stringsAsFactors = FALSE,na.strings =\"NA\",sep=\",\")"
      ],
      "execution_count": 0,
      "outputs": []
    },
    {
      "cell_type": "markdown",
      "metadata": {
        "id": "aPYzMpU4Vm_V",
        "colab_type": "text"
      },
      "source": [
        "* **Note: Changes since R 4.0.0** \n",
        "> * R now uses a `stringsAsFactors = FALSE` default, and hence by default no longer converts strings to factors in calls to `data.frame()` and `read.table()`.\n",
        "* It is a good practice to specify some options rather than using the default."
      ]
    },
    {
      "cell_type": "markdown",
      "metadata": {
        "id": "Sc_uz3ZMWydg",
        "colab_type": "text"
      },
      "source": [
        "* Tips: Find out R version used on any platforms (e.g. Colab)"
      ]
    },
    {
      "cell_type": "code",
      "metadata": {
        "id": "_c0U-J48mJxL",
        "colab_type": "code",
        "colab": {
          "base_uri": "https://localhost:8080/",
          "height": 281
        },
        "outputId": "7985be65-2179-4e3e-987e-c29134a2815f"
      },
      "source": [
        "version"
      ],
      "execution_count": 5,
      "outputs": [
        {
          "output_type": "display_data",
          "data": {
            "text/plain": [
              "               _                           \n",
              "platform       x86_64-pc-linux-gnu         \n",
              "arch           x86_64                      \n",
              "os             linux-gnu                   \n",
              "system         x86_64, linux-gnu           \n",
              "status                                     \n",
              "major          3                           \n",
              "minor          6.3                         \n",
              "year           2020                        \n",
              "month          02                          \n",
              "day            29                          \n",
              "svn rev        77875                       \n",
              "language       R                           \n",
              "version.string R version 3.6.3 (2020-02-29)\n",
              "nickname       Holding the Windsock        "
            ]
          },
          "metadata": {
            "tags": []
          }
        }
      ]
    },
    {
      "cell_type": "markdown",
      "metadata": {
        "id": "oVFmKLiI4N5n",
        "colab_type": "text"
      },
      "source": [
        "###Quiz\n",
        "* After importing the raw data, the R data object used for carrying the data is a:\n",
        "\n",
        "a) vector\n",
        "\n",
        "b) matrix\n",
        "\n",
        "c) array\n",
        "\n",
        "d) list\n",
        "\n",
        "e) dataframe"
      ]
    },
    {
      "cell_type": "markdown",
      "metadata": {
        "id": "8RtebkNBoRsL",
        "colab_type": "text"
      },
      "source": [
        "##3. Inspecting data\n",
        "* `class()`: check object class\n",
        "* `dim()`: dimension of the data\n",
        "* `head()`: print on screen the first few lines of data, may use n as argument\n",
        "* `tail()`: print the last few lines of data"
      ]
    },
    {
      "cell_type": "code",
      "metadata": {
        "id": "y1WHb5fP4N5p",
        "colab_type": "code",
        "colab": {
          "base_uri": "https://localhost:8080/",
          "height": 1000
        },
        "outputId": "5d110a7f-7639-4e5f-82c7-fc52b53562a5"
      },
      "source": [
        "class(forbes)\n",
        "dim(forbes)\n",
        "head(forbes,n=50)"
      ],
      "execution_count": 6,
      "outputs": [
        {
          "output_type": "display_data",
          "data": {
            "text/plain": [
              "[1] \"data.frame\""
            ],
            "text/latex": "'data.frame'",
            "text/markdown": "'data.frame'",
            "text/html": [
              "'data.frame'"
            ]
          },
          "metadata": {
            "tags": []
          }
        },
        {
          "output_type": "display_data",
          "data": {
            "text/plain": [
              "[1] 2000    8"
            ],
            "text/latex": "\\begin{enumerate*}\n\\item 2000\n\\item 8\n\\end{enumerate*}\n",
            "text/markdown": "1. 2000\n2. 8\n\n\n",
            "text/html": [
              "<style>\n",
              ".list-inline {list-style: none; margin:0; padding: 0}\n",
              ".list-inline>li {display: inline-block}\n",
              ".list-inline>li:not(:last-child)::after {content: \"\\00b7\"; padding: 0 .5ex}\n",
              "</style>\n",
              "<ol class=list-inline><li>2000</li><li>8</li></ol>\n"
            ]
          },
          "metadata": {
            "tags": []
          }
        },
        {
          "output_type": "display_data",
          "data": {
            "text/plain": [
              "   rank name                    country                    \n",
              "1   1   Citigroup               United States              \n",
              "2   2   General Electric        United States              \n",
              "3   3   American Intl Group     United States              \n",
              "4   4   ExxonMobil              United States              \n",
              "5   5   BP                      United Kingdom             \n",
              "6   6   Bank of America         United States              \n",
              "7   7   HSBC Group              United Kingdom             \n",
              "8   8   Toyota Motor            Japan                      \n",
              "9   9   Fannie Mae              United States              \n",
              "10 10   Wal-Mart Stores         United States              \n",
              "11 11   UBS                     Switzerland                \n",
              "12 12   ING Group               Netherlands                \n",
              "13 13   Royal Dutch/Shell Group Netherlands/ United Kingdom\n",
              "14 14   Berkshire Hathaway      United States              \n",
              "15 15   JP Morgan Chase         United States              \n",
              "16 16   IBM                     United States              \n",
              "17 17   Total                   France                     \n",
              "18 18   BNP Paribas             France                     \n",
              "19 19   Royal Bank of Scotland  United Kingdom             \n",
              "20 20   Freddie Mac             United States              \n",
              "21 21   DaimlerChrysler         Germany                    \n",
              "22 22   Altria Group            United States              \n",
              "23 23   ChevronTexaco           United States              \n",
              "24 24   Pfizer                  United States              \n",
              "25 25   Wells Fargo             United States              \n",
              "26 26   Verizon Commun          United States              \n",
              "27 27   Barclays                United Kingdom             \n",
              "28 28   Morgan Stanley          United States              \n",
              "29 29   General Motors          United States              \n",
              "30 30   Nippon Tel & Tel        Japan                      \n",
              "31 31   Microsoft               United States              \n",
              "32 32   Nestle                  Switzerland                \n",
              "33 33   SBC Communications      United States              \n",
              "34 34   Deutsche Bank Group     Germany                    \n",
              "35 35   Siemens Group           Germany                    \n",
              "36 36   HBOS                    United Kingdom             \n",
              "37 37   ENI                     Italy                      \n",
              "38 38   ConocoPhillips          United States              \n",
              "39 39   Banco Santander Central Spain                      \n",
              "40 40   Merrill Lynch           United States              \n",
              "41 41   Wachovia                United States              \n",
              "42 42   Time Warner             United States              \n",
              "43 43   Hewlett-Packard         United States              \n",
              "44 44   Procter & Gamble        United States              \n",
              "45 45   Samsung Electronics     South Korea                \n",
              "46 46   Johnson & Johnson       United States              \n",
              "47 47   Lloyds TSB Group        United Kingdom             \n",
              "48 48   ABN-Amro Holding        Netherlands                \n",
              "49 49   Honda Motor             Japan                      \n",
              "50 50   American Express        United States              \n",
              "   category                        sales  profits assets  marketvalue\n",
              "1  Banking                          94.71 17.85   1264.03 255.30     \n",
              "2  Conglomerates                   134.19 15.59    626.93 328.54     \n",
              "3  Insurance                        76.66  6.46    647.66 194.87     \n",
              "4  Oil & gas operations            222.88 20.96    166.99 277.02     \n",
              "5  Oil & gas operations            232.57 10.27    177.57 173.54     \n",
              "6  Banking                          49.01 10.81    736.45 117.55     \n",
              "7  Banking                          44.33  6.66    757.60 177.96     \n",
              "8  Consumer durables               135.82  7.99    171.71 115.40     \n",
              "9  Diversified financials           53.13  6.48   1019.17  76.84     \n",
              "10 Retailing                       256.33  9.05    104.91 243.74     \n",
              "11 Diversified financials           48.95  5.15    853.23  85.07     \n",
              "12 Diversified financials           94.72  4.73    752.49  54.59     \n",
              "13 Oil & gas operations            133.50  8.40    100.72 163.45     \n",
              "14 Insurance                        56.22  6.95    172.24 141.14     \n",
              "15 Banking                          44.39  4.47    792.70  81.94     \n",
              "16 Technology hardware & equipment  89.13  7.58    104.46 171.54     \n",
              "17 Oil & gas operations            131.64  8.84     87.84 116.64     \n",
              "18 Banking                          47.74  4.73    745.09  59.29     \n",
              "19 Banking                          35.65  4.95    663.45  90.21     \n",
              "20 Diversified financials           46.26 10.09    752.25  44.25     \n",
              "21 Consumer durables               157.13  5.12    195.58  47.43     \n",
              "22 Food drink & tobacco             60.70  9.20     96.18 111.02     \n",
              "23 Oil & gas operations            112.94  7.43     82.36  92.49     \n",
              "24 Drugs & biotechnology            40.36  6.20    120.06 285.27     \n",
              "25 Banking                          31.80  6.20    387.80  97.53     \n",
              "26 Telecommunications services      67.75  2.57    165.97 103.97     \n",
              "27 Banking                          33.69  4.90    791.54  61.33     \n",
              "28 Diversified financials           33.00  3.64    580.63  64.81     \n",
              "29 Consumer durables               185.52  3.82    450.00  27.47     \n",
              "30 Telecommunications services      92.41  2.17    150.87  73.00     \n",
              "31 Software & services              34.27  8.88     85.94 287.02     \n",
              "32 Food drink & tobacco             64.56  5.48     62.15 106.55     \n",
              "33 Telecommunications services      39.16  5.97    100.17  82.93     \n",
              "34 Diversified financials           58.85  1.53    792.49  50.23     \n",
              "35 Conglomerates                    86.62  2.81     85.47  75.77     \n",
              "36 Banking                          32.68  3.09    571.76  52.87     \n",
              "37 Oil & gas operations             53.29  4.82     67.91  76.13     \n",
              "38 Oil & gas operations             90.49  4.83     81.95  46.72     \n",
              "39 Banking                          28.70  3.28    442.24  56.78     \n",
              "40 Diversified financials           26.64  3.47    485.77  57.52     \n",
              "41 Banking                          24.47  4.25    400.87  62.35     \n",
              "42 Media                            38.08  2.65    121.78  77.95     \n",
              "43 Technology hardware & equipment  73.06  2.54     74.71  70.20     \n",
              "44 Household & personal products    46.99  5.81     53.86 131.89     \n",
              "45 Semiconductors                   50.22  5.95     54.58  72.72     \n",
              "46 Drugs & biotechnology            40.01  6.74     46.66 160.96     \n",
              "47 Banking                          24.48  2.87    406.99  48.11     \n",
              "48 Banking                          23.64  3.98    704.95  39.29     \n",
              "49 Consumer durables                67.44  3.61     63.09  40.61     \n",
              "50 Diversified financials           24.17  3.00    175.00  68.89     "
            ],
            "text/latex": "A data.frame: 50 × 8\n\\begin{tabular}{r|llllllll}\n  & rank & name & country & category & sales & profits & assets & marketvalue\\\\\n  & <int> & <chr> & <chr> & <chr> & <dbl> & <dbl> & <dbl> & <dbl>\\\\\n\\hline\n\t1 &  1 & Citigroup               & United States               & Banking                         &  94.71 & 17.85 & 1264.03 & 255.30\\\\\n\t2 &  2 & General Electric        & United States               & Conglomerates                   & 134.19 & 15.59 &  626.93 & 328.54\\\\\n\t3 &  3 & American Intl Group     & United States               & Insurance                       &  76.66 &  6.46 &  647.66 & 194.87\\\\\n\t4 &  4 & ExxonMobil              & United States               & Oil \\& gas operations            & 222.88 & 20.96 &  166.99 & 277.02\\\\\n\t5 &  5 & BP                      & United Kingdom              & Oil \\& gas operations            & 232.57 & 10.27 &  177.57 & 173.54\\\\\n\t6 &  6 & Bank of America         & United States               & Banking                         &  49.01 & 10.81 &  736.45 & 117.55\\\\\n\t7 &  7 & HSBC Group              & United Kingdom              & Banking                         &  44.33 &  6.66 &  757.60 & 177.96\\\\\n\t8 &  8 & Toyota Motor            & Japan                       & Consumer durables               & 135.82 &  7.99 &  171.71 & 115.40\\\\\n\t9 &  9 & Fannie Mae              & United States               & Diversified financials          &  53.13 &  6.48 & 1019.17 &  76.84\\\\\n\t10 & 10 & Wal-Mart Stores         & United States               & Retailing                       & 256.33 &  9.05 &  104.91 & 243.74\\\\\n\t11 & 11 & UBS                     & Switzerland                 & Diversified financials          &  48.95 &  5.15 &  853.23 &  85.07\\\\\n\t12 & 12 & ING Group               & Netherlands                 & Diversified financials          &  94.72 &  4.73 &  752.49 &  54.59\\\\\n\t13 & 13 & Royal Dutch/Shell Group & Netherlands/ United Kingdom & Oil \\& gas operations            & 133.50 &  8.40 &  100.72 & 163.45\\\\\n\t14 & 14 & Berkshire Hathaway      & United States               & Insurance                       &  56.22 &  6.95 &  172.24 & 141.14\\\\\n\t15 & 15 & JP Morgan Chase         & United States               & Banking                         &  44.39 &  4.47 &  792.70 &  81.94\\\\\n\t16 & 16 & IBM                     & United States               & Technology hardware \\& equipment &  89.13 &  7.58 &  104.46 & 171.54\\\\\n\t17 & 17 & Total                   & France                      & Oil \\& gas operations            & 131.64 &  8.84 &   87.84 & 116.64\\\\\n\t18 & 18 & BNP Paribas             & France                      & Banking                         &  47.74 &  4.73 &  745.09 &  59.29\\\\\n\t19 & 19 & Royal Bank of Scotland  & United Kingdom              & Banking                         &  35.65 &  4.95 &  663.45 &  90.21\\\\\n\t20 & 20 & Freddie Mac             & United States               & Diversified financials          &  46.26 & 10.09 &  752.25 &  44.25\\\\\n\t21 & 21 & DaimlerChrysler         & Germany                     & Consumer durables               & 157.13 &  5.12 &  195.58 &  47.43\\\\\n\t22 & 22 & Altria Group            & United States               & Food drink \\& tobacco            &  60.70 &  9.20 &   96.18 & 111.02\\\\\n\t23 & 23 & ChevronTexaco           & United States               & Oil \\& gas operations            & 112.94 &  7.43 &   82.36 &  92.49\\\\\n\t24 & 24 & Pfizer                  & United States               & Drugs \\& biotechnology           &  40.36 &  6.20 &  120.06 & 285.27\\\\\n\t25 & 25 & Wells Fargo             & United States               & Banking                         &  31.80 &  6.20 &  387.80 &  97.53\\\\\n\t26 & 26 & Verizon Commun          & United States               & Telecommunications services     &  67.75 &  2.57 &  165.97 & 103.97\\\\\n\t27 & 27 & Barclays                & United Kingdom              & Banking                         &  33.69 &  4.90 &  791.54 &  61.33\\\\\n\t28 & 28 & Morgan Stanley          & United States               & Diversified financials          &  33.00 &  3.64 &  580.63 &  64.81\\\\\n\t29 & 29 & General Motors          & United States               & Consumer durables               & 185.52 &  3.82 &  450.00 &  27.47\\\\\n\t30 & 30 & Nippon Tel \\& Tel        & Japan                       & Telecommunications services     &  92.41 &  2.17 &  150.87 &  73.00\\\\\n\t31 & 31 & Microsoft               & United States               & Software \\& services             &  34.27 &  8.88 &   85.94 & 287.02\\\\\n\t32 & 32 & Nestle                  & Switzerland                 & Food drink \\& tobacco            &  64.56 &  5.48 &   62.15 & 106.55\\\\\n\t33 & 33 & SBC Communications      & United States               & Telecommunications services     &  39.16 &  5.97 &  100.17 &  82.93\\\\\n\t34 & 34 & Deutsche Bank Group     & Germany                     & Diversified financials          &  58.85 &  1.53 &  792.49 &  50.23\\\\\n\t35 & 35 & Siemens Group           & Germany                     & Conglomerates                   &  86.62 &  2.81 &   85.47 &  75.77\\\\\n\t36 & 36 & HBOS                    & United Kingdom              & Banking                         &  32.68 &  3.09 &  571.76 &  52.87\\\\\n\t37 & 37 & ENI                     & Italy                       & Oil \\& gas operations            &  53.29 &  4.82 &   67.91 &  76.13\\\\\n\t38 & 38 & ConocoPhillips          & United States               & Oil \\& gas operations            &  90.49 &  4.83 &   81.95 &  46.72\\\\\n\t39 & 39 & Banco Santander Central & Spain                       & Banking                         &  28.70 &  3.28 &  442.24 &  56.78\\\\\n\t40 & 40 & Merrill Lynch           & United States               & Diversified financials          &  26.64 &  3.47 &  485.77 &  57.52\\\\\n\t41 & 41 & Wachovia                & United States               & Banking                         &  24.47 &  4.25 &  400.87 &  62.35\\\\\n\t42 & 42 & Time Warner             & United States               & Media                           &  38.08 &  2.65 &  121.78 &  77.95\\\\\n\t43 & 43 & Hewlett-Packard         & United States               & Technology hardware \\& equipment &  73.06 &  2.54 &   74.71 &  70.20\\\\\n\t44 & 44 & Procter \\& Gamble        & United States               & Household \\& personal products   &  46.99 &  5.81 &   53.86 & 131.89\\\\\n\t45 & 45 & Samsung Electronics     & South Korea                 & Semiconductors                  &  50.22 &  5.95 &   54.58 &  72.72\\\\\n\t46 & 46 & Johnson \\& Johnson       & United States               & Drugs \\& biotechnology           &  40.01 &  6.74 &   46.66 & 160.96\\\\\n\t47 & 47 & Lloyds TSB Group        & United Kingdom              & Banking                         &  24.48 &  2.87 &  406.99 &  48.11\\\\\n\t48 & 48 & ABN-Amro Holding        & Netherlands                 & Banking                         &  23.64 &  3.98 &  704.95 &  39.29\\\\\n\t49 & 49 & Honda Motor             & Japan                       & Consumer durables               &  67.44 &  3.61 &   63.09 &  40.61\\\\\n\t50 & 50 & American Express        & United States               & Diversified financials          &  24.17 &  3.00 &  175.00 &  68.89\\\\\n\\end{tabular}\n",
            "text/markdown": "\nA data.frame: 50 × 8\n\n| <!--/--> | rank &lt;int&gt; | name &lt;chr&gt; | country &lt;chr&gt; | category &lt;chr&gt; | sales &lt;dbl&gt; | profits &lt;dbl&gt; | assets &lt;dbl&gt; | marketvalue &lt;dbl&gt; |\n|---|---|---|---|---|---|---|---|---|\n| 1 |  1 | Citigroup               | United States               | Banking                         |  94.71 | 17.85 | 1264.03 | 255.30 |\n| 2 |  2 | General Electric        | United States               | Conglomerates                   | 134.19 | 15.59 |  626.93 | 328.54 |\n| 3 |  3 | American Intl Group     | United States               | Insurance                       |  76.66 |  6.46 |  647.66 | 194.87 |\n| 4 |  4 | ExxonMobil              | United States               | Oil &amp; gas operations            | 222.88 | 20.96 |  166.99 | 277.02 |\n| 5 |  5 | BP                      | United Kingdom              | Oil &amp; gas operations            | 232.57 | 10.27 |  177.57 | 173.54 |\n| 6 |  6 | Bank of America         | United States               | Banking                         |  49.01 | 10.81 |  736.45 | 117.55 |\n| 7 |  7 | HSBC Group              | United Kingdom              | Banking                         |  44.33 |  6.66 |  757.60 | 177.96 |\n| 8 |  8 | Toyota Motor            | Japan                       | Consumer durables               | 135.82 |  7.99 |  171.71 | 115.40 |\n| 9 |  9 | Fannie Mae              | United States               | Diversified financials          |  53.13 |  6.48 | 1019.17 |  76.84 |\n| 10 | 10 | Wal-Mart Stores         | United States               | Retailing                       | 256.33 |  9.05 |  104.91 | 243.74 |\n| 11 | 11 | UBS                     | Switzerland                 | Diversified financials          |  48.95 |  5.15 |  853.23 |  85.07 |\n| 12 | 12 | ING Group               | Netherlands                 | Diversified financials          |  94.72 |  4.73 |  752.49 |  54.59 |\n| 13 | 13 | Royal Dutch/Shell Group | Netherlands/ United Kingdom | Oil &amp; gas operations            | 133.50 |  8.40 |  100.72 | 163.45 |\n| 14 | 14 | Berkshire Hathaway      | United States               | Insurance                       |  56.22 |  6.95 |  172.24 | 141.14 |\n| 15 | 15 | JP Morgan Chase         | United States               | Banking                         |  44.39 |  4.47 |  792.70 |  81.94 |\n| 16 | 16 | IBM                     | United States               | Technology hardware &amp; equipment |  89.13 |  7.58 |  104.46 | 171.54 |\n| 17 | 17 | Total                   | France                      | Oil &amp; gas operations            | 131.64 |  8.84 |   87.84 | 116.64 |\n| 18 | 18 | BNP Paribas             | France                      | Banking                         |  47.74 |  4.73 |  745.09 |  59.29 |\n| 19 | 19 | Royal Bank of Scotland  | United Kingdom              | Banking                         |  35.65 |  4.95 |  663.45 |  90.21 |\n| 20 | 20 | Freddie Mac             | United States               | Diversified financials          |  46.26 | 10.09 |  752.25 |  44.25 |\n| 21 | 21 | DaimlerChrysler         | Germany                     | Consumer durables               | 157.13 |  5.12 |  195.58 |  47.43 |\n| 22 | 22 | Altria Group            | United States               | Food drink &amp; tobacco            |  60.70 |  9.20 |   96.18 | 111.02 |\n| 23 | 23 | ChevronTexaco           | United States               | Oil &amp; gas operations            | 112.94 |  7.43 |   82.36 |  92.49 |\n| 24 | 24 | Pfizer                  | United States               | Drugs &amp; biotechnology           |  40.36 |  6.20 |  120.06 | 285.27 |\n| 25 | 25 | Wells Fargo             | United States               | Banking                         |  31.80 |  6.20 |  387.80 |  97.53 |\n| 26 | 26 | Verizon Commun          | United States               | Telecommunications services     |  67.75 |  2.57 |  165.97 | 103.97 |\n| 27 | 27 | Barclays                | United Kingdom              | Banking                         |  33.69 |  4.90 |  791.54 |  61.33 |\n| 28 | 28 | Morgan Stanley          | United States               | Diversified financials          |  33.00 |  3.64 |  580.63 |  64.81 |\n| 29 | 29 | General Motors          | United States               | Consumer durables               | 185.52 |  3.82 |  450.00 |  27.47 |\n| 30 | 30 | Nippon Tel &amp; Tel        | Japan                       | Telecommunications services     |  92.41 |  2.17 |  150.87 |  73.00 |\n| 31 | 31 | Microsoft               | United States               | Software &amp; services             |  34.27 |  8.88 |   85.94 | 287.02 |\n| 32 | 32 | Nestle                  | Switzerland                 | Food drink &amp; tobacco            |  64.56 |  5.48 |   62.15 | 106.55 |\n| 33 | 33 | SBC Communications      | United States               | Telecommunications services     |  39.16 |  5.97 |  100.17 |  82.93 |\n| 34 | 34 | Deutsche Bank Group     | Germany                     | Diversified financials          |  58.85 |  1.53 |  792.49 |  50.23 |\n| 35 | 35 | Siemens Group           | Germany                     | Conglomerates                   |  86.62 |  2.81 |   85.47 |  75.77 |\n| 36 | 36 | HBOS                    | United Kingdom              | Banking                         |  32.68 |  3.09 |  571.76 |  52.87 |\n| 37 | 37 | ENI                     | Italy                       | Oil &amp; gas operations            |  53.29 |  4.82 |   67.91 |  76.13 |\n| 38 | 38 | ConocoPhillips          | United States               | Oil &amp; gas operations            |  90.49 |  4.83 |   81.95 |  46.72 |\n| 39 | 39 | Banco Santander Central | Spain                       | Banking                         |  28.70 |  3.28 |  442.24 |  56.78 |\n| 40 | 40 | Merrill Lynch           | United States               | Diversified financials          |  26.64 |  3.47 |  485.77 |  57.52 |\n| 41 | 41 | Wachovia                | United States               | Banking                         |  24.47 |  4.25 |  400.87 |  62.35 |\n| 42 | 42 | Time Warner             | United States               | Media                           |  38.08 |  2.65 |  121.78 |  77.95 |\n| 43 | 43 | Hewlett-Packard         | United States               | Technology hardware &amp; equipment |  73.06 |  2.54 |   74.71 |  70.20 |\n| 44 | 44 | Procter &amp; Gamble        | United States               | Household &amp; personal products   |  46.99 |  5.81 |   53.86 | 131.89 |\n| 45 | 45 | Samsung Electronics     | South Korea                 | Semiconductors                  |  50.22 |  5.95 |   54.58 |  72.72 |\n| 46 | 46 | Johnson &amp; Johnson       | United States               | Drugs &amp; biotechnology           |  40.01 |  6.74 |   46.66 | 160.96 |\n| 47 | 47 | Lloyds TSB Group        | United Kingdom              | Banking                         |  24.48 |  2.87 |  406.99 |  48.11 |\n| 48 | 48 | ABN-Amro Holding        | Netherlands                 | Banking                         |  23.64 |  3.98 |  704.95 |  39.29 |\n| 49 | 49 | Honda Motor             | Japan                       | Consumer durables               |  67.44 |  3.61 |   63.09 |  40.61 |\n| 50 | 50 | American Express        | United States               | Diversified financials          |  24.17 |  3.00 |  175.00 |  68.89 |\n\n",
            "text/html": [
              "<table>\n",
              "<caption>A data.frame: 50 × 8</caption>\n",
              "<thead>\n",
              "\t<tr><th></th><th scope=col>rank</th><th scope=col>name</th><th scope=col>country</th><th scope=col>category</th><th scope=col>sales</th><th scope=col>profits</th><th scope=col>assets</th><th scope=col>marketvalue</th></tr>\n",
              "\t<tr><th></th><th scope=col>&lt;int&gt;</th><th scope=col>&lt;chr&gt;</th><th scope=col>&lt;chr&gt;</th><th scope=col>&lt;chr&gt;</th><th scope=col>&lt;dbl&gt;</th><th scope=col>&lt;dbl&gt;</th><th scope=col>&lt;dbl&gt;</th><th scope=col>&lt;dbl&gt;</th></tr>\n",
              "</thead>\n",
              "<tbody>\n",
              "\t<tr><th scope=row>1</th><td> 1</td><td>Citigroup              </td><td>United States              </td><td>Banking                        </td><td> 94.71</td><td>17.85</td><td>1264.03</td><td>255.30</td></tr>\n",
              "\t<tr><th scope=row>2</th><td> 2</td><td>General Electric       </td><td>United States              </td><td>Conglomerates                  </td><td>134.19</td><td>15.59</td><td> 626.93</td><td>328.54</td></tr>\n",
              "\t<tr><th scope=row>3</th><td> 3</td><td>American Intl Group    </td><td>United States              </td><td>Insurance                      </td><td> 76.66</td><td> 6.46</td><td> 647.66</td><td>194.87</td></tr>\n",
              "\t<tr><th scope=row>4</th><td> 4</td><td><span style=white-space:pre-wrap>ExxonMobil             </span></td><td><span style=white-space:pre-wrap>United States              </span></td><td><span style=white-space:pre-wrap>Oil &amp; gas operations           </span></td><td>222.88</td><td>20.96</td><td> 166.99</td><td>277.02</td></tr>\n",
              "\t<tr><th scope=row>5</th><td> 5</td><td><span style=white-space:pre-wrap>BP                     </span></td><td><span style=white-space:pre-wrap>United Kingdom             </span></td><td><span style=white-space:pre-wrap>Oil &amp; gas operations           </span></td><td>232.57</td><td>10.27</td><td> 177.57</td><td>173.54</td></tr>\n",
              "\t<tr><th scope=row>6</th><td> 6</td><td>Bank of America        </td><td>United States              </td><td>Banking                        </td><td> 49.01</td><td>10.81</td><td> 736.45</td><td>117.55</td></tr>\n",
              "\t<tr><th scope=row>7</th><td> 7</td><td>HSBC Group             </td><td>United Kingdom             </td><td>Banking                        </td><td> 44.33</td><td> 6.66</td><td> 757.60</td><td>177.96</td></tr>\n",
              "\t<tr><th scope=row>8</th><td> 8</td><td>Toyota Motor           </td><td>Japan                      </td><td>Consumer durables              </td><td>135.82</td><td> 7.99</td><td> 171.71</td><td>115.40</td></tr>\n",
              "\t<tr><th scope=row>9</th><td> 9</td><td>Fannie Mae             </td><td>United States              </td><td>Diversified financials         </td><td> 53.13</td><td> 6.48</td><td>1019.17</td><td> 76.84</td></tr>\n",
              "\t<tr><th scope=row>10</th><td>10</td><td>Wal-Mart Stores        </td><td>United States              </td><td>Retailing                      </td><td>256.33</td><td> 9.05</td><td> 104.91</td><td>243.74</td></tr>\n",
              "\t<tr><th scope=row>11</th><td>11</td><td>UBS                    </td><td>Switzerland                </td><td>Diversified financials         </td><td> 48.95</td><td> 5.15</td><td> 853.23</td><td> 85.07</td></tr>\n",
              "\t<tr><th scope=row>12</th><td>12</td><td>ING Group              </td><td>Netherlands                </td><td>Diversified financials         </td><td> 94.72</td><td> 4.73</td><td> 752.49</td><td> 54.59</td></tr>\n",
              "\t<tr><th scope=row>13</th><td>13</td><td>Royal Dutch/Shell Group</td><td>Netherlands/ United Kingdom</td><td><span style=white-space:pre-wrap>Oil &amp; gas operations           </span></td><td>133.50</td><td> 8.40</td><td> 100.72</td><td>163.45</td></tr>\n",
              "\t<tr><th scope=row>14</th><td>14</td><td>Berkshire Hathaway     </td><td>United States              </td><td>Insurance                      </td><td> 56.22</td><td> 6.95</td><td> 172.24</td><td>141.14</td></tr>\n",
              "\t<tr><th scope=row>15</th><td>15</td><td>JP Morgan Chase        </td><td>United States              </td><td>Banking                        </td><td> 44.39</td><td> 4.47</td><td> 792.70</td><td> 81.94</td></tr>\n",
              "\t<tr><th scope=row>16</th><td>16</td><td><span style=white-space:pre-wrap>IBM                    </span></td><td><span style=white-space:pre-wrap>United States              </span></td><td>Technology hardware &amp; equipment</td><td> 89.13</td><td> 7.58</td><td> 104.46</td><td>171.54</td></tr>\n",
              "\t<tr><th scope=row>17</th><td>17</td><td><span style=white-space:pre-wrap>Total                  </span></td><td><span style=white-space:pre-wrap>France                     </span></td><td><span style=white-space:pre-wrap>Oil &amp; gas operations           </span></td><td>131.64</td><td> 8.84</td><td><span style=white-space:pre-wrap>  87.84</span></td><td>116.64</td></tr>\n",
              "\t<tr><th scope=row>18</th><td>18</td><td>BNP Paribas            </td><td>France                     </td><td>Banking                        </td><td> 47.74</td><td> 4.73</td><td> 745.09</td><td> 59.29</td></tr>\n",
              "\t<tr><th scope=row>19</th><td>19</td><td>Royal Bank of Scotland </td><td>United Kingdom             </td><td>Banking                        </td><td> 35.65</td><td> 4.95</td><td> 663.45</td><td> 90.21</td></tr>\n",
              "\t<tr><th scope=row>20</th><td>20</td><td>Freddie Mac            </td><td>United States              </td><td>Diversified financials         </td><td> 46.26</td><td>10.09</td><td> 752.25</td><td> 44.25</td></tr>\n",
              "\t<tr><th scope=row>21</th><td>21</td><td>DaimlerChrysler        </td><td>Germany                    </td><td>Consumer durables              </td><td>157.13</td><td> 5.12</td><td> 195.58</td><td> 47.43</td></tr>\n",
              "\t<tr><th scope=row>22</th><td>22</td><td><span style=white-space:pre-wrap>Altria Group           </span></td><td><span style=white-space:pre-wrap>United States              </span></td><td><span style=white-space:pre-wrap>Food drink &amp; tobacco           </span></td><td> 60.70</td><td> 9.20</td><td><span style=white-space:pre-wrap>  96.18</span></td><td>111.02</td></tr>\n",
              "\t<tr><th scope=row>23</th><td>23</td><td><span style=white-space:pre-wrap>ChevronTexaco          </span></td><td><span style=white-space:pre-wrap>United States              </span></td><td><span style=white-space:pre-wrap>Oil &amp; gas operations           </span></td><td>112.94</td><td> 7.43</td><td><span style=white-space:pre-wrap>  82.36</span></td><td> 92.49</td></tr>\n",
              "\t<tr><th scope=row>24</th><td>24</td><td><span style=white-space:pre-wrap>Pfizer                 </span></td><td><span style=white-space:pre-wrap>United States              </span></td><td><span style=white-space:pre-wrap>Drugs &amp; biotechnology          </span></td><td> 40.36</td><td> 6.20</td><td> 120.06</td><td>285.27</td></tr>\n",
              "\t<tr><th scope=row>25</th><td>25</td><td>Wells Fargo            </td><td>United States              </td><td>Banking                        </td><td> 31.80</td><td> 6.20</td><td> 387.80</td><td> 97.53</td></tr>\n",
              "\t<tr><th scope=row>26</th><td>26</td><td>Verizon Commun         </td><td>United States              </td><td>Telecommunications services    </td><td> 67.75</td><td> 2.57</td><td> 165.97</td><td>103.97</td></tr>\n",
              "\t<tr><th scope=row>27</th><td>27</td><td>Barclays               </td><td>United Kingdom             </td><td>Banking                        </td><td> 33.69</td><td> 4.90</td><td> 791.54</td><td> 61.33</td></tr>\n",
              "\t<tr><th scope=row>28</th><td>28</td><td>Morgan Stanley         </td><td>United States              </td><td>Diversified financials         </td><td> 33.00</td><td> 3.64</td><td> 580.63</td><td> 64.81</td></tr>\n",
              "\t<tr><th scope=row>29</th><td>29</td><td>General Motors         </td><td>United States              </td><td>Consumer durables              </td><td>185.52</td><td> 3.82</td><td> 450.00</td><td> 27.47</td></tr>\n",
              "\t<tr><th scope=row>30</th><td>30</td><td><span style=white-space:pre-wrap>Nippon Tel &amp; Tel       </span></td><td><span style=white-space:pre-wrap>Japan                      </span></td><td><span style=white-space:pre-wrap>Telecommunications services    </span></td><td> 92.41</td><td> 2.17</td><td> 150.87</td><td> 73.00</td></tr>\n",
              "\t<tr><th scope=row>31</th><td>31</td><td><span style=white-space:pre-wrap>Microsoft              </span></td><td><span style=white-space:pre-wrap>United States              </span></td><td><span style=white-space:pre-wrap>Software &amp; services            </span></td><td> 34.27</td><td> 8.88</td><td><span style=white-space:pre-wrap>  85.94</span></td><td>287.02</td></tr>\n",
              "\t<tr><th scope=row>32</th><td>32</td><td><span style=white-space:pre-wrap>Nestle                 </span></td><td><span style=white-space:pre-wrap>Switzerland                </span></td><td><span style=white-space:pre-wrap>Food drink &amp; tobacco           </span></td><td> 64.56</td><td> 5.48</td><td><span style=white-space:pre-wrap>  62.15</span></td><td>106.55</td></tr>\n",
              "\t<tr><th scope=row>33</th><td>33</td><td>SBC Communications     </td><td>United States              </td><td>Telecommunications services    </td><td> 39.16</td><td> 5.97</td><td> 100.17</td><td> 82.93</td></tr>\n",
              "\t<tr><th scope=row>34</th><td>34</td><td>Deutsche Bank Group    </td><td>Germany                    </td><td>Diversified financials         </td><td> 58.85</td><td> 1.53</td><td> 792.49</td><td> 50.23</td></tr>\n",
              "\t<tr><th scope=row>35</th><td>35</td><td>Siemens Group          </td><td>Germany                    </td><td>Conglomerates                  </td><td> 86.62</td><td> 2.81</td><td>  85.47</td><td> 75.77</td></tr>\n",
              "\t<tr><th scope=row>36</th><td>36</td><td>HBOS                   </td><td>United Kingdom             </td><td>Banking                        </td><td> 32.68</td><td> 3.09</td><td> 571.76</td><td> 52.87</td></tr>\n",
              "\t<tr><th scope=row>37</th><td>37</td><td><span style=white-space:pre-wrap>ENI                    </span></td><td><span style=white-space:pre-wrap>Italy                      </span></td><td><span style=white-space:pre-wrap>Oil &amp; gas operations           </span></td><td> 53.29</td><td> 4.82</td><td><span style=white-space:pre-wrap>  67.91</span></td><td> 76.13</td></tr>\n",
              "\t<tr><th scope=row>38</th><td>38</td><td><span style=white-space:pre-wrap>ConocoPhillips         </span></td><td><span style=white-space:pre-wrap>United States              </span></td><td><span style=white-space:pre-wrap>Oil &amp; gas operations           </span></td><td> 90.49</td><td> 4.83</td><td><span style=white-space:pre-wrap>  81.95</span></td><td> 46.72</td></tr>\n",
              "\t<tr><th scope=row>39</th><td>39</td><td>Banco Santander Central</td><td>Spain                      </td><td>Banking                        </td><td> 28.70</td><td> 3.28</td><td> 442.24</td><td> 56.78</td></tr>\n",
              "\t<tr><th scope=row>40</th><td>40</td><td>Merrill Lynch          </td><td>United States              </td><td>Diversified financials         </td><td> 26.64</td><td> 3.47</td><td> 485.77</td><td> 57.52</td></tr>\n",
              "\t<tr><th scope=row>41</th><td>41</td><td>Wachovia               </td><td>United States              </td><td>Banking                        </td><td> 24.47</td><td> 4.25</td><td> 400.87</td><td> 62.35</td></tr>\n",
              "\t<tr><th scope=row>42</th><td>42</td><td>Time Warner            </td><td>United States              </td><td>Media                          </td><td> 38.08</td><td> 2.65</td><td> 121.78</td><td> 77.95</td></tr>\n",
              "\t<tr><th scope=row>43</th><td>43</td><td><span style=white-space:pre-wrap>Hewlett-Packard        </span></td><td><span style=white-space:pre-wrap>United States              </span></td><td>Technology hardware &amp; equipment</td><td> 73.06</td><td> 2.54</td><td><span style=white-space:pre-wrap>  74.71</span></td><td> 70.20</td></tr>\n",
              "\t<tr><th scope=row>44</th><td>44</td><td><span style=white-space:pre-wrap>Procter &amp; Gamble       </span></td><td><span style=white-space:pre-wrap>United States              </span></td><td><span style=white-space:pre-wrap>Household &amp; personal products  </span></td><td> 46.99</td><td> 5.81</td><td><span style=white-space:pre-wrap>  53.86</span></td><td>131.89</td></tr>\n",
              "\t<tr><th scope=row>45</th><td>45</td><td>Samsung Electronics    </td><td>South Korea                </td><td>Semiconductors                 </td><td> 50.22</td><td> 5.95</td><td>  54.58</td><td> 72.72</td></tr>\n",
              "\t<tr><th scope=row>46</th><td>46</td><td><span style=white-space:pre-wrap>Johnson &amp; Johnson      </span></td><td><span style=white-space:pre-wrap>United States              </span></td><td><span style=white-space:pre-wrap>Drugs &amp; biotechnology          </span></td><td> 40.01</td><td> 6.74</td><td><span style=white-space:pre-wrap>  46.66</span></td><td>160.96</td></tr>\n",
              "\t<tr><th scope=row>47</th><td>47</td><td>Lloyds TSB Group       </td><td>United Kingdom             </td><td>Banking                        </td><td> 24.48</td><td> 2.87</td><td> 406.99</td><td> 48.11</td></tr>\n",
              "\t<tr><th scope=row>48</th><td>48</td><td>ABN-Amro Holding       </td><td>Netherlands                </td><td>Banking                        </td><td> 23.64</td><td> 3.98</td><td> 704.95</td><td> 39.29</td></tr>\n",
              "\t<tr><th scope=row>49</th><td>49</td><td>Honda Motor            </td><td>Japan                      </td><td>Consumer durables              </td><td> 67.44</td><td> 3.61</td><td>  63.09</td><td> 40.61</td></tr>\n",
              "\t<tr><th scope=row>50</th><td>50</td><td>American Express       </td><td>United States              </td><td>Diversified financials         </td><td> 24.17</td><td> 3.00</td><td> 175.00</td><td> 68.89</td></tr>\n",
              "</tbody>\n",
              "</table>\n"
            ]
          },
          "metadata": {
            "tags": []
          }
        }
      ]
    },
    {
      "cell_type": "markdown",
      "metadata": {
        "id": "duCMSII14N5z",
        "colab_type": "text"
      },
      "source": [
        "* `str()` (structure) displays the structure of the “forbes” dataframe.\n"
      ]
    },
    {
      "cell_type": "code",
      "metadata": {
        "id": "XTrcFrWe4N50",
        "colab_type": "code",
        "colab": {
          "base_uri": "https://localhost:8080/",
          "height": 175
        },
        "outputId": "18ffecdb-ef32-4244-cee6-87f434575add"
      },
      "source": [
        "str(forbes)"
      ],
      "execution_count": 7,
      "outputs": [
        {
          "output_type": "stream",
          "text": [
            "'data.frame':\t2000 obs. of  8 variables:\n",
            " $ rank       : int  1 2 3 4 5 6 7 8 9 10 ...\n",
            " $ name       : chr  \"Citigroup\" \"General Electric\" \"American Intl Group\" \"ExxonMobil\" ...\n",
            " $ country    : chr  \"United States\" \"United States\" \"United States\" \"United States\" ...\n",
            " $ category   : chr  \"Banking\" \"Conglomerates\" \"Insurance\" \"Oil & gas operations\" ...\n",
            " $ sales      : num  94.7 134.2 76.7 222.9 232.6 ...\n",
            " $ profits    : num  17.85 15.59 6.46 20.96 10.27 ...\n",
            " $ assets     : num  1264 627 648 167 178 ...\n",
            " $ marketvalue: num  255 329 195 277 174 ...\n"
          ],
          "name": "stdout"
        }
      ]
    },
    {
      "cell_type": "markdown",
      "metadata": {
        "id": "eMTGCn5u4N59",
        "colab_type": "text"
      },
      "source": [
        "* `summary()` has statistical summary of the “Forbes” dataframe. Note: there are missing values (NAs) in the profits.\n",
        "\n",
        "\n",
        "\n",
        "\n",
        "\n"
      ]
    },
    {
      "cell_type": "code",
      "metadata": {
        "id": "lww1Z3Q-4N5-",
        "colab_type": "code",
        "colab": {}
      },
      "source": [
        "summary(forbes)"
      ],
      "execution_count": 0,
      "outputs": []
    },
    {
      "cell_type": "markdown",
      "metadata": {
        "id": "kao1Zy6iqGG_",
        "colab_type": "text"
      },
      "source": [
        "##4. Preprocess data \n"
      ]
    },
    {
      "cell_type": "markdown",
      "metadata": {
        "id": "gERvlv4cxSif",
        "colab_type": "text"
      },
      "source": [
        "### 4.1 Preprocessing - missing values\n",
        "* Missing values are denoted in R by NA or NaN for undefined mathematical operations.\n",
        "> * `is.na(x)` is used to test objects \"x\" if there are NAs\n",
        "> * Which one is NA? `which(is.na(x))`"
      ]
    },
    {
      "cell_type": "code",
      "metadata": {
        "id": "iKV7Qu9i4N6E",
        "colab_type": "code",
        "colab": {}
      },
      "source": [
        "# is.na(forbes$profits)  #don't run this command line because you will get a very long list"
      ],
      "execution_count": 0,
      "outputs": []
    },
    {
      "cell_type": "code",
      "metadata": {
        "id": "SGlBLdCZsZCB",
        "colab_type": "code",
        "colab": {
          "base_uri": "https://localhost:8080/",
          "height": 34
        },
        "outputId": "2827fe1d-ef9d-4465-df29-c32f9942e4c4"
      },
      "source": [
        "which(is.na(forbes$profits))\n",
        "miss<-which(is.na(forbes$profits))  # save those rows with missing value"
      ],
      "execution_count": 8,
      "outputs": [
        {
          "output_type": "display_data",
          "data": {
            "text/plain": [
              "[1]  772 1085 1091 1425 1909"
            ],
            "text/latex": "\\begin{enumerate*}\n\\item 772\n\\item 1085\n\\item 1091\n\\item 1425\n\\item 1909\n\\end{enumerate*}\n",
            "text/markdown": "1. 772\n2. 1085\n3. 1091\n4. 1425\n5. 1909\n\n\n",
            "text/html": [
              "<style>\n",
              ".list-inline {list-style: none; margin:0; padding: 0}\n",
              ".list-inline>li {display: inline-block}\n",
              ".list-inline>li:not(:last-child)::after {content: \"\\00b7\"; padding: 0 .5ex}\n",
              "</style>\n",
              "<ol class=list-inline><li>772</li><li>1085</li><li>1091</li><li>1425</li><li>1909</li></ol>\n"
            ]
          },
          "metadata": {
            "tags": []
          }
        }
      ]
    },
    {
      "cell_type": "markdown",
      "metadata": {
        "id": "rLH9I8W44N6P",
        "colab_type": "text"
      },
      "source": [
        "* more about missing value inspection\n",
        "> * How many NAs? `table(is.na(x))`\n",
        "> * list of observations with missing values on profits `x[is.na(x),]`\n",
        "\n"
      ]
    },
    {
      "cell_type": "code",
      "metadata": {
        "id": "D-kdpDZS4N6R",
        "colab_type": "code",
        "colab": {}
      },
      "source": [
        "table(is.na(forbes$profits))\n",
        "forbes[is.na(forbes$profits),]"
      ],
      "execution_count": 0,
      "outputs": []
    },
    {
      "cell_type": "markdown",
      "metadata": {
        "id": "_aMsG0vktTSC",
        "colab_type": "text"
      },
      "source": [
        "* remember many R functions also have a logical “`na.rm`” option\n",
        "> * `na.rm=TRUE` means the NA values should be discarded\n"
      ]
    },
    {
      "cell_type": "code",
      "metadata": {
        "id": "dbFa1Akztear",
        "colab_type": "code",
        "colab": {}
      },
      "source": [
        "mean(forbes$profits)  # will get NA\n",
        "mean(forbes$profits,na.rm=T)"
      ],
      "execution_count": 0,
      "outputs": []
    },
    {
      "cell_type": "markdown",
      "metadata": {
        "id": "HRQfa3cXt0-5",
        "colab_type": "text"
      },
      "source": [
        "* **Note: Not all missing values are marked with “NA” in the raw data!**\n"
      ]
    },
    {
      "cell_type": "markdown",
      "metadata": {
        "id": "8QqhU2X5uBjh",
        "colab_type": "text"
      },
      "source": [
        "* The simplest way to deal with the missing values is to remove them. \n",
        "> * If a column (variable) has a high percentage of the missing value, remove the whole column or just don’t use it for the analysis.\n",
        "> * If a row (observation) has a missing value, remove the row with `na.omit()`. e.g. \n"
      ]
    },
    {
      "cell_type": "code",
      "metadata": {
        "id": "yV26wnrUuOjq",
        "colab_type": "code",
        "colab": {
          "base_uri": "https://localhost:8080/",
          "height": 34
        },
        "outputId": "811b6be1-073b-4b52-f957-04b09475d2ab"
      },
      "source": [
        "forbes2 <- na.omit(forbes)\n",
        "dim(forbes2)"
      ],
      "execution_count": 9,
      "outputs": [
        {
          "output_type": "display_data",
          "data": {
            "text/plain": [
              "[1] 1995    8"
            ],
            "text/latex": "\\begin{enumerate*}\n\\item 1995\n\\item 8\n\\end{enumerate*}\n",
            "text/markdown": "1. 1995\n2. 8\n\n\n",
            "text/html": [
              "<style>\n",
              ".list-inline {list-style: none; margin:0; padding: 0}\n",
              ".list-inline>li {display: inline-block}\n",
              ".list-inline>li:not(:last-child)::after {content: \"\\00b7\"; padding: 0 .5ex}\n",
              "</style>\n",
              "<ol class=list-inline><li>1995</li><li>8</li></ol>\n"
            ]
          },
          "metadata": {
            "tags": []
          }
        }
      ]
    },
    {
      "cell_type": "markdown",
      "metadata": {
        "id": "RnVQ-jx2uf-J",
        "colab_type": "text"
      },
      "source": [
        "* Alternatively, the missing values can be replaced by basic statistics e.g. \n",
        "> * replace by mean \n"
      ]
    },
    {
      "cell_type": "code",
      "metadata": {
        "id": "tbWXSnm_umwo",
        "colab_type": "code",
        "colab": {
          "base_uri": "https://localhost:8080/",
          "height": 199
        },
        "outputId": "9e30485c-d18e-4f7a-a0dc-b4087473cd86"
      },
      "source": [
        "for(i in 1:nrow(forbes)){\n",
        "  if(is.na(forbes$profits[i])==TRUE){\n",
        "  forbes$profits[i] <- mean(forbes$profits, na.rm = TRUE)\n",
        "  }\n",
        "}\n",
        "dim(forbes)\n",
        "forbes[miss,]"
      ],
      "execution_count": 10,
      "outputs": [
        {
          "output_type": "display_data",
          "data": {
            "text/plain": [
              "[1] 2000    8"
            ],
            "text/latex": "\\begin{enumerate*}\n\\item 2000\n\\item 8\n\\end{enumerate*}\n",
            "text/markdown": "1. 2000\n2. 8\n\n\n",
            "text/html": [
              "<style>\n",
              ".list-inline {list-style: none; margin:0; padding: 0}\n",
              ".list-inline>li {display: inline-block}\n",
              ".list-inline>li:not(:last-child)::after {content: \"\\00b7\"; padding: 0 .5ex}\n",
              "</style>\n",
              "<ol class=list-inline><li>2000</li><li>8</li></ol>\n"
            ]
          },
          "metadata": {
            "tags": []
          }
        },
        {
          "output_type": "display_data",
          "data": {
            "text/plain": [
              "     rank name                  country        category                   \n",
              "772   772 AMP                   Australia      Insurance                  \n",
              "1085 1085 HHG                   United Kingdom Insurance                  \n",
              "1091 1091 NTL                   United States  Telecommunications services\n",
              "1425 1425 US Airways Group      United States  Transportation             \n",
              "1909 1909 Laidlaw International United States  Transportation             \n",
              "     sales profits   assets marketvalue\n",
              "772  5.40  0.3811328 42.94  6.70       \n",
              "1085 5.68  0.3811328 51.65  2.07       \n",
              "1091 3.50  0.3811328 10.59  5.94       \n",
              "1425 5.50  0.3811328  8.58  0.24       \n",
              "1909 4.48  0.3811328  3.98  1.49       "
            ],
            "text/latex": "A data.frame: 5 × 8\n\\begin{tabular}{r|llllllll}\n  & rank & name & country & category & sales & profits & assets & marketvalue\\\\\n  & <int> & <chr> & <chr> & <chr> & <dbl> & <dbl> & <dbl> & <dbl>\\\\\n\\hline\n\t772 &  772 & AMP                   & Australia      & Insurance                   & 5.40 & 0.3811328 & 42.94 & 6.70\\\\\n\t1085 & 1085 & HHG                   & United Kingdom & Insurance                   & 5.68 & 0.3811328 & 51.65 & 2.07\\\\\n\t1091 & 1091 & NTL                   & United States  & Telecommunications services & 3.50 & 0.3811328 & 10.59 & 5.94\\\\\n\t1425 & 1425 & US Airways Group      & United States  & Transportation              & 5.50 & 0.3811328 &  8.58 & 0.24\\\\\n\t1909 & 1909 & Laidlaw International & United States  & Transportation              & 4.48 & 0.3811328 &  3.98 & 1.49\\\\\n\\end{tabular}\n",
            "text/markdown": "\nA data.frame: 5 × 8\n\n| <!--/--> | rank &lt;int&gt; | name &lt;chr&gt; | country &lt;chr&gt; | category &lt;chr&gt; | sales &lt;dbl&gt; | profits &lt;dbl&gt; | assets &lt;dbl&gt; | marketvalue &lt;dbl&gt; |\n|---|---|---|---|---|---|---|---|---|\n| 772 |  772 | AMP                   | Australia      | Insurance                   | 5.40 | 0.3811328 | 42.94 | 6.70 |\n| 1085 | 1085 | HHG                   | United Kingdom | Insurance                   | 5.68 | 0.3811328 | 51.65 | 2.07 |\n| 1091 | 1091 | NTL                   | United States  | Telecommunications services | 3.50 | 0.3811328 | 10.59 | 5.94 |\n| 1425 | 1425 | US Airways Group      | United States  | Transportation              | 5.50 | 0.3811328 |  8.58 | 0.24 |\n| 1909 | 1909 | Laidlaw International | United States  | Transportation              | 4.48 | 0.3811328 |  3.98 | 1.49 |\n\n",
            "text/html": [
              "<table>\n",
              "<caption>A data.frame: 5 × 8</caption>\n",
              "<thead>\n",
              "\t<tr><th></th><th scope=col>rank</th><th scope=col>name</th><th scope=col>country</th><th scope=col>category</th><th scope=col>sales</th><th scope=col>profits</th><th scope=col>assets</th><th scope=col>marketvalue</th></tr>\n",
              "\t<tr><th></th><th scope=col>&lt;int&gt;</th><th scope=col>&lt;chr&gt;</th><th scope=col>&lt;chr&gt;</th><th scope=col>&lt;chr&gt;</th><th scope=col>&lt;dbl&gt;</th><th scope=col>&lt;dbl&gt;</th><th scope=col>&lt;dbl&gt;</th><th scope=col>&lt;dbl&gt;</th></tr>\n",
              "</thead>\n",
              "<tbody>\n",
              "\t<tr><th scope=row>772</th><td> 772</td><td>AMP                  </td><td>Australia     </td><td>Insurance                  </td><td>5.40</td><td>0.3811328</td><td>42.94</td><td>6.70</td></tr>\n",
              "\t<tr><th scope=row>1085</th><td>1085</td><td>HHG                  </td><td>United Kingdom</td><td>Insurance                  </td><td>5.68</td><td>0.3811328</td><td>51.65</td><td>2.07</td></tr>\n",
              "\t<tr><th scope=row>1091</th><td>1091</td><td>NTL                  </td><td>United States </td><td>Telecommunications services</td><td>3.50</td><td>0.3811328</td><td>10.59</td><td>5.94</td></tr>\n",
              "\t<tr><th scope=row>1425</th><td>1425</td><td>US Airways Group     </td><td>United States </td><td>Transportation             </td><td>5.50</td><td>0.3811328</td><td> 8.58</td><td>0.24</td></tr>\n",
              "\t<tr><th scope=row>1909</th><td>1909</td><td>Laidlaw International</td><td>United States </td><td>Transportation             </td><td>4.48</td><td>0.3811328</td><td> 3.98</td><td>1.49</td></tr>\n",
              "</tbody>\n",
              "</table>\n"
            ]
          },
          "metadata": {
            "tags": []
          }
        }
      ]
    },
    {
      "cell_type": "markdown",
      "metadata": {
        "id": "ciXJvSGhuysS",
        "colab_type": "text"
      },
      "source": [
        "* or use advanced statistical techniques. List of popular R Packages:\n",
        "> * MICE\n",
        "> * Amelia (named after Amelia Earhart, the first female pilot to fly solo across the Atlantic Ocean. History says, she got mysteriously disappeared (missing) while flying over the Pacific Ocean in 1937, hence this package was named to solve missing value problems.)\n",
        "> * missForest (non parametric imputation method)\n",
        "> * Hmisc\n",
        "> * mi"
      ]
    },
    {
      "cell_type": "markdown",
      "metadata": {
        "id": "nkNPSPoKvWdZ",
        "colab_type": "text"
      },
      "source": [
        "###4.2 Preprocessing - subsetting data\n",
        "* At most occasions we do not need all of the raw data\n",
        "* There are a number of methods of extracting a subset of R objects\n",
        "* Subsetting data can be done either by row or by column \n"
      ]
    },
    {
      "cell_type": "markdown",
      "metadata": {
        "id": "MoPex-0DvrTA",
        "colab_type": "text"
      },
      "source": [
        "#### 4.2.1 Subsetting by row: use conditions\n",
        "Find all companies with negative profit:\n"
      ]
    },
    {
      "cell_type": "code",
      "metadata": {
        "id": "T9WIn_YSv443",
        "colab_type": "code",
        "colab": {}
      },
      "source": [
        "forbes[forbes$profits < 0,c(\"name\",\"sales\",\"profits\",\"assets\")]"
      ],
      "execution_count": 0,
      "outputs": []
    },
    {
      "cell_type": "markdown",
      "metadata": {
        "id": "O1i26j1_wZ7x",
        "colab_type": "text"
      },
      "source": [
        "Find three companies with largest sale volumne:\n"
      ]
    },
    {
      "cell_type": "code",
      "metadata": {
        "id": "ew8W4085we18",
        "colab_type": "code",
        "colab": {}
      },
      "source": [
        "companies <- forbes$name  # or companies <- forbes[,\"name\"] \n",
        "order_sales <- order(forbes$sales, decreasing=T)\n",
        "#company names\n",
        "companies[order_sales[1:3]]\n",
        "#company sales\n",
        "head(sort(forbes$sales,decreasing=T),n=3)"
      ],
      "execution_count": 0,
      "outputs": []
    },
    {
      "cell_type": "markdown",
      "metadata": {
        "id": "qPOuTabFw5RA",
        "colab_type": "text"
      },
      "source": [
        "####4.2.2 Subsetting by row: use `subset()` function\n",
        "Find the business category to which most of the Bermuda island companies belong.\n"
      ]
    },
    {
      "cell_type": "code",
      "metadata": {
        "id": "8Mn7AE7Rw_uB",
        "colab_type": "code",
        "colab": {}
      },
      "source": [
        "Bermudacomp <- subset(forbes, country == \"Bermuda\")\n",
        "table(Bermudacomp[,\"category\"]) #frequency table of categories"
      ],
      "execution_count": 0,
      "outputs": []
    },
    {
      "cell_type": "markdown",
      "metadata": {
        "id": "B4b0rfY-xgJ4",
        "colab_type": "text"
      },
      "source": [
        "####4.2.3 Subsetting by column\n",
        "Create another dataframe with only numeric variables"
      ]
    },
    {
      "cell_type": "code",
      "metadata": {
        "id": "tw_SDfhqxvjD",
        "colab_type": "code",
        "colab": {}
      },
      "source": [
        "#use data.frame function\n",
        "forbes3 <- data.frame(sales=forbes$sales,profits=forbes$profits,\n",
        "           assets=forbes$assets, mvalue=forbes$marketvalue)\n",
        "str(forbes3)\n",
        "\n",
        "#use subset() function\n",
        "forbes4 <- subset(forbes,select=c(sales,profits,assets,marketvalue))\n",
        "str(forbes4)\n",
        "\n",
        "#or simply use indexing\n",
        "forbes5 <- forbes[,c(5:8)]\n",
        "str(forbes5)"
      ],
      "execution_count": 0,
      "outputs": []
    },
    {
      "cell_type": "markdown",
      "metadata": {
        "id": "r1R3wV1IyEQC",
        "colab_type": "text"
      },
      "source": [
        "### 4.3 Preprocessing – Factors\n",
        "* factors are variables in R which take on a limited number of different values; such variables are often referred to as categorical variables\n",
        "\n",
        "\n",
        "Convert characters to (unordered) factors:"
      ]
    },
    {
      "cell_type": "code",
      "metadata": {
        "id": "nioNugIYyMoh",
        "colab_type": "code",
        "colab": {}
      },
      "source": [
        "forbes$country<-factor(forbes$country)\n",
        "str(forbes)"
      ],
      "execution_count": 0,
      "outputs": []
    },
    {
      "cell_type": "markdown",
      "metadata": {
        "id": "V8RCDhbMyhI8",
        "colab_type": "text"
      },
      "source": [
        "* Small classes could be merged into a larger class. Why?\n",
        "> * For better model performance. E.g. Classification and Regression Trees tend to split using the variables with many categories.\n",
        "> * Actual needs: Some categories have just a few subjects"
      ]
    },
    {
      "cell_type": "code",
      "metadata": {
        "id": "v5dHXoPMyruY",
        "colab_type": "code",
        "colab": {}
      },
      "source": [
        "table(forbes$country)"
      ],
      "execution_count": 0,
      "outputs": []
    },
    {
      "cell_type": "markdown",
      "metadata": {
        "id": "MbNTKIxHzJDi",
        "colab_type": "text"
      },
      "source": [
        "* Merge small classes into a larger classes\n",
        "\n",
        "Merge all South American countries to \"Venezuela\""
      ]
    },
    {
      "cell_type": "code",
      "metadata": {
        "id": "5W8TxPeBzjHB",
        "colab_type": "code",
        "colab": {}
      },
      "source": [
        "forbes$country[(forbes$country==\"Bahamas\")|(forbes$country==\"Bermuda\")|(forbes$country==\"Brazil\")|(forbes$country==\"Cayman Islands\")|(forbes$country==\"Chile\")|(forbes$country==\"Panama/ United Kingdom\")|(forbes$country==\"Peru\")]<-\"Venezuela\""
      ],
      "execution_count": 0,
      "outputs": []
    },
    {
      "cell_type": "markdown",
      "metadata": {
        "id": "yDJPSXm6zq7z",
        "colab_type": "text"
      },
      "source": [
        "Merge small classes into a larger classes"
      ]
    },
    {
      "cell_type": "code",
      "metadata": {
        "id": "n-TKo6aQz1mg",
        "colab_type": "code",
        "colab": {}
      },
      "source": [
        "forbes$country[(forbes$country==\"Austria\")|(forbes$country==\"Belgium\")|(forbes$country==\"Czech Republic\")|(forbes$country==\"Denmark\")|(forbes$country==\"Finland\")|(forbes$country==\"France\")|(forbes$country==\"Germany\")|(forbes$country==\"Greece\")|(forbes$country==\"Hungary\")|(forbes$country==\"Ireland\")|(forbes$country==\"Italy\")|(forbes$country==\"Luxembourg\")|(forbes$country==\"Netherlands\")|(forbes$country==\"Norway\")|(forbes$country==\"Poland\")|(forbes$country==\"Portugal\")|(forbes$country==\"Russia\")|(forbes$country==\"Spain\")|(forbes$country==\"Sweden\")|(forbes$country==\"Switzerland\")|(forbes$country==\"Turkey\")|(forbes$country==\"France/ United Kingdom\")|(forbes$country==\"United Kingdom/ Netherlands\")|(forbes$country==\"Netherlands/ United Kingdom\")]<-\"United Kingdom\"\n",
        "forbes$country[(forbes$country==\"China\")|(forbes$country==\"Hong Kong/China\")|(forbes$country==\"Indonesia\")|(forbes$country==\"Japan\")|(forbes$country==\"Kong/China\")|(forbes$country==\"Korea\")|(forbes$country==\"Malaysia\")|(forbes$country==\"Philippines\")|(forbes$country==\"Singapore\")|(forbes$country==\"South Korea\")|(forbes$country==\"Taiwan\")]<-\"Thailand\"\n",
        "forbes$country[(forbes$country==\"Africa\")|(forbes$country==\"Australia\")|(forbes$country==\"India\")|(forbes$country==\"Australia/ United Kingdom\")|(forbes$country==\"Islands\")|(forbes$country==\"Israel\")|(forbes$country==\"Jordan\")|(forbes$country==\"Liberia\")|(forbes$country==\"Mexico\")|(forbes$country==\"New Zealand\")|(forbes$country==\"Pakistan\")|(forbes$country==\"South Africa\")|(forbes$country==\"United Kingdom/ Australia\")]<-\"United Kingdom/ South Africa\""
      ],
      "execution_count": 0,
      "outputs": []
    },
    {
      "cell_type": "markdown",
      "metadata": {
        "id": "H6ZanpW70XSj",
        "colab_type": "text"
      },
      "source": [
        "* Drop those levels with zero counts\n",
        "\n",
        "Use `droplevels()` function:\n"
      ]
    },
    {
      "cell_type": "code",
      "metadata": {
        "id": "bXODV7KY0ni4",
        "colab_type": "code",
        "colab": {}
      },
      "source": [
        "forbes$country<-droplevels(forbes$country)"
      ],
      "execution_count": 0,
      "outputs": []
    },
    {
      "cell_type": "markdown",
      "metadata": {
        "id": "_kyU02Vm0yvh",
        "colab_type": "text"
      },
      "source": [
        "Now we can check the new frequency tables:"
      ]
    },
    {
      "cell_type": "code",
      "metadata": {
        "id": "mjjqV7Ui02oH",
        "colab_type": "code",
        "colab": {}
      },
      "source": [
        "table(forbes$country)"
      ],
      "execution_count": 0,
      "outputs": []
    },
    {
      "cell_type": "markdown",
      "metadata": {
        "id": "hPwB5uT409eQ",
        "colab_type": "text"
      },
      "source": [
        "* Rename each class"
      ]
    },
    {
      "cell_type": "code",
      "metadata": {
        "id": "CHdjaHLq1AYT",
        "colab_type": "code",
        "colab": {}
      },
      "source": [
        "levels(forbes$country)<-c(\"Canada\",\"East/Southeast Asia\",\"Europe\",\"Other\",\"United States\",\"Latin America\")\n",
        "levels(forbes$country)"
      ],
      "execution_count": 0,
      "outputs": []
    },
    {
      "cell_type": "markdown",
      "metadata": {
        "id": "7XZclPFj1ZB7",
        "colab_type": "text"
      },
      "source": [
        "###4.4 Export the cleaned dataset (Important for the next session)\n",
        "* Save forbes to Forbes2000_clean.csv"
      ]
    },
    {
      "cell_type": "code",
      "metadata": {
        "id": "1hyWWnp51kWL",
        "colab_type": "code",
        "colab": {}
      },
      "source": [
        "write.csv(forbes,\"Forbes2000_clean.csv\",row.names=FALSE)\n",
        "list.files()"
      ],
      "execution_count": 0,
      "outputs": []
    },
    {
      "cell_type": "markdown",
      "metadata": {
        "id": "IK3T1KxJ1w0J",
        "colab_type": "text"
      },
      "source": [
        "##Quiz\n",
        "1. Find all German companies with negative profit\n"
      ]
    },
    {
      "cell_type": "code",
      "metadata": {
        "id": "VxvxYUGf18v-",
        "colab_type": "code",
        "colab": {}
      },
      "source": [
        "forbes <- read.csv(\"Forbes2000.csv\",header=T,stringsAsFactors = FALSE,na.strings =\"NA\",sep=\",\") #reload raw data \n",
        "forbes <- na.omit(forbes)  # omit NAs\n",
        "# finish lines below:\n",
        "#Germanycomp <- subset(    ,    )\n",
        "#Germanycomp[       ,c(\"name\",\"sales\",\"profits\",\"assets\")]"
      ],
      "execution_count": 0,
      "outputs": []
    },
    {
      "cell_type": "markdown",
      "metadata": {
        "id": "Notp57M92aJS",
        "colab_type": "text"
      },
      "source": [
        "2. Arbitrarily merge the classes of category to three classes: industry, services and finance"
      ]
    },
    {
      "cell_type": "code",
      "metadata": {
        "id": "UGWRofhu2fgK",
        "colab_type": "code",
        "colab": {}
      },
      "source": [
        "# factorize the values in the \"category\" \n",
        "forbes$category=factor(forbes$category)\n",
        "str(forbes)\n",
        "table(forbes$category)\n"
      ],
      "execution_count": 0,
      "outputs": []
    },
    {
      "cell_type": "code",
      "metadata": {
        "id": "nEcGe-w-reh0",
        "colab_type": "code",
        "colab": {}
      },
      "source": [
        "# arbitrarily define \"Industry\"\n",
        "forbes$category[(forbes$category==\"Aerospace & defense\")|(forbes$category==\"Chemicals\")|(forbes$category==\"Conglomerates\")|(forbes$category==\"Construction\")|(forbes$category==\"Consumer durables\")|(forbes$category==\"Drugs & biotechnology\")|(forbes$category==\"Food markets\")|(forbes$category==\"Food drink & tobacco\")|(forbes$category==\"Food markets\")|(forbes$category==\"Household & personal products\")|(forbes$category==\"Materials\")|(forbes$category==\"Semiconductors\")|(forbes$category==\"Technology hardware & equipment\")|(forbes$category==\"Utilities\")]<-\"Industry\"\n",
        "# arbitrarily define \"Cervices\" and \"Finance\"\n",
        "# finish lines below\n",
        "#forbes$category[    ]<-\"Services\"\n",
        "#forbes$category[    ]<-\"Finance\"\n",
        "# drop levels with 0 count\n",
        "#forbes$category<-droplevels()\n",
        "table(forbes$category)"
      ],
      "execution_count": 0,
      "outputs": []
    },
    {
      "cell_type": "markdown",
      "metadata": {
        "colab_type": "text",
        "id": "3k8ejtrGWKHv"
      },
      "source": [
        "##Solution \n",
        "1. Find all German companies with negative profit\n"
      ]
    },
    {
      "cell_type": "code",
      "metadata": {
        "id": "XyUxuKBRWSg4",
        "colab_type": "code",
        "colab": {}
      },
      "source": [
        "forbes <- read.csv(\"Forbes2000.csv\",header=T,stringsAsFactors = FALSE,na.strings =\"NA\",sep=\",\") #reload raw data \n",
        "forbes <- na.omit(forbes)  # omit NAs\n",
        "Germanycomp <- subset(forbes, country == \"Germany\")\n",
        "Germanycomp[Germanycomp$profits < 0,c(\"name\",\"sales\",\"profits\",\"assets\")]"
      ],
      "execution_count": 0,
      "outputs": []
    },
    {
      "cell_type": "markdown",
      "metadata": {
        "id": "zreO0WEd2gpD",
        "colab_type": "text"
      },
      "source": [
        "## 5. Data analysis\n"
      ]
    },
    {
      "cell_type": "markdown",
      "metadata": {
        "id": "Io-6rNFc2_6s",
        "colab_type": "text"
      },
      "source": [
        "###5.1 Two common questions:\n",
        "* Which statistical model should I use for my data analysis?\n",
        "* How to choose the right R packages for my data analysis?\n"
      ]
    },
    {
      "cell_type": "markdown",
      "metadata": {
        "id": "EyUGpmqm3c5B",
        "colab_type": "text"
      },
      "source": [
        "#### Which statistical model should I use for my data analysis?\n",
        "* This is not a statistics workshop…\n",
        "* If you need to learn more about the data mining and data analysis, collaborate with statisticians on your campus\n",
        "> * e.g.: LSU https://www.lsu.edu/agriculture/exst/consulting.php\n",
        "* Coursera or any open courses provided by your institution\n"
      ]
    },
    {
      "cell_type": "markdown",
      "metadata": {
        "id": "5FYfkxB73Wpo",
        "colab_type": "text"
      },
      "source": [
        "####How to choose the right R packages for my data analysis?\n",
        "* The most popular packages are most frequently mentioned\n",
        "* CRAN task views \n",
        "https://cran.r-project.org/web/views/\n",
        "* RDocumentation https://www.rdocumentation.org\n",
        "> *  a website, an R package and an API\n",
        "> * supports taskview \n",
        "> * searchs all 19,766 CRAN, Bioconductor and GitHub packages\n",
        "\n",
        "\n"
      ]
    },
    {
      "cell_type": "markdown",
      "metadata": {
        "id": "Osw6lYbu4UUL",
        "colab_type": "text"
      },
      "source": [
        "###5.2 Import the cleaned dataset (Optional)\n",
        "* Subsetting by column\n",
        "Create a dataframe with the clean data"
      ]
    },
    {
      "cell_type": "code",
      "metadata": {
        "id": "9ghM_DIK4ffD",
        "colab_type": "code",
        "colab": {}
      },
      "source": [
        "forbes_clean <- read.csv(\"Forbes2000_clean.csv\",header=T,stringsAsFactors = T,na.strings =\"NA\",sep=\",\")\n",
        "str(forbes_clean)"
      ],
      "execution_count": 0,
      "outputs": []
    },
    {
      "cell_type": "markdown",
      "metadata": {
        "id": "Bcf3wU_IA_hZ",
        "colab_type": "text"
      },
      "source": [
        "###5.3 Extract Variables \n",
        "* Create another data frame with only numeric variables + country"
      ]
    },
    {
      "cell_type": "code",
      "metadata": {
        "id": "jFDVjnz4CVBT",
        "colab_type": "code",
        "colab": {}
      },
      "source": [
        "forbes_clean <- forbes_clean[,c(3, 5:8)]\n",
        "str(forbes_clean)"
      ],
      "execution_count": 0,
      "outputs": []
    },
    {
      "cell_type": "markdown",
      "metadata": {
        "id": "yS8zt-Bq46lR",
        "colab_type": "text"
      },
      "source": [
        "###5.4 Training Set and Test Set\n",
        "* Dataset could be randomly split into two parts: training set and test set. \n"
      ]
    },
    {
      "cell_type": "code",
      "metadata": {
        "id": "yFDob7OX5DB4",
        "colab_type": "code",
        "colab": {}
      },
      "source": [
        "set.seed(1) #set random seed reproducible\n",
        "indx <- sample(1:1995,size=1995,replace=F)\n",
        "forbes.train <- forbes_clean[indx[1:1600],]\n",
        "forbes.test <- forbes_clean[indx[1601:1995],]"
      ],
      "execution_count": 0,
      "outputs": []
    },
    {
      "cell_type": "markdown",
      "metadata": {
        "id": "6QDlUXDC5fda",
        "colab_type": "text"
      },
      "source": [
        "###5.5 Roadmap of generalizations of linear models\n",
        "* Roadmap of generalizations of linear models:\n",
        "> https://drive.google.com/open?id=1HrnpinlmyZl9_GL9xX24a5Nv6PUumovI\n"
      ]
    },
    {
      "cell_type": "markdown",
      "metadata": {
        "id": "JnaICTq67sOy",
        "colab_type": "text"
      },
      "source": [
        "* Explanation of Acronyms\n",
        "\n",
        ">Models | Acronym | R function\n",
        ">--- | --- | ---\n",
        ">Linear Models | LM | lm, aov\n",
        ">MultivariateLMs | MLM | manova\n",
        ">Generalized LMs | GLM | glm\n",
        ">Linear Mixed Models | LMM | lme, aov\n",
        ">Non-linear Models | NLM | nls\n",
        ">Non-linear Mixed Models | NLMM | nlme\n",
        ">Generalized LMMs | GLMM | glmmPQL\n",
        ">Generalized Additive Models | GAM | gam\n"
      ]
    },
    {
      "cell_type": "markdown",
      "metadata": {
        "colab_type": "text",
        "id": "ttmFlPAl9S-e"
      },
      "source": [
        "* Symbol Meanings in Model Formulae\n",
        "\n",
        ">Symbol | Example | Meaning\n",
        ">--- | --- | ---\n",
        ">+ | +X | Include variable X in the model\n",
        ">- | -X | Exclude variable X in the model\n",
        ">: | X:Z | Include the interaction between X and Z\n",
        ">\\* | X\\*Z | Include X and Z and the interactions\n",
        ">\\| | NLM | Conditioning: include X given Z\n",
        ">^ | NLMM | Include A, B and C and all the interactions up to three way\n",
        ">/ | GLMM | As is: include a new variable consisting of these variables multiplied\n",
        "\n",
        "\n"
      ]
    },
    {
      "cell_type": "markdown",
      "metadata": {
        "colab_type": "text",
        "id": "TJb-oJhc-vBk"
      },
      "source": [
        "* Model Formulae\n",
        "> * General form: response ~ term1 + term2\n",
        "\n",
        "> Example | Meaning\n",
        ">--- | --- \n",
        ">y ~ x | Simple regression\n",
        ">y ~ -1 +  x | LM through the origin\n",
        ">y ~ x + x^2 | Quadratic regression\n",
        ">y ~ x1 + x2 + x3 | Multiple regression\n",
        ">y ~ . | All variables included\n",
        ">y ~ . - x1 | All variables except X1\n",
        ">y ~ A + B + A : B | Add interaction\n",
        ">y ~ A \\* B | Same above\n",
        ">y ~ (A+B)^2 | Same above\n",
        "\n",
        "\n",
        "\n",
        "\n"
      ]
    },
    {
      "cell_type": "markdown",
      "metadata": {
        "id": "UgXvQ1jVAQza",
        "colab_type": "text"
      },
      "source": [
        "###5.6 A Multiple linear regression example\n",
        "* marketvalue ~ profits + sales + assets + country\n"
      ]
    },
    {
      "cell_type": "code",
      "metadata": {
        "id": "WKhQvh03AX46",
        "colab_type": "code",
        "colab": {}
      },
      "source": [
        "lm <- lm(marketvalue ~ ., data = forbes.train)\n",
        "summary(lm)\n"
      ],
      "execution_count": 0,
      "outputs": []
    },
    {
      "cell_type": "markdown",
      "metadata": {
        "id": "MGvRGagqC7Y1",
        "colab_type": "text"
      },
      "source": [
        "* R has created a n-1 variables each with two levels. These n-1 new variables contain the same information as the single variable. This recoding creates a table called contrast matrix.\n"
      ]
    },
    {
      "cell_type": "code",
      "metadata": {
        "id": "iJzmijc6C9H6",
        "colab_type": "code",
        "colab": {}
      },
      "source": [
        "contrasts(forbes.train$country)\n"
      ],
      "execution_count": 0,
      "outputs": []
    },
    {
      "cell_type": "markdown",
      "metadata": {
        "id": "CfogXLmSC_Uh",
        "colab_type": "text"
      },
      "source": [
        "* The decision to code dummy variables is arbitrary, and has no effect on the regression computation, but does alter the interpretation of the coefficients.\n"
      ]
    },
    {
      "cell_type": "markdown",
      "metadata": {
        "id": "9tFPA_8LDHDb",
        "colab_type": "text"
      },
      "source": [
        "###5.7 A Stepwise regression example\n",
        "* The function `regsubsets()` in the leaps library allow us to do the stepwise regression\n"
      ]
    },
    {
      "cell_type": "code",
      "metadata": {
        "id": "ryhD1VVGDQwT",
        "colab_type": "code",
        "colab": {}
      },
      "source": [
        "install.packages(\"leaps\")\n",
        "library(leaps)\n",
        "bwd <- regsubsets(marketvalue ~ ., data = forbes.train,nvmax =3,method =\"backward\")\n",
        "summary(bwd)"
      ],
      "execution_count": 0,
      "outputs": []
    },
    {
      "cell_type": "markdown",
      "metadata": {
        "id": "kVwCNQi9Dg_J",
        "colab_type": "text"
      },
      "source": [
        "An asterisk indicates that a given variable is included in the corresponding model.\n"
      ]
    },
    {
      "cell_type": "markdown",
      "metadata": {
        "id": "gEIVHum8DjHg",
        "colab_type": "text"
      },
      "source": [
        "###5.8 A Regression tree example\n",
        "* The function `rpart() `in the rpart library allow us to grow a regression tree\n"
      ]
    },
    {
      "cell_type": "code",
      "metadata": {
        "id": "7klSPLUGDu7N",
        "colab_type": "code",
        "colab": {}
      },
      "source": [
        "install.packages(\"rpart\")\n",
        "library(rpart)\n",
        "rpart <- rpart(marketvalue ~ ., data = forbes.train,control = rpart.control(xval = 10, minbucket = 50))\n",
        "par(mfrow=c(1,1),xpd=NA,cex=1.5)\n",
        "plot(rpart,uniform=T)\n",
        "text(rpart,use.n=T)\n"
      ],
      "execution_count": 0,
      "outputs": []
    },
    {
      "cell_type": "markdown",
      "metadata": {
        "id": "A04hazCMEP-L",
        "colab_type": "text"
      },
      "source": [
        "###5.9 A Bagging tree example\n",
        "* The function `randomForest()` in the randomForest library allow us to grow a regression tree\n"
      ]
    },
    {
      "cell_type": "code",
      "metadata": {
        "id": "_S4FGTrOEX8i",
        "colab_type": "code",
        "colab": {}
      },
      "source": [
        "install.packages(\"randomForest\")\n",
        "library(randomForest)\n",
        "bag <- randomForest(marketvalue ~ ., data = forbes.train, importance =TRUE)\n",
        "importance(bag)\n",
        "varImpPlot(bag)"
      ],
      "execution_count": 0,
      "outputs": []
    },
    {
      "cell_type": "markdown",
      "metadata": {
        "id": "DcKx_akHE4Ci",
        "colab_type": "text"
      },
      "source": [
        "### 5.10 The predictive results in terms of the MAD and RMSE values \n",
        "* MAD:\n",
        "\n",
        "$MAD = \\frac{1}{N}\\times\\sum_{i=1}^N|y_i-\\hat{y_i}|$\n",
        "\n",
        "\n",
        "* RMSE:\n",
        "\n",
        "$RMSE = \\sqrt{\\sum_{i=1}^N(y_i-\\hat{y_i})^2/N}$\n",
        "\n",
        ">Model | Package | RMSE | MAD\n",
        ">--- | --- | --- | ---\n",
        ">MLR |  | 14.41041 | 6.436288\n",
        ">Backward | leaps | 14.41041 | 6.436288\n",
        ">Pruned tree | rpart | 17.85625 | 5.899107\n",
        ">Bagging tree | randomForest | 11.69301 | 4.944942\n",
        "\n",
        "* Bagging tree example for calculating RMSE and MAD"
      ]
    },
    {
      "cell_type": "code",
      "metadata": {
        "id": "ha-DCQGeIMRh",
        "colab_type": "code",
        "outputId": "c577a24a-2320-435a-e19d-8cae9e563a8a",
        "colab": {
          "base_uri": "https://localhost:8080/",
          "height": 52
        }
      },
      "source": [
        "forbes_clean2 <- forbes_clean[,c(2:5)]  # create a new dataframe with only numeric variables included\n",
        "set.seed(2) \n",
        "indx <- sample(1:1995,size=1995,replace=F)\n",
        "forbes.train <- forbes_clean2[indx[1:1600],]\n",
        "forbes.test <- forbes_clean2[indx[1601:1995],]\n",
        "bag <- randomForest(marketvalue ~ ., data = forbes.train, importance =TRUE)\n",
        "# RMSE and MAD \n",
        "bag.yhat <- predict(bag, newdata = forbes.test) \n",
        "bag.y <- forbes.test[\"marketvalue\"] \n",
        "bag.rmse <- sqrt(mean(data.matrix((bag.y - bag.yhat)^2)))\n",
        "bag.rmse\n",
        "bag.abs = abs(bag.y - bag.yhat) \n",
        "bag.mad = (sum(bag.abs))/395 \n",
        "bag.mad "
      ],
      "execution_count": 0,
      "outputs": [
        {
          "output_type": "display_data",
          "data": {
            "text/plain": [
              "[1] 14.77049"
            ],
            "text/latex": "14.7704898850976",
            "text/markdown": "14.7704898850976",
            "text/html": [
              "14.7704898850976"
            ]
          },
          "metadata": {
            "tags": []
          }
        },
        {
          "output_type": "display_data",
          "data": {
            "text/plain": [
              "[1] 4.846011"
            ],
            "text/latex": "4.84601080591956",
            "text/markdown": "4.84601080591956",
            "text/html": [
              "4.84601080591956"
            ]
          },
          "metadata": {
            "tags": []
          }
        }
      ]
    },
    {
      "cell_type": "markdown",
      "metadata": {
        "id": "ZSws0mVIGF-K",
        "colab_type": "text"
      },
      "source": [
        "##Quiz\n",
        "1. Use the `lm()` function to perform a multiple linear regression with profits as the response and all other numeric variables as the predictors. Use the `summary()` function to print the results. \n"
      ]
    },
    {
      "cell_type": "code",
      "metadata": {
        "id": "PUWzXPyhGVFk",
        "colab_type": "code",
        "colab": {}
      },
      "source": [
        "forbes_clean2 <- forbes_clean[,c(2:5)]  # create a new dataframe with only numeric variables included\n",
        "set.seed(3) \n",
        "indx <- sample(1:1995,size=1995,replace=F)\n",
        "forbes.train <- forbes_clean2[indx[1:1600],]\n",
        "forbes.test <- forbes_clean2[indx[1601:1995],]\n",
        "str(forbes.train)"
      ],
      "execution_count": 0,
      "outputs": []
    },
    {
      "cell_type": "code",
      "metadata": {
        "id": "ByWA1lihE0OS",
        "colab_type": "code",
        "colab": {}
      },
      "source": [
        "#finish lines below\n",
        "#lm <- lm(   profits ~ , data=forbes.train     )\n",
        "#summary(lm)"
      ],
      "execution_count": 0,
      "outputs": []
    },
    {
      "cell_type": "markdown",
      "metadata": {
        "id": "Hm4KasWEGWi4",
        "colab_type": "text"
      },
      "source": [
        "2. Comment on the output. For instance:  Is there a relationship between the predictors and the response? \n"
      ]
    },
    {
      "cell_type": "markdown",
      "metadata": {
        "id": "lmB6_YXLGaNJ",
        "colab_type": "text"
      },
      "source": [
        "3. Which predictors appear to have a statistically significant relationship to the response? \n"
      ]
    },
    {
      "cell_type": "markdown",
      "metadata": {
        "id": "icDSRv30GdJi",
        "colab_type": "text"
      },
      "source": [
        "4. What does the coefficient for the sales variable suggest?\n"
      ]
    },
    {
      "cell_type": "markdown",
      "metadata": {
        "colab_type": "text",
        "id": "dSlz-hHPabLC"
      },
      "source": [
        "##Solution 2\n",
        "1. Use the `lm()` function to perform a multiple linear regression with profits as the response and all other numeric variables as the predictors. Use the `summary()` function to print the results. \n"
      ]
    },
    {
      "cell_type": "code",
      "metadata": {
        "id": "c4xDOVzWapb_",
        "colab_type": "code",
        "colab": {}
      },
      "source": [
        "lm <- lm(profits ~ ., data = forbes.train)\n",
        "summary(lm)"
      ],
      "execution_count": 0,
      "outputs": []
    },
    {
      "cell_type": "markdown",
      "metadata": {
        "id": "DEcOcoR7FqcV",
        "colab_type": "text"
      },
      "source": [
        "##6. Generate report with R Markdown\n",
        "### 6.1 How R Markdown works\n",
        "* Weaves R code and human readable texts together into a plain text file that has the extension `.Rmd`\n",
        "* The `rmarkdown` package can convert `.Rmd` into documents of two types of output formats: documents, and presentations. All available formats are listed below:\n",
        "> * beamer_presentation\n",
        "> * context_document\n",
        "> * github_document\n",
        "> * html_document\n",
        "> * ioslides_presentation\n",
        "> * latex_document\n",
        "> * md_document\n",
        "> * odt_document\n",
        "> * pdf_document\n",
        "> * powerpoint_presentation\n",
        "> * rtf_document\n",
        "> * slidy_presentation\n",
        "> * word_document\n",
        "\n",
        "* Also helps make your research reproducible\n",
        "\n"
      ]
    },
    {
      "cell_type": "markdown",
      "metadata": {
        "id": "-k6w3wvEVkgW",
        "colab_type": "text"
      },
      "source": [
        "### 6.2 How `.Rmd` file looks like\n",
        "[A typical R Markdown file](https://drive.google.com/file/d/1jqdwhcAM8OHLx2TGR8UAZZGttN7yty2N/view?usp=sharing)\n",
        "\n",
        "The file above contains three types of content:\n",
        "* An (optional) YAML header surrounded by ---s\n",
        "* R code chunks surrounded by ```s\n",
        "* text mixed with simple text formatting\n"
      ]
    },
    {
      "cell_type": "markdown",
      "metadata": {
        "id": "uUXfteNZke33",
        "colab_type": "text"
      },
      "source": [
        "### 6.3 Installation\n",
        "* R Markdown is free and open source."
      ]
    },
    {
      "cell_type": "code",
      "metadata": {
        "id": "QnXs5mtlLlXq",
        "colab_type": "code",
        "colab": {}
      },
      "source": [
        "install.packages(\"rmarkdown\")"
      ],
      "execution_count": 0,
      "outputs": []
    },
    {
      "cell_type": "markdown",
      "metadata": {
        "id": "HvSUoSJNn1V2",
        "colab_type": "text"
      },
      "source": [
        "### 6.4 Convert today's training material to `.Rmd`\n",
        "\n",
        "\n",
        "**Conversion script below is developed by JJ Allaire, Yihui Xie, Jonathan McPherson, Javier Luraschi, Kevin Ushey, Aron Atkins, Hadley Wickham, Joe Cheng, Winston Chang, Richard Iannone.\n",
        "https://github.com/rstudio/rmarkdown/blob/master/R/jupyter.R**"
      ]
    },
    {
      "cell_type": "code",
      "metadata": {
        "id": "PdUyuEpchyFF",
        "colab_type": "code",
        "colab": {}
      },
      "source": [
        "getwd()\n",
        "# Download conversion script\n",
        "download.file(\"https://raw.githubusercontent.com/rstudio/rmarkdown/master/R/jupyter.R\",\"jupyter.R\")\n",
        "# Download today's training material\n",
        "download.file(\"https://raw.githubusercontent.com/lsuhpchelp/lbrnloniworkshop2020/master/day4/data_R.ipynb\",\"data_R.ipynb\")\n",
        "list.files()\n",
        "source(\"jupyter.R\")\n",
        "convert_ipynb(\"data_R.ipynb\",output = xfun::with_ext(\"data_R.ipynb\", \"Rmd\"))\n",
        "list.files()"
      ],
      "execution_count": 0,
      "outputs": []
    },
    {
      "cell_type": "markdown",
      "metadata": {
        "id": "Hk8Rg-0rjb7q",
        "colab_type": "text"
      },
      "source": [
        "### 6.5 Render `.Rmd` file\n",
        "Note: If you do not select a format, R Markdown renders the file to its default format, which you can set in the output field of a .Rmd file’s header.\n",
        "\n",
        "\"Let's render this new `data_R.Rmd` file in the Google Colab!\"\n",
        "\n",
        "Colab: \"Excuse me??\""
      ]
    },
    {
      "cell_type": "markdown",
      "metadata": {
        "id": "pdm5nXODOlzn",
        "colab_type": "text"
      },
      "source": [
        "## Quiz\n",
        "Why can't we render this new `.Rmd` file directly in the Colab? e.g.: \n",
        "\n",
        "render(\"data_R.Rmd\", output_format = \"html_document\")"
      ]
    },
    {
      "cell_type": "markdown",
      "metadata": {
        "id": "u08lQbZ4mImA",
        "colab_type": "text"
      },
      "source": [
        "###6.6 Cheatsheet and reference guide\n",
        "* [Cheatsheet](https://rstudio.com/wp-content/uploads/2016/03/rmarkdown-cheatsheet-2.0.pdf)\n",
        "* [Reference guide](https://rstudio.com/wp-content/uploads/2015/03/rmarkdown-reference.pdf)"
      ]
    },
    {
      "cell_type": "markdown",
      "metadata": {
        "id": "WPJq6HZYNMEu",
        "colab_type": "text"
      },
      "source": [
        "#Take-home message\n",
        "* Get the data \n",
        "* Read and inspect the data\n",
        "* Preprocess the data\n",
        "> *  missing values, discard rows, columns not needed etc.\n",
        "* Analyze the data\n",
        "> * choose the right model and R package\n",
        "> * common R functions and syntax for regressions\n",
        "* Generate the report\n",
        "> * R Markdown basics\n"
      ]
    },
    {
      "cell_type": "markdown",
      "metadata": {
        "id": "eaTOsvmeNp-1",
        "colab_type": "text"
      },
      "source": [
        "# Getting Help\n",
        "* Documentation: http://www.hpc.lsu.edu/docs\n",
        "* Contact us\n",
        "> * Email ticket system: sys-help@loni.org\n",
        "> * Telephone Help Desk: 225-578-0900"
      ]
    }
  ]
}